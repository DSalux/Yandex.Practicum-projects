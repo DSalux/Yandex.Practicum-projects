{
 "cells": [
  {
   "cell_type": "markdown",
   "metadata": {},
   "source": [
    "# Определение стоимости автомобилей"
   ]
  },
  {
   "cell_type": "markdown",
   "metadata": {},
   "source": [
    "Сервис по продаже автомобилей с пробегом «Не бит, не крашен» разрабатывает приложение для привлечения новых клиентов. В нём можно быстро узнать рыночную стоимость своего автомобиля. В вашем распоряжении исторические данные: технические характеристики, комплектации и цены автомобилей. Вам нужно построить модель для определения стоимости. \n",
    "\n",
    "Заказчику важны:\n",
    "\n",
    "- качество предсказания;\n",
    "- скорость предсказания;\n",
    "- время обучения."
   ]
  },
  {
   "cell_type": "markdown",
   "metadata": {},
   "source": [
    "Начнем наш проект"
   ]
  },
  {
   "cell_type": "markdown",
   "metadata": {},
   "source": [
    "## Подготовка данных"
   ]
  },
  {
   "cell_type": "markdown",
   "metadata": {},
   "source": [
    "Для начала загрузим все необходимые бибилиотеки (при необходимости будем их добавлять сюда для удобства)"
   ]
  },
  {
   "cell_type": "code",
   "execution_count": 2,
   "metadata": {},
   "outputs": [],
   "source": [
    "import pandas as pd\n",
    "import seaborn as sns\n",
    "from sklearn.model_selection import train_test_split\n",
    "import time as tm\n",
    "import numpy as np\n",
    "from sklearn.metrics import mean_squared_error\n",
    "from sklearn.linear_model import LinearRegression\n",
    "from sklearn.ensemble import RandomForestRegressor\n",
    "from sklearn.model_selection import GridSearchCV"
   ]
  },
  {
   "cell_type": "markdown",
   "metadata": {},
   "source": [
    "Прочитаем наш файл с помощью pandas и выведем первые 10 строк"
   ]
  },
  {
   "cell_type": "code",
   "execution_count": 3,
   "metadata": {},
   "outputs": [],
   "source": [
    "data = pd.read_csv('/datasets/autos.csv')"
   ]
  },
  {
   "cell_type": "code",
   "execution_count": 4,
   "metadata": {
    "scrolled": true
   },
   "outputs": [
    {
     "data": {
      "text/html": [
       "<div>\n",
       "<style scoped>\n",
       "    .dataframe tbody tr th:only-of-type {\n",
       "        vertical-align: middle;\n",
       "    }\n",
       "\n",
       "    .dataframe tbody tr th {\n",
       "        vertical-align: top;\n",
       "    }\n",
       "\n",
       "    .dataframe thead th {\n",
       "        text-align: right;\n",
       "    }\n",
       "</style>\n",
       "<table border=\"1\" class=\"dataframe\">\n",
       "  <thead>\n",
       "    <tr style=\"text-align: right;\">\n",
       "      <th></th>\n",
       "      <th>DateCrawled</th>\n",
       "      <th>Price</th>\n",
       "      <th>VehicleType</th>\n",
       "      <th>RegistrationYear</th>\n",
       "      <th>Gearbox</th>\n",
       "      <th>Power</th>\n",
       "      <th>Model</th>\n",
       "      <th>Kilometer</th>\n",
       "      <th>RegistrationMonth</th>\n",
       "      <th>FuelType</th>\n",
       "      <th>Brand</th>\n",
       "      <th>NotRepaired</th>\n",
       "      <th>DateCreated</th>\n",
       "      <th>NumberOfPictures</th>\n",
       "      <th>PostalCode</th>\n",
       "      <th>LastSeen</th>\n",
       "    </tr>\n",
       "  </thead>\n",
       "  <tbody>\n",
       "    <tr>\n",
       "      <th>0</th>\n",
       "      <td>2016-03-24 11:52:17</td>\n",
       "      <td>480</td>\n",
       "      <td>NaN</td>\n",
       "      <td>1993</td>\n",
       "      <td>manual</td>\n",
       "      <td>0</td>\n",
       "      <td>golf</td>\n",
       "      <td>150000</td>\n",
       "      <td>0</td>\n",
       "      <td>petrol</td>\n",
       "      <td>volkswagen</td>\n",
       "      <td>NaN</td>\n",
       "      <td>2016-03-24 00:00:00</td>\n",
       "      <td>0</td>\n",
       "      <td>70435</td>\n",
       "      <td>2016-04-07 03:16:57</td>\n",
       "    </tr>\n",
       "    <tr>\n",
       "      <th>1</th>\n",
       "      <td>2016-03-24 10:58:45</td>\n",
       "      <td>18300</td>\n",
       "      <td>coupe</td>\n",
       "      <td>2011</td>\n",
       "      <td>manual</td>\n",
       "      <td>190</td>\n",
       "      <td>NaN</td>\n",
       "      <td>125000</td>\n",
       "      <td>5</td>\n",
       "      <td>gasoline</td>\n",
       "      <td>audi</td>\n",
       "      <td>yes</td>\n",
       "      <td>2016-03-24 00:00:00</td>\n",
       "      <td>0</td>\n",
       "      <td>66954</td>\n",
       "      <td>2016-04-07 01:46:50</td>\n",
       "    </tr>\n",
       "    <tr>\n",
       "      <th>2</th>\n",
       "      <td>2016-03-14 12:52:21</td>\n",
       "      <td>9800</td>\n",
       "      <td>suv</td>\n",
       "      <td>2004</td>\n",
       "      <td>auto</td>\n",
       "      <td>163</td>\n",
       "      <td>grand</td>\n",
       "      <td>125000</td>\n",
       "      <td>8</td>\n",
       "      <td>gasoline</td>\n",
       "      <td>jeep</td>\n",
       "      <td>NaN</td>\n",
       "      <td>2016-03-14 00:00:00</td>\n",
       "      <td>0</td>\n",
       "      <td>90480</td>\n",
       "      <td>2016-04-05 12:47:46</td>\n",
       "    </tr>\n",
       "    <tr>\n",
       "      <th>3</th>\n",
       "      <td>2016-03-17 16:54:04</td>\n",
       "      <td>1500</td>\n",
       "      <td>small</td>\n",
       "      <td>2001</td>\n",
       "      <td>manual</td>\n",
       "      <td>75</td>\n",
       "      <td>golf</td>\n",
       "      <td>150000</td>\n",
       "      <td>6</td>\n",
       "      <td>petrol</td>\n",
       "      <td>volkswagen</td>\n",
       "      <td>no</td>\n",
       "      <td>2016-03-17 00:00:00</td>\n",
       "      <td>0</td>\n",
       "      <td>91074</td>\n",
       "      <td>2016-03-17 17:40:17</td>\n",
       "    </tr>\n",
       "    <tr>\n",
       "      <th>4</th>\n",
       "      <td>2016-03-31 17:25:20</td>\n",
       "      <td>3600</td>\n",
       "      <td>small</td>\n",
       "      <td>2008</td>\n",
       "      <td>manual</td>\n",
       "      <td>69</td>\n",
       "      <td>fabia</td>\n",
       "      <td>90000</td>\n",
       "      <td>7</td>\n",
       "      <td>gasoline</td>\n",
       "      <td>skoda</td>\n",
       "      <td>no</td>\n",
       "      <td>2016-03-31 00:00:00</td>\n",
       "      <td>0</td>\n",
       "      <td>60437</td>\n",
       "      <td>2016-04-06 10:17:21</td>\n",
       "    </tr>\n",
       "    <tr>\n",
       "      <th>5</th>\n",
       "      <td>2016-04-04 17:36:23</td>\n",
       "      <td>650</td>\n",
       "      <td>sedan</td>\n",
       "      <td>1995</td>\n",
       "      <td>manual</td>\n",
       "      <td>102</td>\n",
       "      <td>3er</td>\n",
       "      <td>150000</td>\n",
       "      <td>10</td>\n",
       "      <td>petrol</td>\n",
       "      <td>bmw</td>\n",
       "      <td>yes</td>\n",
       "      <td>2016-04-04 00:00:00</td>\n",
       "      <td>0</td>\n",
       "      <td>33775</td>\n",
       "      <td>2016-04-06 19:17:07</td>\n",
       "    </tr>\n",
       "    <tr>\n",
       "      <th>6</th>\n",
       "      <td>2016-04-01 20:48:51</td>\n",
       "      <td>2200</td>\n",
       "      <td>convertible</td>\n",
       "      <td>2004</td>\n",
       "      <td>manual</td>\n",
       "      <td>109</td>\n",
       "      <td>2_reihe</td>\n",
       "      <td>150000</td>\n",
       "      <td>8</td>\n",
       "      <td>petrol</td>\n",
       "      <td>peugeot</td>\n",
       "      <td>no</td>\n",
       "      <td>2016-04-01 00:00:00</td>\n",
       "      <td>0</td>\n",
       "      <td>67112</td>\n",
       "      <td>2016-04-05 18:18:39</td>\n",
       "    </tr>\n",
       "    <tr>\n",
       "      <th>7</th>\n",
       "      <td>2016-03-21 18:54:38</td>\n",
       "      <td>0</td>\n",
       "      <td>sedan</td>\n",
       "      <td>1980</td>\n",
       "      <td>manual</td>\n",
       "      <td>50</td>\n",
       "      <td>other</td>\n",
       "      <td>40000</td>\n",
       "      <td>7</td>\n",
       "      <td>petrol</td>\n",
       "      <td>volkswagen</td>\n",
       "      <td>no</td>\n",
       "      <td>2016-03-21 00:00:00</td>\n",
       "      <td>0</td>\n",
       "      <td>19348</td>\n",
       "      <td>2016-03-25 16:47:58</td>\n",
       "    </tr>\n",
       "    <tr>\n",
       "      <th>8</th>\n",
       "      <td>2016-04-04 23:42:13</td>\n",
       "      <td>14500</td>\n",
       "      <td>bus</td>\n",
       "      <td>2014</td>\n",
       "      <td>manual</td>\n",
       "      <td>125</td>\n",
       "      <td>c_max</td>\n",
       "      <td>30000</td>\n",
       "      <td>8</td>\n",
       "      <td>petrol</td>\n",
       "      <td>ford</td>\n",
       "      <td>NaN</td>\n",
       "      <td>2016-04-04 00:00:00</td>\n",
       "      <td>0</td>\n",
       "      <td>94505</td>\n",
       "      <td>2016-04-04 23:42:13</td>\n",
       "    </tr>\n",
       "    <tr>\n",
       "      <th>9</th>\n",
       "      <td>2016-03-17 10:53:50</td>\n",
       "      <td>999</td>\n",
       "      <td>small</td>\n",
       "      <td>1998</td>\n",
       "      <td>manual</td>\n",
       "      <td>101</td>\n",
       "      <td>golf</td>\n",
       "      <td>150000</td>\n",
       "      <td>0</td>\n",
       "      <td>NaN</td>\n",
       "      <td>volkswagen</td>\n",
       "      <td>NaN</td>\n",
       "      <td>2016-03-17 00:00:00</td>\n",
       "      <td>0</td>\n",
       "      <td>27472</td>\n",
       "      <td>2016-03-31 17:17:06</td>\n",
       "    </tr>\n",
       "  </tbody>\n",
       "</table>\n",
       "</div>"
      ],
      "text/plain": [
       "           DateCrawled  Price  VehicleType  RegistrationYear Gearbox  Power  \\\n",
       "0  2016-03-24 11:52:17    480          NaN              1993  manual      0   \n",
       "1  2016-03-24 10:58:45  18300        coupe              2011  manual    190   \n",
       "2  2016-03-14 12:52:21   9800          suv              2004    auto    163   \n",
       "3  2016-03-17 16:54:04   1500        small              2001  manual     75   \n",
       "4  2016-03-31 17:25:20   3600        small              2008  manual     69   \n",
       "5  2016-04-04 17:36:23    650        sedan              1995  manual    102   \n",
       "6  2016-04-01 20:48:51   2200  convertible              2004  manual    109   \n",
       "7  2016-03-21 18:54:38      0        sedan              1980  manual     50   \n",
       "8  2016-04-04 23:42:13  14500          bus              2014  manual    125   \n",
       "9  2016-03-17 10:53:50    999        small              1998  manual    101   \n",
       "\n",
       "     Model  Kilometer  RegistrationMonth  FuelType       Brand NotRepaired  \\\n",
       "0     golf     150000                  0    petrol  volkswagen         NaN   \n",
       "1      NaN     125000                  5  gasoline        audi         yes   \n",
       "2    grand     125000                  8  gasoline        jeep         NaN   \n",
       "3     golf     150000                  6    petrol  volkswagen          no   \n",
       "4    fabia      90000                  7  gasoline       skoda          no   \n",
       "5      3er     150000                 10    petrol         bmw         yes   \n",
       "6  2_reihe     150000                  8    petrol     peugeot          no   \n",
       "7    other      40000                  7    petrol  volkswagen          no   \n",
       "8    c_max      30000                  8    petrol        ford         NaN   \n",
       "9     golf     150000                  0       NaN  volkswagen         NaN   \n",
       "\n",
       "           DateCreated  NumberOfPictures  PostalCode             LastSeen  \n",
       "0  2016-03-24 00:00:00                 0       70435  2016-04-07 03:16:57  \n",
       "1  2016-03-24 00:00:00                 0       66954  2016-04-07 01:46:50  \n",
       "2  2016-03-14 00:00:00                 0       90480  2016-04-05 12:47:46  \n",
       "3  2016-03-17 00:00:00                 0       91074  2016-03-17 17:40:17  \n",
       "4  2016-03-31 00:00:00                 0       60437  2016-04-06 10:17:21  \n",
       "5  2016-04-04 00:00:00                 0       33775  2016-04-06 19:17:07  \n",
       "6  2016-04-01 00:00:00                 0       67112  2016-04-05 18:18:39  \n",
       "7  2016-03-21 00:00:00                 0       19348  2016-03-25 16:47:58  \n",
       "8  2016-04-04 00:00:00                 0       94505  2016-04-04 23:42:13  \n",
       "9  2016-03-17 00:00:00                 0       27472  2016-03-31 17:17:06  "
      ]
     },
     "execution_count": 4,
     "metadata": {},
     "output_type": "execute_result"
    }
   ],
   "source": [
    "data.head(10)"
   ]
  },
  {
   "cell_type": "markdown",
   "metadata": {},
   "source": [
    "Посмотрим общую информацию по файлу "
   ]
  },
  {
   "cell_type": "code",
   "execution_count": 5,
   "metadata": {
    "scrolled": true
   },
   "outputs": [
    {
     "name": "stdout",
     "output_type": "stream",
     "text": [
      "<class 'pandas.core.frame.DataFrame'>\n",
      "RangeIndex: 354369 entries, 0 to 354368\n",
      "Data columns (total 16 columns):\n",
      " #   Column             Non-Null Count   Dtype \n",
      "---  ------             --------------   ----- \n",
      " 0   DateCrawled        354369 non-null  object\n",
      " 1   Price              354369 non-null  int64 \n",
      " 2   VehicleType        316879 non-null  object\n",
      " 3   RegistrationYear   354369 non-null  int64 \n",
      " 4   Gearbox            334536 non-null  object\n",
      " 5   Power              354369 non-null  int64 \n",
      " 6   Model              334664 non-null  object\n",
      " 7   Kilometer          354369 non-null  int64 \n",
      " 8   RegistrationMonth  354369 non-null  int64 \n",
      " 9   FuelType           321474 non-null  object\n",
      " 10  Brand              354369 non-null  object\n",
      " 11  NotRepaired        283215 non-null  object\n",
      " 12  DateCreated        354369 non-null  object\n",
      " 13  NumberOfPictures   354369 non-null  int64 \n",
      " 14  PostalCode         354369 non-null  int64 \n",
      " 15  LastSeen           354369 non-null  object\n",
      "dtypes: int64(7), object(9)\n",
      "memory usage: 43.3+ MB\n"
     ]
    }
   ],
   "source": [
    "data.info()"
   ]
  },
  {
   "cell_type": "markdown",
   "metadata": {},
   "source": [
    "Итого имеем - у нас 354 369 строк в таблице\n",
    "\n",
    "Есть ключевой признак (таргет) - Price\n",
    "\n",
    "Есть также признаки необходимые для обучения модели. Их большинство - но некторые я бы убрал отсюда:\n",
    "- PostalCode (Для модели нет необходимости делить пользователей на несколько категорий, хотя для общей статистики интересно конечно - лучше обучать обезличенные данные без привязки к пользователям)\n",
    "- DateCrawled (вообще пока не понимаю что это за пункт - и зачем в модели дата скачивания данных в таблицу из анкеты)\n",
    "\n",
    "И пару столбцов под вопросом - о дате создания объявления  и дата последнего обновления объявления (на стоимость как мне кажется не влияет или влияет лишь косвенно - если объявление обновляется, то оно актуально)"
   ]
  },
  {
   "cell_type": "markdown",
   "metadata": {},
   "source": [
    "У числовых столбцов посмотрим корреляцию и мультиколлинеарность для признаков (все ради оптимизации модели)"
   ]
  },
  {
   "cell_type": "code",
   "execution_count": 6,
   "metadata": {
    "scrolled": false
   },
   "outputs": [
    {
     "data": {
      "image/png": "[encoded data removed]",
      "text/plain": [
       "<Figure size 432x288 with 2 Axes>"
      ]
     },
     "metadata": {
      "needs_background": "light"
     },
     "output_type": "display_data"
    }
   ],
   "source": [
    "sns.heatmap(data.corr(), annot = True);"
   ]
  },
  {
   "cell_type": "markdown",
   "metadata": {},
   "source": [
    "Все-таки удалим 6 столбцов - PostalCode, DateCrawled, DateCreated, LastSeen, NumberOfPictures, RegistrationMonth  \n",
    "\n",
    "Есть мнение что это не совсем правильно, но мы же хотим узнавать стоимость авто в приложении для новых пользователей и эти столбцы с привязкой к датам в прошлом явно лишние"
   ]
  },
  {
   "cell_type": "code",
   "execution_count": 7,
   "metadata": {},
   "outputs": [
    {
     "data": {
      "text/plain": [
       "'2016-04-07 14:36:58'"
      ]
     },
     "execution_count": 7,
     "metadata": {},
     "output_type": "execute_result"
    }
   ],
   "source": [
    "data['DateCrawled'].max()"
   ]
  },
  {
   "cell_type": "code",
   "execution_count": 8,
   "metadata": {},
   "outputs": [
    {
     "data": {
      "text/plain": [
       "'2016-04-07 14:58:51'"
      ]
     },
     "execution_count": 8,
     "metadata": {},
     "output_type": "execute_result"
    }
   ],
   "source": [
    "data['LastSeen'].max()"
   ]
  },
  {
   "cell_type": "markdown",
   "metadata": {},
   "source": [
    "Аналогично - хорошо, когда теория подтверждается доказательствами"
   ]
  },
  {
   "cell_type": "code",
   "execution_count": 9,
   "metadata": {
    "scrolled": true
   },
   "outputs": [],
   "source": [
    "data.drop(columns = ['PostalCode','DateCrawled','DateCreated', 'LastSeen', 'NumberOfPictures', 'RegistrationMonth'],axis = 1, inplace=True)\n"
   ]
  },
  {
   "cell_type": "markdown",
   "metadata": {},
   "source": [
    "Проверим все ли получилось"
   ]
  },
  {
   "cell_type": "code",
   "execution_count": 10,
   "metadata": {
    "scrolled": true
   },
   "outputs": [
    {
     "data": {
      "text/plain": [
       "['Price',\n",
       " 'VehicleType',\n",
       " 'RegistrationYear',\n",
       " 'Gearbox',\n",
       " 'Power',\n",
       " 'Model',\n",
       " 'Kilometer',\n",
       " 'FuelType',\n",
       " 'Brand',\n",
       " 'NotRepaired']"
      ]
     },
     "execution_count": 10,
     "metadata": {},
     "output_type": "execute_result"
    }
   ],
   "source": [
    "data.columns.tolist()"
   ]
  },
  {
   "cell_type": "markdown",
   "metadata": {},
   "source": [
    "Проверим пропуски по оставшимся столбцам"
   ]
  },
  {
   "cell_type": "code",
   "execution_count": 11,
   "metadata": {
    "scrolled": true
   },
   "outputs": [
    {
     "data": {
      "text/plain": [
       "Price                   0\n",
       "VehicleType         37490\n",
       "RegistrationYear        0\n",
       "Gearbox             19833\n",
       "Power                   0\n",
       "Model               19705\n",
       "Kilometer               0\n",
       "FuelType            32895\n",
       "Brand                   0\n",
       "NotRepaired         71154\n",
       "dtype: int64"
      ]
     },
     "execution_count": 11,
     "metadata": {},
     "output_type": "execute_result"
    }
   ],
   "source": [
    "data.isna().sum()"
   ]
  },
  {
   "cell_type": "markdown",
   "metadata": {},
   "source": [
    "Итого имеем около 37,5 тысяч пропусков в столбце с типом транспортного средства, по 20 тысяч в столбцах с коробкой передач и моделью, почти 33 тысячи пропусков с типом топлива для автомобиля и 71 тысяча пропусков по ремонту авто (очень важный показатель для нашей задачи)"
   ]
  },
  {
   "cell_type": "markdown",
   "metadata": {},
   "source": [
    "Поменяю все пропуски на sm - something (что-то)"
   ]
  },
  {
   "cell_type": "code",
   "execution_count": 12,
   "metadata": {},
   "outputs": [],
   "source": [
    "cols = ['VehicleType', 'Model', 'Gearbox', 'NotRepaired', 'FuelType']\n",
    "\n",
    "for i in cols:\n",
    "    data[i] = data[i].fillna('sm')"
   ]
  },
  {
   "cell_type": "code",
   "execution_count": 13,
   "metadata": {
    "scrolled": false
   },
   "outputs": [
    {
     "data": {
      "text/plain": [
       "Price               0\n",
       "VehicleType         0\n",
       "RegistrationYear    0\n",
       "Gearbox             0\n",
       "Power               0\n",
       "Model               0\n",
       "Kilometer           0\n",
       "FuelType            0\n",
       "Brand               0\n",
       "NotRepaired         0\n",
       "dtype: int64"
      ]
     },
     "execution_count": 13,
     "metadata": {},
     "output_type": "execute_result"
    }
   ],
   "source": [
    "data.isna().sum()"
   ]
  },
  {
   "cell_type": "markdown",
   "metadata": {},
   "source": [
    "Посмотрим сколько у нас брендов и их общее количество, включая все модели - для общего интереса"
   ]
  },
  {
   "cell_type": "code",
   "execution_count": 14,
   "metadata": {
    "scrolled": true
   },
   "outputs": [
    {
     "name": "stdout",
     "output_type": "stream",
     "text": [
      "                Model\n",
      "                count\n",
      "Brand                \n",
      "alfa_romeo       2314\n",
      "audi            29456\n",
      "bmw             36914\n",
      "chevrolet        1754\n",
      "chrysler         1439\n",
      "citroen          5148\n",
      "dacia             900\n",
      "daewoo            542\n",
      "daihatsu          806\n",
      "fiat             9643\n",
      "ford            25179\n",
      "honda            2817\n",
      "hyundai          3587\n",
      "jaguar            505\n",
      "jeep              677\n",
      "kia              2465\n",
      "lada              225\n",
      "lancia            471\n",
      "land_rover        545\n",
      "mazda            5615\n",
      "mercedes_benz   32046\n",
      "mini             3202\n",
      "mitsubishi       3022\n",
      "nissan           4941\n",
      "opel            39931\n",
      "peugeot         10998\n",
      "porsche           758\n",
      "renault         17927\n",
      "rover             486\n",
      "saab              526\n",
      "seat             6907\n",
      "skoda            5500\n",
      "smart            5246\n",
      "sonstige_autos   3374\n",
      "subaru            762\n",
      "suzuki           2323\n",
      "toyota           4606\n",
      "trabant           589\n",
      "volkswagen      77013\n",
      "volvo            3210\n"
     ]
    }
   ],
   "source": [
    "r = data.groupby('Brand').agg({'Model':['count']})\n",
    "print(r)"
   ]
  },
  {
   "cell_type": "markdown",
   "metadata": {},
   "source": [
    "Крайне популярны немцы - их большое количество. В лидерах VAG"
   ]
  },
  {
   "cell_type": "markdown",
   "metadata": {},
   "source": [
    "Проверим выбросы и если есть уберем лишние"
   ]
  },
  {
   "cell_type": "code",
   "execution_count": 15,
   "metadata": {
    "scrolled": true
   },
   "outputs": [
    {
     "data": {
      "text/plain": [
       "<AxesSubplot:>"
      ]
     },
     "execution_count": 15,
     "metadata": {},
     "output_type": "execute_result"
    },
    {
     "data": {
      "image/png": "[encoded data removed]",
      "text/plain": [
       "<Figure size 432x288 with 1 Axes>"
      ]
     },
     "metadata": {
      "needs_background": "light"
     },
     "output_type": "display_data"
    }
   ],
   "source": [
    "data.boxplot()"
   ]
  },
  {
   "cell_type": "markdown",
   "metadata": {},
   "source": [
    "Удалим выбросы:\n",
    "\n",
    "- Уберем мощность двигателя больше 1600 лошадиных сил, у Буггати Широн 1500 (оставим буфер еще в 100 лс - вдруг умельцы смогли как-то проапгрейдить двигатель)\n",
    "\n",
    "- По нижней границе поставлю 60, буду ориентироваться за ВАЗ 2101 - там 64 лошадиные силы.\n",
    "\n",
    "- Год регистрации ограничим 2016(спасибо за подсказку - последняя дата скачивания базы 2016 год) и наверное 1900, вроде до этого времени машины были настоящим эксклюзивом и точно не регистрировались"
   ]
  },
  {
   "cell_type": "code",
   "execution_count": 16,
   "metadata": {},
   "outputs": [
    {
     "data": {
      "text/plain": [
       "0        40225\n",
       "75       24023\n",
       "60       15897\n",
       "150      14590\n",
       "101      13298\n",
       "         ...  \n",
       "323          1\n",
       "3454         1\n",
       "1056         1\n",
       "13636        1\n",
       "1158         1\n",
       "Name: Power, Length: 712, dtype: int64"
      ]
     },
     "execution_count": 16,
     "metadata": {},
     "output_type": "execute_result"
    }
   ],
   "source": [
    "data['Power'].value_counts()"
   ]
  },
  {
   "cell_type": "code",
   "execution_count": 17,
   "metadata": {},
   "outputs": [],
   "source": [
    "data = data.query('60 <= Power <= 1600 and 1900 <= RegistrationYear <= 2016')"
   ]
  },
  {
   "cell_type": "code",
   "execution_count": 18,
   "metadata": {
    "scrolled": true
   },
   "outputs": [
    {
     "data": {
      "text/plain": [
       "0        5768\n",
       "1500     4041\n",
       "500      3677\n",
       "2500     3523\n",
       "1200     3286\n",
       "         ... \n",
       "12667       1\n",
       "3965        1\n",
       "11897       1\n",
       "5246        1\n",
       "8188        1\n",
       "Name: Price, Length: 3522, dtype: int64"
      ]
     },
     "execution_count": 18,
     "metadata": {},
     "output_type": "execute_result"
    }
   ],
   "source": [
    "data['Price'].value_counts()"
   ]
  },
  {
   "cell_type": "markdown",
   "metadata": {},
   "source": [
    "10.000 объявлений о бесплатной 'продаже' автомобиля - мне кажется это категория людей - цена по договоренности при звонке/чате лично с продавцом\n",
    "Уберем их чтобы не портить модель, поставим выше 5 условных единиц"
   ]
  },
  {
   "cell_type": "code",
   "execution_count": 19,
   "metadata": {},
   "outputs": [],
   "source": [
    "data = data.query('5 <= Price')"
   ]
  },
  {
   "cell_type": "code",
   "execution_count": 20,
   "metadata": {
    "scrolled": false
   },
   "outputs": [
    {
     "name": "stdout",
     "output_type": "stream",
     "text": [
      "<class 'pandas.core.frame.DataFrame'>\n",
      "Int64Index: 274209 entries, 1 to 354368\n",
      "Data columns (total 10 columns):\n",
      " #   Column            Non-Null Count   Dtype \n",
      "---  ------            --------------   ----- \n",
      " 0   Price             274209 non-null  int64 \n",
      " 1   VehicleType       274209 non-null  object\n",
      " 2   RegistrationYear  274209 non-null  int64 \n",
      " 3   Gearbox           274209 non-null  object\n",
      " 4   Power             274209 non-null  int64 \n",
      " 5   Model             274209 non-null  object\n",
      " 6   Kilometer         274209 non-null  int64 \n",
      " 7   FuelType          274209 non-null  object\n",
      " 8   Brand             274209 non-null  object\n",
      " 9   NotRepaired       274209 non-null  object\n",
      "dtypes: int64(4), object(6)\n",
      "memory usage: 23.0+ MB\n"
     ]
    }
   ],
   "source": [
    "data.info()"
   ]
  },
  {
   "cell_type": "markdown",
   "metadata": {},
   "source": [
    "### Вывод:\n",
    "\n",
    "- Загрузили и посмотрели на таблицу\n",
    "\n",
    "- Заменили пропуски\n",
    "\n",
    "- Удалили ненужные столбцы и выбросы\n",
    "\n",
    "- Приступаем к обучению и выбору модели"
   ]
  },
  {
   "cell_type": "markdown",
   "metadata": {},
   "source": [
    "## Обучение моделей"
   ]
  },
  {
   "cell_type": "markdown",
   "metadata": {},
   "source": [
    "Попробуем 3 модели - LinearRegression, RandomForestRegressor, \n",
    "LightGBM (по заданию)"
   ]
  },
  {
   "cell_type": "markdown",
   "metadata": {},
   "source": [
    "### LinearRegression"
   ]
  },
  {
   "cell_type": "markdown",
   "metadata": {},
   "source": [
    "Для линейной модели и модели случайного леса закодируем данные"
   ]
  },
  {
   "cell_type": "code",
   "execution_count": 21,
   "metadata": {},
   "outputs": [],
   "source": [
    "rmse_score=[]\n",
    "model_score=[]"
   ]
  },
  {
   "cell_type": "code",
   "execution_count": 22,
   "metadata": {},
   "outputs": [],
   "source": [
    "data = pd.get_dummies(data, drop_first=True)"
   ]
  },
  {
   "cell_type": "markdown",
   "metadata": {},
   "source": [
    "Определим фичи и таргет"
   ]
  },
  {
   "cell_type": "code",
   "execution_count": 23,
   "metadata": {},
   "outputs": [],
   "source": [
    "features = data.drop('Price', axis=1)\n",
    "target= data['Price']"
   ]
  },
  {
   "cell_type": "markdown",
   "metadata": {},
   "source": [
    "Разделим на 2 выборки - для обучения и для теста"
   ]
  },
  {
   "cell_type": "code",
   "execution_count": 24,
   "metadata": {},
   "outputs": [],
   "source": [
    "features_train, features_rest, target_train, target_rest = train_test_split(features, target, test_size=0.4, random_state=12345)\n",
    "\n",
    "\n",
    "features_valid, features_test, target_valid, target_test = train_test_split(features_rest, target_rest, test_size=0.5, random_state=12345)\n"
   ]
  },
  {
   "cell_type": "markdown",
   "metadata": {},
   "source": [
    "Проверим размер выборок"
   ]
  },
  {
   "cell_type": "code",
   "execution_count": 25,
   "metadata": {},
   "outputs": [
    {
     "name": "stdout",
     "output_type": "stream",
     "text": [
      "(164525, 309)\n",
      "(54842, 309)\n",
      "(54842, 309)\n"
     ]
    }
   ],
   "source": [
    "print(features_train.shape)\n",
    "print(features_valid.shape)\n",
    "print(features_test.shape)"
   ]
  },
  {
   "cell_type": "code",
   "execution_count": 26,
   "metadata": {},
   "outputs": [],
   "source": [
    "model = LinearRegression()\n",
    "\n",
    "model_score.append(model)"
   ]
  },
  {
   "cell_type": "code",
   "execution_count": 27,
   "metadata": {
    "scrolled": true
   },
   "outputs": [
    {
     "name": "stdout",
     "output_type": "stream",
     "text": [
      "CPU times: user 9.11 s, sys: 4.37 s, total: 13.5 s\n",
      "Wall time: 13.6 s\n"
     ]
    },
    {
     "data": {
      "text/plain": [
       "LinearRegression()"
      ]
     },
     "execution_count": 27,
     "metadata": {},
     "output_type": "execute_result"
    }
   ],
   "source": [
    "%%time\n",
    "model.fit(features_train, target_train)"
   ]
  },
  {
   "cell_type": "code",
   "execution_count": 28,
   "metadata": {},
   "outputs": [
    {
     "name": "stdout",
     "output_type": "stream",
     "text": [
      "CPU times: user 97.7 ms, sys: 113 ms, total: 211 ms\n",
      "Wall time: 199 ms\n"
     ]
    }
   ],
   "source": [
    "%%time\n",
    "predicted_valid = model.predict(features_valid)"
   ]
  },
  {
   "cell_type": "code",
   "execution_count": 29,
   "metadata": {
    "scrolled": true
   },
   "outputs": [
    {
     "name": "stdout",
     "output_type": "stream",
     "text": [
      "Linear Regression\n",
      "RMSE = 2666.071689568296\n"
     ]
    }
   ],
   "source": [
    "mse = mean_squared_error(target_valid, predicted_valid)\n",
    "rmse = mse**0.5 \n",
    "print(\"Linear Regression\")\n",
    "print(\"RMSE =\", mse ** 0.5)\n",
    "\n",
    "rmse_score.append(rmse)"
   ]
  },
  {
   "cell_type": "markdown",
   "metadata": {},
   "source": [
    "### RandomForrestRegressor\n",
    "Следующая модель - Случайный лес (RandomForestRegressor)"
   ]
  },
  {
   "cell_type": "code",
   "execution_count": 30,
   "metadata": {},
   "outputs": [],
   "source": [
    "model = RandomForestRegressor()"
   ]
  },
  {
   "cell_type": "markdown",
   "metadata": {},
   "source": [
    "Подберу пару параметров - при 4 параметрах они подбираются пару часов"
   ]
  },
  {
   "cell_type": "code",
   "execution_count": 31,
   "metadata": {},
   "outputs": [],
   "source": [
    "parametrs = { 'n_estimators': range (1, 10),\n",
    "              'max_depth': range (1,7) }"
   ]
  },
  {
   "cell_type": "code",
   "execution_count": 32,
   "metadata": {
    "scrolled": true
   },
   "outputs": [
    {
     "name": "stdout",
     "output_type": "stream",
     "text": [
      "Fitting 5 folds for each of 54 candidates, totalling 270 fits\n",
      "[CV] END ........................max_depth=1, n_estimators=1; total time=   0.5s\n",
      "[CV] END ........................max_depth=1, n_estimators=1; total time=   0.5s\n",
      "[CV] END ........................max_depth=1, n_estimators=1; total time=   0.5s\n",
      "[CV] END ........................max_depth=1, n_estimators=1; total time=   0.5s\n",
      "[CV] END ........................max_depth=1, n_estimators=1; total time=   0.5s\n",
      "[CV] END ........................max_depth=1, n_estimators=2; total time=   0.6s\n",
      "[CV] END ........................max_depth=1, n_estimators=2; total time=   0.6s\n",
      "[CV] END ........................max_depth=1, n_estimators=2; total time=   0.6s\n",
      "[CV] END ........................max_depth=1, n_estimators=2; total time=   0.6s\n",
      "[CV] END ........................max_depth=1, n_estimators=2; total time=   0.6s\n",
      "[CV] END ........................max_depth=1, n_estimators=3; total time=   0.7s\n",
      "[CV] END ........................max_depth=1, n_estimators=3; total time=   0.7s\n",
      "[CV] END ........................max_depth=1, n_estimators=3; total time=   0.7s\n",
      "[CV] END ........................max_depth=1, n_estimators=3; total time=   0.7s\n",
      "[CV] END ........................max_depth=1, n_estimators=3; total time=   0.7s\n",
      "[CV] END ........................max_depth=1, n_estimators=4; total time=   0.8s\n",
      "[CV] END ........................max_depth=1, n_estimators=4; total time=   0.8s\n",
      "[CV] END ........................max_depth=1, n_estimators=4; total time=   0.8s\n",
      "[CV] END ........................max_depth=1, n_estimators=4; total time=   0.8s\n",
      "[CV] END ........................max_depth=1, n_estimators=4; total time=   0.8s\n",
      "[CV] END ........................max_depth=1, n_estimators=5; total time=   0.9s\n",
      "[CV] END ........................max_depth=1, n_estimators=5; total time=   0.9s\n",
      "[CV] END ........................max_depth=1, n_estimators=5; total time=   0.9s\n",
      "[CV] END ........................max_depth=1, n_estimators=5; total time=   0.9s\n",
      "[CV] END ........................max_depth=1, n_estimators=5; total time=   1.0s\n",
      "[CV] END ........................max_depth=1, n_estimators=6; total time=   1.1s\n",
      "[CV] END ........................max_depth=1, n_estimators=6; total time=   1.1s\n",
      "[CV] END ........................max_depth=1, n_estimators=6; total time=   1.1s\n",
      "[CV] END ........................max_depth=1, n_estimators=6; total time=   1.1s\n",
      "[CV] END ........................max_depth=1, n_estimators=6; total time=   1.0s\n",
      "[CV] END ........................max_depth=1, n_estimators=7; total time=   1.1s\n",
      "[CV] END ........................max_depth=1, n_estimators=7; total time=   1.1s\n",
      "[CV] END ........................max_depth=1, n_estimators=7; total time=   1.1s\n",
      "[CV] END ........................max_depth=1, n_estimators=7; total time=   1.2s\n",
      "[CV] END ........................max_depth=1, n_estimators=7; total time=   1.2s\n",
      "[CV] END ........................max_depth=1, n_estimators=8; total time=   1.2s\n",
      "[CV] END ........................max_depth=1, n_estimators=8; total time=   1.3s\n",
      "[CV] END ........................max_depth=1, n_estimators=8; total time=   1.3s\n",
      "[CV] END ........................max_depth=1, n_estimators=8; total time=   1.3s\n",
      "[CV] END ........................max_depth=1, n_estimators=8; total time=   1.3s\n",
      "[CV] END ........................max_depth=1, n_estimators=9; total time=   1.4s\n",
      "[CV] END ........................max_depth=1, n_estimators=9; total time=   1.4s\n",
      "[CV] END ........................max_depth=1, n_estimators=9; total time=   1.5s\n",
      "[CV] END ........................max_depth=1, n_estimators=9; total time=   1.4s\n",
      "[CV] END ........................max_depth=1, n_estimators=9; total time=   1.4s\n",
      "[CV] END ........................max_depth=2, n_estimators=1; total time=   0.6s\n",
      "[CV] END ........................max_depth=2, n_estimators=1; total time=   0.6s\n",
      "[CV] END ........................max_depth=2, n_estimators=1; total time=   0.6s\n",
      "[CV] END ........................max_depth=2, n_estimators=1; total time=   0.6s\n",
      "[CV] END ........................max_depth=2, n_estimators=1; total time=   0.6s\n",
      "[CV] END ........................max_depth=2, n_estimators=2; total time=   0.8s\n",
      "[CV] END ........................max_depth=2, n_estimators=2; total time=   0.9s\n",
      "[CV] END ........................max_depth=2, n_estimators=2; total time=   0.9s\n",
      "[CV] END ........................max_depth=2, n_estimators=2; total time=   0.9s\n",
      "[CV] END ........................max_depth=2, n_estimators=2; total time=   0.9s\n",
      "[CV] END ........................max_depth=2, n_estimators=3; total time=   1.1s\n",
      "[CV] END ........................max_depth=2, n_estimators=3; total time=   1.1s\n",
      "[CV] END ........................max_depth=2, n_estimators=3; total time=   1.1s\n",
      "[CV] END ........................max_depth=2, n_estimators=3; total time=   1.2s\n",
      "[CV] END ........................max_depth=2, n_estimators=3; total time=   1.1s\n",
      "[CV] END ........................max_depth=2, n_estimators=4; total time=   1.3s\n",
      "[CV] END ........................max_depth=2, n_estimators=4; total time=   1.4s\n",
      "[CV] END ........................max_depth=2, n_estimators=4; total time=   1.4s\n",
      "[CV] END ........................max_depth=2, n_estimators=4; total time=   1.4s\n",
      "[CV] END ........................max_depth=2, n_estimators=4; total time=   1.4s\n",
      "[CV] END ........................max_depth=2, n_estimators=5; total time=   1.6s\n",
      "[CV] END ........................max_depth=2, n_estimators=5; total time=   1.6s\n",
      "[CV] END ........................max_depth=2, n_estimators=5; total time=   1.6s\n",
      "[CV] END ........................max_depth=2, n_estimators=5; total time=   1.6s\n",
      "[CV] END ........................max_depth=2, n_estimators=5; total time=   1.6s\n",
      "[CV] END ........................max_depth=2, n_estimators=6; total time=   1.9s\n",
      "[CV] END ........................max_depth=2, n_estimators=6; total time=   1.8s\n",
      "[CV] END ........................max_depth=2, n_estimators=6; total time=   1.9s\n",
      "[CV] END ........................max_depth=2, n_estimators=6; total time=   1.8s\n",
      "[CV] END ........................max_depth=2, n_estimators=6; total time=   1.8s\n",
      "[CV] END ........................max_depth=2, n_estimators=7; total time=   2.2s\n",
      "[CV] END ........................max_depth=2, n_estimators=7; total time=   2.1s\n",
      "[CV] END ........................max_depth=2, n_estimators=7; total time=   2.1s\n",
      "[CV] END ........................max_depth=2, n_estimators=7; total time=   2.1s\n",
      "[CV] END ........................max_depth=2, n_estimators=7; total time=   2.1s\n",
      "[CV] END ........................max_depth=2, n_estimators=8; total time=   2.4s\n",
      "[CV] END ........................max_depth=2, n_estimators=8; total time=   2.4s\n",
      "[CV] END ........................max_depth=2, n_estimators=8; total time=   2.4s\n",
      "[CV] END ........................max_depth=2, n_estimators=8; total time=   2.4s\n",
      "[CV] END ........................max_depth=2, n_estimators=8; total time=   2.4s\n",
      "[CV] END ........................max_depth=2, n_estimators=9; total time=   2.6s\n",
      "[CV] END ........................max_depth=2, n_estimators=9; total time=   2.7s\n",
      "[CV] END ........................max_depth=2, n_estimators=9; total time=   2.7s\n",
      "[CV] END ........................max_depth=2, n_estimators=9; total time=   2.7s\n",
      "[CV] END ........................max_depth=2, n_estimators=9; total time=   2.7s\n",
      "[CV] END ........................max_depth=3, n_estimators=1; total time=   0.8s\n",
      "[CV] END ........................max_depth=3, n_estimators=1; total time=   0.8s\n",
      "[CV] END ........................max_depth=3, n_estimators=1; total time=   0.8s\n",
      "[CV] END ........................max_depth=3, n_estimators=1; total time=   0.8s\n",
      "[CV] END ........................max_depth=3, n_estimators=1; total time=   0.8s\n",
      "[CV] END ........................max_depth=3, n_estimators=2; total time=   1.2s\n",
      "[CV] END ........................max_depth=3, n_estimators=2; total time=   1.2s\n",
      "[CV] END ........................max_depth=3, n_estimators=2; total time=   1.2s\n",
      "[CV] END ........................max_depth=3, n_estimators=2; total time=   1.2s\n",
      "[CV] END ........................max_depth=3, n_estimators=2; total time=   1.2s\n",
      "[CV] END ........................max_depth=3, n_estimators=3; total time=   1.6s\n",
      "[CV] END ........................max_depth=3, n_estimators=3; total time=   1.6s\n",
      "[CV] END ........................max_depth=3, n_estimators=3; total time=   1.6s\n",
      "[CV] END ........................max_depth=3, n_estimators=3; total time=   1.7s\n",
      "[CV] END ........................max_depth=3, n_estimators=3; total time=   1.6s\n",
      "[CV] END ........................max_depth=3, n_estimators=4; total time=   2.0s\n",
      "[CV] END ........................max_depth=3, n_estimators=4; total time=   2.0s\n",
      "[CV] END ........................max_depth=3, n_estimators=4; total time=   2.0s\n",
      "[CV] END ........................max_depth=3, n_estimators=4; total time=   2.0s\n",
      "[CV] END ........................max_depth=3, n_estimators=4; total time=   2.0s\n",
      "[CV] END ........................max_depth=3, n_estimators=5; total time=   2.4s\n",
      "[CV] END ........................max_depth=3, n_estimators=5; total time=   2.4s\n",
      "[CV] END ........................max_depth=3, n_estimators=5; total time=   2.4s\n",
      "[CV] END ........................max_depth=3, n_estimators=5; total time=   2.5s\n",
      "[CV] END ........................max_depth=3, n_estimators=5; total time=   2.4s\n",
      "[CV] END ........................max_depth=3, n_estimators=6; total time=   2.8s\n",
      "[CV] END ........................max_depth=3, n_estimators=6; total time=   3.0s\n",
      "[CV] END ........................max_depth=3, n_estimators=6; total time=   2.8s\n",
      "[CV] END ........................max_depth=3, n_estimators=6; total time=   2.9s\n",
      "[CV] END ........................max_depth=3, n_estimators=6; total time=   2.8s\n",
      "[CV] END ........................max_depth=3, n_estimators=7; total time=   3.3s\n",
      "[CV] END ........................max_depth=3, n_estimators=7; total time=   3.3s\n",
      "[CV] END ........................max_depth=3, n_estimators=7; total time=   3.3s\n",
      "[CV] END ........................max_depth=3, n_estimators=7; total time=   3.3s\n",
      "[CV] END ........................max_depth=3, n_estimators=7; total time=   3.3s\n",
      "[CV] END ........................max_depth=3, n_estimators=8; total time=   3.7s\n",
      "[CV] END ........................max_depth=3, n_estimators=8; total time=   3.7s\n",
      "[CV] END ........................max_depth=3, n_estimators=8; total time=   3.7s\n",
      "[CV] END ........................max_depth=3, n_estimators=8; total time=   3.7s\n",
      "[CV] END ........................max_depth=3, n_estimators=8; total time=   3.8s\n",
      "[CV] END ........................max_depth=3, n_estimators=9; total time=   4.0s\n",
      "[CV] END ........................max_depth=3, n_estimators=9; total time=   4.1s\n",
      "[CV] END ........................max_depth=3, n_estimators=9; total time=   4.0s\n",
      "[CV] END ........................max_depth=3, n_estimators=9; total time=   4.1s\n",
      "[CV] END ........................max_depth=3, n_estimators=9; total time=   4.0s\n",
      "[CV] END ........................max_depth=4, n_estimators=1; total time=   1.0s\n",
      "[CV] END ........................max_depth=4, n_estimators=1; total time=   0.9s\n",
      "[CV] END ........................max_depth=4, n_estimators=1; total time=   0.9s\n",
      "[CV] END ........................max_depth=4, n_estimators=1; total time=   1.0s\n",
      "[CV] END ........................max_depth=4, n_estimators=1; total time=   1.0s\n",
      "[CV] END ........................max_depth=4, n_estimators=2; total time=   1.5s\n",
      "[CV] END ........................max_depth=4, n_estimators=2; total time=   1.5s\n",
      "[CV] END ........................max_depth=4, n_estimators=2; total time=   1.5s\n",
      "[CV] END ........................max_depth=4, n_estimators=2; total time=   1.5s\n",
      "[CV] END ........................max_depth=4, n_estimators=2; total time=   1.5s\n",
      "[CV] END ........................max_depth=4, n_estimators=3; total time=   2.1s\n",
      "[CV] END ........................max_depth=4, n_estimators=3; total time=   2.1s\n",
      "[CV] END ........................max_depth=4, n_estimators=3; total time=   2.1s\n",
      "[CV] END ........................max_depth=4, n_estimators=3; total time=   2.1s\n",
      "[CV] END ........................max_depth=4, n_estimators=3; total time=   2.0s\n",
      "[CV] END ........................max_depth=4, n_estimators=4; total time=   2.6s\n",
      "[CV] END ........................max_depth=4, n_estimators=4; total time=   2.6s\n",
      "[CV] END ........................max_depth=4, n_estimators=4; total time=   2.6s\n",
      "[CV] END ........................max_depth=4, n_estimators=4; total time=   2.7s\n",
      "[CV] END ........................max_depth=4, n_estimators=4; total time=   2.7s\n",
      "[CV] END ........................max_depth=4, n_estimators=5; total time=   3.2s\n",
      "[CV] END ........................max_depth=4, n_estimators=5; total time=   3.2s\n",
      "[CV] END ........................max_depth=4, n_estimators=5; total time=   3.3s\n",
      "[CV] END ........................max_depth=4, n_estimators=5; total time=   3.2s\n",
      "[CV] END ........................max_depth=4, n_estimators=5; total time=   3.3s\n",
      "[CV] END ........................max_depth=4, n_estimators=6; total time=   3.8s\n",
      "[CV] END ........................max_depth=4, n_estimators=6; total time=   3.8s\n",
      "[CV] END ........................max_depth=4, n_estimators=6; total time=   3.9s\n",
      "[CV] END ........................max_depth=4, n_estimators=6; total time=   3.9s\n",
      "[CV] END ........................max_depth=4, n_estimators=6; total time=   3.9s\n",
      "[CV] END ........................max_depth=4, n_estimators=7; total time=   4.5s\n",
      "[CV] END ........................max_depth=4, n_estimators=7; total time=   4.4s\n",
      "[CV] END ........................max_depth=4, n_estimators=7; total time=   4.4s\n",
      "[CV] END ........................max_depth=4, n_estimators=7; total time=   4.4s\n",
      "[CV] END ........................max_depth=4, n_estimators=7; total time=   4.5s\n",
      "[CV] END ........................max_depth=4, n_estimators=8; total time=   5.0s\n",
      "[CV] END ........................max_depth=4, n_estimators=8; total time=   4.9s\n",
      "[CV] END ........................max_depth=4, n_estimators=8; total time=   4.9s\n",
      "[CV] END ........................max_depth=4, n_estimators=8; total time=   5.0s\n",
      "[CV] END ........................max_depth=4, n_estimators=8; total time=   5.0s\n",
      "[CV] END ........................max_depth=4, n_estimators=9; total time=   5.5s\n",
      "[CV] END ........................max_depth=4, n_estimators=9; total time=   5.6s\n",
      "[CV] END ........................max_depth=4, n_estimators=9; total time=   5.5s\n",
      "[CV] END ........................max_depth=4, n_estimators=9; total time=   5.5s\n",
      "[CV] END ........................max_depth=4, n_estimators=9; total time=   5.5s\n",
      "[CV] END ........................max_depth=5, n_estimators=1; total time=   1.1s\n",
      "[CV] END ........................max_depth=5, n_estimators=1; total time=   1.1s\n",
      "[CV] END ........................max_depth=5, n_estimators=1; total time=   1.1s\n",
      "[CV] END ........................max_depth=5, n_estimators=1; total time=   1.1s\n",
      "[CV] END ........................max_depth=5, n_estimators=1; total time=   1.1s\n",
      "[CV] END ........................max_depth=5, n_estimators=2; total time=   1.9s\n",
      "[CV] END ........................max_depth=5, n_estimators=2; total time=   1.8s\n",
      "[CV] END ........................max_depth=5, n_estimators=2; total time=   1.8s\n",
      "[CV] END ........................max_depth=5, n_estimators=2; total time=   1.8s\n",
      "[CV] END ........................max_depth=5, n_estimators=2; total time=   1.8s\n",
      "[CV] END ........................max_depth=5, n_estimators=3; total time=   2.5s\n",
      "[CV] END ........................max_depth=5, n_estimators=3; total time=   2.5s\n",
      "[CV] END ........................max_depth=5, n_estimators=3; total time=   2.5s\n",
      "[CV] END ........................max_depth=5, n_estimators=3; total time=   2.5s\n",
      "[CV] END ........................max_depth=5, n_estimators=3; total time=   2.5s\n",
      "[CV] END ........................max_depth=5, n_estimators=4; total time=   3.3s\n",
      "[CV] END ........................max_depth=5, n_estimators=4; total time=   3.3s\n",
      "[CV] END ........................max_depth=5, n_estimators=4; total time=   3.3s\n",
      "[CV] END ........................max_depth=5, n_estimators=4; total time=   3.4s\n",
      "[CV] END ........................max_depth=5, n_estimators=4; total time=   3.4s\n",
      "[CV] END ........................max_depth=5, n_estimators=5; total time=   4.1s\n",
      "[CV] END ........................max_depth=5, n_estimators=5; total time=   4.1s\n",
      "[CV] END ........................max_depth=5, n_estimators=5; total time=   4.0s\n",
      "[CV] END ........................max_depth=5, n_estimators=5; total time=   4.1s\n",
      "[CV] END ........................max_depth=5, n_estimators=5; total time=   4.0s\n",
      "[CV] END ........................max_depth=5, n_estimators=6; total time=   4.7s\n",
      "[CV] END ........................max_depth=5, n_estimators=6; total time=   4.8s\n",
      "[CV] END ........................max_depth=5, n_estimators=6; total time=   4.7s\n",
      "[CV] END ........................max_depth=5, n_estimators=6; total time=   4.8s\n",
      "[CV] END ........................max_depth=5, n_estimators=6; total time=   4.7s\n",
      "[CV] END ........................max_depth=5, n_estimators=7; total time=   5.5s\n",
      "[CV] END ........................max_depth=5, n_estimators=7; total time=   5.5s\n",
      "[CV] END ........................max_depth=5, n_estimators=7; total time=   5.6s\n",
      "[CV] END ........................max_depth=5, n_estimators=7; total time=   5.6s\n",
      "[CV] END ........................max_depth=5, n_estimators=7; total time=   5.5s\n",
      "[CV] END ........................max_depth=5, n_estimators=8; total time=   6.2s\n",
      "[CV] END ........................max_depth=5, n_estimators=8; total time=   6.3s\n",
      "[CV] END ........................max_depth=5, n_estimators=8; total time=   6.3s\n",
      "[CV] END ........................max_depth=5, n_estimators=8; total time=   6.2s\n",
      "[CV] END ........................max_depth=5, n_estimators=8; total time=   6.2s\n",
      "[CV] END ........................max_depth=5, n_estimators=9; total time=   7.0s\n",
      "[CV] END ........................max_depth=5, n_estimators=9; total time=   7.1s\n",
      "[CV] END ........................max_depth=5, n_estimators=9; total time=   7.0s\n",
      "[CV] END ........................max_depth=5, n_estimators=9; total time=   6.9s\n",
      "[CV] END ........................max_depth=5, n_estimators=9; total time=   6.9s\n",
      "[CV] END ........................max_depth=6, n_estimators=1; total time=   1.2s\n",
      "[CV] END ........................max_depth=6, n_estimators=1; total time=   1.3s\n",
      "[CV] END ........................max_depth=6, n_estimators=1; total time=   1.2s\n",
      "[CV] END ........................max_depth=6, n_estimators=1; total time=   1.2s\n",
      "[CV] END ........................max_depth=6, n_estimators=1; total time=   1.3s\n",
      "[CV] END ........................max_depth=6, n_estimators=2; total time=   2.2s\n",
      "[CV] END ........................max_depth=6, n_estimators=2; total time=   2.2s\n",
      "[CV] END ........................max_depth=6, n_estimators=2; total time=   2.1s\n",
      "[CV] END ........................max_depth=6, n_estimators=2; total time=   2.1s\n",
      "[CV] END ........................max_depth=6, n_estimators=2; total time=   2.1s\n",
      "[CV] END ........................max_depth=6, n_estimators=3; total time=   3.0s\n",
      "[CV] END ........................max_depth=6, n_estimators=3; total time=   3.0s\n",
      "[CV] END ........................max_depth=6, n_estimators=3; total time=   3.0s\n",
      "[CV] END ........................max_depth=6, n_estimators=3; total time=   3.0s\n",
      "[CV] END ........................max_depth=6, n_estimators=3; total time=   3.0s\n",
      "[CV] END ........................max_depth=6, n_estimators=4; total time=   4.0s\n",
      "[CV] END ........................max_depth=6, n_estimators=4; total time=   4.0s\n",
      "[CV] END ........................max_depth=6, n_estimators=4; total time=   3.9s\n",
      "[CV] END ........................max_depth=6, n_estimators=4; total time=   4.0s\n",
      "[CV] END ........................max_depth=6, n_estimators=4; total time=   3.9s\n",
      "[CV] END ........................max_depth=6, n_estimators=5; total time=   4.8s\n",
      "[CV] END ........................max_depth=6, n_estimators=5; total time=   4.8s\n",
      "[CV] END ........................max_depth=6, n_estimators=5; total time=   4.8s\n",
      "[CV] END ........................max_depth=6, n_estimators=5; total time=   4.8s\n",
      "[CV] END ........................max_depth=6, n_estimators=5; total time=   4.8s\n",
      "[CV] END ........................max_depth=6, n_estimators=6; total time=   5.6s\n",
      "[CV] END ........................max_depth=6, n_estimators=6; total time=   5.7s\n",
      "[CV] END ........................max_depth=6, n_estimators=6; total time=   5.7s\n",
      "[CV] END ........................max_depth=6, n_estimators=6; total time=   5.7s\n",
      "[CV] END ........................max_depth=6, n_estimators=6; total time=   5.8s\n",
      "[CV] END ........................max_depth=6, n_estimators=7; total time=   6.6s\n",
      "[CV] END ........................max_depth=6, n_estimators=7; total time=   6.5s\n",
      "[CV] END ........................max_depth=6, n_estimators=7; total time=   6.5s\n",
      "[CV] END ........................max_depth=6, n_estimators=7; total time=   6.6s\n",
      "[CV] END ........................max_depth=6, n_estimators=7; total time=   6.5s\n",
      "[CV] END ........................max_depth=6, n_estimators=8; total time=   7.3s\n",
      "[CV] END ........................max_depth=6, n_estimators=8; total time=   7.9s\n",
      "[CV] END ........................max_depth=6, n_estimators=8; total time=   8.0s\n",
      "[CV] END ........................max_depth=6, n_estimators=8; total time=   7.6s\n",
      "[CV] END ........................max_depth=6, n_estimators=8; total time=   7.4s\n",
      "[CV] END ........................max_depth=6, n_estimators=9; total time=   8.4s\n",
      "[CV] END ........................max_depth=6, n_estimators=9; total time=   8.3s\n",
      "[CV] END ........................max_depth=6, n_estimators=9; total time=   8.3s\n",
      "[CV] END ........................max_depth=6, n_estimators=9; total time=   8.3s\n",
      "[CV] END ........................max_depth=6, n_estimators=9; total time=   8.3s\n"
     ]
    },
    {
     "data": {
      "text/plain": [
       "GridSearchCV(cv=5, estimator=RandomForestRegressor(),\n",
       "             param_grid={'max_depth': range(1, 7),\n",
       "                         'n_estimators': range(1, 10)},\n",
       "             verbose=2)"
      ]
     },
     "execution_count": 32,
     "metadata": {},
     "output_type": "execute_result"
    }
   ],
   "source": [
    "grid = GridSearchCV(model, parametrs, cv=5, verbose=2)\n",
    "grid.fit(features_train, target_train)"
   ]
  },
  {
   "cell_type": "markdown",
   "metadata": {},
   "source": [
    "Посмотрим лучшие параметры"
   ]
  },
  {
   "cell_type": "code",
   "execution_count": 33,
   "metadata": {
    "scrolled": true
   },
   "outputs": [
    {
     "name": "stdout",
     "output_type": "stream",
     "text": [
      "{'max_depth': 6, 'n_estimators': 7}\n"
     ]
    }
   ],
   "source": [
    "print(grid.best_params_)"
   ]
  },
  {
   "cell_type": "code",
   "execution_count": 34,
   "metadata": {},
   "outputs": [],
   "source": [
    "model = RandomForestRegressor(n_estimators=7, max_depth=6, random_state=12345)\n",
    "\n",
    "model_score.append(model)"
   ]
  },
  {
   "cell_type": "code",
   "execution_count": 35,
   "metadata": {},
   "outputs": [
    {
     "name": "stdout",
     "output_type": "stream",
     "text": [
      "CPU times: user 8.13 s, sys: 165 ms, total: 8.3 s\n",
      "Wall time: 8.3 s\n"
     ]
    },
    {
     "data": {
      "text/plain": [
       "RandomForestRegressor(max_depth=6, n_estimators=7, random_state=12345)"
      ]
     },
     "execution_count": 35,
     "metadata": {},
     "output_type": "execute_result"
    }
   ],
   "source": [
    "%%time\n",
    "\n",
    "model.fit(features_train, target_train)"
   ]
  },
  {
   "cell_type": "code",
   "execution_count": 36,
   "metadata": {},
   "outputs": [
    {
     "name": "stdout",
     "output_type": "stream",
     "text": [
      "CPU times: user 66.5 ms, sys: 47.8 ms, total: 114 ms\n",
      "Wall time: 123 ms\n"
     ]
    }
   ],
   "source": [
    "%%time\n",
    "\n",
    "predicted_valid = model.predict(features_valid)"
   ]
  },
  {
   "cell_type": "code",
   "execution_count": 37,
   "metadata": {},
   "outputs": [
    {
     "name": "stdout",
     "output_type": "stream",
     "text": [
      "RandomForestRegressor\n",
      "RMSE = 2286.8872478006447\n"
     ]
    }
   ],
   "source": [
    "mse = mean_squared_error(target_valid, predicted_valid)\n",
    "rmse = mse**0.5 \n",
    "print(\"RandomForestRegressor\")\n",
    "print(\"RMSE =\", mse ** 0.5)\n",
    "rmse_score.append(rmse)"
   ]
  },
  {
   "cell_type": "markdown",
   "metadata": {},
   "source": [
    "Получилось быстрее и лучше чем у линейной регрессии, именно обучение модели и предсказания конечно - поиск лучших гиперпараметров долговат) "
   ]
  },
  {
   "cell_type": "markdown",
   "metadata": {},
   "source": [
    "### Модель по заданию LightGBM"
   ]
  },
  {
   "cell_type": "code",
   "execution_count": 38,
   "metadata": {
    "scrolled": true
   },
   "outputs": [],
   "source": [
    "#Добавим нашу новую модель\n",
    "\n",
    "from lightgbm import LGBMRegressor\n",
    "import lightgbm as lgb"
   ]
  },
  {
   "cell_type": "code",
   "execution_count": 39,
   "metadata": {},
   "outputs": [],
   "source": [
    "model = lgb.LGBMRegressor(num_leaves=110, max_depth=17, metric='rmse')\n",
    "model_score.append(model)"
   ]
  },
  {
   "cell_type": "code",
   "execution_count": 40,
   "metadata": {
    "scrolled": true
   },
   "outputs": [
    {
     "name": "stdout",
     "output_type": "stream",
     "text": [
      "CPU times: user 8.96 s, sys: 162 ms, total: 9.12 s\n",
      "Wall time: 9.13 s\n"
     ]
    },
    {
     "data": {
      "text/plain": [
       "LGBMRegressor(max_depth=17, metric='rmse', num_leaves=110)"
      ]
     },
     "execution_count": 40,
     "metadata": {},
     "output_type": "execute_result"
    }
   ],
   "source": [
    "%%time\n",
    "model.fit(features_train, target_train)"
   ]
  },
  {
   "cell_type": "code",
   "execution_count": 41,
   "metadata": {},
   "outputs": [
    {
     "name": "stdout",
     "output_type": "stream",
     "text": [
      "CPU times: user 689 ms, sys: 53.3 ms, total: 742 ms\n",
      "Wall time: 796 ms\n"
     ]
    }
   ],
   "source": [
    "%%time\n",
    "predicted_valid = model.predict(features_valid)"
   ]
  },
  {
   "cell_type": "code",
   "execution_count": 42,
   "metadata": {
    "scrolled": true
   },
   "outputs": [
    {
     "name": "stdout",
     "output_type": "stream",
     "text": [
      "LGBMRegressor\n",
      "RMSE = 1628.7891396789184\n"
     ]
    }
   ],
   "source": [
    "mse = mean_squared_error(target_valid, predicted_valid)\n",
    "rmse = mse**0.5 \n",
    "print(\"LGBMRegressor\")\n",
    "print(\"RMSE =\", mse ** 0.5)\n",
    "rmse_score.append(rmse)"
   ]
  },
  {
   "cell_type": "markdown",
   "metadata": {},
   "source": [
    "Отличный результат для модели - самый близкий к идеалу и по времени и по RMSE"
   ]
  },
  {
   "cell_type": "markdown",
   "metadata": {},
   "source": [
    "Попробуем немного другие гиперпараметры"
   ]
  },
  {
   "cell_type": "code",
   "execution_count": 43,
   "metadata": {},
   "outputs": [],
   "source": [
    "model = lgb.LGBMRegressor(num_leaves=50, max_depth=30, metric='rmse')"
   ]
  },
  {
   "cell_type": "code",
   "execution_count": 44,
   "metadata": {},
   "outputs": [
    {
     "name": "stdout",
     "output_type": "stream",
     "text": [
      "CPU times: user 8.73 s, sys: 178 ms, total: 8.9 s\n",
      "Wall time: 9.07 s\n"
     ]
    },
    {
     "data": {
      "text/plain": [
       "LGBMRegressor(max_depth=30, metric='rmse', num_leaves=50)"
      ]
     },
     "execution_count": 44,
     "metadata": {},
     "output_type": "execute_result"
    }
   ],
   "source": [
    "%%time\n",
    "model.fit(features_train, target_train)"
   ]
  },
  {
   "cell_type": "code",
   "execution_count": 45,
   "metadata": {},
   "outputs": [
    {
     "name": "stdout",
     "output_type": "stream",
     "text": [
      "CPU times: user 626 ms, sys: 43.3 ms, total: 670 ms\n",
      "Wall time: 697 ms\n"
     ]
    }
   ],
   "source": [
    "%%time\n",
    "predicted_valid = model.predict(features_valid)"
   ]
  },
  {
   "cell_type": "code",
   "execution_count": 46,
   "metadata": {
    "scrolled": true
   },
   "outputs": [
    {
     "name": "stdout",
     "output_type": "stream",
     "text": [
      "LGBMRegressor\n",
      "RMSE = 1677.751520308646\n"
     ]
    }
   ],
   "source": [
    "mse = mean_squared_error(target_valid, predicted_valid)\n",
    "rmse = mse**0.5 \n",
    "print(\"LGBMRegressor\")\n",
    "print(\"RMSE =\", mse ** 0.5)"
   ]
  },
  {
   "cell_type": "markdown",
   "metadata": {},
   "source": [
    "## Анализ моделей"
   ]
  },
  {
   "cell_type": "markdown",
   "metadata": {},
   "source": [
    "\n",
    "\n",
    "По моделям конечно градиентный бустинг впереди простых моделей"
   ]
  },
  {
   "cell_type": "code",
   "execution_count": 47,
   "metadata": {},
   "outputs": [],
   "source": [
    "final_score = pd.DataFrame({'model': model_score, 'rmse': rmse_score, 'time_fit':['18.3s','8.65s','9.07s'], 'time_predict':['201ms','119ms','801ms']})\n",
    "\n"
   ]
  },
  {
   "cell_type": "code",
   "execution_count": 48,
   "metadata": {
    "scrolled": true
   },
   "outputs": [
    {
     "data": {
      "text/html": [
       "<div>\n",
       "<style scoped>\n",
       "    .dataframe tbody tr th:only-of-type {\n",
       "        vertical-align: middle;\n",
       "    }\n",
       "\n",
       "    .dataframe tbody tr th {\n",
       "        vertical-align: top;\n",
       "    }\n",
       "\n",
       "    .dataframe thead th {\n",
       "        text-align: right;\n",
       "    }\n",
       "</style>\n",
       "<table border=\"1\" class=\"dataframe\">\n",
       "  <thead>\n",
       "    <tr style=\"text-align: right;\">\n",
       "      <th></th>\n",
       "      <th>model</th>\n",
       "      <th>rmse</th>\n",
       "      <th>time_fit</th>\n",
       "      <th>time_predict</th>\n",
       "    </tr>\n",
       "  </thead>\n",
       "  <tbody>\n",
       "    <tr>\n",
       "      <th>0</th>\n",
       "      <td>LinearRegression()</td>\n",
       "      <td>2666.071690</td>\n",
       "      <td>18.3s</td>\n",
       "      <td>201ms</td>\n",
       "    </tr>\n",
       "    <tr>\n",
       "      <th>1</th>\n",
       "      <td>(DecisionTreeRegressor(max_depth=6, max_featur...</td>\n",
       "      <td>2286.887248</td>\n",
       "      <td>8.65s</td>\n",
       "      <td>119ms</td>\n",
       "    </tr>\n",
       "    <tr>\n",
       "      <th>2</th>\n",
       "      <td>LGBMRegressor(max_depth=17, metric='rmse', num...</td>\n",
       "      <td>1628.789140</td>\n",
       "      <td>9.07s</td>\n",
       "      <td>801ms</td>\n",
       "    </tr>\n",
       "  </tbody>\n",
       "</table>\n",
       "</div>"
      ],
      "text/plain": [
       "                                               model         rmse time_fit  \\\n",
       "0                                 LinearRegression()  2666.071690    18.3s   \n",
       "1  (DecisionTreeRegressor(max_depth=6, max_featur...  2286.887248    8.65s   \n",
       "2  LGBMRegressor(max_depth=17, metric='rmse', num...  1628.789140    9.07s   \n",
       "\n",
       "  time_predict  \n",
       "0        201ms  \n",
       "1        119ms  \n",
       "2        801ms  "
      ]
     },
     "metadata": {},
     "output_type": "display_data"
    }
   ],
   "source": [
    "display(final_score)"
   ]
  },
  {
   "cell_type": "markdown",
   "metadata": {},
   "source": [
    "По моделям - побеждает LGBMRegressor с наилучшей точностью метрики RMSE, однако по времени предсказания гораздо лучше DecisionTreeRegressor "
   ]
  },
  {
   "cell_type": "markdown",
   "metadata": {},
   "source": [
    "### Финальное тестирование"
   ]
  },
  {
   "cell_type": "code",
   "execution_count": 49,
   "metadata": {},
   "outputs": [
    {
     "name": "stdout",
     "output_type": "stream",
     "text": [
      "Финальное тестирование лучшей модели - RMSE = 1622.3685502374567\n",
      "CPU times: user 9.24 s, sys: 229 ms, total: 9.47 s\n",
      "Wall time: 9.5 s\n"
     ]
    }
   ],
   "source": [
    "%%time\n",
    "\n",
    "model = lgb.LGBMRegressor(num_leaves=110, max_depth=17, metric='rmse')\n",
    "model.fit(features_train, target_train)\n",
    "final = model.predict(features_test)\n",
    "mse_final = mean_squared_error(target_test, final)\n",
    "\n",
    "print('Финальное тестирование лучшей модели - RMSE =', mse_final**0.5)"
   ]
  },
  {
   "cell_type": "code",
   "execution_count": 50,
   "metadata": {},
   "outputs": [
    {
     "name": "stdout",
     "output_type": "stream",
     "text": [
      "Финальное тестирование лучшей модели - RMSE = 1625.5820149004446\n",
      "CPU times: user 13.2 s, sys: 249 ms, total: 13.4 s\n",
      "Wall time: 13.4 s\n"
     ]
    }
   ],
   "source": [
    "%%time\n",
    "\n",
    "model = lgb.LGBMRegressor(num_leaves=110, max_depth=17, metric='rmse')\n",
    "model.fit(features_train, target_train)\n",
    "final = model.predict(features_rest)\n",
    "mse_final = mean_squared_error(target_rest, final)\n",
    "\n",
    "print('Финальное тестирование лучшей модели - RMSE =', mse_final**0.5)"
   ]
  },
  {
   "cell_type": "markdown",
   "metadata": {},
   "source": [
    "### Вывод\n",
    "\n",
    "- Просмотрел 3 модели на выбор \n",
    "\n",
    "- Лучший результат дала модель LGBMRegressor\n",
    "\n",
    "- В целом по моделям конечно градиентный бустинг впереди простых моделей"
   ]
  },
  {
   "cell_type": "markdown",
   "metadata": {},
   "source": [
    "## Чек-лист проверки"
   ]
  },
  {
   "cell_type": "markdown",
   "metadata": {},
   "source": [
    "Поставьте 'x' в выполненных пунктах. Далее нажмите Shift+Enter."
   ]
  },
  {
   "cell_type": "markdown",
   "metadata": {},
   "source": [
    "- [x]  Jupyter Notebook открыт\n",
    "- [x]  Весь код выполняется без ошибок\n",
    "- [x]  Ячейки с кодом расположены в порядке исполнения\n",
    "- [x]  Выполнена загрузка и подготовка данных\n",
    "- [x]  Выполнено обучение моделей\n",
    "- [x]  Есть анализ скорости работы и качества моделей"
   ]
  },
  {
   "cell_type": "code",
   "execution_count": null,
   "metadata": {},
   "outputs": [],
   "source": []
  }
 ],
 "metadata": {
  "ExecuteTimeLog": [
   {
    "duration": 459,
    "start_time": "2022-05-24T17:32:04.006Z"
   },
   {
    "duration": 1231,
    "start_time": "2022-05-24T17:32:31.851Z"
   },
   {
    "duration": 30,
    "start_time": "2022-05-24T17:32:54.718Z"
   },
   {
    "duration": 119,
    "start_time": "2022-05-24T17:33:10.777Z"
   },
   {
    "duration": 89,
    "start_time": "2022-05-24T17:35:50.696Z"
   },
   {
    "duration": 73,
    "start_time": "2022-05-24T17:36:12.033Z"
   },
   {
    "duration": 412,
    "start_time": "2022-05-26T13:52:27.873Z"
   },
   {
    "duration": 1193,
    "start_time": "2022-05-26T13:52:28.287Z"
   },
   {
    "duration": 32,
    "start_time": "2022-05-26T13:52:29.481Z"
   },
   {
    "duration": 120,
    "start_time": "2022-05-26T13:52:29.514Z"
   },
   {
    "duration": 120,
    "start_time": "2022-05-26T13:52:29.636Z"
   },
   {
    "duration": 7,
    "start_time": "2022-05-26T13:52:29.759Z"
   },
   {
    "duration": 92,
    "start_time": "2022-05-26T13:52:29.769Z"
   },
   {
    "duration": 1040,
    "start_time": "2022-05-26T14:00:51.069Z"
   },
   {
    "duration": 858,
    "start_time": "2022-05-26T14:00:52.112Z"
   },
   {
    "duration": 15,
    "start_time": "2022-05-26T14:00:52.972Z"
   },
   {
    "duration": 128,
    "start_time": "2022-05-26T14:00:52.989Z"
   },
   {
    "duration": 103,
    "start_time": "2022-05-26T14:00:53.120Z"
   },
   {
    "duration": 5,
    "start_time": "2022-05-26T14:00:53.224Z"
   },
   {
    "duration": 86,
    "start_time": "2022-05-26T14:00:53.230Z"
   },
   {
    "duration": 745,
    "start_time": "2022-05-26T14:00:53.319Z"
   },
   {
    "duration": 34,
    "start_time": "2022-05-26T14:16:31.371Z"
   },
   {
    "duration": 49,
    "start_time": "2022-05-26T14:16:35.427Z"
   },
   {
    "duration": 1435,
    "start_time": "2022-06-01T11:36:59.209Z"
   },
   {
    "duration": 1411,
    "start_time": "2022-06-01T11:37:00.648Z"
   },
   {
    "duration": 24,
    "start_time": "2022-06-01T11:37:02.061Z"
   },
   {
    "duration": 141,
    "start_time": "2022-06-01T11:37:02.088Z"
   },
   {
    "duration": 118,
    "start_time": "2022-06-01T11:37:02.231Z"
   },
   {
    "duration": 13,
    "start_time": "2022-06-01T11:37:02.351Z"
   },
   {
    "duration": 200,
    "start_time": "2022-06-01T11:37:02.366Z"
   },
   {
    "duration": 792,
    "start_time": "2022-06-01T11:37:02.568Z"
   },
   {
    "duration": 130,
    "start_time": "2022-06-01T12:21:23.508Z"
   },
   {
    "duration": 58,
    "start_time": "2022-06-01T12:22:35.137Z"
   },
   {
    "duration": 876,
    "start_time": "2022-06-01T12:27:43.214Z"
   },
   {
    "duration": 130,
    "start_time": "2022-06-01T12:28:11.996Z"
   },
   {
    "duration": 306,
    "start_time": "2022-06-01T12:32:07.806Z"
   },
   {
    "duration": 239,
    "start_time": "2022-06-01T12:33:12.530Z"
   },
   {
    "duration": 293,
    "start_time": "2022-06-01T12:34:16.178Z"
   },
   {
    "duration": 5,
    "start_time": "2022-06-01T12:35:25.273Z"
   },
   {
    "duration": 4,
    "start_time": "2022-06-01T12:35:30.775Z"
   },
   {
    "duration": 1325,
    "start_time": "2022-06-01T12:35:30.782Z"
   },
   {
    "duration": 29,
    "start_time": "2022-06-01T12:35:32.110Z"
   },
   {
    "duration": 224,
    "start_time": "2022-06-01T12:35:32.141Z"
   },
   {
    "duration": 157,
    "start_time": "2022-06-01T12:35:32.372Z"
   },
   {
    "duration": 9,
    "start_time": "2022-06-01T12:35:32.535Z"
   },
   {
    "duration": 73,
    "start_time": "2022-06-01T12:35:32.550Z"
   },
   {
    "duration": 191,
    "start_time": "2022-06-01T12:35:32.625Z"
   },
   {
    "duration": 807,
    "start_time": "2022-06-01T12:35:32.819Z"
   },
   {
    "duration": 203,
    "start_time": "2022-06-01T12:35:33.629Z"
   },
   {
    "duration": 461,
    "start_time": "2022-06-01T12:35:33.838Z"
   },
   {
    "duration": 0,
    "start_time": "2022-06-01T12:35:34.303Z"
   },
   {
    "duration": 5,
    "start_time": "2022-06-01T12:36:39.019Z"
   },
   {
    "duration": 793,
    "start_time": "2022-06-01T12:39:53.983Z"
   },
   {
    "duration": 786,
    "start_time": "2022-06-01T12:40:08.571Z"
   },
   {
    "duration": 16,
    "start_time": "2022-06-01T12:43:48.220Z"
   },
   {
    "duration": 4,
    "start_time": "2022-06-01T12:44:00.770Z"
   },
   {
    "duration": 1256,
    "start_time": "2022-06-01T12:44:00.776Z"
   },
   {
    "duration": 22,
    "start_time": "2022-06-01T12:44:02.036Z"
   },
   {
    "duration": 231,
    "start_time": "2022-06-01T12:44:02.060Z"
   },
   {
    "duration": 151,
    "start_time": "2022-06-01T12:44:02.293Z"
   },
   {
    "duration": 5,
    "start_time": "2022-06-01T12:44:02.447Z"
   },
   {
    "duration": 22,
    "start_time": "2022-06-01T12:44:02.455Z"
   },
   {
    "duration": 831,
    "start_time": "2022-06-01T12:44:02.479Z"
   },
   {
    "duration": 24,
    "start_time": "2022-06-01T12:44:03.314Z"
   },
   {
    "duration": 0,
    "start_time": "2022-06-01T12:44:03.340Z"
   },
   {
    "duration": 0,
    "start_time": "2022-06-01T12:44:03.346Z"
   },
   {
    "duration": 0,
    "start_time": "2022-06-01T12:44:03.347Z"
   },
   {
    "duration": 6,
    "start_time": "2022-06-01T12:44:16.776Z"
   },
   {
    "duration": 1134,
    "start_time": "2022-06-01T12:44:16.787Z"
   },
   {
    "duration": 20,
    "start_time": "2022-06-01T12:44:17.923Z"
   },
   {
    "duration": 151,
    "start_time": "2022-06-01T12:44:17.945Z"
   },
   {
    "duration": 118,
    "start_time": "2022-06-01T12:44:18.099Z"
   },
   {
    "duration": 8,
    "start_time": "2022-06-01T12:44:18.219Z"
   },
   {
    "duration": 7,
    "start_time": "2022-06-01T12:44:18.228Z"
   },
   {
    "duration": 22,
    "start_time": "2022-06-01T12:44:18.237Z"
   },
   {
    "duration": 0,
    "start_time": "2022-06-01T12:44:18.262Z"
   },
   {
    "duration": 0,
    "start_time": "2022-06-01T12:44:18.265Z"
   },
   {
    "duration": 0,
    "start_time": "2022-06-01T12:44:18.266Z"
   },
   {
    "duration": 0,
    "start_time": "2022-06-01T12:44:18.268Z"
   },
   {
    "duration": 10,
    "start_time": "2022-06-01T12:44:47.927Z"
   },
   {
    "duration": 12,
    "start_time": "2022-06-01T12:44:56.272Z"
   },
   {
    "duration": 3,
    "start_time": "2022-06-01T12:45:29.928Z"
   },
   {
    "duration": 852,
    "start_time": "2022-06-01T12:45:29.934Z"
   },
   {
    "duration": 16,
    "start_time": "2022-06-01T12:45:30.788Z"
   },
   {
    "duration": 205,
    "start_time": "2022-06-01T12:45:30.806Z"
   },
   {
    "duration": 121,
    "start_time": "2022-06-01T12:45:31.013Z"
   },
   {
    "duration": 5,
    "start_time": "2022-06-01T12:45:31.136Z"
   },
   {
    "duration": 37,
    "start_time": "2022-06-01T12:45:31.143Z"
   },
   {
    "duration": 17,
    "start_time": "2022-06-01T12:45:31.181Z"
   },
   {
    "duration": 17,
    "start_time": "2022-06-01T12:45:31.201Z"
   },
   {
    "duration": 0,
    "start_time": "2022-06-01T12:45:31.220Z"
   },
   {
    "duration": 0,
    "start_time": "2022-06-01T12:45:31.222Z"
   },
   {
    "duration": 0,
    "start_time": "2022-06-01T12:45:31.227Z"
   },
   {
    "duration": 13,
    "start_time": "2022-06-01T12:46:14.577Z"
   },
   {
    "duration": 13,
    "start_time": "2022-06-01T12:46:34.672Z"
   },
   {
    "duration": 5,
    "start_time": "2022-06-01T12:46:50.183Z"
   },
   {
    "duration": 14,
    "start_time": "2022-06-01T12:46:54.401Z"
   },
   {
    "duration": 12,
    "start_time": "2022-06-01T12:46:55.428Z"
   },
   {
    "duration": 3,
    "start_time": "2022-06-01T12:47:02.141Z"
   },
   {
    "duration": 896,
    "start_time": "2022-06-01T12:47:02.147Z"
   },
   {
    "duration": 17,
    "start_time": "2022-06-01T12:47:03.044Z"
   },
   {
    "duration": 125,
    "start_time": "2022-06-01T12:47:03.063Z"
   },
   {
    "duration": 146,
    "start_time": "2022-06-01T12:47:03.191Z"
   },
   {
    "duration": 6,
    "start_time": "2022-06-01T12:47:03.338Z"
   },
   {
    "duration": 13,
    "start_time": "2022-06-01T12:47:03.346Z"
   },
   {
    "duration": 11,
    "start_time": "2022-06-01T12:47:03.361Z"
   },
   {
    "duration": 24,
    "start_time": "2022-06-01T12:47:03.375Z"
   },
   {
    "duration": 0,
    "start_time": "2022-06-01T12:47:03.401Z"
   },
   {
    "duration": 0,
    "start_time": "2022-06-01T12:47:03.403Z"
   },
   {
    "duration": 0,
    "start_time": "2022-06-01T12:47:03.405Z"
   },
   {
    "duration": 49,
    "start_time": "2022-06-01T12:47:44.489Z"
   },
   {
    "duration": 731,
    "start_time": "2022-06-01T12:48:09.622Z"
   },
   {
    "duration": 4,
    "start_time": "2022-06-01T12:48:14.632Z"
   },
   {
    "duration": 11,
    "start_time": "2022-06-01T12:48:23.692Z"
   },
   {
    "duration": 10,
    "start_time": "2022-06-01T12:49:38.129Z"
   },
   {
    "duration": 11,
    "start_time": "2022-06-01T12:49:49.137Z"
   },
   {
    "duration": 2,
    "start_time": "2022-06-01T12:49:56.474Z"
   },
   {
    "duration": 799,
    "start_time": "2022-06-01T12:49:56.482Z"
   },
   {
    "duration": 16,
    "start_time": "2022-06-01T12:49:57.283Z"
   },
   {
    "duration": 153,
    "start_time": "2022-06-01T12:49:57.301Z"
   },
   {
    "duration": 117,
    "start_time": "2022-06-01T12:49:57.456Z"
   },
   {
    "duration": 4,
    "start_time": "2022-06-01T12:49:57.576Z"
   },
   {
    "duration": 9,
    "start_time": "2022-06-01T12:49:57.581Z"
   },
   {
    "duration": 44,
    "start_time": "2022-06-01T12:49:57.592Z"
   },
   {
    "duration": 5,
    "start_time": "2022-06-01T12:49:57.637Z"
   },
   {
    "duration": 44,
    "start_time": "2022-06-01T12:49:57.644Z"
   },
   {
    "duration": 168,
    "start_time": "2022-06-01T12:49:57.691Z"
   },
   {
    "duration": 466,
    "start_time": "2022-06-01T12:49:57.862Z"
   },
   {
    "duration": 0,
    "start_time": "2022-06-01T12:49:58.330Z"
   },
   {
    "duration": 31,
    "start_time": "2022-06-01T12:50:07.188Z"
   },
   {
    "duration": 631,
    "start_time": "2022-06-01T12:50:10.918Z"
   },
   {
    "duration": 187,
    "start_time": "2022-06-01T12:50:16.541Z"
   },
   {
    "duration": 89,
    "start_time": "2022-06-01T12:50:24.071Z"
   },
   {
    "duration": 48,
    "start_time": "2022-06-01T12:51:00.163Z"
   },
   {
    "duration": 97,
    "start_time": "2022-06-01T12:51:32.485Z"
   },
   {
    "duration": 93,
    "start_time": "2022-06-01T12:51:49.439Z"
   },
   {
    "duration": 48,
    "start_time": "2022-06-01T12:52:02.435Z"
   },
   {
    "duration": 522,
    "start_time": "2022-06-01T12:52:57.811Z"
   },
   {
    "duration": 5,
    "start_time": "2022-06-01T12:53:32.022Z"
   },
   {
    "duration": 656,
    "start_time": "2022-06-01T12:53:38.867Z"
   },
   {
    "duration": 748,
    "start_time": "2022-06-01T12:53:44.333Z"
   },
   {
    "duration": 6,
    "start_time": "2022-06-01T12:58:33.725Z"
   },
   {
    "duration": 3,
    "start_time": "2022-06-01T12:58:37.753Z"
   },
   {
    "duration": 988,
    "start_time": "2022-06-01T12:58:37.758Z"
   },
   {
    "duration": 19,
    "start_time": "2022-06-01T12:58:38.748Z"
   },
   {
    "duration": 213,
    "start_time": "2022-06-01T12:58:38.770Z"
   },
   {
    "duration": 779,
    "start_time": "2022-06-01T12:58:38.986Z"
   },
   {
    "duration": 39,
    "start_time": "2022-06-01T12:58:39.768Z"
   },
   {
    "duration": 21,
    "start_time": "2022-06-01T12:58:39.809Z"
   },
   {
    "duration": 28,
    "start_time": "2022-06-01T12:58:39.833Z"
   },
   {
    "duration": 138,
    "start_time": "2022-06-01T12:58:39.864Z"
   },
   {
    "duration": 60,
    "start_time": "2022-06-01T12:58:40.004Z"
   },
   {
    "duration": 203,
    "start_time": "2022-06-01T12:58:40.066Z"
   },
   {
    "duration": 62,
    "start_time": "2022-06-01T12:58:40.271Z"
   },
   {
    "duration": 258,
    "start_time": "2022-06-01T12:58:40.335Z"
   },
   {
    "duration": 35,
    "start_time": "2022-06-01T12:59:03.352Z"
   },
   {
    "duration": 5,
    "start_time": "2022-06-01T12:59:05.630Z"
   },
   {
    "duration": 22,
    "start_time": "2022-06-01T12:59:27.153Z"
   },
   {
    "duration": 4,
    "start_time": "2022-06-01T12:59:35.958Z"
   },
   {
    "duration": 1041,
    "start_time": "2022-06-01T12:59:35.970Z"
   },
   {
    "duration": 24,
    "start_time": "2022-06-01T12:59:37.013Z"
   },
   {
    "duration": 143,
    "start_time": "2022-06-01T12:59:37.039Z"
   },
   {
    "duration": 747,
    "start_time": "2022-06-01T12:59:37.184Z"
   },
   {
    "duration": 23,
    "start_time": "2022-06-01T12:59:37.934Z"
   },
   {
    "duration": 5,
    "start_time": "2022-06-01T12:59:37.960Z"
   },
   {
    "duration": 26,
    "start_time": "2022-06-01T12:59:37.967Z"
   },
   {
    "duration": 109,
    "start_time": "2022-06-01T12:59:37.995Z"
   },
   {
    "duration": 28,
    "start_time": "2022-06-01T12:59:38.107Z"
   },
   {
    "duration": 0,
    "start_time": "2022-06-01T12:59:38.137Z"
   },
   {
    "duration": 0,
    "start_time": "2022-06-01T12:59:38.138Z"
   },
   {
    "duration": 0,
    "start_time": "2022-06-01T12:59:38.140Z"
   },
   {
    "duration": 75,
    "start_time": "2022-06-01T13:02:57.949Z"
   },
   {
    "duration": 37,
    "start_time": "2022-06-01T13:03:22.038Z"
   },
   {
    "duration": 26,
    "start_time": "2022-06-01T13:03:40.621Z"
   },
   {
    "duration": 20,
    "start_time": "2022-06-01T13:03:50.801Z"
   },
   {
    "duration": 30,
    "start_time": "2022-06-01T13:04:01.162Z"
   },
   {
    "duration": 43,
    "start_time": "2022-06-01T13:04:12.999Z"
   },
   {
    "duration": 60,
    "start_time": "2022-06-01T13:06:13.447Z"
   },
   {
    "duration": 59,
    "start_time": "2022-06-01T13:06:26.991Z"
   },
   {
    "duration": 67,
    "start_time": "2022-06-01T13:07:02.610Z"
   },
   {
    "duration": 60,
    "start_time": "2022-06-01T13:07:06.486Z"
   },
   {
    "duration": 21,
    "start_time": "2022-06-01T13:07:55.055Z"
   },
   {
    "duration": 26,
    "start_time": "2022-06-01T13:08:14.546Z"
   },
   {
    "duration": 40,
    "start_time": "2022-06-01T13:08:26.107Z"
   },
   {
    "duration": 41,
    "start_time": "2022-06-01T13:08:39.713Z"
   },
   {
    "duration": 25,
    "start_time": "2022-06-01T13:08:53.196Z"
   },
   {
    "duration": 38,
    "start_time": "2022-06-01T13:08:57.954Z"
   },
   {
    "duration": 20,
    "start_time": "2022-06-01T13:10:21.881Z"
   },
   {
    "duration": 111,
    "start_time": "2022-06-01T13:12:01.867Z"
   },
   {
    "duration": 25,
    "start_time": "2022-06-01T13:12:07.647Z"
   },
   {
    "duration": 13,
    "start_time": "2022-06-01T13:12:58.864Z"
   },
   {
    "duration": 35,
    "start_time": "2022-06-01T13:13:07.827Z"
   },
   {
    "duration": 4,
    "start_time": "2022-06-01T13:17:46.303Z"
   },
   {
    "duration": 203,
    "start_time": "2022-06-01T13:18:43.155Z"
   },
   {
    "duration": 22,
    "start_time": "2022-06-01T13:19:11.490Z"
   },
   {
    "duration": 26,
    "start_time": "2022-06-01T13:25:47.810Z"
   },
   {
    "duration": 1309,
    "start_time": "2022-06-07T21:42:02.445Z"
   },
   {
    "duration": 1042,
    "start_time": "2022-06-07T21:42:03.757Z"
   },
   {
    "duration": 19,
    "start_time": "2022-06-07T21:42:04.801Z"
   },
   {
    "duration": 118,
    "start_time": "2022-06-07T21:42:04.821Z"
   },
   {
    "duration": 661,
    "start_time": "2022-06-07T21:42:04.942Z"
   },
   {
    "duration": 22,
    "start_time": "2022-06-07T21:42:05.604Z"
   },
   {
    "duration": 7,
    "start_time": "2022-06-07T21:42:05.628Z"
   },
   {
    "duration": 91,
    "start_time": "2022-06-07T21:42:05.636Z"
   },
   {
    "duration": 19,
    "start_time": "2022-06-07T21:42:05.729Z"
   },
   {
    "duration": 32,
    "start_time": "2022-06-07T21:42:05.750Z"
   },
   {
    "duration": 20,
    "start_time": "2022-06-07T21:42:05.784Z"
   },
   {
    "duration": 4,
    "start_time": "2022-06-07T21:42:05.806Z"
   },
   {
    "duration": 147,
    "start_time": "2022-06-07T21:50:46.469Z"
   },
   {
    "duration": 35,
    "start_time": "2022-06-07T21:51:09.078Z"
   },
   {
    "duration": 36,
    "start_time": "2022-06-07T21:51:39.537Z"
   },
   {
    "duration": 32,
    "start_time": "2022-06-07T21:58:41.501Z"
   },
   {
    "duration": 29,
    "start_time": "2022-06-07T22:01:20.923Z"
   },
   {
    "duration": 38,
    "start_time": "2022-06-07T22:01:36.641Z"
   },
   {
    "duration": 148,
    "start_time": "2022-06-07T22:04:16.722Z"
   },
   {
    "duration": 56,
    "start_time": "2022-06-07T22:09:38.920Z"
   },
   {
    "duration": 28,
    "start_time": "2022-06-07T22:10:23.395Z"
   },
   {
    "duration": 18,
    "start_time": "2022-06-07T22:10:46.652Z"
   },
   {
    "duration": 17,
    "start_time": "2022-06-07T22:11:32.983Z"
   },
   {
    "duration": 17,
    "start_time": "2022-06-07T22:12:06.697Z"
   },
   {
    "duration": 25,
    "start_time": "2022-06-07T22:12:15.086Z"
   },
   {
    "duration": 36,
    "start_time": "2022-06-07T22:12:50.012Z"
   },
   {
    "duration": 28,
    "start_time": "2022-06-07T22:12:56.545Z"
   },
   {
    "duration": 39,
    "start_time": "2022-06-07T22:13:26.595Z"
   },
   {
    "duration": 147,
    "start_time": "2022-06-07T22:16:39.045Z"
   },
   {
    "duration": 51,
    "start_time": "2022-06-07T22:16:52.365Z"
   },
   {
    "duration": 34,
    "start_time": "2022-06-07T22:19:14.060Z"
   },
   {
    "duration": 37,
    "start_time": "2022-06-07T22:19:39.894Z"
   },
   {
    "duration": 42,
    "start_time": "2022-06-07T22:26:18.779Z"
   },
   {
    "duration": 333,
    "start_time": "2022-06-07T22:34:09.270Z"
   },
   {
    "duration": 218,
    "start_time": "2022-06-07T22:34:42.175Z"
   },
   {
    "duration": 42,
    "start_time": "2022-06-07T22:35:03.031Z"
   },
   {
    "duration": 32,
    "start_time": "2022-06-07T22:40:46.423Z"
   },
   {
    "duration": 47,
    "start_time": "2022-06-07T22:42:45.915Z"
   },
   {
    "duration": 778,
    "start_time": "2022-06-07T22:42:45.964Z"
   },
   {
    "duration": 14,
    "start_time": "2022-06-07T22:42:46.744Z"
   },
   {
    "duration": 122,
    "start_time": "2022-06-07T22:42:46.765Z"
   },
   {
    "duration": 604,
    "start_time": "2022-06-07T22:42:46.889Z"
   },
   {
    "duration": 16,
    "start_time": "2022-06-07T22:42:47.495Z"
   },
   {
    "duration": 4,
    "start_time": "2022-06-07T22:42:47.512Z"
   },
   {
    "duration": 87,
    "start_time": "2022-06-07T22:42:47.517Z"
   },
   {
    "duration": 18,
    "start_time": "2022-06-07T22:42:47.606Z"
   },
   {
    "duration": 20,
    "start_time": "2022-06-07T22:42:47.626Z"
   },
   {
    "duration": 33,
    "start_time": "2022-06-07T22:42:47.647Z"
   },
   {
    "duration": 35,
    "start_time": "2022-06-07T22:42:47.682Z"
   },
   {
    "duration": 53,
    "start_time": "2022-06-07T22:42:47.719Z"
   },
   {
    "duration": 18,
    "start_time": "2022-06-07T22:42:47.775Z"
   },
   {
    "duration": 42,
    "start_time": "2022-06-07T22:42:47.795Z"
   },
   {
    "duration": 50,
    "start_time": "2022-06-07T22:42:47.838Z"
   },
   {
    "duration": 32158,
    "start_time": "2022-06-07T22:47:03.669Z"
   },
   {
    "duration": 4,
    "start_time": "2022-06-07T22:48:22.037Z"
   },
   {
    "duration": 753,
    "start_time": "2022-06-07T22:48:22.043Z"
   },
   {
    "duration": 14,
    "start_time": "2022-06-07T22:48:22.797Z"
   },
   {
    "duration": 126,
    "start_time": "2022-06-07T22:48:22.812Z"
   },
   {
    "duration": 563,
    "start_time": "2022-06-07T22:48:22.940Z"
   },
   {
    "duration": 16,
    "start_time": "2022-06-07T22:48:23.504Z"
   },
   {
    "duration": 4,
    "start_time": "2022-06-07T22:48:23.522Z"
   },
   {
    "duration": 95,
    "start_time": "2022-06-07T22:48:23.527Z"
   },
   {
    "duration": 23,
    "start_time": "2022-06-07T22:48:23.623Z"
   },
   {
    "duration": 34,
    "start_time": "2022-06-07T22:48:23.648Z"
   },
   {
    "duration": 19,
    "start_time": "2022-06-07T22:48:23.683Z"
   },
   {
    "duration": 33,
    "start_time": "2022-06-07T22:48:23.703Z"
   },
   {
    "duration": 52,
    "start_time": "2022-06-07T22:48:23.737Z"
   },
   {
    "duration": 28,
    "start_time": "2022-06-07T22:48:23.791Z"
   },
   {
    "duration": 59,
    "start_time": "2022-06-07T22:48:23.821Z"
   },
   {
    "duration": 32,
    "start_time": "2022-06-07T22:48:23.881Z"
   },
   {
    "duration": 32180,
    "start_time": "2022-06-07T22:48:30.037Z"
   },
   {
    "duration": 14,
    "start_time": "2022-06-07T23:07:17.477Z"
   },
   {
    "duration": 1638,
    "start_time": "2022-06-07T23:07:22.258Z"
   },
   {
    "duration": 19,
    "start_time": "2022-06-07T23:09:48.629Z"
   },
   {
    "duration": 5,
    "start_time": "2022-06-07T23:09:59.207Z"
   },
   {
    "duration": 808,
    "start_time": "2022-06-07T23:09:59.214Z"
   },
   {
    "duration": 16,
    "start_time": "2022-06-07T23:10:00.023Z"
   },
   {
    "duration": 133,
    "start_time": "2022-06-07T23:10:00.041Z"
   },
   {
    "duration": 584,
    "start_time": "2022-06-07T23:10:00.177Z"
   },
   {
    "duration": 16,
    "start_time": "2022-06-07T23:10:00.765Z"
   },
   {
    "duration": 9,
    "start_time": "2022-06-07T23:10:00.783Z"
   },
   {
    "duration": 94,
    "start_time": "2022-06-07T23:10:00.794Z"
   },
   {
    "duration": 32,
    "start_time": "2022-06-07T23:10:00.890Z"
   },
   {
    "duration": 25,
    "start_time": "2022-06-07T23:10:00.924Z"
   },
   {
    "duration": 30,
    "start_time": "2022-06-07T23:10:00.950Z"
   },
   {
    "duration": 43,
    "start_time": "2022-06-07T23:10:00.981Z"
   },
   {
    "duration": 50,
    "start_time": "2022-06-07T23:10:01.026Z"
   },
   {
    "duration": 25,
    "start_time": "2022-06-07T23:10:01.078Z"
   },
   {
    "duration": 74,
    "start_time": "2022-06-07T23:10:01.105Z"
   },
   {
    "duration": 46,
    "start_time": "2022-06-07T23:10:01.181Z"
   },
   {
    "duration": 428,
    "start_time": "2022-06-07T23:10:01.229Z"
   },
   {
    "duration": 0,
    "start_time": "2022-06-07T23:10:01.659Z"
   },
   {
    "duration": 56,
    "start_time": "2022-06-07T23:10:15.316Z"
   },
   {
    "duration": 13,
    "start_time": "2022-06-07T23:10:39.600Z"
   },
   {
    "duration": 78,
    "start_time": "2022-06-07T23:10:59.575Z"
   },
   {
    "duration": 88,
    "start_time": "2022-06-07T23:11:07.423Z"
   },
   {
    "duration": 102,
    "start_time": "2022-06-07T23:11:33.233Z"
   },
   {
    "duration": 1304,
    "start_time": "2022-06-07T23:34:06.913Z"
   },
   {
    "duration": 42,
    "start_time": "2022-06-07T23:36:41.899Z"
   },
   {
    "duration": 12,
    "start_time": "2022-06-07T23:36:55.966Z"
   },
   {
    "duration": 5,
    "start_time": "2022-06-07T23:37:03.637Z"
   },
   {
    "duration": 10,
    "start_time": "2022-06-07T23:37:05.766Z"
   },
   {
    "duration": 4,
    "start_time": "2022-06-07T23:37:40.408Z"
   },
   {
    "duration": 763,
    "start_time": "2022-06-07T23:37:40.414Z"
   },
   {
    "duration": 14,
    "start_time": "2022-06-07T23:37:41.179Z"
   },
   {
    "duration": 131,
    "start_time": "2022-06-07T23:37:41.194Z"
   },
   {
    "duration": 530,
    "start_time": "2022-06-07T23:37:41.328Z"
   },
   {
    "duration": 18,
    "start_time": "2022-06-07T23:37:41.859Z"
   },
   {
    "duration": 4,
    "start_time": "2022-06-07T23:37:41.878Z"
   },
   {
    "duration": 89,
    "start_time": "2022-06-07T23:37:41.884Z"
   },
   {
    "duration": 18,
    "start_time": "2022-06-07T23:37:41.975Z"
   },
   {
    "duration": 57,
    "start_time": "2022-06-07T23:37:41.994Z"
   },
   {
    "duration": 31,
    "start_time": "2022-06-07T23:37:42.052Z"
   },
   {
    "duration": 56,
    "start_time": "2022-06-07T23:37:42.084Z"
   },
   {
    "duration": 54,
    "start_time": "2022-06-07T23:37:42.142Z"
   },
   {
    "duration": 20,
    "start_time": "2022-06-07T23:37:42.198Z"
   },
   {
    "duration": 70,
    "start_time": "2022-06-07T23:37:42.220Z"
   },
   {
    "duration": 30,
    "start_time": "2022-06-07T23:37:42.292Z"
   },
   {
    "duration": 28,
    "start_time": "2022-06-07T23:37:42.324Z"
   },
   {
    "duration": 0,
    "start_time": "2022-06-07T23:37:42.353Z"
   },
   {
    "duration": 0,
    "start_time": "2022-06-07T23:37:42.354Z"
   },
   {
    "duration": 0,
    "start_time": "2022-06-07T23:37:42.356Z"
   },
   {
    "duration": 0,
    "start_time": "2022-06-07T23:37:42.357Z"
   },
   {
    "duration": 0,
    "start_time": "2022-06-07T23:37:42.358Z"
   },
   {
    "duration": 4,
    "start_time": "2022-06-07T23:38:14.628Z"
   },
   {
    "duration": 771,
    "start_time": "2022-06-07T23:38:14.636Z"
   },
   {
    "duration": 14,
    "start_time": "2022-06-07T23:38:15.409Z"
   },
   {
    "duration": 126,
    "start_time": "2022-06-07T23:38:15.424Z"
   },
   {
    "duration": 557,
    "start_time": "2022-06-07T23:38:15.551Z"
   },
   {
    "duration": 17,
    "start_time": "2022-06-07T23:38:16.110Z"
   },
   {
    "duration": 4,
    "start_time": "2022-06-07T23:38:16.128Z"
   },
   {
    "duration": 104,
    "start_time": "2022-06-07T23:38:16.134Z"
   },
   {
    "duration": 28,
    "start_time": "2022-06-07T23:38:16.240Z"
   },
   {
    "duration": 25,
    "start_time": "2022-06-07T23:38:16.270Z"
   },
   {
    "duration": 21,
    "start_time": "2022-06-07T23:38:16.296Z"
   },
   {
    "duration": 56,
    "start_time": "2022-06-07T23:38:16.318Z"
   },
   {
    "duration": 41,
    "start_time": "2022-06-07T23:38:16.375Z"
   },
   {
    "duration": 19,
    "start_time": "2022-06-07T23:38:16.418Z"
   },
   {
    "duration": 59,
    "start_time": "2022-06-07T23:38:16.440Z"
   },
   {
    "duration": 33,
    "start_time": "2022-06-07T23:38:16.501Z"
   },
   {
    "duration": 27,
    "start_time": "2022-06-07T23:38:16.535Z"
   },
   {
    "duration": 0,
    "start_time": "2022-06-07T23:38:16.564Z"
   },
   {
    "duration": 0,
    "start_time": "2022-06-07T23:38:16.566Z"
   },
   {
    "duration": 0,
    "start_time": "2022-06-07T23:38:16.568Z"
   },
   {
    "duration": 0,
    "start_time": "2022-06-07T23:38:16.570Z"
   },
   {
    "duration": 0,
    "start_time": "2022-06-07T23:38:16.571Z"
   },
   {
    "duration": 4,
    "start_time": "2022-06-07T23:38:27.299Z"
   },
   {
    "duration": 4,
    "start_time": "2022-06-07T23:38:32.357Z"
   },
   {
    "duration": 759,
    "start_time": "2022-06-07T23:38:32.363Z"
   },
   {
    "duration": 15,
    "start_time": "2022-06-07T23:38:33.124Z"
   },
   {
    "duration": 137,
    "start_time": "2022-06-07T23:38:33.141Z"
   },
   {
    "duration": 612,
    "start_time": "2022-06-07T23:38:33.281Z"
   },
   {
    "duration": 16,
    "start_time": "2022-06-07T23:38:33.894Z"
   },
   {
    "duration": 11,
    "start_time": "2022-06-07T23:38:33.912Z"
   },
   {
    "duration": 89,
    "start_time": "2022-06-07T23:38:33.924Z"
   },
   {
    "duration": 18,
    "start_time": "2022-06-07T23:38:34.015Z"
   },
   {
    "duration": 29,
    "start_time": "2022-06-07T23:38:34.035Z"
   },
   {
    "duration": 23,
    "start_time": "2022-06-07T23:38:34.066Z"
   },
   {
    "duration": 49,
    "start_time": "2022-06-07T23:38:34.092Z"
   },
   {
    "duration": 54,
    "start_time": "2022-06-07T23:38:34.143Z"
   },
   {
    "duration": 24,
    "start_time": "2022-06-07T23:38:34.200Z"
   },
   {
    "duration": 47,
    "start_time": "2022-06-07T23:38:34.226Z"
   },
   {
    "duration": 30,
    "start_time": "2022-06-07T23:38:34.275Z"
   },
   {
    "duration": 17,
    "start_time": "2022-06-07T23:38:34.307Z"
   },
   {
    "duration": 26,
    "start_time": "2022-06-07T23:38:34.326Z"
   },
   {
    "duration": 90,
    "start_time": "2022-06-07T23:38:34.354Z"
   },
   {
    "duration": 1983,
    "start_time": "2022-06-07T23:38:34.445Z"
   },
   {
    "duration": 35,
    "start_time": "2022-06-07T23:38:36.430Z"
   },
   {
    "duration": 77,
    "start_time": "2022-06-07T23:38:36.466Z"
   },
   {
    "duration": 733,
    "start_time": "2022-06-07T23:41:53.079Z"
   },
   {
    "duration": 15,
    "start_time": "2022-06-07T23:42:10.929Z"
   },
   {
    "duration": 4,
    "start_time": "2022-06-07T23:48:06.745Z"
   },
   {
    "duration": 728,
    "start_time": "2022-06-07T23:48:06.750Z"
   },
   {
    "duration": 16,
    "start_time": "2022-06-07T23:48:07.480Z"
   },
   {
    "duration": 127,
    "start_time": "2022-06-07T23:48:07.498Z"
   },
   {
    "duration": 543,
    "start_time": "2022-06-07T23:48:07.627Z"
   },
   {
    "duration": 16,
    "start_time": "2022-06-07T23:48:08.171Z"
   },
   {
    "duration": 4,
    "start_time": "2022-06-07T23:48:08.188Z"
   },
   {
    "duration": 95,
    "start_time": "2022-06-07T23:48:08.193Z"
   },
   {
    "duration": 18,
    "start_time": "2022-06-07T23:48:08.289Z"
   },
   {
    "duration": 20,
    "start_time": "2022-06-07T23:48:08.309Z"
   },
   {
    "duration": 18,
    "start_time": "2022-06-07T23:48:08.330Z"
   },
   {
    "duration": 33,
    "start_time": "2022-06-07T23:48:08.364Z"
   },
   {
    "duration": 36,
    "start_time": "2022-06-07T23:48:08.399Z"
   },
   {
    "duration": 33,
    "start_time": "2022-06-07T23:48:08.437Z"
   },
   {
    "duration": 38,
    "start_time": "2022-06-07T23:48:08.472Z"
   },
   {
    "duration": 29,
    "start_time": "2022-06-07T23:48:08.512Z"
   },
   {
    "duration": 22,
    "start_time": "2022-06-07T23:48:08.543Z"
   },
   {
    "duration": 15,
    "start_time": "2022-06-07T23:48:08.567Z"
   },
   {
    "duration": 85,
    "start_time": "2022-06-07T23:48:08.584Z"
   },
   {
    "duration": 1257,
    "start_time": "2022-06-07T23:48:08.671Z"
   },
   {
    "duration": 23,
    "start_time": "2022-06-07T23:48:09.930Z"
   },
   {
    "duration": 86,
    "start_time": "2022-06-07T23:48:09.965Z"
   },
   {
    "duration": 750,
    "start_time": "2022-06-07T23:48:10.064Z"
   },
   {
    "duration": 2,
    "start_time": "2022-06-07T23:48:10.816Z"
   },
   {
    "duration": 4,
    "start_time": "2022-06-07T23:51:30.810Z"
   },
   {
    "duration": 748,
    "start_time": "2022-06-07T23:51:30.817Z"
   },
   {
    "duration": 15,
    "start_time": "2022-06-07T23:51:31.567Z"
   },
   {
    "duration": 125,
    "start_time": "2022-06-07T23:51:31.583Z"
   },
   {
    "duration": 551,
    "start_time": "2022-06-07T23:51:31.710Z"
   },
   {
    "duration": 15,
    "start_time": "2022-06-07T23:51:32.264Z"
   },
   {
    "duration": 4,
    "start_time": "2022-06-07T23:51:32.281Z"
   },
   {
    "duration": 96,
    "start_time": "2022-06-07T23:51:32.286Z"
   },
   {
    "duration": 18,
    "start_time": "2022-06-07T23:51:32.384Z"
   },
   {
    "duration": 26,
    "start_time": "2022-06-07T23:51:32.404Z"
   },
   {
    "duration": 33,
    "start_time": "2022-06-07T23:51:32.431Z"
   },
   {
    "duration": 33,
    "start_time": "2022-06-07T23:51:32.466Z"
   },
   {
    "duration": 32,
    "start_time": "2022-06-07T23:51:32.501Z"
   },
   {
    "duration": 43,
    "start_time": "2022-06-07T23:51:32.534Z"
   },
   {
    "duration": 42,
    "start_time": "2022-06-07T23:51:32.579Z"
   },
   {
    "duration": 30,
    "start_time": "2022-06-07T23:51:32.623Z"
   },
   {
    "duration": 9,
    "start_time": "2022-06-07T23:51:32.665Z"
   },
   {
    "duration": 80,
    "start_time": "2022-06-07T23:51:32.676Z"
   },
   {
    "duration": 1273,
    "start_time": "2022-06-07T23:51:32.764Z"
   },
   {
    "duration": 30,
    "start_time": "2022-06-07T23:51:34.038Z"
   },
   {
    "duration": 83,
    "start_time": "2022-06-07T23:51:34.069Z"
   },
   {
    "duration": 724,
    "start_time": "2022-06-07T23:51:34.164Z"
   },
   {
    "duration": 2,
    "start_time": "2022-06-07T23:51:34.890Z"
   },
   {
    "duration": 10,
    "start_time": "2022-06-07T23:55:23.528Z"
   },
   {
    "duration": 377,
    "start_time": "2022-06-07T23:55:31.719Z"
   },
   {
    "duration": 3,
    "start_time": "2022-06-07T23:55:59.737Z"
   },
   {
    "duration": 744,
    "start_time": "2022-06-07T23:55:59.742Z"
   },
   {
    "duration": 16,
    "start_time": "2022-06-07T23:56:00.488Z"
   },
   {
    "duration": 142,
    "start_time": "2022-06-07T23:56:00.506Z"
   },
   {
    "duration": 578,
    "start_time": "2022-06-07T23:56:00.651Z"
   },
   {
    "duration": 17,
    "start_time": "2022-06-07T23:56:01.230Z"
   },
   {
    "duration": 16,
    "start_time": "2022-06-07T23:56:01.249Z"
   },
   {
    "duration": 84,
    "start_time": "2022-06-07T23:56:01.267Z"
   },
   {
    "duration": 68,
    "start_time": "2022-06-07T23:56:01.353Z"
   },
   {
    "duration": 19,
    "start_time": "2022-06-07T23:56:01.423Z"
   },
   {
    "duration": 29,
    "start_time": "2022-06-07T23:56:01.444Z"
   },
   {
    "duration": 22,
    "start_time": "2022-06-07T23:56:01.475Z"
   },
   {
    "duration": 43,
    "start_time": "2022-06-07T23:56:01.499Z"
   },
   {
    "duration": 46,
    "start_time": "2022-06-07T23:56:01.544Z"
   },
   {
    "duration": 18,
    "start_time": "2022-06-07T23:56:01.592Z"
   },
   {
    "duration": 54,
    "start_time": "2022-06-07T23:56:01.612Z"
   },
   {
    "duration": 32,
    "start_time": "2022-06-07T23:56:01.668Z"
   },
   {
    "duration": 14,
    "start_time": "2022-06-07T23:56:01.702Z"
   },
   {
    "duration": 99,
    "start_time": "2022-06-07T23:56:01.717Z"
   },
   {
    "duration": 1281,
    "start_time": "2022-06-07T23:56:01.817Z"
   },
   {
    "duration": 22,
    "start_time": "2022-06-07T23:56:03.100Z"
   },
   {
    "duration": 92,
    "start_time": "2022-06-07T23:56:03.124Z"
   },
   {
    "duration": 798,
    "start_time": "2022-06-07T23:56:03.218Z"
   },
   {
    "duration": 3,
    "start_time": "2022-06-07T23:56:04.018Z"
   },
   {
    "duration": 134,
    "start_time": "2022-06-07T23:56:32.507Z"
   },
   {
    "duration": 134,
    "start_time": "2022-06-07T23:58:09.444Z"
   },
   {
    "duration": 36,
    "start_time": "2022-06-08T00:02:07.642Z"
   },
   {
    "duration": 3,
    "start_time": "2022-06-08T00:02:23.562Z"
   },
   {
    "duration": 754,
    "start_time": "2022-06-08T00:02:23.567Z"
   },
   {
    "duration": 18,
    "start_time": "2022-06-08T00:02:24.323Z"
   },
   {
    "duration": 132,
    "start_time": "2022-06-08T00:02:24.343Z"
   },
   {
    "duration": 604,
    "start_time": "2022-06-08T00:02:24.477Z"
   },
   {
    "duration": 17,
    "start_time": "2022-06-08T00:02:25.083Z"
   },
   {
    "duration": 4,
    "start_time": "2022-06-08T00:02:25.102Z"
   },
   {
    "duration": 102,
    "start_time": "2022-06-08T00:02:25.108Z"
   },
   {
    "duration": 89,
    "start_time": "2022-06-08T00:02:25.212Z"
   },
   {
    "duration": 92,
    "start_time": "2022-06-08T00:02:25.303Z"
   },
   {
    "duration": 28,
    "start_time": "2022-06-08T00:02:25.396Z"
   },
   {
    "duration": 34,
    "start_time": "2022-06-08T00:02:25.425Z"
   },
   {
    "duration": 19,
    "start_time": "2022-06-08T00:02:25.461Z"
   },
   {
    "duration": 33,
    "start_time": "2022-06-08T00:02:25.481Z"
   },
   {
    "duration": 53,
    "start_time": "2022-06-08T00:02:25.515Z"
   },
   {
    "duration": 18,
    "start_time": "2022-06-08T00:02:25.569Z"
   },
   {
    "duration": 40,
    "start_time": "2022-06-08T00:02:25.588Z"
   },
   {
    "duration": 44,
    "start_time": "2022-06-08T00:02:25.630Z"
   },
   {
    "duration": 80,
    "start_time": "2022-06-08T00:02:25.676Z"
   },
   {
    "duration": 1340,
    "start_time": "2022-06-08T00:02:25.764Z"
   },
   {
    "duration": 16,
    "start_time": "2022-06-08T00:02:27.106Z"
   },
   {
    "duration": 0,
    "start_time": "2022-06-08T00:02:27.124Z"
   },
   {
    "duration": 0,
    "start_time": "2022-06-08T00:02:27.126Z"
   },
   {
    "duration": 0,
    "start_time": "2022-06-08T00:02:27.127Z"
   },
   {
    "duration": 16,
    "start_time": "2022-06-08T00:02:44.873Z"
   },
   {
    "duration": 29,
    "start_time": "2022-06-08T00:02:59.319Z"
   },
   {
    "duration": 81,
    "start_time": "2022-06-08T00:03:01.749Z"
   },
   {
    "duration": 35,
    "start_time": "2022-06-08T00:03:41.920Z"
   },
   {
    "duration": 81,
    "start_time": "2022-06-08T00:03:42.940Z"
   },
   {
    "duration": 86,
    "start_time": "2022-06-08T00:04:58.964Z"
   },
   {
    "duration": 4,
    "start_time": "2022-06-08T00:05:41.040Z"
   },
   {
    "duration": 742,
    "start_time": "2022-06-08T00:05:41.046Z"
   },
   {
    "duration": 15,
    "start_time": "2022-06-08T00:05:41.790Z"
   },
   {
    "duration": 134,
    "start_time": "2022-06-08T00:05:41.806Z"
   },
   {
    "duration": 569,
    "start_time": "2022-06-08T00:05:41.943Z"
   },
   {
    "duration": 16,
    "start_time": "2022-06-08T00:05:42.514Z"
   },
   {
    "duration": 4,
    "start_time": "2022-06-08T00:05:42.532Z"
   },
   {
    "duration": 117,
    "start_time": "2022-06-08T00:05:42.537Z"
   },
   {
    "duration": 383,
    "start_time": "2022-06-08T00:05:42.656Z"
   },
   {
    "duration": 0,
    "start_time": "2022-06-08T00:05:43.040Z"
   },
   {
    "duration": 0,
    "start_time": "2022-06-08T00:05:43.041Z"
   },
   {
    "duration": 0,
    "start_time": "2022-06-08T00:05:43.042Z"
   },
   {
    "duration": 0,
    "start_time": "2022-06-08T00:05:43.043Z"
   },
   {
    "duration": 0,
    "start_time": "2022-06-08T00:05:43.044Z"
   },
   {
    "duration": 0,
    "start_time": "2022-06-08T00:05:43.045Z"
   },
   {
    "duration": 0,
    "start_time": "2022-06-08T00:05:43.046Z"
   },
   {
    "duration": 0,
    "start_time": "2022-06-08T00:05:43.047Z"
   },
   {
    "duration": 0,
    "start_time": "2022-06-08T00:05:43.047Z"
   },
   {
    "duration": 0,
    "start_time": "2022-06-08T00:05:43.048Z"
   },
   {
    "duration": 0,
    "start_time": "2022-06-08T00:05:43.049Z"
   },
   {
    "duration": 0,
    "start_time": "2022-06-08T00:05:43.050Z"
   },
   {
    "duration": 0,
    "start_time": "2022-06-08T00:05:43.051Z"
   },
   {
    "duration": 0,
    "start_time": "2022-06-08T00:05:43.052Z"
   },
   {
    "duration": 0,
    "start_time": "2022-06-08T00:05:43.053Z"
   },
   {
    "duration": 73,
    "start_time": "2022-06-08T00:06:07.767Z"
   },
   {
    "duration": 4,
    "start_time": "2022-06-08T00:06:11.171Z"
   },
   {
    "duration": 704,
    "start_time": "2022-06-08T00:06:11.177Z"
   },
   {
    "duration": 15,
    "start_time": "2022-06-08T00:06:11.882Z"
   },
   {
    "duration": 131,
    "start_time": "2022-06-08T00:06:11.899Z"
   },
   {
    "duration": 554,
    "start_time": "2022-06-08T00:06:12.032Z"
   },
   {
    "duration": 15,
    "start_time": "2022-06-08T00:06:12.588Z"
   },
   {
    "duration": 4,
    "start_time": "2022-06-08T00:06:12.604Z"
   },
   {
    "duration": 88,
    "start_time": "2022-06-08T00:06:12.609Z"
   },
   {
    "duration": 86,
    "start_time": "2022-06-08T00:06:12.698Z"
   },
   {
    "duration": 80,
    "start_time": "2022-06-08T00:06:12.785Z"
   },
   {
    "duration": 21,
    "start_time": "2022-06-08T00:06:12.867Z"
   },
   {
    "duration": 18,
    "start_time": "2022-06-08T00:06:12.889Z"
   },
   {
    "duration": 21,
    "start_time": "2022-06-08T00:06:12.909Z"
   },
   {
    "duration": 33,
    "start_time": "2022-06-08T00:06:12.964Z"
   },
   {
    "duration": 34,
    "start_time": "2022-06-08T00:06:12.998Z"
   },
   {
    "duration": 31,
    "start_time": "2022-06-08T00:06:13.034Z"
   },
   {
    "duration": 39,
    "start_time": "2022-06-08T00:06:13.066Z"
   },
   {
    "duration": 31,
    "start_time": "2022-06-08T00:06:13.107Z"
   },
   {
    "duration": 90,
    "start_time": "2022-06-08T00:06:13.140Z"
   },
   {
    "duration": 1300,
    "start_time": "2022-06-08T00:06:13.232Z"
   },
   {
    "duration": 44,
    "start_time": "2022-06-08T00:06:14.533Z"
   },
   {
    "duration": 79,
    "start_time": "2022-06-08T00:06:14.579Z"
   },
   {
    "duration": 763,
    "start_time": "2022-06-08T00:06:14.660Z"
   },
   {
    "duration": 3,
    "start_time": "2022-06-08T00:06:15.424Z"
   },
   {
    "duration": 1323,
    "start_time": "2022-06-09T18:35:26.163Z"
   },
   {
    "duration": 3,
    "start_time": "2022-06-09T18:41:05.256Z"
   },
   {
    "duration": 785,
    "start_time": "2022-06-09T18:41:05.261Z"
   },
   {
    "duration": 17,
    "start_time": "2022-06-09T18:41:06.047Z"
   },
   {
    "duration": 131,
    "start_time": "2022-06-09T18:41:06.065Z"
   },
   {
    "duration": 638,
    "start_time": "2022-06-09T18:41:06.199Z"
   },
   {
    "duration": 22,
    "start_time": "2022-06-09T18:41:06.839Z"
   },
   {
    "duration": 6,
    "start_time": "2022-06-09T18:41:06.863Z"
   },
   {
    "duration": 94,
    "start_time": "2022-06-09T18:41:06.870Z"
   },
   {
    "duration": 91,
    "start_time": "2022-06-09T18:41:06.965Z"
   },
   {
    "duration": 80,
    "start_time": "2022-06-09T18:41:07.058Z"
   },
   {
    "duration": 44,
    "start_time": "2022-06-09T18:41:07.140Z"
   },
   {
    "duration": 1255,
    "start_time": "2022-06-09T18:41:07.186Z"
   },
   {
    "duration": 39,
    "start_time": "2022-06-09T18:41:08.443Z"
   },
   {
    "duration": 94,
    "start_time": "2022-06-09T18:41:08.483Z"
   },
   {
    "duration": 130,
    "start_time": "2022-06-09T18:41:08.578Z"
   },
   {
    "duration": 0,
    "start_time": "2022-06-09T18:41:08.710Z"
   },
   {
    "duration": 0,
    "start_time": "2022-06-09T18:41:08.711Z"
   },
   {
    "duration": 27,
    "start_time": "2022-06-09T18:41:34.291Z"
   },
   {
    "duration": 66,
    "start_time": "2022-06-09T18:41:35.715Z"
   },
   {
    "duration": 733,
    "start_time": "2022-06-09T18:41:36.319Z"
   },
   {
    "duration": 33,
    "start_time": "2022-06-09T18:42:40.399Z"
   },
   {
    "duration": 9,
    "start_time": "2022-06-09T18:42:46.035Z"
   },
   {
    "duration": 2,
    "start_time": "2022-06-09T18:43:01.662Z"
   },
   {
    "duration": 65,
    "start_time": "2022-06-09T18:43:02.387Z"
   },
   {
    "duration": 3,
    "start_time": "2022-06-09T18:43:14.916Z"
   },
   {
    "duration": 745,
    "start_time": "2022-06-09T18:43:14.920Z"
   },
   {
    "duration": 13,
    "start_time": "2022-06-09T18:43:15.667Z"
   },
   {
    "duration": 129,
    "start_time": "2022-06-09T18:43:15.683Z"
   },
   {
    "duration": 551,
    "start_time": "2022-06-09T18:43:15.815Z"
   },
   {
    "duration": 15,
    "start_time": "2022-06-09T18:43:16.368Z"
   },
   {
    "duration": 3,
    "start_time": "2022-06-09T18:43:16.385Z"
   },
   {
    "duration": 91,
    "start_time": "2022-06-09T18:43:16.390Z"
   },
   {
    "duration": 90,
    "start_time": "2022-06-09T18:43:16.482Z"
   },
   {
    "duration": 75,
    "start_time": "2022-06-09T18:43:16.573Z"
   },
   {
    "duration": 41,
    "start_time": "2022-06-09T18:43:16.649Z"
   },
   {
    "duration": 1381,
    "start_time": "2022-06-09T18:43:16.691Z"
   },
   {
    "duration": 28,
    "start_time": "2022-06-09T18:43:18.074Z"
   },
   {
    "duration": 87,
    "start_time": "2022-06-09T18:43:18.105Z"
   },
   {
    "duration": 17,
    "start_time": "2022-06-09T18:43:18.194Z"
   },
   {
    "duration": 65,
    "start_time": "2022-06-09T18:43:18.226Z"
   },
   {
    "duration": 733,
    "start_time": "2022-06-09T18:43:18.294Z"
   },
   {
    "duration": 3,
    "start_time": "2022-06-09T18:43:19.029Z"
   },
   {
    "duration": 68,
    "start_time": "2022-06-09T18:43:19.033Z"
   },
   {
    "duration": 71,
    "start_time": "2022-06-09T18:44:36.062Z"
   },
   {
    "duration": 35,
    "start_time": "2022-06-09T18:45:43.131Z"
   },
   {
    "duration": 67,
    "start_time": "2022-06-09T18:45:57.451Z"
   },
   {
    "duration": 47,
    "start_time": "2022-06-09T18:46:03.919Z"
   },
   {
    "duration": 47,
    "start_time": "2022-06-09T18:49:42.136Z"
   },
   {
    "duration": 4,
    "start_time": "2022-06-09T18:49:48.785Z"
   },
   {
    "duration": 740,
    "start_time": "2022-06-09T18:49:48.791Z"
   },
   {
    "duration": 15,
    "start_time": "2022-06-09T18:49:49.532Z"
   },
   {
    "duration": 138,
    "start_time": "2022-06-09T18:49:49.549Z"
   },
   {
    "duration": 533,
    "start_time": "2022-06-09T18:49:49.690Z"
   },
   {
    "duration": 16,
    "start_time": "2022-06-09T18:49:50.227Z"
   },
   {
    "duration": 4,
    "start_time": "2022-06-09T18:49:50.245Z"
   },
   {
    "duration": 93,
    "start_time": "2022-06-09T18:49:50.250Z"
   },
   {
    "duration": 91,
    "start_time": "2022-06-09T18:49:50.345Z"
   },
   {
    "duration": 77,
    "start_time": "2022-06-09T18:49:50.438Z"
   },
   {
    "duration": 41,
    "start_time": "2022-06-09T18:49:50.526Z"
   },
   {
    "duration": 1233,
    "start_time": "2022-06-09T18:49:50.569Z"
   },
   {
    "duration": 35,
    "start_time": "2022-06-09T18:49:51.804Z"
   },
   {
    "duration": 95,
    "start_time": "2022-06-09T18:49:51.841Z"
   },
   {
    "duration": 16,
    "start_time": "2022-06-09T18:49:51.937Z"
   },
   {
    "duration": 77,
    "start_time": "2022-06-09T18:49:51.955Z"
   },
   {
    "duration": 705,
    "start_time": "2022-06-09T18:49:52.034Z"
   },
   {
    "duration": 47,
    "start_time": "2022-06-09T18:49:52.740Z"
   },
   {
    "duration": 0,
    "start_time": "2022-06-09T18:49:52.788Z"
   },
   {
    "duration": 0,
    "start_time": "2022-06-09T18:49:52.790Z"
   },
   {
    "duration": 112,
    "start_time": "2022-06-09T18:50:06.460Z"
   },
   {
    "duration": 803,
    "start_time": "2022-06-09T18:50:07.020Z"
   },
   {
    "duration": 41,
    "start_time": "2022-06-09T18:50:07.826Z"
   },
   {
    "duration": 721,
    "start_time": "2022-06-09T18:52:02.112Z"
   },
   {
    "duration": 223,
    "start_time": "2022-06-09T18:52:03.519Z"
   },
   {
    "duration": 331,
    "start_time": "2022-06-09T18:52:04.628Z"
   },
   {
    "duration": 827,
    "start_time": "2022-06-09T18:52:05.939Z"
   },
   {
    "duration": 23249,
    "start_time": "2022-06-09T18:52:06.779Z"
   },
   {
    "duration": 0,
    "start_time": "2022-06-09T18:52:30.030Z"
   },
   {
    "duration": 0,
    "start_time": "2022-06-09T18:52:30.031Z"
   },
   {
    "duration": 2,
    "start_time": "2022-06-09T18:53:06.680Z"
   },
   {
    "duration": 19147,
    "start_time": "2022-06-09T18:53:10.484Z"
   },
   {
    "duration": 441,
    "start_time": "2022-06-09T18:54:11.188Z"
   },
   {
    "duration": 5,
    "start_time": "2022-06-09T18:54:13.971Z"
   },
   {
    "duration": 9,
    "start_time": "2022-06-09T18:54:49.976Z"
   },
   {
    "duration": 3,
    "start_time": "2022-06-09T18:55:00.544Z"
   },
   {
    "duration": 768,
    "start_time": "2022-06-09T18:55:11.520Z"
   },
   {
    "duration": 223,
    "start_time": "2022-06-09T18:55:12.290Z"
   },
   {
    "duration": 318,
    "start_time": "2022-06-09T18:55:12.515Z"
   },
   {
    "duration": 3,
    "start_time": "2022-06-09T18:55:12.872Z"
   },
   {
    "duration": 2,
    "start_time": "2022-06-09T18:55:13.908Z"
   },
   {
    "duration": 25363,
    "start_time": "2022-06-09T18:55:14.365Z"
   },
   {
    "duration": 303,
    "start_time": "2022-06-09T18:55:39.730Z"
   },
   {
    "duration": 96,
    "start_time": "2022-06-09T18:55:40.035Z"
   },
   {
    "duration": 3,
    "start_time": "2022-06-09T18:56:26.059Z"
   },
   {
    "duration": 9,
    "start_time": "2022-06-09T19:21:47.942Z"
   },
   {
    "duration": 4,
    "start_time": "2022-06-09T19:43:10.750Z"
   },
   {
    "duration": 10,
    "start_time": "2022-06-09T19:45:21.552Z"
   },
   {
    "duration": 3,
    "start_time": "2022-06-09T19:45:35.754Z"
   },
   {
    "duration": 4,
    "start_time": "2022-06-09T19:45:38.778Z"
   },
   {
    "duration": 714,
    "start_time": "2022-06-09T19:45:38.783Z"
   },
   {
    "duration": 14,
    "start_time": "2022-06-09T19:45:39.499Z"
   },
   {
    "duration": 135,
    "start_time": "2022-06-09T19:45:39.514Z"
   },
   {
    "duration": 550,
    "start_time": "2022-06-09T19:45:39.651Z"
   },
   {
    "duration": 15,
    "start_time": "2022-06-09T19:45:40.202Z"
   },
   {
    "duration": 4,
    "start_time": "2022-06-09T19:45:40.227Z"
   },
   {
    "duration": 81,
    "start_time": "2022-06-09T19:45:40.233Z"
   },
   {
    "duration": 89,
    "start_time": "2022-06-09T19:45:40.315Z"
   },
   {
    "duration": 83,
    "start_time": "2022-06-09T19:45:40.405Z"
   },
   {
    "duration": 50,
    "start_time": "2022-06-09T19:45:40.490Z"
   },
   {
    "duration": 1237,
    "start_time": "2022-06-09T19:45:40.542Z"
   },
   {
    "duration": 24,
    "start_time": "2022-06-09T19:45:41.781Z"
   },
   {
    "duration": 90,
    "start_time": "2022-06-09T19:45:41.808Z"
   },
   {
    "duration": 700,
    "start_time": "2022-06-09T19:45:41.900Z"
   },
   {
    "duration": 214,
    "start_time": "2022-06-09T19:45:42.602Z"
   },
   {
    "duration": 321,
    "start_time": "2022-06-09T19:45:42.818Z"
   },
   {
    "duration": 3,
    "start_time": "2022-06-09T19:45:43.141Z"
   },
   {
    "duration": 17,
    "start_time": "2022-06-09T19:45:43.146Z"
   },
   {
    "duration": 29867,
    "start_time": "2022-06-09T19:45:43.164Z"
   },
   {
    "duration": 395,
    "start_time": "2022-06-09T19:46:13.032Z"
   },
   {
    "duration": 6,
    "start_time": "2022-06-09T19:46:13.429Z"
   },
   {
    "duration": 99,
    "start_time": "2022-06-09T19:46:13.436Z"
   },
   {
    "duration": 0,
    "start_time": "2022-06-09T19:46:13.537Z"
   },
   {
    "duration": 0,
    "start_time": "2022-06-09T19:46:13.538Z"
   },
   {
    "duration": 0,
    "start_time": "2022-06-09T19:46:13.539Z"
   },
   {
    "duration": 4,
    "start_time": "2022-06-09T19:47:49.705Z"
   },
   {
    "duration": 683,
    "start_time": "2022-06-09T19:47:49.711Z"
   },
   {
    "duration": 15,
    "start_time": "2022-06-09T19:47:50.396Z"
   },
   {
    "duration": 135,
    "start_time": "2022-06-09T19:47:50.413Z"
   },
   {
    "duration": 543,
    "start_time": "2022-06-09T19:47:50.550Z"
   },
   {
    "duration": 14,
    "start_time": "2022-06-09T19:47:51.095Z"
   },
   {
    "duration": 3,
    "start_time": "2022-06-09T19:47:51.111Z"
   },
   {
    "duration": 74,
    "start_time": "2022-06-09T19:47:51.127Z"
   },
   {
    "duration": 100,
    "start_time": "2022-06-09T19:47:51.203Z"
   },
   {
    "duration": 78,
    "start_time": "2022-06-09T19:47:51.305Z"
   },
   {
    "duration": 49,
    "start_time": "2022-06-09T19:47:51.384Z"
   },
   {
    "duration": 1226,
    "start_time": "2022-06-09T19:47:51.435Z"
   },
   {
    "duration": 24,
    "start_time": "2022-06-09T19:47:52.663Z"
   },
   {
    "duration": 91,
    "start_time": "2022-06-09T19:47:52.689Z"
   },
   {
    "duration": 712,
    "start_time": "2022-06-09T19:47:52.782Z"
   },
   {
    "duration": 217,
    "start_time": "2022-06-09T19:47:53.496Z"
   },
   {
    "duration": 330,
    "start_time": "2022-06-09T19:47:53.715Z"
   },
   {
    "duration": 4,
    "start_time": "2022-06-09T19:47:54.046Z"
   },
   {
    "duration": 7,
    "start_time": "2022-06-09T19:47:54.052Z"
   },
   {
    "duration": 23472,
    "start_time": "2022-06-09T19:47:54.061Z"
   },
   {
    "duration": 298,
    "start_time": "2022-06-09T19:48:17.534Z"
   },
   {
    "duration": 96,
    "start_time": "2022-06-09T19:48:17.834Z"
   },
   {
    "duration": 5,
    "start_time": "2022-06-09T19:48:17.931Z"
   },
   {
    "duration": 6,
    "start_time": "2022-06-09T19:48:17.938Z"
   },
   {
    "duration": 1221,
    "start_time": "2022-06-09T20:16:30.431Z"
   },
   {
    "duration": 850,
    "start_time": "2022-06-09T20:16:31.653Z"
   },
   {
    "duration": 25,
    "start_time": "2022-06-09T20:16:32.504Z"
   },
   {
    "duration": 120,
    "start_time": "2022-06-09T20:16:32.531Z"
   },
   {
    "duration": 572,
    "start_time": "2022-06-09T20:16:32.653Z"
   },
   {
    "duration": 24,
    "start_time": "2022-06-09T20:16:33.227Z"
   },
   {
    "duration": 8,
    "start_time": "2022-06-09T20:16:33.253Z"
   },
   {
    "duration": 99,
    "start_time": "2022-06-09T20:16:33.263Z"
   },
   {
    "duration": 88,
    "start_time": "2022-06-09T20:16:33.364Z"
   },
   {
    "duration": 79,
    "start_time": "2022-06-09T20:16:33.454Z"
   },
   {
    "duration": 43,
    "start_time": "2022-06-09T20:16:33.534Z"
   },
   {
    "duration": 1306,
    "start_time": "2022-06-09T20:16:33.579Z"
   },
   {
    "duration": 40,
    "start_time": "2022-06-09T20:16:34.887Z"
   },
   {
    "duration": 78,
    "start_time": "2022-06-09T20:16:34.929Z"
   },
   {
    "duration": 781,
    "start_time": "2022-06-09T20:16:35.008Z"
   },
   {
    "duration": 217,
    "start_time": "2022-06-09T20:16:35.790Z"
   },
   {
    "duration": 358,
    "start_time": "2022-06-09T20:16:36.009Z"
   },
   {
    "duration": 4,
    "start_time": "2022-06-09T20:16:36.369Z"
   },
   {
    "duration": 5,
    "start_time": "2022-06-09T20:16:36.375Z"
   },
   {
    "duration": 29153,
    "start_time": "2022-06-09T20:16:36.383Z"
   },
   {
    "duration": 303,
    "start_time": "2022-06-09T20:17:05.627Z"
   },
   {
    "duration": 94,
    "start_time": "2022-06-09T20:17:05.936Z"
   },
   {
    "duration": 9,
    "start_time": "2022-06-09T20:17:06.031Z"
   },
   {
    "duration": 15,
    "start_time": "2022-06-09T20:17:06.041Z"
   },
   {
    "duration": 11,
    "start_time": "2022-06-09T20:17:06.058Z"
   },
   {
    "duration": 6,
    "start_time": "2022-06-09T20:17:06.070Z"
   },
   {
    "duration": 67600,
    "start_time": "2022-06-09T20:17:06.078Z"
   },
   {
    "duration": 442,
    "start_time": "2022-06-09T20:18:13.682Z"
   },
   {
    "duration": 4,
    "start_time": "2022-06-09T20:18:14.126Z"
   },
   {
    "duration": 2419,
    "start_time": "2022-06-09T20:18:14.132Z"
   },
   {
    "duration": 6,
    "start_time": "2022-06-09T20:18:44.989Z"
   },
   {
    "duration": 4,
    "start_time": "2022-06-09T20:19:50.191Z"
   },
   {
    "duration": 815,
    "start_time": "2022-06-09T20:19:50.197Z"
   },
   {
    "duration": 17,
    "start_time": "2022-06-09T20:19:51.014Z"
   },
   {
    "duration": 138,
    "start_time": "2022-06-09T20:19:51.032Z"
   },
   {
    "duration": 590,
    "start_time": "2022-06-09T20:19:51.173Z"
   },
   {
    "duration": 16,
    "start_time": "2022-06-09T20:19:51.764Z"
   },
   {
    "duration": 5,
    "start_time": "2022-06-09T20:19:51.782Z"
   },
   {
    "duration": 105,
    "start_time": "2022-06-09T20:19:51.789Z"
   },
   {
    "duration": 91,
    "start_time": "2022-06-09T20:19:51.896Z"
   },
   {
    "duration": 111,
    "start_time": "2022-06-09T20:19:51.989Z"
   },
   {
    "duration": 52,
    "start_time": "2022-06-09T20:19:52.101Z"
   },
   {
    "duration": 1454,
    "start_time": "2022-06-09T20:19:52.155Z"
   },
   {
    "duration": 37,
    "start_time": "2022-06-09T20:19:53.610Z"
   },
   {
    "duration": 87,
    "start_time": "2022-06-09T20:19:53.650Z"
   },
   {
    "duration": 824,
    "start_time": "2022-06-09T20:19:53.739Z"
   },
   {
    "duration": 222,
    "start_time": "2022-06-09T20:19:54.565Z"
   },
   {
    "duration": 345,
    "start_time": "2022-06-09T20:19:54.790Z"
   },
   {
    "duration": 5,
    "start_time": "2022-06-09T20:19:55.136Z"
   },
   {
    "duration": 9,
    "start_time": "2022-06-09T20:19:55.143Z"
   },
   {
    "duration": 31875,
    "start_time": "2022-06-09T20:19:55.153Z"
   },
   {
    "duration": 310,
    "start_time": "2022-06-09T20:20:27.030Z"
   },
   {
    "duration": 5,
    "start_time": "2022-06-09T20:20:27.427Z"
   },
   {
    "duration": 7,
    "start_time": "2022-06-09T20:20:27.433Z"
   },
   {
    "duration": 6,
    "start_time": "2022-06-09T20:20:27.441Z"
   },
   {
    "duration": 1316,
    "start_time": "2022-06-09T20:25:09.121Z"
   },
   {
    "duration": 791,
    "start_time": "2022-06-09T20:25:10.438Z"
   },
   {
    "duration": 17,
    "start_time": "2022-06-09T20:25:11.231Z"
   },
   {
    "duration": 134,
    "start_time": "2022-06-09T20:25:11.250Z"
   },
   {
    "duration": 615,
    "start_time": "2022-06-09T20:25:11.387Z"
   },
   {
    "duration": 31,
    "start_time": "2022-06-09T20:25:12.004Z"
   },
   {
    "duration": 20,
    "start_time": "2022-06-09T20:25:12.037Z"
   },
   {
    "duration": 99,
    "start_time": "2022-06-09T20:25:12.059Z"
   },
   {
    "duration": 95,
    "start_time": "2022-06-09T20:25:12.160Z"
   },
   {
    "duration": 98,
    "start_time": "2022-06-09T20:25:12.256Z"
   },
   {
    "duration": 70,
    "start_time": "2022-06-09T20:25:12.356Z"
   },
   {
    "duration": 1478,
    "start_time": "2022-06-09T20:25:12.427Z"
   },
   {
    "duration": 47,
    "start_time": "2022-06-09T20:25:13.907Z"
   },
   {
    "duration": 89,
    "start_time": "2022-06-09T20:25:13.957Z"
   },
   {
    "duration": 842,
    "start_time": "2022-06-09T20:25:14.048Z"
   },
   {
    "duration": 221,
    "start_time": "2022-06-09T20:25:14.892Z"
   },
   {
    "duration": 342,
    "start_time": "2022-06-09T20:25:15.115Z"
   },
   {
    "duration": 3,
    "start_time": "2022-06-09T20:25:15.459Z"
   },
   {
    "duration": 6,
    "start_time": "2022-06-09T20:25:15.463Z"
   },
   {
    "duration": 28264,
    "start_time": "2022-06-09T20:25:15.470Z"
   },
   {
    "duration": 299,
    "start_time": "2022-06-09T20:25:43.736Z"
   },
   {
    "duration": 7,
    "start_time": "2022-06-09T20:25:44.135Z"
   },
   {
    "duration": 91,
    "start_time": "2022-06-09T20:25:44.143Z"
   },
   {
    "duration": 8,
    "start_time": "2022-06-09T20:25:44.236Z"
   },
   {
    "duration": 1347,
    "start_time": "2022-06-09T20:33:32.809Z"
   },
   {
    "duration": 814,
    "start_time": "2022-06-09T20:33:34.159Z"
   },
   {
    "duration": 17,
    "start_time": "2022-06-09T20:33:34.974Z"
   },
   {
    "duration": 152,
    "start_time": "2022-06-09T20:33:34.993Z"
   },
   {
    "duration": 596,
    "start_time": "2022-06-09T20:33:35.148Z"
   },
   {
    "duration": 24,
    "start_time": "2022-06-09T20:33:35.746Z"
   },
   {
    "duration": 9,
    "start_time": "2022-06-09T20:33:35.772Z"
   },
   {
    "duration": 106,
    "start_time": "2022-06-09T20:33:35.783Z"
   },
   {
    "duration": 101,
    "start_time": "2022-06-09T20:33:35.891Z"
   },
   {
    "duration": 76,
    "start_time": "2022-06-09T20:33:35.993Z"
   },
   {
    "duration": 41,
    "start_time": "2022-06-09T20:33:36.071Z"
   },
   {
    "duration": 1359,
    "start_time": "2022-06-09T20:33:36.114Z"
   },
   {
    "duration": 35,
    "start_time": "2022-06-09T20:33:37.474Z"
   },
   {
    "duration": 91,
    "start_time": "2022-06-09T20:33:37.512Z"
   },
   {
    "duration": 803,
    "start_time": "2022-06-09T20:33:37.605Z"
   },
   {
    "duration": 223,
    "start_time": "2022-06-09T20:33:38.409Z"
   },
   {
    "duration": 324,
    "start_time": "2022-06-09T20:33:38.637Z"
   },
   {
    "duration": 3,
    "start_time": "2022-06-09T20:33:38.963Z"
   },
   {
    "duration": 6,
    "start_time": "2022-06-09T20:33:38.967Z"
   },
   {
    "duration": 60156,
    "start_time": "2022-06-09T20:33:38.975Z"
   },
   {
    "duration": 300,
    "start_time": "2022-06-09T20:34:39.133Z"
   },
   {
    "duration": 93,
    "start_time": "2022-06-09T20:34:39.435Z"
   },
   {
    "duration": 8,
    "start_time": "2022-06-09T20:34:39.531Z"
   },
   {
    "duration": 6,
    "start_time": "2022-06-09T20:34:39.541Z"
   },
   {
    "duration": 1230,
    "start_time": "2022-06-09T20:47:39.436Z"
   },
   {
    "duration": 784,
    "start_time": "2022-06-09T20:47:40.669Z"
   },
   {
    "duration": 18,
    "start_time": "2022-06-09T20:47:41.456Z"
   },
   {
    "duration": 137,
    "start_time": "2022-06-09T20:47:41.476Z"
   },
   {
    "duration": 543,
    "start_time": "2022-06-09T20:47:41.615Z"
   },
   {
    "duration": 19,
    "start_time": "2022-06-09T20:47:42.160Z"
   },
   {
    "duration": 3,
    "start_time": "2022-06-09T20:47:42.181Z"
   },
   {
    "duration": 95,
    "start_time": "2022-06-09T20:47:42.186Z"
   },
   {
    "duration": 86,
    "start_time": "2022-06-09T20:47:42.282Z"
   },
   {
    "duration": 79,
    "start_time": "2022-06-09T20:47:42.369Z"
   },
   {
    "duration": 42,
    "start_time": "2022-06-09T20:47:42.450Z"
   },
   {
    "duration": 1220,
    "start_time": "2022-06-09T20:47:42.494Z"
   },
   {
    "duration": 42,
    "start_time": "2022-06-09T20:47:43.716Z"
   },
   {
    "duration": 89,
    "start_time": "2022-06-09T20:47:43.761Z"
   },
   {
    "duration": 740,
    "start_time": "2022-06-09T20:47:43.852Z"
   },
   {
    "duration": 220,
    "start_time": "2022-06-09T20:47:44.593Z"
   },
   {
    "duration": 337,
    "start_time": "2022-06-09T20:47:44.815Z"
   },
   {
    "duration": 3,
    "start_time": "2022-06-09T20:47:45.154Z"
   },
   {
    "duration": 9,
    "start_time": "2022-06-09T20:47:45.158Z"
   },
   {
    "duration": 22864,
    "start_time": "2022-06-09T20:47:45.169Z"
   },
   {
    "duration": 300,
    "start_time": "2022-06-09T20:48:08.035Z"
   },
   {
    "duration": 92,
    "start_time": "2022-06-09T20:48:08.337Z"
   },
   {
    "duration": 15,
    "start_time": "2022-06-09T20:48:08.431Z"
   },
   {
    "duration": 6,
    "start_time": "2022-06-09T20:48:08.448Z"
   },
   {
    "duration": 1403245,
    "start_time": "2022-06-09T20:48:08.456Z"
   },
   {
    "duration": 4,
    "start_time": "2022-06-09T21:11:31.703Z"
   },
   {
    "duration": 9,
    "start_time": "2022-06-09T21:11:31.708Z"
   },
   {
    "duration": 15,
    "start_time": "2022-06-09T21:11:31.718Z"
   },
   {
    "duration": 14,
    "start_time": "2022-06-09T21:11:31.734Z"
   },
   {
    "duration": 19,
    "start_time": "2022-06-09T21:11:31.750Z"
   },
   {
    "duration": 13,
    "start_time": "2022-06-09T21:11:31.770Z"
   },
   {
    "duration": 2052,
    "start_time": "2022-06-09T21:11:31.785Z"
   },
   {
    "duration": 110,
    "start_time": "2022-06-09T21:15:02.414Z"
   },
   {
    "duration": 4,
    "start_time": "2022-06-09T21:15:13.340Z"
   },
   {
    "duration": 4,
    "start_time": "2022-06-09T21:16:14.008Z"
   },
   {
    "duration": 3,
    "start_time": "2022-06-09T21:16:15.410Z"
   },
   {
    "duration": 19419,
    "start_time": "2022-06-09T21:16:16.137Z"
   },
   {
    "duration": 189,
    "start_time": "2022-06-09T21:16:35.557Z"
   },
   {
    "duration": 4,
    "start_time": "2022-06-09T21:16:35.747Z"
   },
   {
    "duration": 1985,
    "start_time": "2022-06-09T21:22:06.919Z"
   },
   {
    "duration": 3,
    "start_time": "2022-06-09T21:25:29.214Z"
   },
   {
    "duration": 21,
    "start_time": "2022-06-09T21:25:30.099Z"
   },
   {
    "duration": 3,
    "start_time": "2022-06-09T21:31:26.860Z"
   },
   {
    "duration": 83,
    "start_time": "2022-06-09T21:31:28.557Z"
   },
   {
    "duration": 5,
    "start_time": "2022-06-09T21:31:45.179Z"
   },
   {
    "duration": 4,
    "start_time": "2022-06-09T21:31:56.457Z"
   },
   {
    "duration": 3,
    "start_time": "2022-06-09T21:32:09.414Z"
   },
   {
    "duration": 99,
    "start_time": "2022-06-09T21:32:09.916Z"
   },
   {
    "duration": 4,
    "start_time": "2022-06-09T21:32:10.453Z"
   },
   {
    "duration": 4,
    "start_time": "2022-06-09T21:32:11.026Z"
   },
   {
    "duration": 4,
    "start_time": "2022-06-09T21:41:32.094Z"
   },
   {
    "duration": 220,
    "start_time": "2022-06-09T21:42:10.028Z"
   },
   {
    "duration": 1766,
    "start_time": "2022-06-09T21:44:29.699Z"
   },
   {
    "duration": 1722,
    "start_time": "2022-06-09T21:44:35.634Z"
   },
   {
    "duration": 4,
    "start_time": "2022-06-09T21:44:37.358Z"
   },
   {
    "duration": 7,
    "start_time": "2022-06-09T21:44:37.363Z"
   },
   {
    "duration": 760,
    "start_time": "2022-06-09T21:44:39.822Z"
   },
   {
    "duration": 216,
    "start_time": "2022-06-09T21:44:47.680Z"
   },
   {
    "duration": 322,
    "start_time": "2022-06-09T21:44:48.927Z"
   },
   {
    "duration": 3,
    "start_time": "2022-06-09T21:44:50.821Z"
   },
   {
    "duration": 4,
    "start_time": "2022-06-09T21:45:03.896Z"
   },
   {
    "duration": 3,
    "start_time": "2022-06-09T21:45:04.357Z"
   },
   {
    "duration": 25319,
    "start_time": "2022-06-09T21:45:04.909Z"
   },
   {
    "duration": 310,
    "start_time": "2022-06-09T21:45:30.230Z"
   },
   {
    "duration": 6,
    "start_time": "2022-06-09T21:45:30.628Z"
   },
   {
    "duration": 4,
    "start_time": "2022-06-09T21:47:13.953Z"
   },
   {
    "duration": 4,
    "start_time": "2022-06-09T21:47:14.631Z"
   },
   {
    "duration": 172,
    "start_time": "2022-06-09T21:47:37.333Z"
   },
   {
    "duration": 781,
    "start_time": "2022-06-09T21:48:09.570Z"
   },
   {
    "duration": 43,
    "start_time": "2022-06-14T21:42:44.706Z"
   },
   {
    "duration": 1437,
    "start_time": "2022-06-14T21:47:20.033Z"
   },
   {
    "duration": 2936,
    "start_time": "2022-06-14T21:47:21.472Z"
   },
   {
    "duration": 16,
    "start_time": "2022-06-14T21:47:24.410Z"
   },
   {
    "duration": 109,
    "start_time": "2022-06-14T21:47:24.428Z"
   },
   {
    "duration": 612,
    "start_time": "2022-06-14T21:47:24.539Z"
   },
   {
    "duration": 26,
    "start_time": "2022-06-14T21:47:25.152Z"
   },
   {
    "duration": 9,
    "start_time": "2022-06-14T21:47:25.180Z"
   },
   {
    "duration": 72,
    "start_time": "2022-06-14T21:47:25.190Z"
   },
   {
    "duration": 87,
    "start_time": "2022-06-14T21:47:25.263Z"
   },
   {
    "duration": 65,
    "start_time": "2022-06-14T21:47:25.352Z"
   },
   {
    "duration": 39,
    "start_time": "2022-06-14T21:47:25.419Z"
   },
   {
    "duration": 1189,
    "start_time": "2022-06-14T21:47:25.459Z"
   },
   {
    "duration": 41,
    "start_time": "2022-06-14T21:47:26.649Z"
   },
   {
    "duration": 66,
    "start_time": "2022-06-14T21:47:26.693Z"
   },
   {
    "duration": 3,
    "start_time": "2022-06-14T21:47:26.760Z"
   },
   {
    "duration": 85,
    "start_time": "2022-06-14T21:47:26.764Z"
   },
   {
    "duration": 0,
    "start_time": "2022-06-14T21:47:26.851Z"
   },
   {
    "duration": 0,
    "start_time": "2022-06-14T21:47:26.852Z"
   },
   {
    "duration": 0,
    "start_time": "2022-06-14T21:47:26.853Z"
   },
   {
    "duration": 0,
    "start_time": "2022-06-14T21:47:26.854Z"
   },
   {
    "duration": 0,
    "start_time": "2022-06-14T21:47:26.856Z"
   },
   {
    "duration": 0,
    "start_time": "2022-06-14T21:47:26.856Z"
   },
   {
    "duration": 0,
    "start_time": "2022-06-14T21:47:26.857Z"
   },
   {
    "duration": 0,
    "start_time": "2022-06-14T21:47:26.857Z"
   },
   {
    "duration": 0,
    "start_time": "2022-06-14T21:47:26.858Z"
   },
   {
    "duration": 0,
    "start_time": "2022-06-14T21:47:26.858Z"
   },
   {
    "duration": 0,
    "start_time": "2022-06-14T21:47:26.858Z"
   },
   {
    "duration": 0,
    "start_time": "2022-06-14T21:47:26.877Z"
   },
   {
    "duration": 0,
    "start_time": "2022-06-14T21:47:26.879Z"
   },
   {
    "duration": 0,
    "start_time": "2022-06-14T21:47:26.880Z"
   },
   {
    "duration": 0,
    "start_time": "2022-06-14T21:47:26.881Z"
   },
   {
    "duration": 0,
    "start_time": "2022-06-14T21:47:26.882Z"
   },
   {
    "duration": 0,
    "start_time": "2022-06-14T21:47:26.883Z"
   },
   {
    "duration": 0,
    "start_time": "2022-06-14T21:47:26.884Z"
   },
   {
    "duration": 0,
    "start_time": "2022-06-14T21:47:26.885Z"
   },
   {
    "duration": 0,
    "start_time": "2022-06-14T21:47:26.886Z"
   },
   {
    "duration": 0,
    "start_time": "2022-06-14T21:47:26.887Z"
   },
   {
    "duration": 0,
    "start_time": "2022-06-14T21:47:26.888Z"
   },
   {
    "duration": 3,
    "start_time": "2022-06-14T21:48:04.126Z"
   },
   {
    "duration": 752,
    "start_time": "2022-06-14T21:48:04.130Z"
   },
   {
    "duration": 13,
    "start_time": "2022-06-14T21:48:04.884Z"
   },
   {
    "duration": 108,
    "start_time": "2022-06-14T21:48:04.899Z"
   },
   {
    "duration": 583,
    "start_time": "2022-06-14T21:48:05.010Z"
   },
   {
    "duration": 15,
    "start_time": "2022-06-14T21:48:05.595Z"
   },
   {
    "duration": 9,
    "start_time": "2022-06-14T21:48:05.612Z"
   },
   {
    "duration": 72,
    "start_time": "2022-06-14T21:48:05.623Z"
   },
   {
    "duration": 69,
    "start_time": "2022-06-14T21:48:05.697Z"
   },
   {
    "duration": 71,
    "start_time": "2022-06-14T21:48:05.768Z"
   },
   {
    "duration": 49,
    "start_time": "2022-06-14T21:48:05.841Z"
   },
   {
    "duration": 1212,
    "start_time": "2022-06-14T21:48:05.892Z"
   },
   {
    "duration": 26,
    "start_time": "2022-06-14T21:48:07.106Z"
   },
   {
    "duration": 74,
    "start_time": "2022-06-14T21:48:07.134Z"
   },
   {
    "duration": 3,
    "start_time": "2022-06-14T21:48:07.210Z"
   },
   {
    "duration": 885,
    "start_time": "2022-06-14T21:48:07.214Z"
   },
   {
    "duration": 226,
    "start_time": "2022-06-14T21:48:08.101Z"
   },
   {
    "duration": 330,
    "start_time": "2022-06-14T21:48:08.329Z"
   },
   {
    "duration": 4,
    "start_time": "2022-06-14T21:48:08.661Z"
   },
   {
    "duration": 12,
    "start_time": "2022-06-14T21:48:08.666Z"
   },
   {
    "duration": 31604,
    "start_time": "2022-06-14T21:48:08.680Z"
   },
   {
    "duration": 392,
    "start_time": "2022-06-14T21:48:40.286Z"
   },
   {
    "duration": 6,
    "start_time": "2022-06-14T21:48:40.680Z"
   },
   {
    "duration": 98,
    "start_time": "2022-06-14T21:48:40.688Z"
   },
   {
    "duration": 10,
    "start_time": "2022-06-14T21:48:40.789Z"
   },
   {
    "duration": 1387659,
    "start_time": "2022-06-14T21:48:40.801Z"
   },
   {
    "duration": 2,
    "start_time": "2022-06-14T22:11:48.462Z"
   },
   {
    "duration": 13,
    "start_time": "2022-06-14T22:11:48.466Z"
   },
   {
    "duration": 19370,
    "start_time": "2022-06-14T22:11:48.483Z"
   },
   {
    "duration": 183,
    "start_time": "2022-06-14T22:12:07.855Z"
   },
   {
    "duration": 5,
    "start_time": "2022-06-14T22:12:08.039Z"
   },
   {
    "duration": 1789,
    "start_time": "2022-06-14T22:12:08.045Z"
   },
   {
    "duration": 12,
    "start_time": "2022-06-14T22:12:09.836Z"
   },
   {
    "duration": 0,
    "start_time": "2022-06-14T22:12:09.849Z"
   },
   {
    "duration": 0,
    "start_time": "2022-06-14T22:12:09.851Z"
   },
   {
    "duration": 0,
    "start_time": "2022-06-14T22:12:09.852Z"
   },
   {
    "duration": 9,
    "start_time": "2022-06-14T22:15:48.873Z"
   },
   {
    "duration": 35,
    "start_time": "2022-06-14T22:16:15.582Z"
   },
   {
    "duration": 59,
    "start_time": "2022-06-14T22:16:26.716Z"
   },
   {
    "duration": 3,
    "start_time": "2022-06-14T22:16:27.490Z"
   },
   {
    "duration": 6216,
    "start_time": "2022-06-14T22:16:28.874Z"
   },
   {
    "duration": 806,
    "start_time": "2022-06-14T22:16:35.091Z"
   },
   {
    "duration": 5,
    "start_time": "2022-06-14T22:16:35.898Z"
   },
   {
    "duration": 3,
    "start_time": "2022-06-14T22:16:49.488Z"
   },
   {
    "duration": 14417,
    "start_time": "2022-06-14T22:16:49.869Z"
   },
   {
    "duration": 1203,
    "start_time": "2022-06-14T22:17:04.288Z"
   },
   {
    "duration": 4,
    "start_time": "2022-06-14T22:17:05.493Z"
   },
   {
    "duration": 3,
    "start_time": "2022-06-14T22:17:35.987Z"
   },
   {
    "duration": 2,
    "start_time": "2022-06-14T22:19:19.957Z"
   },
   {
    "duration": 8969,
    "start_time": "2022-06-14T22:19:35.023Z"
   },
   {
    "duration": 1026,
    "start_time": "2022-06-14T22:19:45.261Z"
   },
   {
    "duration": 5,
    "start_time": "2022-06-14T22:19:58.264Z"
   },
   {
    "duration": 1778,
    "start_time": "2022-06-14T22:21:15.335Z"
   },
   {
    "duration": 3,
    "start_time": "2022-06-14T22:21:17.114Z"
   },
   {
    "duration": 3,
    "start_time": "2022-06-14T22:21:20.422Z"
   },
   {
    "duration": 16,
    "start_time": "2022-06-14T22:21:21.150Z"
   },
   {
    "duration": 34,
    "start_time": "2022-06-14T22:26:55.964Z"
   },
   {
    "duration": 1551,
    "start_time": "2022-06-15T03:32:41.038Z"
   },
   {
    "duration": 1089,
    "start_time": "2022-06-15T03:32:42.591Z"
   },
   {
    "duration": 19,
    "start_time": "2022-06-15T03:32:43.682Z"
   },
   {
    "duration": 116,
    "start_time": "2022-06-15T03:32:44.295Z"
   },
   {
    "duration": 22,
    "start_time": "2022-06-15T03:33:50.196Z"
   },
   {
    "duration": 4,
    "start_time": "2022-06-15T03:34:01.234Z"
   },
   {
    "duration": 66,
    "start_time": "2022-06-15T03:34:04.988Z"
   },
   {
    "duration": 79,
    "start_time": "2022-06-15T03:34:11.391Z"
   },
   {
    "duration": 73,
    "start_time": "2022-06-15T03:34:12.477Z"
   },
   {
    "duration": 48,
    "start_time": "2022-06-15T03:34:30.833Z"
   },
   {
    "duration": 95,
    "start_time": "2022-06-15T03:34:55.971Z"
   },
   {
    "duration": 83,
    "start_time": "2022-06-15T03:34:57.381Z"
   },
   {
    "duration": 957,
    "start_time": "2022-06-15T03:35:50.628Z"
   },
   {
    "duration": 213,
    "start_time": "2022-06-15T03:36:08.869Z"
   },
   {
    "duration": 347,
    "start_time": "2022-06-15T03:36:14.089Z"
   },
   {
    "duration": 32,
    "start_time": "2022-06-15T03:41:17.769Z"
   },
   {
    "duration": 1445,
    "start_time": "2022-06-16T21:19:06.323Z"
   },
   {
    "duration": 1029,
    "start_time": "2022-06-16T21:19:07.770Z"
   },
   {
    "duration": 17,
    "start_time": "2022-06-16T21:19:08.801Z"
   },
   {
    "duration": 152,
    "start_time": "2022-06-16T21:19:08.819Z"
   },
   {
    "duration": 643,
    "start_time": "2022-06-16T21:19:08.974Z"
   },
   {
    "duration": 23,
    "start_time": "2022-06-16T21:19:09.619Z"
   },
   {
    "duration": 20,
    "start_time": "2022-06-16T21:19:09.643Z"
   },
   {
    "duration": 4,
    "start_time": "2022-06-16T21:19:09.664Z"
   },
   {
    "duration": 98,
    "start_time": "2022-06-16T21:19:09.669Z"
   },
   {
    "duration": 83,
    "start_time": "2022-06-16T21:19:09.768Z"
   },
   {
    "duration": 80,
    "start_time": "2022-06-16T21:19:09.853Z"
   },
   {
    "duration": 44,
    "start_time": "2022-06-16T21:19:09.935Z"
   },
   {
    "duration": 1271,
    "start_time": "2022-06-16T21:19:09.994Z"
   },
   {
    "duration": 42,
    "start_time": "2022-06-16T21:19:11.268Z"
   },
   {
    "duration": 92,
    "start_time": "2022-06-16T21:19:11.312Z"
   },
   {
    "duration": 774,
    "start_time": "2022-06-16T21:19:11.406Z"
   },
   {
    "duration": 223,
    "start_time": "2022-06-16T21:19:12.182Z"
   },
   {
    "duration": 343,
    "start_time": "2022-06-16T21:19:12.407Z"
   },
   {
    "duration": 3,
    "start_time": "2022-06-16T21:19:12.752Z"
   },
   {
    "duration": 6,
    "start_time": "2022-06-16T21:19:12.757Z"
   },
   {
    "duration": 26240,
    "start_time": "2022-06-16T21:19:12.764Z"
   },
   {
    "duration": 389,
    "start_time": "2022-06-16T21:19:39.007Z"
   },
   {
    "duration": 97,
    "start_time": "2022-06-16T21:19:39.399Z"
   },
   {
    "duration": 3,
    "start_time": "2022-06-16T21:19:39.497Z"
   },
   {
    "duration": 7,
    "start_time": "2022-06-16T21:19:39.501Z"
   },
   {
    "duration": 0,
    "start_time": "2022-06-16T21:44:49.843Z"
   },
   {
    "duration": 0,
    "start_time": "2022-06-16T21:44:49.844Z"
   },
   {
    "duration": 0,
    "start_time": "2022-06-16T21:44:49.845Z"
   },
   {
    "duration": 0,
    "start_time": "2022-06-16T21:44:49.846Z"
   },
   {
    "duration": 0,
    "start_time": "2022-06-16T21:44:49.847Z"
   },
   {
    "duration": 0,
    "start_time": "2022-06-16T21:44:49.848Z"
   },
   {
    "duration": 0,
    "start_time": "2022-06-16T21:44:49.849Z"
   },
   {
    "duration": 0,
    "start_time": "2022-06-16T21:44:49.850Z"
   },
   {
    "duration": 0,
    "start_time": "2022-06-16T21:44:49.851Z"
   },
   {
    "duration": 0,
    "start_time": "2022-06-16T21:44:49.852Z"
   },
   {
    "duration": 0,
    "start_time": "2022-06-16T21:44:49.853Z"
   },
   {
    "duration": 0,
    "start_time": "2022-06-16T21:44:49.854Z"
   },
   {
    "duration": 0,
    "start_time": "2022-06-16T21:44:49.855Z"
   },
   {
    "duration": 0,
    "start_time": "2022-06-16T21:44:49.856Z"
   },
   {
    "duration": 0,
    "start_time": "2022-06-16T21:44:49.856Z"
   },
   {
    "duration": 0,
    "start_time": "2022-06-16T21:44:49.857Z"
   },
   {
    "duration": 0,
    "start_time": "2022-06-16T21:44:49.894Z"
   },
   {
    "duration": 0,
    "start_time": "2022-06-16T21:44:49.896Z"
   },
   {
    "duration": 3,
    "start_time": "2022-06-16T21:44:55.708Z"
   },
   {
    "duration": 732,
    "start_time": "2022-06-16T21:44:56.991Z"
   },
   {
    "duration": 14,
    "start_time": "2022-06-16T21:44:57.724Z"
   },
   {
    "duration": 153,
    "start_time": "2022-06-16T21:44:58.810Z"
   },
   {
    "duration": 558,
    "start_time": "2022-06-16T21:45:00.936Z"
   },
   {
    "duration": 29,
    "start_time": "2022-06-16T21:45:02.817Z"
   },
   {
    "duration": 17,
    "start_time": "2022-06-16T21:45:04.153Z"
   },
   {
    "duration": 28,
    "start_time": "2022-06-16T21:45:12.253Z"
   },
   {
    "duration": 3,
    "start_time": "2022-06-16T21:45:38.798Z"
   },
   {
    "duration": 759,
    "start_time": "2022-06-16T21:45:39.599Z"
   },
   {
    "duration": 14,
    "start_time": "2022-06-16T21:45:40.360Z"
   },
   {
    "duration": 125,
    "start_time": "2022-06-16T21:45:46.592Z"
   },
   {
    "duration": 538,
    "start_time": "2022-06-16T21:45:54.447Z"
   },
   {
    "duration": 27,
    "start_time": "2022-06-16T21:45:58.639Z"
   },
   {
    "duration": 30,
    "start_time": "2022-06-16T21:46:08.408Z"
   },
   {
    "duration": 359,
    "start_time": "2022-06-16T21:46:20.113Z"
   },
   {
    "duration": 353,
    "start_time": "2022-06-16T21:46:59.729Z"
   },
   {
    "duration": 28,
    "start_time": "2022-06-16T21:47:16.308Z"
   },
   {
    "duration": 164,
    "start_time": "2022-06-16T21:48:08.491Z"
   },
   {
    "duration": 12,
    "start_time": "2022-06-16T21:48:20.233Z"
   },
   {
    "duration": 8,
    "start_time": "2022-06-16T21:48:32.723Z"
   },
   {
    "duration": 4,
    "start_time": "2022-06-16T21:48:47.663Z"
   },
   {
    "duration": 4,
    "start_time": "2022-06-16T21:48:52.567Z"
   },
   {
    "duration": 28,
    "start_time": "2022-06-16T21:49:00.521Z"
   },
   {
    "duration": 5,
    "start_time": "2022-06-16T21:49:13.462Z"
   },
   {
    "duration": 3,
    "start_time": "2022-06-16T21:55:30.830Z"
   },
   {
    "duration": 825,
    "start_time": "2022-06-16T21:55:30.835Z"
   },
   {
    "duration": 14,
    "start_time": "2022-06-16T21:55:31.662Z"
   },
   {
    "duration": 134,
    "start_time": "2022-06-16T21:55:31.677Z"
   },
   {
    "duration": 627,
    "start_time": "2022-06-16T21:55:31.813Z"
   },
   {
    "duration": 34,
    "start_time": "2022-06-16T21:55:32.442Z"
   },
   {
    "duration": 45,
    "start_time": "2022-06-16T21:55:32.478Z"
   },
   {
    "duration": 0,
    "start_time": "2022-06-16T21:55:32.524Z"
   },
   {
    "duration": 0,
    "start_time": "2022-06-16T21:55:32.526Z"
   },
   {
    "duration": 0,
    "start_time": "2022-06-16T21:55:32.527Z"
   },
   {
    "duration": 0,
    "start_time": "2022-06-16T21:55:32.528Z"
   },
   {
    "duration": 0,
    "start_time": "2022-06-16T21:55:32.530Z"
   },
   {
    "duration": 0,
    "start_time": "2022-06-16T21:55:32.531Z"
   },
   {
    "duration": 0,
    "start_time": "2022-06-16T21:55:32.532Z"
   },
   {
    "duration": 0,
    "start_time": "2022-06-16T21:55:32.533Z"
   },
   {
    "duration": 0,
    "start_time": "2022-06-16T21:55:32.534Z"
   },
   {
    "duration": 0,
    "start_time": "2022-06-16T21:55:32.534Z"
   },
   {
    "duration": 0,
    "start_time": "2022-06-16T21:55:32.535Z"
   },
   {
    "duration": 0,
    "start_time": "2022-06-16T21:55:32.537Z"
   },
   {
    "duration": 0,
    "start_time": "2022-06-16T21:55:32.538Z"
   },
   {
    "duration": 31,
    "start_time": "2022-06-16T21:57:36.275Z"
   },
   {
    "duration": 423,
    "start_time": "2022-06-16T22:04:37.941Z"
   },
   {
    "duration": 9,
    "start_time": "2022-06-16T22:04:48.830Z"
   },
   {
    "duration": 10,
    "start_time": "2022-06-16T22:05:08.224Z"
   },
   {
    "duration": 11,
    "start_time": "2022-06-16T22:05:13.368Z"
   },
   {
    "duration": 10,
    "start_time": "2022-06-16T22:05:22.488Z"
   },
   {
    "duration": 3,
    "start_time": "2022-06-16T22:07:55.502Z"
   },
   {
    "duration": 811,
    "start_time": "2022-06-16T22:07:55.507Z"
   },
   {
    "duration": 14,
    "start_time": "2022-06-16T22:07:56.320Z"
   },
   {
    "duration": 139,
    "start_time": "2022-06-16T22:07:56.336Z"
   },
   {
    "duration": 557,
    "start_time": "2022-06-16T22:07:56.477Z"
   },
   {
    "duration": 32,
    "start_time": "2022-06-16T22:07:57.036Z"
   },
   {
    "duration": 50,
    "start_time": "2022-06-16T22:07:57.069Z"
   },
   {
    "duration": 18,
    "start_time": "2022-06-16T22:07:57.121Z"
   },
   {
    "duration": 3,
    "start_time": "2022-06-16T22:07:57.141Z"
   },
   {
    "duration": 112,
    "start_time": "2022-06-16T22:07:57.146Z"
   },
   {
    "duration": 92,
    "start_time": "2022-06-16T22:07:57.260Z"
   },
   {
    "duration": 81,
    "start_time": "2022-06-16T22:07:57.353Z"
   },
   {
    "duration": 64,
    "start_time": "2022-06-16T22:07:57.438Z"
   },
   {
    "duration": 1298,
    "start_time": "2022-06-16T22:07:57.504Z"
   },
   {
    "duration": 30,
    "start_time": "2022-06-16T22:07:58.804Z"
   },
   {
    "duration": 11,
    "start_time": "2022-06-16T22:07:58.835Z"
   },
   {
    "duration": 16,
    "start_time": "2022-06-16T22:07:58.853Z"
   },
   {
    "duration": 19,
    "start_time": "2022-06-16T22:08:29.115Z"
   },
   {
    "duration": 20,
    "start_time": "2022-06-16T22:08:55.251Z"
   },
   {
    "duration": 66,
    "start_time": "2022-06-16T22:08:57.161Z"
   },
   {
    "duration": 30,
    "start_time": "2022-06-16T22:09:06.344Z"
   },
   {
    "duration": 65,
    "start_time": "2022-06-16T22:09:07.484Z"
   },
   {
    "duration": 22,
    "start_time": "2022-06-16T22:09:15.540Z"
   },
   {
    "duration": 68,
    "start_time": "2022-06-16T22:09:20.404Z"
   },
   {
    "duration": 542,
    "start_time": "2022-06-16T22:12:46.147Z"
   },
   {
    "duration": 180,
    "start_time": "2022-06-16T22:12:48.797Z"
   },
   {
    "duration": 325,
    "start_time": "2022-06-16T22:12:51.612Z"
   },
   {
    "duration": 10,
    "start_time": "2022-06-16T22:12:55.516Z"
   },
   {
    "duration": 332,
    "start_time": "2022-06-16T22:13:25.084Z"
   },
   {
    "duration": 4,
    "start_time": "2022-06-16T22:13:28.164Z"
   },
   {
    "duration": 3,
    "start_time": "2022-06-16T22:13:32.770Z"
   },
   {
    "duration": 2,
    "start_time": "2022-06-16T22:13:33.317Z"
   },
   {
    "duration": 13989,
    "start_time": "2022-06-16T22:13:34.106Z"
   },
   {
    "duration": 141,
    "start_time": "2022-06-16T22:13:54.764Z"
   },
   {
    "duration": 5,
    "start_time": "2022-06-16T22:13:56.372Z"
   },
   {
    "duration": 3,
    "start_time": "2022-06-16T22:14:50.116Z"
   },
   {
    "duration": 3,
    "start_time": "2022-06-16T22:14:52.888Z"
   },
   {
    "duration": 12,
    "start_time": "2022-06-16T22:41:08.996Z"
   },
   {
    "duration": 3,
    "start_time": "2022-06-16T22:45:20.924Z"
   },
   {
    "duration": 2,
    "start_time": "2022-06-16T22:46:29.731Z"
   },
   {
    "duration": 146,
    "start_time": "2022-06-16T22:46:30.173Z"
   },
   {
    "duration": 103,
    "start_time": "2022-06-16T22:46:31.774Z"
   },
   {
    "duration": 335,
    "start_time": "2022-06-16T22:46:32.806Z"
   },
   {
    "duration": 3,
    "start_time": "2022-06-16T22:46:35.543Z"
   },
   {
    "duration": 2,
    "start_time": "2022-06-16T22:46:36.246Z"
   },
   {
    "duration": 14298,
    "start_time": "2022-06-16T22:46:36.899Z"
   },
   {
    "duration": 143,
    "start_time": "2022-06-16T22:46:54.856Z"
   },
   {
    "duration": 11,
    "start_time": "2022-06-16T22:46:57.406Z"
   },
   {
    "duration": 4,
    "start_time": "2022-06-16T22:54:59.968Z"
   },
   {
    "duration": 859,
    "start_time": "2022-06-16T22:54:59.975Z"
   },
   {
    "duration": 14,
    "start_time": "2022-06-16T22:55:00.836Z"
   },
   {
    "duration": 145,
    "start_time": "2022-06-16T22:55:00.851Z"
   },
   {
    "duration": 586,
    "start_time": "2022-06-16T22:55:00.998Z"
   },
   {
    "duration": 27,
    "start_time": "2022-06-16T22:55:01.586Z"
   },
   {
    "duration": 32,
    "start_time": "2022-06-16T22:55:01.615Z"
   },
   {
    "duration": 24,
    "start_time": "2022-06-16T22:55:01.649Z"
   },
   {
    "duration": 20,
    "start_time": "2022-06-16T22:55:01.675Z"
   },
   {
    "duration": 79,
    "start_time": "2022-06-16T22:55:01.697Z"
   },
   {
    "duration": 83,
    "start_time": "2022-06-16T22:55:01.794Z"
   },
   {
    "duration": 90,
    "start_time": "2022-06-16T22:55:01.879Z"
   },
   {
    "duration": 51,
    "start_time": "2022-06-16T22:55:01.972Z"
   },
   {
    "duration": 1328,
    "start_time": "2022-06-16T22:55:02.025Z"
   },
   {
    "duration": 42,
    "start_time": "2022-06-16T22:55:03.356Z"
   },
   {
    "duration": 11,
    "start_time": "2022-06-16T22:55:03.400Z"
   },
   {
    "duration": 22,
    "start_time": "2022-06-16T22:55:03.413Z"
   },
   {
    "duration": 97,
    "start_time": "2022-06-16T22:55:03.437Z"
   },
   {
    "duration": 3,
    "start_time": "2022-06-16T22:55:03.536Z"
   },
   {
    "duration": 555,
    "start_time": "2022-06-16T22:55:03.541Z"
   },
   {
    "duration": 184,
    "start_time": "2022-06-16T22:55:04.097Z"
   },
   {
    "duration": 333,
    "start_time": "2022-06-16T22:55:04.283Z"
   },
   {
    "duration": 4,
    "start_time": "2022-06-16T22:55:04.618Z"
   },
   {
    "duration": 4,
    "start_time": "2022-06-16T22:55:04.624Z"
   },
   {
    "duration": 13965,
    "start_time": "2022-06-16T22:55:04.630Z"
   },
   {
    "duration": 202,
    "start_time": "2022-06-16T22:55:18.597Z"
   },
   {
    "duration": 95,
    "start_time": "2022-06-16T22:55:18.801Z"
   },
   {
    "duration": 96,
    "start_time": "2022-06-16T22:55:18.899Z"
   },
   {
    "duration": 6,
    "start_time": "2022-06-16T22:55:18.997Z"
   },
   {
    "duration": 821542,
    "start_time": "2022-06-16T22:55:19.005Z"
   },
   {
    "duration": 3,
    "start_time": "2022-06-16T23:09:00.549Z"
   },
   {
    "duration": 8,
    "start_time": "2022-06-16T23:09:00.553Z"
   },
   {
    "duration": 33,
    "start_time": "2022-06-16T23:09:00.562Z"
   },
   {
    "duration": 40,
    "start_time": "2022-06-16T23:09:00.596Z"
   },
   {
    "duration": 5,
    "start_time": "2022-06-16T23:09:00.638Z"
   },
   {
    "duration": 10,
    "start_time": "2022-06-16T23:09:00.644Z"
   },
   {
    "duration": 12,
    "start_time": "2022-06-16T23:09:00.658Z"
   },
   {
    "duration": 9130,
    "start_time": "2022-06-16T23:09:00.671Z"
   },
   {
    "duration": 804,
    "start_time": "2022-06-16T23:09:09.803Z"
   },
   {
    "duration": 5,
    "start_time": "2022-06-16T23:09:10.609Z"
   },
   {
    "duration": 7,
    "start_time": "2022-06-16T23:09:10.615Z"
   },
   {
    "duration": 7788,
    "start_time": "2022-06-16T23:09:10.624Z"
   },
   {
    "duration": 710,
    "start_time": "2022-06-16T23:09:18.495Z"
   },
   {
    "duration": 5,
    "start_time": "2022-06-16T23:09:19.207Z"
   },
   {
    "duration": 8619,
    "start_time": "2022-06-16T23:09:19.213Z"
   },
   {
    "duration": 3,
    "start_time": "2022-06-16T23:09:27.836Z"
   },
   {
    "duration": 4,
    "start_time": "2022-06-16T23:09:44.800Z"
   },
   {
    "duration": 8687,
    "start_time": "2022-06-16T23:09:47.094Z"
   },
   {
    "duration": 115,
    "start_time": "2022-06-16T23:09:58.656Z"
   },
   {
    "duration": 5,
    "start_time": "2022-06-16T23:10:01.181Z"
   },
   {
    "duration": 2,
    "start_time": "2022-06-16T23:10:06.440Z"
   },
   {
    "duration": 3,
    "start_time": "2022-06-16T23:10:07.215Z"
   },
   {
    "duration": 10007,
    "start_time": "2022-06-16T23:10:08.193Z"
   },
   {
    "duration": 760,
    "start_time": "2022-06-16T23:10:20.146Z"
   },
   {
    "duration": 5,
    "start_time": "2022-06-16T23:10:23.228Z"
   },
   {
    "duration": 5,
    "start_time": "2022-06-16T23:10:27.598Z"
   },
   {
    "duration": 3,
    "start_time": "2022-06-16T23:10:31.156Z"
   },
   {
    "duration": 7729,
    "start_time": "2022-06-16T23:10:31.783Z"
   },
   {
    "duration": 790,
    "start_time": "2022-06-16T23:10:39.514Z"
   },
   {
    "duration": 5,
    "start_time": "2022-06-16T23:10:40.305Z"
   },
   {
    "duration": 9847,
    "start_time": "2022-06-16T23:10:55.762Z"
   },
   {
    "duration": 10,
    "start_time": "2022-06-16T23:16:26.563Z"
   },
   {
    "duration": 2,
    "start_time": "2022-06-16T23:16:31.233Z"
   },
   {
    "duration": 3,
    "start_time": "2022-06-16T23:16:34.754Z"
   },
   {
    "duration": 4,
    "start_time": "2022-06-16T23:16:50.586Z"
   },
   {
    "duration": 4,
    "start_time": "2022-06-16T23:17:01.017Z"
   },
   {
    "duration": 3,
    "start_time": "2022-06-16T23:17:09.462Z"
   },
   {
    "duration": 2,
    "start_time": "2022-06-16T23:17:27.854Z"
   },
   {
    "duration": 4,
    "start_time": "2022-06-16T23:17:36.832Z"
   },
   {
    "duration": 2,
    "start_time": "2022-06-16T23:18:24.184Z"
   },
   {
    "duration": 3,
    "start_time": "2022-06-16T23:19:30.914Z"
   },
   {
    "duration": 23,
    "start_time": "2022-06-16T23:19:34.664Z"
   },
   {
    "duration": 14197,
    "start_time": "2022-06-16T23:19:41.919Z"
   },
   {
    "duration": 15243,
    "start_time": "2022-06-16T23:20:04.061Z"
   },
   {
    "duration": 3,
    "start_time": "2022-06-16T23:24:22.431Z"
   },
   {
    "duration": 27,
    "start_time": "2022-06-16T23:29:24.820Z"
   },
   {
    "duration": 28,
    "start_time": "2022-06-16T23:29:36.165Z"
   },
   {
    "duration": 20,
    "start_time": "2022-06-16T23:29:53.263Z"
   },
   {
    "duration": 20,
    "start_time": "2022-06-16T23:30:10.296Z"
   },
   {
    "duration": 6,
    "start_time": "2022-06-16T23:30:34.197Z"
   },
   {
    "duration": 3,
    "start_time": "2022-06-16T23:30:48.168Z"
   },
   {
    "duration": 143,
    "start_time": "2022-06-16T23:30:48.697Z"
   },
   {
    "duration": 100,
    "start_time": "2022-06-16T23:30:50.506Z"
   },
   {
    "duration": 319,
    "start_time": "2022-06-16T23:30:52.604Z"
   },
   {
    "duration": 3,
    "start_time": "2022-06-16T23:30:55.292Z"
   },
   {
    "duration": 2,
    "start_time": "2022-06-16T23:30:55.999Z"
   },
   {
    "duration": 18398,
    "start_time": "2022-06-16T23:30:58.198Z"
   },
   {
    "duration": 296,
    "start_time": "2022-06-16T23:31:16.598Z"
   },
   {
    "duration": 97,
    "start_time": "2022-06-16T23:31:16.898Z"
   },
   {
    "duration": 3,
    "start_time": "2022-06-16T23:31:27.619Z"
   },
   {
    "duration": 8659,
    "start_time": "2022-06-16T23:31:29.021Z"
   },
   {
    "duration": 132,
    "start_time": "2022-06-16T23:31:37.682Z"
   },
   {
    "duration": 5,
    "start_time": "2022-06-16T23:31:37.817Z"
   },
   {
    "duration": 3,
    "start_time": "2022-06-16T23:31:41.486Z"
   },
   {
    "duration": 4,
    "start_time": "2022-06-16T23:31:42.156Z"
   },
   {
    "duration": 9078,
    "start_time": "2022-06-16T23:31:42.720Z"
   },
   {
    "duration": 804,
    "start_time": "2022-06-16T23:31:51.800Z"
   },
   {
    "duration": 5,
    "start_time": "2022-06-16T23:31:52.606Z"
   },
   {
    "duration": 7,
    "start_time": "2022-06-16T23:32:01.136Z"
   },
   {
    "duration": 3,
    "start_time": "2022-06-16T23:32:16.462Z"
   },
   {
    "duration": 10,
    "start_time": "2022-06-16T23:32:24.436Z"
   },
   {
    "duration": 4,
    "start_time": "2022-06-16T23:33:05.229Z"
   },
   {
    "duration": 11,
    "start_time": "2022-06-16T23:33:06.212Z"
   },
   {
    "duration": 4,
    "start_time": "2022-06-16T23:36:00.731Z"
   },
   {
    "duration": 11,
    "start_time": "2022-06-16T23:36:02.542Z"
   },
   {
    "duration": 5,
    "start_time": "2022-06-16T23:36:50.671Z"
   },
   {
    "duration": 11,
    "start_time": "2022-06-16T23:36:51.229Z"
   },
   {
    "duration": 29,
    "start_time": "2022-06-16T23:39:30.497Z"
   },
   {
    "duration": 3,
    "start_time": "2022-06-16T23:40:24.401Z"
   },
   {
    "duration": 714,
    "start_time": "2022-06-16T23:40:24.406Z"
   },
   {
    "duration": 13,
    "start_time": "2022-06-16T23:40:25.122Z"
   },
   {
    "duration": 148,
    "start_time": "2022-06-16T23:40:25.138Z"
   },
   {
    "duration": 553,
    "start_time": "2022-06-16T23:40:25.288Z"
   },
   {
    "duration": 28,
    "start_time": "2022-06-16T23:40:25.842Z"
   },
   {
    "duration": 46,
    "start_time": "2022-06-16T23:40:25.872Z"
   },
   {
    "duration": 20,
    "start_time": "2022-06-16T23:40:25.920Z"
   },
   {
    "duration": 4,
    "start_time": "2022-06-16T23:40:25.943Z"
   },
   {
    "duration": 95,
    "start_time": "2022-06-16T23:40:25.948Z"
   },
   {
    "duration": 95,
    "start_time": "2022-06-16T23:40:26.045Z"
   },
   {
    "duration": 83,
    "start_time": "2022-06-16T23:40:26.142Z"
   },
   {
    "duration": 43,
    "start_time": "2022-06-16T23:40:26.227Z"
   },
   {
    "duration": 1284,
    "start_time": "2022-06-16T23:40:26.271Z"
   },
   {
    "duration": 38,
    "start_time": "2022-06-16T23:40:27.556Z"
   },
   {
    "duration": 8,
    "start_time": "2022-06-16T23:40:27.596Z"
   },
   {
    "duration": 20,
    "start_time": "2022-06-16T23:40:27.606Z"
   },
   {
    "duration": 86,
    "start_time": "2022-06-16T23:40:27.628Z"
   },
   {
    "duration": 3,
    "start_time": "2022-06-16T23:40:27.715Z"
   },
   {
    "duration": 560,
    "start_time": "2022-06-16T23:40:27.719Z"
   },
   {
    "duration": 177,
    "start_time": "2022-06-16T23:40:28.281Z"
   },
   {
    "duration": 316,
    "start_time": "2022-06-16T23:40:28.460Z"
   },
   {
    "duration": 3,
    "start_time": "2022-06-16T23:40:28.778Z"
   },
   {
    "duration": 2,
    "start_time": "2022-06-16T23:40:28.795Z"
   },
   {
    "duration": 14597,
    "start_time": "2022-06-16T23:40:28.799Z"
   },
   {
    "duration": 200,
    "start_time": "2022-06-16T23:40:43.398Z"
   },
   {
    "duration": 96,
    "start_time": "2022-06-16T23:40:43.600Z"
   },
   {
    "duration": 9,
    "start_time": "2022-06-16T23:40:43.702Z"
   },
   {
    "duration": 5,
    "start_time": "2022-06-16T23:40:43.713Z"
   },
   {
    "duration": 1347,
    "start_time": "2022-06-16T23:51:00.879Z"
   },
   {
    "duration": 806,
    "start_time": "2022-06-16T23:51:02.228Z"
   },
   {
    "duration": 20,
    "start_time": "2022-06-16T23:51:03.036Z"
   },
   {
    "duration": 150,
    "start_time": "2022-06-16T23:51:03.057Z"
   },
   {
    "duration": 577,
    "start_time": "2022-06-16T23:51:03.209Z"
   },
   {
    "duration": 28,
    "start_time": "2022-06-16T23:51:03.793Z"
   },
   {
    "duration": 40,
    "start_time": "2022-06-16T23:51:03.822Z"
   },
   {
    "duration": 32,
    "start_time": "2022-06-16T23:51:03.864Z"
   },
   {
    "duration": 12,
    "start_time": "2022-06-16T23:51:03.898Z"
   },
   {
    "duration": 93,
    "start_time": "2022-06-16T23:51:03.912Z"
   },
   {
    "duration": 99,
    "start_time": "2022-06-16T23:51:04.007Z"
   },
   {
    "duration": 87,
    "start_time": "2022-06-16T23:51:04.108Z"
   },
   {
    "duration": 48,
    "start_time": "2022-06-16T23:51:04.196Z"
   },
   {
    "duration": 1359,
    "start_time": "2022-06-16T23:51:04.247Z"
   },
   {
    "duration": 36,
    "start_time": "2022-06-16T23:51:05.608Z"
   },
   {
    "duration": 9,
    "start_time": "2022-06-16T23:51:05.646Z"
   },
   {
    "duration": 6,
    "start_time": "2022-06-16T23:51:05.656Z"
   },
   {
    "duration": 45,
    "start_time": "2022-06-16T23:51:05.663Z"
   },
   {
    "duration": 72,
    "start_time": "2022-06-16T23:51:05.710Z"
   },
   {
    "duration": 11,
    "start_time": "2022-06-16T23:51:05.784Z"
   },
   {
    "duration": 586,
    "start_time": "2022-06-16T23:51:05.796Z"
   },
   {
    "duration": 178,
    "start_time": "2022-06-16T23:51:06.384Z"
   },
   {
    "duration": 334,
    "start_time": "2022-06-16T23:51:06.564Z"
   },
   {
    "duration": 4,
    "start_time": "2022-06-16T23:51:06.900Z"
   },
   {
    "duration": 11,
    "start_time": "2022-06-16T23:51:06.906Z"
   },
   {
    "duration": 14077,
    "start_time": "2022-06-16T23:51:06.919Z"
   },
   {
    "duration": 204,
    "start_time": "2022-06-16T23:51:20.998Z"
   },
   {
    "duration": 9,
    "start_time": "2022-06-16T23:51:21.295Z"
   },
   {
    "duration": 3,
    "start_time": "2022-06-16T23:51:21.395Z"
   },
   {
    "duration": 6,
    "start_time": "2022-06-16T23:51:21.400Z"
   },
   {
    "duration": 821648,
    "start_time": "2022-06-16T23:51:21.407Z"
   },
   {
    "duration": 3,
    "start_time": "2022-06-17T00:05:03.057Z"
   },
   {
    "duration": 11,
    "start_time": "2022-06-17T00:05:03.061Z"
   },
   {
    "duration": 8698,
    "start_time": "2022-06-17T00:05:03.074Z"
   },
   {
    "duration": 123,
    "start_time": "2022-06-17T00:05:11.774Z"
   },
   {
    "duration": 5,
    "start_time": "2022-06-17T00:05:11.899Z"
   },
   {
    "duration": 55,
    "start_time": "2022-06-17T00:05:11.906Z"
   },
   {
    "duration": 3,
    "start_time": "2022-06-17T00:05:11.963Z"
   },
   {
    "duration": 8540,
    "start_time": "2022-06-17T00:05:11.968Z"
   },
   {
    "duration": 885,
    "start_time": "2022-06-17T00:05:20.509Z"
   },
   {
    "duration": 5,
    "start_time": "2022-06-17T00:05:21.398Z"
   },
   {
    "duration": 7,
    "start_time": "2022-06-17T00:05:21.405Z"
   },
   {
    "duration": 6493,
    "start_time": "2022-06-17T00:05:21.413Z"
   },
   {
    "duration": 706,
    "start_time": "2022-06-17T00:05:27.908Z"
   },
   {
    "duration": 79,
    "start_time": "2022-06-17T00:05:28.616Z"
   },
   {
    "duration": 4,
    "start_time": "2022-06-17T00:05:28.697Z"
   },
   {
    "duration": 15,
    "start_time": "2022-06-17T00:05:28.703Z"
   },
   {
    "duration": 9786,
    "start_time": "2022-06-17T00:05:28.720Z"
   },
   {
    "duration": 7,
    "start_time": "2022-06-17T00:06:25.063Z"
   },
   {
    "duration": 3,
    "start_time": "2022-06-17T00:06:36.464Z"
   },
   {
    "duration": 742,
    "start_time": "2022-06-17T00:06:36.469Z"
   },
   {
    "duration": 14,
    "start_time": "2022-06-17T00:06:37.213Z"
   },
   {
    "duration": 131,
    "start_time": "2022-06-17T00:06:37.229Z"
   },
   {
    "duration": 532,
    "start_time": "2022-06-17T00:06:37.362Z"
   },
   {
    "duration": 27,
    "start_time": "2022-06-17T00:06:37.896Z"
   },
   {
    "duration": 30,
    "start_time": "2022-06-17T00:06:37.925Z"
   },
   {
    "duration": 37,
    "start_time": "2022-06-17T00:06:37.957Z"
   },
   {
    "duration": 4,
    "start_time": "2022-06-17T00:06:37.996Z"
   },
   {
    "duration": 78,
    "start_time": "2022-06-17T00:06:38.002Z"
   },
   {
    "duration": 83,
    "start_time": "2022-06-17T00:06:38.095Z"
   },
   {
    "duration": 92,
    "start_time": "2022-06-17T00:06:38.180Z"
   },
   {
    "duration": 53,
    "start_time": "2022-06-17T00:06:38.275Z"
   },
   {
    "duration": 1324,
    "start_time": "2022-06-17T00:06:38.330Z"
   },
   {
    "duration": 42,
    "start_time": "2022-06-17T07:53:55.555Z"
   },
   {
    "duration": 1402,
    "start_time": "2022-06-17T07:54:54.076Z"
   },
   {
    "duration": 2757,
    "start_time": "2022-06-17T07:54:55.480Z"
   },
   {
    "duration": 16,
    "start_time": "2022-06-17T07:54:58.238Z"
   },
   {
    "duration": 101,
    "start_time": "2022-06-17T07:54:58.256Z"
   },
   {
    "duration": 591,
    "start_time": "2022-06-17T07:54:58.359Z"
   },
   {
    "duration": 21,
    "start_time": "2022-06-17T07:54:58.951Z"
   },
   {
    "duration": 28,
    "start_time": "2022-06-17T07:54:58.973Z"
   },
   {
    "duration": 33,
    "start_time": "2022-06-17T07:54:59.003Z"
   },
   {
    "duration": 3,
    "start_time": "2022-06-17T07:54:59.038Z"
   },
   {
    "duration": 66,
    "start_time": "2022-06-17T07:54:59.043Z"
   },
   {
    "duration": 79,
    "start_time": "2022-06-17T07:54:59.110Z"
   },
   {
    "duration": 65,
    "start_time": "2022-06-17T07:54:59.191Z"
   },
   {
    "duration": 37,
    "start_time": "2022-06-17T07:54:59.258Z"
   },
   {
    "duration": 1056,
    "start_time": "2022-06-17T07:54:59.298Z"
   },
   {
    "duration": 8,
    "start_time": "2022-06-17T07:55:00.356Z"
   },
   {
    "duration": 39,
    "start_time": "2022-06-17T07:55:00.366Z"
   },
   {
    "duration": 21,
    "start_time": "2022-06-17T07:55:00.407Z"
   },
   {
    "duration": 21,
    "start_time": "2022-06-17T07:55:00.429Z"
   },
   {
    "duration": 52,
    "start_time": "2022-06-17T07:55:00.452Z"
   },
   {
    "duration": 3,
    "start_time": "2022-06-17T07:55:00.526Z"
   },
   {
    "duration": 557,
    "start_time": "2022-06-17T07:55:00.531Z"
   },
   {
    "duration": 169,
    "start_time": "2022-06-17T07:55:01.090Z"
   },
   {
    "duration": 334,
    "start_time": "2022-06-17T07:55:01.261Z"
   },
   {
    "duration": 3,
    "start_time": "2022-06-17T07:55:01.597Z"
   },
   {
    "duration": 9,
    "start_time": "2022-06-17T07:55:01.601Z"
   },
   {
    "duration": 13623,
    "start_time": "2022-06-17T07:55:01.611Z"
   },
   {
    "duration": 202,
    "start_time": "2022-06-17T07:55:15.326Z"
   },
   {
    "duration": 96,
    "start_time": "2022-06-17T07:55:15.530Z"
   },
   {
    "duration": 23,
    "start_time": "2022-06-17T07:55:15.627Z"
   },
   {
    "duration": 26,
    "start_time": "2022-06-17T07:55:15.652Z"
   },
   {
    "duration": 778626,
    "start_time": "2022-06-17T07:55:15.680Z"
   },
   {
    "duration": 3,
    "start_time": "2022-06-17T08:08:14.308Z"
   },
   {
    "duration": 13,
    "start_time": "2022-06-17T08:08:14.312Z"
   },
   {
    "duration": 8309,
    "start_time": "2022-06-17T08:08:14.327Z"
   },
   {
    "duration": 127,
    "start_time": "2022-06-17T08:08:22.638Z"
   },
   {
    "duration": 5,
    "start_time": "2022-06-17T08:08:22.767Z"
   },
   {
    "duration": 102,
    "start_time": "2022-06-17T08:08:22.774Z"
   },
   {
    "duration": 3,
    "start_time": "2022-06-17T08:08:22.877Z"
   },
   {
    "duration": 9154,
    "start_time": "2022-06-17T08:08:22.883Z"
   },
   {
    "duration": 799,
    "start_time": "2022-06-17T08:08:32.039Z"
   },
   {
    "duration": 5,
    "start_time": "2022-06-17T08:08:32.842Z"
   },
   {
    "duration": 8,
    "start_time": "2022-06-17T08:08:32.848Z"
   },
   {
    "duration": 9083,
    "start_time": "2022-06-17T08:08:32.857Z"
   },
   {
    "duration": 701,
    "start_time": "2022-06-17T08:08:41.941Z"
   },
   {
    "duration": 4,
    "start_time": "2022-06-17T08:08:42.643Z"
   },
   {
    "duration": 76,
    "start_time": "2022-06-17T08:08:42.649Z"
   },
   {
    "duration": 10,
    "start_time": "2022-06-17T08:08:42.727Z"
   },
   {
    "duration": 9504,
    "start_time": "2022-06-17T08:08:42.738Z"
   },
   {
    "duration": 13407,
    "start_time": "2022-06-17T08:13:23.433Z"
   }
  ],
  "kernelspec": {
   "display_name": "Python 3 (ipykernel)",
   "language": "python",
   "name": "python3"
  },
  "language_info": {
   "codemirror_mode": {
    "name": "ipython",
    "version": 3
   },
   "file_extension": ".py",
   "mimetype": "text/x-python",
   "name": "python",
   "nbconvert_exporter": "python",
   "pygments_lexer": "ipython3",
   "version": "3.9.5"
  },
  "toc": {
   "base_numbering": 1,
   "nav_menu": {},
   "number_sections": true,
   "sideBar": true,
   "skip_h1_title": true,
   "title_cell": "Table of Contents",
   "title_sidebar": "Contents",
   "toc_cell": false,
   "toc_position": {},
   "toc_section_display": true,
   "toc_window_display": true
  }
 },
 "nbformat": 4,
 "nbformat_minor": 2
}
