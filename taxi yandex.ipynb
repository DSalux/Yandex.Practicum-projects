{
 "cells": [
  {
   "cell_type": "markdown",
   "metadata": {
    "toc": true
   },
   "source": [
    "<h1>Содержание<span class=\"tocSkip\"></span></h1>\n",
    "<div class=\"toc\"><ul class=\"toc-item\"><li><span><a href=\"#Подготовка\" data-toc-modified-id=\"Подготовка-1\"><span class=\"toc-item-num\">1&nbsp;&nbsp;</span>Подготовка</a></span></li><li><span><a href=\"#Анализ\" data-toc-modified-id=\"Анализ-2\"><span class=\"toc-item-num\">2&nbsp;&nbsp;</span>Анализ</a></span></li><li><span><a href=\"#Обучение\" data-toc-modified-id=\"Обучение-3\"><span class=\"toc-item-num\">3&nbsp;&nbsp;</span>Обучение</a></span><ul class=\"toc-item\"><li><span><a href=\"#LinearRegression\" data-toc-modified-id=\"LinearRegression-3.1\"><span class=\"toc-item-num\">3.1&nbsp;&nbsp;</span>LinearRegression</a></span></li><li><span><a href=\"#RandomForestRegressor\" data-toc-modified-id=\"RandomForestRegressor-3.2\"><span class=\"toc-item-num\">3.2&nbsp;&nbsp;</span>RandomForestRegressor</a></span></li><li><span><a href=\"#LGBMRegressor\" data-toc-modified-id=\"LGBMRegressor-3.3\"><span class=\"toc-item-num\">3.3&nbsp;&nbsp;</span>LGBMRegressor</a></span></li></ul></li><li><span><a href=\"#Тестирование\" data-toc-modified-id=\"Тестирование-4\"><span class=\"toc-item-num\">4&nbsp;&nbsp;</span>Тестирование</a></span></li><li><span><a href=\"#Вывод\" data-toc-modified-id=\"Вывод-5\"><span class=\"toc-item-num\">5&nbsp;&nbsp;</span>Вывод</a></span></li><li><span><a href=\"#Чек-лист-проверки\" data-toc-modified-id=\"Чек-лист-проверки-6\"><span class=\"toc-item-num\">6&nbsp;&nbsp;</span>Чек-лист проверки</a></span></li></ul></div>"
   ]
  },
  {
   "cell_type": "markdown",
   "metadata": {},
   "source": [
    "#  Прогнозирование заказов такси"
   ]
  },
  {
   "cell_type": "markdown",
   "metadata": {},
   "source": [
    "Компания «Чётенькое такси» собрала исторические данные о заказах такси в аэропортах. Чтобы привлекать больше водителей в период пиковой нагрузки, нужно спрогнозировать количество заказов такси на следующий час. Постройте модель для такого предсказания.\n",
    "\n",
    "Значение метрики *RMSE* на тестовой выборке должно быть не больше 48.\n",
    "\n",
    "Вам нужно:\n",
    "\n",
    "1. Загрузить данные и выполнить их ресемплирование по одному часу.\n",
    "2. Проанализировать данные.\n",
    "3. Обучить разные модели с различными гиперпараметрами. Сделать тестовую выборку размером 10% от исходных данных.\n",
    "4. Проверить данные на тестовой выборке и сделать выводы.\n",
    "\n",
    "\n",
    "Данные лежат в файле `taxi.csv`. Количество заказов находится в столбце `num_orders` (от англ. *number of orders*, «число заказов»)."
   ]
  },
  {
   "cell_type": "markdown",
   "metadata": {},
   "source": [
    "## Подготовка"
   ]
  },
  {
   "cell_type": "markdown",
   "metadata": {},
   "source": [
    "Загрузим наш датасет и импортируем все необходимые библиотеки"
   ]
  },
  {
   "cell_type": "code",
   "execution_count": 48,
   "metadata": {},
   "outputs": [],
   "source": [
    "import pandas as pd\n",
    "import numpy as np\n",
    "from sklearn.model_selection import train_test_split \n",
    "from statsmodels.tsa.seasonal import seasonal_decompose\n",
    "import matplotlib.pyplot as plt\n",
    "from sklearn.metrics import mean_squared_error\n",
    "import time as tm\n",
    "from sklearn.linear_model import LinearRegression\n",
    "from sklearn.ensemble import RandomForestRegressor\n",
    "from lightgbm import LGBMRegressor\n",
    "import lightgbm as lgb\n",
    "from sklearn.model_selection import TimeSeriesSplit, GridSearchCV\n",
    "\n",
    "\n",
    "data=pd.read_csv('/datasets/taxi.csv',\n",
    "index_col=[0],\n",
    "parse_dates=[0])"
   ]
  },
  {
   "cell_type": "markdown",
   "metadata": {},
   "source": [
    "Посмотрим что получилось и выполним ресемплирование чтобы знать среднее количество заказов за 1 час"
   ]
  },
  {
   "cell_type": "code",
   "execution_count": 49,
   "metadata": {
    "scrolled": true
   },
   "outputs": [
    {
     "name": "stdout",
     "output_type": "stream",
     "text": [
      "<class 'pandas.core.frame.DataFrame'>\n",
      "DatetimeIndex: 26496 entries, 2018-03-01 00:00:00 to 2018-08-31 23:50:00\n",
      "Data columns (total 1 columns):\n",
      " #   Column      Non-Null Count  Dtype\n",
      "---  ------      --------------  -----\n",
      " 0   num_orders  26496 non-null  int64\n",
      "dtypes: int64(1)\n",
      "memory usage: 414.0 KB\n"
     ]
    }
   ],
   "source": [
    "data.info()"
   ]
  },
  {
   "cell_type": "markdown",
   "metadata": {},
   "source": [
    "Проверим индекс на монотонность"
   ]
  },
  {
   "cell_type": "code",
   "execution_count": 50,
   "metadata": {
    "scrolled": false
   },
   "outputs": [
    {
     "name": "stdout",
     "output_type": "stream",
     "text": [
      "True\n"
     ]
    }
   ],
   "source": [
    "print(data.index.is_monotonic)"
   ]
  },
  {
   "cell_type": "markdown",
   "metadata": {},
   "source": [
    "Выполним ресемпилирование - с каждых 10 минут переведем на час - и сделаем сумму наверное, хотя можно и среднее(с ним явно будут меньше значения, но это будет неправильно - заказ он либо есть(1), либо нет(0))\n",
    "\n",
    "И посмотрим результаты"
   ]
  },
  {
   "cell_type": "code",
   "execution_count": 51,
   "metadata": {},
   "outputs": [],
   "source": [
    "data=data.resample('1H').sum()"
   ]
  },
  {
   "cell_type": "code",
   "execution_count": 52,
   "metadata": {
    "scrolled": true
   },
   "outputs": [
    {
     "data": {
      "text/html": [
       "<div>\n",
       "<style scoped>\n",
       "    .dataframe tbody tr th:only-of-type {\n",
       "        vertical-align: middle;\n",
       "    }\n",
       "\n",
       "    .dataframe tbody tr th {\n",
       "        vertical-align: top;\n",
       "    }\n",
       "\n",
       "    .dataframe thead th {\n",
       "        text-align: right;\n",
       "    }\n",
       "</style>\n",
       "<table border=\"1\" class=\"dataframe\">\n",
       "  <thead>\n",
       "    <tr style=\"text-align: right;\">\n",
       "      <th></th>\n",
       "      <th>num_orders</th>\n",
       "    </tr>\n",
       "    <tr>\n",
       "      <th>datetime</th>\n",
       "      <th></th>\n",
       "    </tr>\n",
       "  </thead>\n",
       "  <tbody>\n",
       "    <tr>\n",
       "      <th>2018-03-01 00:00:00</th>\n",
       "      <td>124</td>\n",
       "    </tr>\n",
       "    <tr>\n",
       "      <th>2018-03-01 01:00:00</th>\n",
       "      <td>85</td>\n",
       "    </tr>\n",
       "    <tr>\n",
       "      <th>2018-03-01 02:00:00</th>\n",
       "      <td>71</td>\n",
       "    </tr>\n",
       "    <tr>\n",
       "      <th>2018-03-01 03:00:00</th>\n",
       "      <td>66</td>\n",
       "    </tr>\n",
       "    <tr>\n",
       "      <th>2018-03-01 04:00:00</th>\n",
       "      <td>43</td>\n",
       "    </tr>\n",
       "    <tr>\n",
       "      <th>2018-03-01 05:00:00</th>\n",
       "      <td>6</td>\n",
       "    </tr>\n",
       "    <tr>\n",
       "      <th>2018-03-01 06:00:00</th>\n",
       "      <td>12</td>\n",
       "    </tr>\n",
       "    <tr>\n",
       "      <th>2018-03-01 07:00:00</th>\n",
       "      <td>15</td>\n",
       "    </tr>\n",
       "    <tr>\n",
       "      <th>2018-03-01 08:00:00</th>\n",
       "      <td>34</td>\n",
       "    </tr>\n",
       "    <tr>\n",
       "      <th>2018-03-01 09:00:00</th>\n",
       "      <td>69</td>\n",
       "    </tr>\n",
       "  </tbody>\n",
       "</table>\n",
       "</div>"
      ],
      "text/plain": [
       "                     num_orders\n",
       "datetime                       \n",
       "2018-03-01 00:00:00         124\n",
       "2018-03-01 01:00:00          85\n",
       "2018-03-01 02:00:00          71\n",
       "2018-03-01 03:00:00          66\n",
       "2018-03-01 04:00:00          43\n",
       "2018-03-01 05:00:00           6\n",
       "2018-03-01 06:00:00          12\n",
       "2018-03-01 07:00:00          15\n",
       "2018-03-01 08:00:00          34\n",
       "2018-03-01 09:00:00          69"
      ]
     },
     "execution_count": 52,
     "metadata": {},
     "output_type": "execute_result"
    }
   ],
   "source": [
    "data.head(10)"
   ]
  },
  {
   "cell_type": "code",
   "execution_count": 53,
   "metadata": {
    "scrolled": true
   },
   "outputs": [
    {
     "data": {
      "text/plain": [
       "<AxesSubplot:xlabel='datetime'>"
      ]
     },
     "execution_count": 53,
     "metadata": {},
     "output_type": "execute_result"
    },
    {
     "data": {
      "image/png": "[encoded data removed]",
      "text/plain": [
       "<Figure size 432x288 with 1 Axes>"
      ]
     },
     "metadata": {
      "needs_background": "light"
     },
     "output_type": "display_data"
    }
   ],
   "source": [
    "data.plot()"
   ]
  },
  {
   "cell_type": "markdown",
   "metadata": {},
   "source": [
    "Отлично - получилось\n",
    "\n",
    "Переходим к анализу"
   ]
  },
  {
   "cell_type": "markdown",
   "metadata": {},
   "source": [
    "## Анализ"
   ]
  },
  {
   "cell_type": "code",
   "execution_count": 54,
   "metadata": {
    "scrolled": true
   },
   "outputs": [
    {
     "data": {
      "text/html": [
       "<div>\n",
       "<style scoped>\n",
       "    .dataframe tbody tr th:only-of-type {\n",
       "        vertical-align: middle;\n",
       "    }\n",
       "\n",
       "    .dataframe tbody tr th {\n",
       "        vertical-align: top;\n",
       "    }\n",
       "\n",
       "    .dataframe thead th {\n",
       "        text-align: right;\n",
       "    }\n",
       "</style>\n",
       "<table border=\"1\" class=\"dataframe\">\n",
       "  <thead>\n",
       "    <tr style=\"text-align: right;\">\n",
       "      <th></th>\n",
       "      <th>num_orders</th>\n",
       "    </tr>\n",
       "    <tr>\n",
       "      <th>datetime</th>\n",
       "      <th></th>\n",
       "    </tr>\n",
       "  </thead>\n",
       "  <tbody>\n",
       "    <tr>\n",
       "      <th>2018-03-01 00:00:00</th>\n",
       "      <td>124</td>\n",
       "    </tr>\n",
       "    <tr>\n",
       "      <th>2018-03-01 01:00:00</th>\n",
       "      <td>85</td>\n",
       "    </tr>\n",
       "    <tr>\n",
       "      <th>2018-03-01 02:00:00</th>\n",
       "      <td>71</td>\n",
       "    </tr>\n",
       "    <tr>\n",
       "      <th>2018-03-01 03:00:00</th>\n",
       "      <td>66</td>\n",
       "    </tr>\n",
       "    <tr>\n",
       "      <th>2018-03-01 04:00:00</th>\n",
       "      <td>43</td>\n",
       "    </tr>\n",
       "  </tbody>\n",
       "</table>\n",
       "</div>"
      ],
      "text/plain": [
       "                     num_orders\n",
       "datetime                       \n",
       "2018-03-01 00:00:00         124\n",
       "2018-03-01 01:00:00          85\n",
       "2018-03-01 02:00:00          71\n",
       "2018-03-01 03:00:00          66\n",
       "2018-03-01 04:00:00          43"
      ]
     },
     "execution_count": 54,
     "metadata": {},
     "output_type": "execute_result"
    }
   ],
   "source": [
    "data.head()"
   ]
  },
  {
   "cell_type": "markdown",
   "metadata": {},
   "source": [
    "Видим 2 колонки - дата (с интервалом в час) и количество заказов такси (усредненное в результате ресеплирования)"
   ]
  },
  {
   "cell_type": "code",
   "execution_count": 55,
   "metadata": {},
   "outputs": [
    {
     "name": "stdout",
     "output_type": "stream",
     "text": [
      "2018-03-01 00:00:00\n",
      "2018-08-31 23:00:00\n"
     ]
    }
   ],
   "source": [
    "print(data.index.min())\n",
    "print(data.index.max())"
   ]
  },
  {
   "cell_type": "markdown",
   "metadata": {},
   "source": [
    "Нам даны данные с 3 января 2018 года по 31 августа 2018 года - тренд сезонности я думаю отпадает - в выборке меньше 1 года"
   ]
  },
  {
   "cell_type": "code",
   "execution_count": 56,
   "metadata": {},
   "outputs": [],
   "source": [
    "decomposed = seasonal_decompose(data)"
   ]
  },
  {
   "cell_type": "markdown",
   "metadata": {},
   "source": [
    "Заодно проверим выбросы - но по идее их тут не может быть, только возможно более 1000 в день при остальных значениях от 30 до 300"
   ]
  },
  {
   "cell_type": "code",
   "execution_count": 57,
   "metadata": {
    "scrolled": true
   },
   "outputs": [
    {
     "data": {
      "text/plain": [
       "<AxesSubplot:>"
      ]
     },
     "execution_count": 57,
     "metadata": {},
     "output_type": "execute_result"
    },
    {
     "data": {
      "image/png": "[encoded data removed]",
      "text/plain": [
       "<Figure size 432x288 with 1 Axes>"
      ]
     },
     "metadata": {
      "needs_background": "light"
     },
     "output_type": "display_data"
    }
   ],
   "source": [
    "data.boxplot()"
   ]
  },
  {
   "cell_type": "code",
   "execution_count": 58,
   "metadata": {},
   "outputs": [
    {
     "data": {
      "text/plain": [
       "num_orders\n",
       "73            65\n",
       "57            58\n",
       "66            58\n",
       "78            54\n",
       "84            52\n",
       "              ..\n",
       "232            1\n",
       "238            1\n",
       "239            1\n",
       "240            1\n",
       "462            1\n",
       "Length: 251, dtype: int64"
      ]
     },
     "execution_count": 58,
     "metadata": {},
     "output_type": "execute_result"
    }
   ],
   "source": [
    "data.value_counts()"
   ]
  },
  {
   "cell_type": "code",
   "execution_count": 59,
   "metadata": {
    "scrolled": false
   },
   "outputs": [
    {
     "data": {
      "image/png": "[encoded data removed]",
      "text/plain": [
       "<Figure size 1368x1656 with 3 Axes>"
      ]
     },
     "metadata": {
      "needs_background": "light"
     },
     "output_type": "display_data"
    }
   ],
   "source": [
    "plt.figure(figsize=(19, 23))\n",
    "plt.subplot(311)\n",
    "decomposed.trend.plot(ax=plt.gca())\n",
    "plt.title('Trend')\n",
    "plt.subplot(312)\n",
    "decomposed.seasonal['2018-08-29':'2018-08-31'].plot(ax=plt.gca()) #посмотрим сезонность в рамках 1 дня - есть четкие закономерности\n",
    "plt.title('Seasonality')\n",
    "plt.subplot(313)\n",
    "decomposed.resid.plot(ax=plt.gca())\n",
    "plt.title('Residuals')\n",
    "plt.tight_layout()"
   ]
  },
  {
   "cell_type": "markdown",
   "metadata": {},
   "source": [
    "По данным графикам:\n",
    "    \n",
    "тренды - относительно весны, летом гораздо больше заказов такси - это логично. В теплое время года все летают в отпуск\n",
    "\n",
    "сезонность нам не помогла, в выборке меньше года - посмотрел в рамках 1 дня - есть почти идентичные закономерности - ближе к полуночи максимальные значения, а к 6 часам затишься по заказам"
   ]
  },
  {
   "cell_type": "markdown",
   "metadata": {},
   "source": [
    "## Обучение"
   ]
  },
  {
   "cell_type": "markdown",
   "metadata": {},
   "source": [
    "Проверим 3 модели на выбор - Линейную регрерссию, Случайный лес с разными гиперпараметрами (применим подбор гиперпараметров) и бустинг\n",
    "\n",
    "Создадим для моделирования больше признаков - для улучшения качества модели\n",
    "\n",
    "Разделим наши данные на выборки, на тест возьмем 10% - по заданию\n",
    "Создадим 3 выборки - тестовая для обучения, валидационная для выбора модели и тестовая для финального тестирования модели"
   ]
  },
  {
   "cell_type": "code",
   "execution_count": 60,
   "metadata": {},
   "outputs": [],
   "source": [
    "def make_features(data, max_lag, rolling_mean_size):\n",
    "    data['year'] = data.index.year #добавим год\n",
    "    data['month'] = data.index.month #месяц\n",
    "    data['day'] = data.index.day # день\n",
    "    data['dayofweek'] = data.index.dayofweek #день недели\n",
    "    data['hour'] = data.index.hour # час\n",
    "    \n",
    "    for lag in range(1, max_lag + 1):\n",
    "        data['lag_{}'.format(lag)] = data['num_orders'].shift(lag)\n",
    "\n",
    "    data['rolling_mean'] = data['num_orders'].shift().rolling(rolling_mean_size).mean()\n",
    "    return data\n",
    "\n",
    "\n",
    "data_new = make_features(data, 10, 70) # создадим новый датафрейм и применим нащу функцию - далее разделим на 3 выборки\n",
    "\n",
    "train, test = train_test_split(data_new, shuffle=False, test_size=0.1)\n",
    "#valid, test = train_test_split(test, shuffle=False, test_size=0.2)\n",
    "# Для моделей уберем пропуски - определим фичи и таргеты для каждой выборки\n",
    "train = train.dropna()\n",
    "features_train = train.drop(['num_orders','rolling_mean'], axis=1)\n",
    "target_train = train['num_orders']\n",
    "#features_valid = valid.drop(['num_orders','rolling_mean'], axis=1)\n",
    "#target_valid = valid['num_orders']\n",
    "features_test = test.drop(['num_orders','rolling_mean'], axis=1)\n",
    "target_test = test['num_orders']\n"
   ]
  },
  {
   "cell_type": "markdown",
   "metadata": {},
   "source": [
    "Проверим корреляцию признаков в датафрейме - из этого можно сделать вывод что скользящая средняя не нужна, она очень сильно коррелирует с лагами"
   ]
  },
  {
   "cell_type": "code",
   "execution_count": 61,
   "metadata": {},
   "outputs": [
    {
     "data": {
      "text/html": [
       "<div>\n",
       "<style scoped>\n",
       "    .dataframe tbody tr th:only-of-type {\n",
       "        vertical-align: middle;\n",
       "    }\n",
       "\n",
       "    .dataframe tbody tr th {\n",
       "        vertical-align: top;\n",
       "    }\n",
       "\n",
       "    .dataframe thead th {\n",
       "        text-align: right;\n",
       "    }\n",
       "</style>\n",
       "<table border=\"1\" class=\"dataframe\">\n",
       "  <thead>\n",
       "    <tr style=\"text-align: right;\">\n",
       "      <th></th>\n",
       "      <th>num_orders</th>\n",
       "      <th>year</th>\n",
       "      <th>month</th>\n",
       "      <th>day</th>\n",
       "      <th>dayofweek</th>\n",
       "      <th>hour</th>\n",
       "      <th>lag_1</th>\n",
       "      <th>lag_2</th>\n",
       "      <th>lag_3</th>\n",
       "      <th>lag_4</th>\n",
       "      <th>lag_5</th>\n",
       "      <th>lag_6</th>\n",
       "      <th>lag_7</th>\n",
       "      <th>lag_8</th>\n",
       "      <th>lag_9</th>\n",
       "      <th>lag_10</th>\n",
       "      <th>rolling_mean</th>\n",
       "    </tr>\n",
       "  </thead>\n",
       "  <tbody>\n",
       "    <tr>\n",
       "      <th>num_orders</th>\n",
       "      <td>1.000000</td>\n",
       "      <td>NaN</td>\n",
       "      <td>5.101083e-01</td>\n",
       "      <td>1.653124e-01</td>\n",
       "      <td>-1.962844e-02</td>\n",
       "      <td>4.292046e-03</td>\n",
       "      <td>0.624138</td>\n",
       "      <td>0.465444</td>\n",
       "      <td>0.321173</td>\n",
       "      <td>0.248791</td>\n",
       "      <td>0.230489</td>\n",
       "      <td>0.238449</td>\n",
       "      <td>0.291733</td>\n",
       "      <td>0.310036</td>\n",
       "      <td>0.270676</td>\n",
       "      <td>0.263643</td>\n",
       "      <td>0.542172</td>\n",
       "    </tr>\n",
       "    <tr>\n",
       "      <th>year</th>\n",
       "      <td>NaN</td>\n",
       "      <td>NaN</td>\n",
       "      <td>NaN</td>\n",
       "      <td>NaN</td>\n",
       "      <td>NaN</td>\n",
       "      <td>NaN</td>\n",
       "      <td>NaN</td>\n",
       "      <td>NaN</td>\n",
       "      <td>NaN</td>\n",
       "      <td>NaN</td>\n",
       "      <td>NaN</td>\n",
       "      <td>NaN</td>\n",
       "      <td>NaN</td>\n",
       "      <td>NaN</td>\n",
       "      <td>NaN</td>\n",
       "      <td>NaN</td>\n",
       "      <td>NaN</td>\n",
       "    </tr>\n",
       "    <tr>\n",
       "      <th>month</th>\n",
       "      <td>0.510108</td>\n",
       "      <td>NaN</td>\n",
       "      <td>1.000000e+00</td>\n",
       "      <td>5.432905e-03</td>\n",
       "      <td>-1.196242e-02</td>\n",
       "      <td>5.821568e-16</td>\n",
       "      <td>0.510074</td>\n",
       "      <td>0.509825</td>\n",
       "      <td>0.509725</td>\n",
       "      <td>0.509330</td>\n",
       "      <td>0.509075</td>\n",
       "      <td>0.508222</td>\n",
       "      <td>0.507790</td>\n",
       "      <td>0.507692</td>\n",
       "      <td>0.507599</td>\n",
       "      <td>0.507150</td>\n",
       "      <td>0.900314</td>\n",
       "    </tr>\n",
       "    <tr>\n",
       "      <th>day</th>\n",
       "      <td>0.165312</td>\n",
       "      <td>NaN</td>\n",
       "      <td>5.432905e-03</td>\n",
       "      <td>1.000000e+00</td>\n",
       "      <td>-1.382657e-02</td>\n",
       "      <td>1.280062e-16</td>\n",
       "      <td>0.165201</td>\n",
       "      <td>0.165061</td>\n",
       "      <td>0.164633</td>\n",
       "      <td>0.164691</td>\n",
       "      <td>0.164018</td>\n",
       "      <td>0.164507</td>\n",
       "      <td>0.164888</td>\n",
       "      <td>0.165733</td>\n",
       "      <td>0.165958</td>\n",
       "      <td>0.166298</td>\n",
       "      <td>0.256819</td>\n",
       "    </tr>\n",
       "    <tr>\n",
       "      <th>dayofweek</th>\n",
       "      <td>-0.019628</td>\n",
       "      <td>NaN</td>\n",
       "      <td>-1.196242e-02</td>\n",
       "      <td>-1.382657e-02</td>\n",
       "      <td>1.000000e+00</td>\n",
       "      <td>2.160411e-18</td>\n",
       "      <td>-0.027331</td>\n",
       "      <td>-0.029567</td>\n",
       "      <td>-0.029056</td>\n",
       "      <td>-0.028695</td>\n",
       "      <td>-0.028752</td>\n",
       "      <td>-0.026911</td>\n",
       "      <td>-0.026913</td>\n",
       "      <td>-0.028955</td>\n",
       "      <td>-0.032041</td>\n",
       "      <td>-0.036656</td>\n",
       "      <td>0.007794</td>\n",
       "    </tr>\n",
       "    <tr>\n",
       "      <th>hour</th>\n",
       "      <td>0.004292</td>\n",
       "      <td>NaN</td>\n",
       "      <td>5.821568e-16</td>\n",
       "      <td>1.280062e-16</td>\n",
       "      <td>2.160411e-18</td>\n",
       "      <td>1.000000e+00</td>\n",
       "      <td>-0.076112</td>\n",
       "      <td>-0.120424</td>\n",
       "      <td>-0.154777</td>\n",
       "      <td>-0.146248</td>\n",
       "      <td>-0.123327</td>\n",
       "      <td>-0.074180</td>\n",
       "      <td>-0.100352</td>\n",
       "      <td>-0.196003</td>\n",
       "      <td>-0.207735</td>\n",
       "      <td>-0.178067</td>\n",
       "      <td>0.001120</td>\n",
       "    </tr>\n",
       "    <tr>\n",
       "      <th>lag_1</th>\n",
       "      <td>0.624138</td>\n",
       "      <td>NaN</td>\n",
       "      <td>5.100742e-01</td>\n",
       "      <td>1.652006e-01</td>\n",
       "      <td>-2.733141e-02</td>\n",
       "      <td>-7.611189e-02</td>\n",
       "      <td>1.000000</td>\n",
       "      <td>0.623446</td>\n",
       "      <td>0.464959</td>\n",
       "      <td>0.320580</td>\n",
       "      <td>0.248332</td>\n",
       "      <td>0.229212</td>\n",
       "      <td>0.237082</td>\n",
       "      <td>0.290651</td>\n",
       "      <td>0.309875</td>\n",
       "      <td>0.270271</td>\n",
       "      <td>0.557067</td>\n",
       "    </tr>\n",
       "    <tr>\n",
       "      <th>lag_2</th>\n",
       "      <td>0.465444</td>\n",
       "      <td>NaN</td>\n",
       "      <td>5.098245e-01</td>\n",
       "      <td>1.650606e-01</td>\n",
       "      <td>-2.956675e-02</td>\n",
       "      <td>-1.204245e-01</td>\n",
       "      <td>0.623446</td>\n",
       "      <td>1.000000</td>\n",
       "      <td>0.623151</td>\n",
       "      <td>0.464503</td>\n",
       "      <td>0.320169</td>\n",
       "      <td>0.246899</td>\n",
       "      <td>0.227617</td>\n",
       "      <td>0.235748</td>\n",
       "      <td>0.290485</td>\n",
       "      <td>0.309489</td>\n",
       "      <td>0.565050</td>\n",
       "    </tr>\n",
       "    <tr>\n",
       "      <th>lag_3</th>\n",
       "      <td>0.321173</td>\n",
       "      <td>NaN</td>\n",
       "      <td>5.097252e-01</td>\n",
       "      <td>1.646332e-01</td>\n",
       "      <td>-2.905576e-02</td>\n",
       "      <td>-1.547765e-01</td>\n",
       "      <td>0.464959</td>\n",
       "      <td>0.623151</td>\n",
       "      <td>1.000000</td>\n",
       "      <td>0.622932</td>\n",
       "      <td>0.464285</td>\n",
       "      <td>0.319511</td>\n",
       "      <td>0.246106</td>\n",
       "      <td>0.226904</td>\n",
       "      <td>0.235568</td>\n",
       "      <td>0.290205</td>\n",
       "      <td>0.571313</td>\n",
       "    </tr>\n",
       "    <tr>\n",
       "      <th>lag_4</th>\n",
       "      <td>0.248791</td>\n",
       "      <td>NaN</td>\n",
       "      <td>5.093300e-01</td>\n",
       "      <td>1.646910e-01</td>\n",
       "      <td>-2.869538e-02</td>\n",
       "      <td>-1.462479e-01</td>\n",
       "      <td>0.320580</td>\n",
       "      <td>0.464503</td>\n",
       "      <td>0.622932</td>\n",
       "      <td>1.000000</td>\n",
       "      <td>0.622791</td>\n",
       "      <td>0.463843</td>\n",
       "      <td>0.318875</td>\n",
       "      <td>0.245466</td>\n",
       "      <td>0.226730</td>\n",
       "      <td>0.235281</td>\n",
       "      <td>0.573668</td>\n",
       "    </tr>\n",
       "    <tr>\n",
       "      <th>lag_5</th>\n",
       "      <td>0.230489</td>\n",
       "      <td>NaN</td>\n",
       "      <td>5.090751e-01</td>\n",
       "      <td>1.640178e-01</td>\n",
       "      <td>-2.875218e-02</td>\n",
       "      <td>-1.233272e-01</td>\n",
       "      <td>0.248332</td>\n",
       "      <td>0.320169</td>\n",
       "      <td>0.464285</td>\n",
       "      <td>0.622791</td>\n",
       "      <td>1.000000</td>\n",
       "      <td>0.622699</td>\n",
       "      <td>0.463602</td>\n",
       "      <td>0.318495</td>\n",
       "      <td>0.245332</td>\n",
       "      <td>0.226510</td>\n",
       "      <td>0.574108</td>\n",
       "    </tr>\n",
       "    <tr>\n",
       "      <th>lag_6</th>\n",
       "      <td>0.238449</td>\n",
       "      <td>NaN</td>\n",
       "      <td>5.082220e-01</td>\n",
       "      <td>1.645071e-01</td>\n",
       "      <td>-2.691094e-02</td>\n",
       "      <td>-7.417954e-02</td>\n",
       "      <td>0.229212</td>\n",
       "      <td>0.246899</td>\n",
       "      <td>0.319511</td>\n",
       "      <td>0.463843</td>\n",
       "      <td>0.622699</td>\n",
       "      <td>1.000000</td>\n",
       "      <td>0.622010</td>\n",
       "      <td>0.462768</td>\n",
       "      <td>0.318344</td>\n",
       "      <td>0.244898</td>\n",
       "      <td>0.572215</td>\n",
       "    </tr>\n",
       "    <tr>\n",
       "      <th>lag_7</th>\n",
       "      <td>0.291733</td>\n",
       "      <td>NaN</td>\n",
       "      <td>5.077898e-01</td>\n",
       "      <td>1.648884e-01</td>\n",
       "      <td>-2.691297e-02</td>\n",
       "      <td>-1.003519e-01</td>\n",
       "      <td>0.237082</td>\n",
       "      <td>0.227617</td>\n",
       "      <td>0.246106</td>\n",
       "      <td>0.318875</td>\n",
       "      <td>0.463602</td>\n",
       "      <td>0.622010</td>\n",
       "      <td>1.000000</td>\n",
       "      <td>0.621386</td>\n",
       "      <td>0.462778</td>\n",
       "      <td>0.317972</td>\n",
       "      <td>0.569780</td>\n",
       "    </tr>\n",
       "    <tr>\n",
       "      <th>lag_8</th>\n",
       "      <td>0.310036</td>\n",
       "      <td>NaN</td>\n",
       "      <td>5.076924e-01</td>\n",
       "      <td>1.657333e-01</td>\n",
       "      <td>-2.895528e-02</td>\n",
       "      <td>-1.960034e-01</td>\n",
       "      <td>0.290651</td>\n",
       "      <td>0.235748</td>\n",
       "      <td>0.226904</td>\n",
       "      <td>0.245466</td>\n",
       "      <td>0.318495</td>\n",
       "      <td>0.462768</td>\n",
       "      <td>0.621386</td>\n",
       "      <td>1.000000</td>\n",
       "      <td>0.621463</td>\n",
       "      <td>0.462551</td>\n",
       "      <td>0.569858</td>\n",
       "    </tr>\n",
       "    <tr>\n",
       "      <th>lag_9</th>\n",
       "      <td>0.270676</td>\n",
       "      <td>NaN</td>\n",
       "      <td>5.075990e-01</td>\n",
       "      <td>1.659576e-01</td>\n",
       "      <td>-3.204051e-02</td>\n",
       "      <td>-2.077349e-01</td>\n",
       "      <td>0.309875</td>\n",
       "      <td>0.290485</td>\n",
       "      <td>0.235568</td>\n",
       "      <td>0.226730</td>\n",
       "      <td>0.245332</td>\n",
       "      <td>0.318344</td>\n",
       "      <td>0.462778</td>\n",
       "      <td>0.621463</td>\n",
       "      <td>1.000000</td>\n",
       "      <td>0.621407</td>\n",
       "      <td>0.571262</td>\n",
       "    </tr>\n",
       "    <tr>\n",
       "      <th>lag_10</th>\n",
       "      <td>0.263643</td>\n",
       "      <td>NaN</td>\n",
       "      <td>5.071505e-01</td>\n",
       "      <td>1.662981e-01</td>\n",
       "      <td>-3.665555e-02</td>\n",
       "      <td>-1.780666e-01</td>\n",
       "      <td>0.270271</td>\n",
       "      <td>0.309489</td>\n",
       "      <td>0.290205</td>\n",
       "      <td>0.235281</td>\n",
       "      <td>0.226510</td>\n",
       "      <td>0.244898</td>\n",
       "      <td>0.317972</td>\n",
       "      <td>0.462551</td>\n",
       "      <td>0.621407</td>\n",
       "      <td>1.000000</td>\n",
       "      <td>0.570310</td>\n",
       "    </tr>\n",
       "    <tr>\n",
       "      <th>rolling_mean</th>\n",
       "      <td>0.542172</td>\n",
       "      <td>NaN</td>\n",
       "      <td>9.003143e-01</td>\n",
       "      <td>2.568195e-01</td>\n",
       "      <td>7.794064e-03</td>\n",
       "      <td>1.120414e-03</td>\n",
       "      <td>0.557067</td>\n",
       "      <td>0.565050</td>\n",
       "      <td>0.571313</td>\n",
       "      <td>0.573668</td>\n",
       "      <td>0.574108</td>\n",
       "      <td>0.572215</td>\n",
       "      <td>0.569780</td>\n",
       "      <td>0.569858</td>\n",
       "      <td>0.571262</td>\n",
       "      <td>0.570310</td>\n",
       "      <td>1.000000</td>\n",
       "    </tr>\n",
       "  </tbody>\n",
       "</table>\n",
       "</div>"
      ],
      "text/plain": [
       "              num_orders  year         month           day     dayofweek  \\\n",
       "num_orders      1.000000   NaN  5.101083e-01  1.653124e-01 -1.962844e-02   \n",
       "year                 NaN   NaN           NaN           NaN           NaN   \n",
       "month           0.510108   NaN  1.000000e+00  5.432905e-03 -1.196242e-02   \n",
       "day             0.165312   NaN  5.432905e-03  1.000000e+00 -1.382657e-02   \n",
       "dayofweek      -0.019628   NaN -1.196242e-02 -1.382657e-02  1.000000e+00   \n",
       "hour            0.004292   NaN  5.821568e-16  1.280062e-16  2.160411e-18   \n",
       "lag_1           0.624138   NaN  5.100742e-01  1.652006e-01 -2.733141e-02   \n",
       "lag_2           0.465444   NaN  5.098245e-01  1.650606e-01 -2.956675e-02   \n",
       "lag_3           0.321173   NaN  5.097252e-01  1.646332e-01 -2.905576e-02   \n",
       "lag_4           0.248791   NaN  5.093300e-01  1.646910e-01 -2.869538e-02   \n",
       "lag_5           0.230489   NaN  5.090751e-01  1.640178e-01 -2.875218e-02   \n",
       "lag_6           0.238449   NaN  5.082220e-01  1.645071e-01 -2.691094e-02   \n",
       "lag_7           0.291733   NaN  5.077898e-01  1.648884e-01 -2.691297e-02   \n",
       "lag_8           0.310036   NaN  5.076924e-01  1.657333e-01 -2.895528e-02   \n",
       "lag_9           0.270676   NaN  5.075990e-01  1.659576e-01 -3.204051e-02   \n",
       "lag_10          0.263643   NaN  5.071505e-01  1.662981e-01 -3.665555e-02   \n",
       "rolling_mean    0.542172   NaN  9.003143e-01  2.568195e-01  7.794064e-03   \n",
       "\n",
       "                      hour     lag_1     lag_2     lag_3     lag_4     lag_5  \\\n",
       "num_orders    4.292046e-03  0.624138  0.465444  0.321173  0.248791  0.230489   \n",
       "year                   NaN       NaN       NaN       NaN       NaN       NaN   \n",
       "month         5.821568e-16  0.510074  0.509825  0.509725  0.509330  0.509075   \n",
       "day           1.280062e-16  0.165201  0.165061  0.164633  0.164691  0.164018   \n",
       "dayofweek     2.160411e-18 -0.027331 -0.029567 -0.029056 -0.028695 -0.028752   \n",
       "hour          1.000000e+00 -0.076112 -0.120424 -0.154777 -0.146248 -0.123327   \n",
       "lag_1        -7.611189e-02  1.000000  0.623446  0.464959  0.320580  0.248332   \n",
       "lag_2        -1.204245e-01  0.623446  1.000000  0.623151  0.464503  0.320169   \n",
       "lag_3        -1.547765e-01  0.464959  0.623151  1.000000  0.622932  0.464285   \n",
       "lag_4        -1.462479e-01  0.320580  0.464503  0.622932  1.000000  0.622791   \n",
       "lag_5        -1.233272e-01  0.248332  0.320169  0.464285  0.622791  1.000000   \n",
       "lag_6        -7.417954e-02  0.229212  0.246899  0.319511  0.463843  0.622699   \n",
       "lag_7        -1.003519e-01  0.237082  0.227617  0.246106  0.318875  0.463602   \n",
       "lag_8        -1.960034e-01  0.290651  0.235748  0.226904  0.245466  0.318495   \n",
       "lag_9        -2.077349e-01  0.309875  0.290485  0.235568  0.226730  0.245332   \n",
       "lag_10       -1.780666e-01  0.270271  0.309489  0.290205  0.235281  0.226510   \n",
       "rolling_mean  1.120414e-03  0.557067  0.565050  0.571313  0.573668  0.574108   \n",
       "\n",
       "                 lag_6     lag_7     lag_8     lag_9    lag_10  rolling_mean  \n",
       "num_orders    0.238449  0.291733  0.310036  0.270676  0.263643      0.542172  \n",
       "year               NaN       NaN       NaN       NaN       NaN           NaN  \n",
       "month         0.508222  0.507790  0.507692  0.507599  0.507150      0.900314  \n",
       "day           0.164507  0.164888  0.165733  0.165958  0.166298      0.256819  \n",
       "dayofweek    -0.026911 -0.026913 -0.028955 -0.032041 -0.036656      0.007794  \n",
       "hour         -0.074180 -0.100352 -0.196003 -0.207735 -0.178067      0.001120  \n",
       "lag_1         0.229212  0.237082  0.290651  0.309875  0.270271      0.557067  \n",
       "lag_2         0.246899  0.227617  0.235748  0.290485  0.309489      0.565050  \n",
       "lag_3         0.319511  0.246106  0.226904  0.235568  0.290205      0.571313  \n",
       "lag_4         0.463843  0.318875  0.245466  0.226730  0.235281      0.573668  \n",
       "lag_5         0.622699  0.463602  0.318495  0.245332  0.226510      0.574108  \n",
       "lag_6         1.000000  0.622010  0.462768  0.318344  0.244898      0.572215  \n",
       "lag_7         0.622010  1.000000  0.621386  0.462778  0.317972      0.569780  \n",
       "lag_8         0.462768  0.621386  1.000000  0.621463  0.462551      0.569858  \n",
       "lag_9         0.318344  0.462778  0.621463  1.000000  0.621407      0.571262  \n",
       "lag_10        0.244898  0.317972  0.462551  0.621407  1.000000      0.570310  \n",
       "rolling_mean  0.572215  0.569780  0.569858  0.571262  0.570310      1.000000  "
      ]
     },
     "execution_count": 61,
     "metadata": {},
     "output_type": "execute_result"
    }
   ],
   "source": [
    "data_new.corr()"
   ]
  },
  {
   "cell_type": "markdown",
   "metadata": {},
   "source": [
    "Проверим корректность выборок - где заканчивается трейн должен начинаться валид, где заанчивается валид начинается тест"
   ]
  },
  {
   "cell_type": "code",
   "execution_count": 62,
   "metadata": {
    "scrolled": true
   },
   "outputs": [
    {
     "name": "stdout",
     "output_type": "stream",
     "text": [
      "2018-03-03 22:00:00 2018-08-13 13:00:00\n",
      "2018-08-13 14:00:00 2018-08-31 23:00:00\n"
     ]
    }
   ],
   "source": [
    "print(train.index.min(), train.index.max())\n",
    "print(test.index.min(), test.index.max())"
   ]
  },
  {
   "cell_type": "markdown",
   "metadata": {},
   "source": [
    "Также проверим размер выборок"
   ]
  },
  {
   "cell_type": "code",
   "execution_count": 63,
   "metadata": {},
   "outputs": [
    {
     "name": "stdout",
     "output_type": "stream",
     "text": [
      "(3904, 17)\n",
      "(442, 17)\n"
     ]
    }
   ],
   "source": [
    "print(train.shape)\n",
    "print(test.shape)"
   ]
  },
  {
   "cell_type": "markdown",
   "metadata": {},
   "source": [
    "### LinearRegression"
   ]
  },
  {
   "cell_type": "code",
   "execution_count": 64,
   "metadata": {},
   "outputs": [],
   "source": [
    "model = LinearRegression()"
   ]
  },
  {
   "cell_type": "code",
   "execution_count": 65,
   "metadata": {},
   "outputs": [
    {
     "name": "stdout",
     "output_type": "stream",
     "text": [
      "CPU times: user 5.86 ms, sys: 17 µs, total: 5.88 ms\n",
      "Wall time: 4.06 ms\n"
     ]
    },
    {
     "data": {
      "text/plain": [
       "LinearRegression()"
      ]
     },
     "execution_count": 65,
     "metadata": {},
     "output_type": "execute_result"
    }
   ],
   "source": [
    "%%time\n",
    "model.fit(features_train, target_train)"
   ]
  },
  {
   "cell_type": "code",
   "execution_count": 66,
   "metadata": {
    "scrolled": true
   },
   "outputs": [
    {
     "name": "stdout",
     "output_type": "stream",
     "text": [
      "CPU times: user 8.66 ms, sys: 92 µs, total: 8.76 ms\n",
      "Wall time: 2.17 ms\n"
     ]
    }
   ],
   "source": [
    "%%time\n",
    "predicted_valid = model.predict(features_test)"
   ]
  },
  {
   "cell_type": "code",
   "execution_count": 67,
   "metadata": {
    "scrolled": false
   },
   "outputs": [
    {
     "name": "stdout",
     "output_type": "stream",
     "text": [
      "Linear Regression\n",
      "RMSE = 53.34912075133917\n"
     ]
    }
   ],
   "source": [
    "mse = mean_squared_error(target_test, predicted_valid)\n",
    "print(\"Linear Regression\")\n",
    "print(\"RMSE =\", mse ** 0.5)"
   ]
  },
  {
   "cell_type": "markdown",
   "metadata": {},
   "source": [
    "### RandomForestRegressor"
   ]
  },
  {
   "cell_type": "code",
   "execution_count": 68,
   "metadata": {},
   "outputs": [
    {
     "name": "stdout",
     "output_type": "stream",
     "text": [
      "Fitting 2 folds for each of 4 candidates, totalling 8 fits\n",
      "[CV] END ........................max_depth=3, n_estimators=2; total time=   0.0s\n",
      "[CV] END ........................max_depth=3, n_estimators=2; total time=   0.0s\n",
      "[CV] END ......................max_depth=3, n_estimators=200; total time=   0.6s\n",
      "[CV] END ......................max_depth=3, n_estimators=200; total time=   0.9s\n",
      "[CV] END ......................max_depth=400, n_estimators=2; total time=   0.0s\n",
      "[CV] END ......................max_depth=400, n_estimators=2; total time=   0.0s\n",
      "[CV] END ....................max_depth=400, n_estimators=200; total time=   1.7s\n",
      "[CV] END ....................max_depth=400, n_estimators=200; total time=   3.5s\n"
     ]
    },
    {
     "data": {
      "text/plain": [
       "GridSearchCV(cv=TimeSeriesSplit(gap=0, max_train_size=None, n_splits=2, test_size=None),\n",
       "             estimator=RandomForestRegressor(),\n",
       "             param_grid={'max_depth': [3, 400], 'n_estimators': [2, 200]},\n",
       "             verbose=2)"
      ]
     },
     "execution_count": 68,
     "metadata": {},
     "output_type": "execute_result"
    }
   ],
   "source": [
    "model = RandomForestRegressor()\n",
    "tscv = TimeSeriesSplit(n_splits=2)\n",
    "param_search = {'max_depth' : [3,400],\n",
    "               'n_estimators':[2,200]}\n",
    "grid = GridSearchCV(estimator=model, cv=tscv,\n",
    "                        param_grid=param_search, verbose=2)\n",
    "grid.fit(features_train, target_train)"
   ]
  },
  {
   "cell_type": "code",
   "execution_count": 69,
   "metadata": {},
   "outputs": [
    {
     "name": "stdout",
     "output_type": "stream",
     "text": [
      "{'max_depth': 400, 'n_estimators': 200}\n"
     ]
    }
   ],
   "source": [
    "print(grid.best_params_)"
   ]
  },
  {
   "cell_type": "code",
   "execution_count": 70,
   "metadata": {},
   "outputs": [],
   "source": [
    "model = RandomForestRegressor(n_estimators=200, max_depth=400, random_state=12345)"
   ]
  },
  {
   "cell_type": "code",
   "execution_count": 71,
   "metadata": {},
   "outputs": [
    {
     "name": "stdout",
     "output_type": "stream",
     "text": [
      "CPU times: user 5.09 s, sys: 72.9 ms, total: 5.16 s\n",
      "Wall time: 5.17 s\n"
     ]
    },
    {
     "data": {
      "text/plain": [
       "RandomForestRegressor(max_depth=400, n_estimators=200, random_state=12345)"
      ]
     },
     "execution_count": 71,
     "metadata": {},
     "output_type": "execute_result"
    }
   ],
   "source": [
    "%%time\n",
    "model.fit(features_train, target_train)"
   ]
  },
  {
   "cell_type": "code",
   "execution_count": 72,
   "metadata": {},
   "outputs": [
    {
     "name": "stdout",
     "output_type": "stream",
     "text": [
      "CPU times: user 34.7 ms, sys: 11 µs, total: 34.7 ms\n",
      "Wall time: 33 ms\n"
     ]
    }
   ],
   "source": [
    "%%time\n",
    "predicted_valid = model.predict(features_test)"
   ]
  },
  {
   "cell_type": "code",
   "execution_count": 73,
   "metadata": {
    "scrolled": true
   },
   "outputs": [
    {
     "name": "stdout",
     "output_type": "stream",
     "text": [
      "RandomForestRegressor с выбранными гиперпараметрами\n",
      "RMSE = 44.47790409026086\n"
     ]
    }
   ],
   "source": [
    "mse = mean_squared_error(target_test, predicted_valid) \n",
    "print(\"RandomForestRegressor с выбранными гиперпараметрами\")\n",
    "print(\"RMSE =\", mse ** 0.5)"
   ]
  },
  {
   "cell_type": "markdown",
   "metadata": {},
   "source": [
    "### LGBMRegressor"
   ]
  },
  {
   "cell_type": "code",
   "execution_count": 74,
   "metadata": {},
   "outputs": [],
   "source": [
    "model = lgb.LGBMRegressor(num_leaves=15, max_depth=17, metric='rmse')"
   ]
  },
  {
   "cell_type": "code",
   "execution_count": 75,
   "metadata": {},
   "outputs": [
    {
     "name": "stdout",
     "output_type": "stream",
     "text": [
      "CPU times: user 2min 13s, sys: 1.56 s, total: 2min 15s\n",
      "Wall time: 2min 15s\n"
     ]
    },
    {
     "data": {
      "text/plain": [
       "LGBMRegressor(max_depth=17, metric='rmse', num_leaves=15)"
      ]
     },
     "execution_count": 75,
     "metadata": {},
     "output_type": "execute_result"
    }
   ],
   "source": [
    "%%time\n",
    "model.fit(features_train, target_train)"
   ]
  },
  {
   "cell_type": "code",
   "execution_count": 76,
   "metadata": {
    "scrolled": false
   },
   "outputs": [
    {
     "name": "stdout",
     "output_type": "stream",
     "text": [
      "CPU times: user 37.6 ms, sys: 0 ns, total: 37.6 ms\n",
      "Wall time: 16.8 ms\n"
     ]
    }
   ],
   "source": [
    "%%time\n",
    "predicted_valid = model.predict(features_test)"
   ]
  },
  {
   "cell_type": "code",
   "execution_count": 77,
   "metadata": {},
   "outputs": [
    {
     "name": "stdout",
     "output_type": "stream",
     "text": [
      "LGBMRegressor\n",
      "RMSE = 42.248900643515846\n"
     ]
    }
   ],
   "source": [
    "mse = mean_squared_error(target_test, predicted_valid) \n",
    "print(\"LGBMRegressor\")\n",
    "print(\"RMSE =\", mse ** 0.5)"
   ]
  },
  {
   "cell_type": "markdown",
   "metadata": {},
   "source": [
    "## Тестирование"
   ]
  },
  {
   "cell_type": "markdown",
   "metadata": {},
   "source": [
    "Лучший результат показала модель LGBMRegressor с параметрами num_leaves=15, max_depth=17, metric='rmse'"
   ]
  },
  {
   "cell_type": "markdown",
   "metadata": {},
   "source": [
    "Проверим ее на тесте"
   ]
  },
  {
   "cell_type": "code",
   "execution_count": 78,
   "metadata": {
    "scrolled": true
   },
   "outputs": [
    {
     "name": "stdout",
     "output_type": "stream",
     "text": [
      "LGBMRegressor финальный\n",
      "RMSE = 42.248900643515846\n"
     ]
    }
   ],
   "source": [
    "model = lgb.LGBMRegressor(num_leaves=15, max_depth=17, metric='rmse')\n",
    "model.fit(features_train, target_train)\n",
    "predicted_valid = model.predict(features_test)\n",
    "mse = mean_squared_error(target_test, predicted_valid) \n",
    "print(\"LGBMRegressor финальный\")\n",
    "print(\"RMSE =\", mse ** 0.5)"
   ]
  },
  {
   "cell_type": "markdown",
   "metadata": {},
   "source": [
    "## Вывод\n",
    "\n",
    "- Загрузил и посмотрел данные в таблице\n",
    "- Провел декомпозицию и вывел графики - обнаружил следующие закономерности: ближе к лету и летом количество заказов такси растет, в рамках одного дня также есть зависимость - в 00-00 заказов существенно больше чем в 06-00\n",
    "- добавил признаки для обучения (год, месяц, день недели и час), а также скользящее среднее за 24 часа и сдвиг (лаг) в рамках недели - 7 дней\n",
    "- провел обучение и выбор модели из линейной регрессии, случайного леса и бустинга\n",
    "- Далее протестировал модель и результат итоговой метрики RMSE = 42.248900643515846, что ниже нужных 48 - задача выполнена"
   ]
  },
  {
   "cell_type": "markdown",
   "metadata": {},
   "source": [
    "## Чек-лист проверки"
   ]
  },
  {
   "cell_type": "markdown",
   "metadata": {},
   "source": [
    "- [x]  Jupyter Notebook открыт\n",
    "- [x]  Весь код выполняется без ошибок\n",
    "- [x]  Ячейки с кодом расположены в порядке исполнения\n",
    "- [x]  Данные загружены и подготовлены\n",
    "- [x]  Данные проанализированы\n",
    "- [x]  Модель обучена, гиперпараметры подобраны\n",
    "- [x]  Качество моделей проверено, выводы сделаны\n",
    "- [x]  Значение *RMSE* на тестовой выборке не больше 48"
   ]
  },
  {
   "cell_type": "code",
   "execution_count": null,
   "metadata": {},
   "outputs": [],
   "source": []
  }
 ],
 "metadata": {
  "ExecuteTimeLog": [
   {
    "duration": 502,
    "start_time": "2022-06-22T18:55:47.707Z"
   },
   {
    "duration": 123,
    "start_time": "2022-06-22T18:57:23.340Z"
   },
   {
    "duration": 11,
    "start_time": "2022-06-22T18:57:24.270Z"
   },
   {
    "duration": 12,
    "start_time": "2022-06-22T19:26:05.320Z"
   },
   {
    "duration": 42,
    "start_time": "2022-06-22T19:27:58.256Z"
   },
   {
    "duration": 8,
    "start_time": "2022-06-22T19:27:58.819Z"
   },
   {
    "duration": 6,
    "start_time": "2022-06-22T19:28:05.568Z"
   },
   {
    "duration": 9,
    "start_time": "2022-06-22T19:28:51.169Z"
   },
   {
    "duration": 7,
    "start_time": "2022-06-22T19:28:59.519Z"
   },
   {
    "duration": 36,
    "start_time": "2022-06-22T20:43:15.592Z"
   },
   {
    "duration": 10,
    "start_time": "2022-06-22T20:43:16.486Z"
   },
   {
    "duration": 6,
    "start_time": "2022-06-22T20:43:18.336Z"
   },
   {
    "duration": 11,
    "start_time": "2022-06-22T20:43:20.833Z"
   },
   {
    "duration": 6,
    "start_time": "2022-06-22T20:43:27.839Z"
   },
   {
    "duration": 40,
    "start_time": "2022-06-22T20:44:45.311Z"
   },
   {
    "duration": 9,
    "start_time": "2022-06-22T20:44:46.122Z"
   },
   {
    "duration": 6,
    "start_time": "2022-06-22T20:44:50.301Z"
   },
   {
    "duration": 6,
    "start_time": "2022-06-22T20:44:54.317Z"
   },
   {
    "duration": 7,
    "start_time": "2022-06-22T20:44:56.341Z"
   },
   {
    "duration": 7,
    "start_time": "2022-06-22T20:45:07.553Z"
   },
   {
    "duration": 6,
    "start_time": "2022-06-22T20:55:51.604Z"
   },
   {
    "duration": 7,
    "start_time": "2022-06-22T20:57:49.106Z"
   },
   {
    "duration": 736,
    "start_time": "2022-06-22T20:57:54.527Z"
   },
   {
    "duration": 9,
    "start_time": "2022-06-22T20:57:55.265Z"
   },
   {
    "duration": 8,
    "start_time": "2022-06-22T20:57:55.689Z"
   },
   {
    "duration": 5,
    "start_time": "2022-06-22T20:57:56.315Z"
   },
   {
    "duration": 6,
    "start_time": "2022-06-22T20:57:56.923Z"
   },
   {
    "duration": 4,
    "start_time": "2022-06-22T20:58:00.572Z"
   },
   {
    "duration": 3,
    "start_time": "2022-06-22T20:58:31.068Z"
   },
   {
    "duration": 8,
    "start_time": "2022-06-22T21:00:56.862Z"
   },
   {
    "duration": 9,
    "start_time": "2022-06-22T21:01:32.439Z"
   },
   {
    "duration": 85,
    "start_time": "2022-06-22T21:18:16.949Z"
   },
   {
    "duration": 6,
    "start_time": "2022-06-22T21:19:08.910Z"
   },
   {
    "duration": 42,
    "start_time": "2022-06-22T21:19:16.133Z"
   },
   {
    "duration": 9,
    "start_time": "2022-06-22T21:19:16.590Z"
   },
   {
    "duration": 3,
    "start_time": "2022-06-22T21:19:17.381Z"
   },
   {
    "duration": 6,
    "start_time": "2022-06-22T21:19:18.207Z"
   },
   {
    "duration": 7,
    "start_time": "2022-06-22T21:19:19.084Z"
   },
   {
    "duration": 7,
    "start_time": "2022-06-22T21:21:03.529Z"
   },
   {
    "duration": 3,
    "start_time": "2022-06-22T21:22:19.457Z"
   },
   {
    "duration": 3,
    "start_time": "2022-06-22T21:22:32.050Z"
   },
   {
    "duration": 7,
    "start_time": "2022-06-22T21:23:46.991Z"
   },
   {
    "duration": 5,
    "start_time": "2022-06-22T21:24:09.197Z"
   },
   {
    "duration": 576,
    "start_time": "2022-06-22T21:25:24.777Z"
   },
   {
    "duration": 9,
    "start_time": "2022-06-22T21:25:44.655Z"
   },
   {
    "duration": 4,
    "start_time": "2022-06-22T21:26:31.430Z"
   },
   {
    "duration": 3,
    "start_time": "2022-06-22T21:26:37.984Z"
   },
   {
    "duration": 1918,
    "start_time": "2022-06-23T18:13:19.463Z"
   },
   {
    "duration": 24,
    "start_time": "2022-06-23T18:13:21.383Z"
   },
   {
    "duration": 22,
    "start_time": "2022-06-23T18:13:21.413Z"
   },
   {
    "duration": 24,
    "start_time": "2022-06-23T18:13:21.438Z"
   },
   {
    "duration": 35,
    "start_time": "2022-06-23T18:13:21.472Z"
   },
   {
    "duration": 25,
    "start_time": "2022-06-23T18:13:21.514Z"
   },
   {
    "duration": 63,
    "start_time": "2022-06-23T18:13:21.542Z"
   },
   {
    "duration": 43,
    "start_time": "2022-06-23T18:13:21.609Z"
   },
   {
    "duration": 79,
    "start_time": "2022-06-23T18:13:21.653Z"
   },
   {
    "duration": 833,
    "start_time": "2022-06-23T18:13:21.734Z"
   },
   {
    "duration": 11,
    "start_time": "2022-06-23T18:13:22.569Z"
   },
   {
    "duration": 12,
    "start_time": "2022-06-23T18:13:22.581Z"
   },
   {
    "duration": 23,
    "start_time": "2022-06-23T18:13:22.595Z"
   },
   {
    "duration": 8,
    "start_time": "2022-06-23T18:13:53.204Z"
   },
   {
    "duration": 369,
    "start_time": "2022-06-23T18:14:06.229Z"
   },
   {
    "duration": 10,
    "start_time": "2022-06-23T18:14:14.815Z"
   },
   {
    "duration": 1359,
    "start_time": "2022-06-24T11:38:08.888Z"
   },
   {
    "duration": 11,
    "start_time": "2022-06-24T11:38:10.248Z"
   },
   {
    "duration": 6,
    "start_time": "2022-06-24T11:38:10.260Z"
   },
   {
    "duration": 13,
    "start_time": "2022-06-24T11:38:10.267Z"
   },
   {
    "duration": 15,
    "start_time": "2022-06-24T11:38:10.282Z"
   },
   {
    "duration": 6,
    "start_time": "2022-06-24T11:38:10.299Z"
   },
   {
    "duration": 6,
    "start_time": "2022-06-24T11:38:10.306Z"
   },
   {
    "duration": 19,
    "start_time": "2022-06-24T11:38:10.314Z"
   },
   {
    "duration": 6,
    "start_time": "2022-06-24T11:38:10.334Z"
   },
   {
    "duration": 7,
    "start_time": "2022-06-24T11:38:10.341Z"
   },
   {
    "duration": 564,
    "start_time": "2022-06-24T11:38:10.349Z"
   },
   {
    "duration": 17,
    "start_time": "2022-06-24T11:38:10.915Z"
   },
   {
    "duration": 5,
    "start_time": "2022-06-24T11:38:10.934Z"
   },
   {
    "duration": 5,
    "start_time": "2022-06-24T11:38:10.942Z"
   },
   {
    "duration": 6,
    "start_time": "2022-06-24T11:39:27.025Z"
   },
   {
    "duration": 7,
    "start_time": "2022-06-24T11:39:29.316Z"
   },
   {
    "duration": 45,
    "start_time": "2022-06-24T11:39:34.425Z"
   },
   {
    "duration": 10,
    "start_time": "2022-06-24T11:39:35.394Z"
   },
   {
    "duration": 3,
    "start_time": "2022-06-24T11:39:36.002Z"
   },
   {
    "duration": 6,
    "start_time": "2022-06-24T11:39:36.885Z"
   },
   {
    "duration": 7,
    "start_time": "2022-06-24T11:39:38.185Z"
   },
   {
    "duration": 6,
    "start_time": "2022-06-24T11:41:00.630Z"
   },
   {
    "duration": 4,
    "start_time": "2022-06-24T11:41:04.832Z"
   },
   {
    "duration": 7,
    "start_time": "2022-06-24T11:41:08.575Z"
   },
   {
    "duration": 6,
    "start_time": "2022-06-24T11:41:08.970Z"
   },
   {
    "duration": 6,
    "start_time": "2022-06-24T11:41:16.811Z"
   },
   {
    "duration": 10,
    "start_time": "2022-06-24T11:41:56.399Z"
   },
   {
    "duration": 4,
    "start_time": "2022-06-24T11:41:59.383Z"
   },
   {
    "duration": 231,
    "start_time": "2022-06-24T11:42:50.636Z"
   },
   {
    "duration": 5,
    "start_time": "2022-06-24T11:43:05.386Z"
   },
   {
    "duration": 7,
    "start_time": "2022-06-24T11:43:07.068Z"
   },
   {
    "duration": 205,
    "start_time": "2022-06-24T11:43:08.074Z"
   },
   {
    "duration": 48,
    "start_time": "2022-06-24T11:43:13.791Z"
   },
   {
    "duration": 12,
    "start_time": "2022-06-24T11:43:14.803Z"
   },
   {
    "duration": 3,
    "start_time": "2022-06-24T11:43:15.525Z"
   },
   {
    "duration": 8,
    "start_time": "2022-06-24T11:43:16.179Z"
   },
   {
    "duration": 9,
    "start_time": "2022-06-24T11:43:16.806Z"
   },
   {
    "duration": 276,
    "start_time": "2022-06-24T11:43:17.940Z"
   },
   {
    "duration": 9,
    "start_time": "2022-06-24T11:43:22.024Z"
   },
   {
    "duration": 6,
    "start_time": "2022-06-24T11:45:06.034Z"
   },
   {
    "duration": 241,
    "start_time": "2022-06-24T11:45:17.550Z"
   },
   {
    "duration": 102,
    "start_time": "2022-06-24T11:48:45.494Z"
   },
   {
    "duration": 43,
    "start_time": "2022-06-24T11:49:09.872Z"
   },
   {
    "duration": 698,
    "start_time": "2022-06-24T11:49:31.613Z"
   },
   {
    "duration": 4,
    "start_time": "2022-06-24T11:51:31.244Z"
   },
   {
    "duration": 783,
    "start_time": "2022-06-24T11:53:29.947Z"
   },
   {
    "duration": 792,
    "start_time": "2022-06-24T11:54:11.511Z"
   },
   {
    "duration": 861,
    "start_time": "2022-06-24T11:54:21.369Z"
   },
   {
    "duration": 1192,
    "start_time": "2022-06-24T11:54:36.206Z"
   },
   {
    "duration": 42,
    "start_time": "2022-06-24T12:01:06.072Z"
   },
   {
    "duration": 10,
    "start_time": "2022-06-24T12:01:06.116Z"
   },
   {
    "duration": 12,
    "start_time": "2022-06-24T12:01:06.128Z"
   },
   {
    "duration": 9,
    "start_time": "2022-06-24T12:01:06.141Z"
   },
   {
    "duration": 10,
    "start_time": "2022-06-24T12:01:06.152Z"
   },
   {
    "duration": 206,
    "start_time": "2022-06-24T12:01:06.164Z"
   },
   {
    "duration": 5,
    "start_time": "2022-06-24T12:01:06.372Z"
   },
   {
    "duration": 249,
    "start_time": "2022-06-24T12:01:06.379Z"
   },
   {
    "duration": 8,
    "start_time": "2022-06-24T12:01:06.630Z"
   },
   {
    "duration": 30,
    "start_time": "2022-06-24T12:01:06.640Z"
   },
   {
    "duration": 26,
    "start_time": "2022-06-24T12:01:06.672Z"
   },
   {
    "duration": 0,
    "start_time": "2022-06-24T12:01:06.700Z"
   },
   {
    "duration": 0,
    "start_time": "2022-06-24T12:01:06.701Z"
   },
   {
    "duration": 0,
    "start_time": "2022-06-24T12:01:06.702Z"
   },
   {
    "duration": 0,
    "start_time": "2022-06-24T12:01:06.703Z"
   },
   {
    "duration": 0,
    "start_time": "2022-06-24T12:01:06.704Z"
   },
   {
    "duration": 0,
    "start_time": "2022-06-24T12:01:06.705Z"
   },
   {
    "duration": 0,
    "start_time": "2022-06-24T12:01:06.705Z"
   },
   {
    "duration": 42,
    "start_time": "2022-06-24T12:05:03.175Z"
   },
   {
    "duration": 11,
    "start_time": "2022-06-24T12:05:03.219Z"
   },
   {
    "duration": 8,
    "start_time": "2022-06-24T12:05:03.232Z"
   },
   {
    "duration": 20,
    "start_time": "2022-06-24T12:05:03.241Z"
   },
   {
    "duration": 7,
    "start_time": "2022-06-24T12:05:03.264Z"
   },
   {
    "duration": 214,
    "start_time": "2022-06-24T12:05:03.273Z"
   },
   {
    "duration": 6,
    "start_time": "2022-06-24T12:05:03.489Z"
   },
   {
    "duration": 6,
    "start_time": "2022-06-24T12:05:03.497Z"
   },
   {
    "duration": 25,
    "start_time": "2022-06-24T12:05:03.505Z"
   },
   {
    "duration": 6,
    "start_time": "2022-06-24T12:05:03.531Z"
   },
   {
    "duration": 7,
    "start_time": "2022-06-24T12:05:03.539Z"
   },
   {
    "duration": 109,
    "start_time": "2022-06-24T12:05:03.547Z"
   },
   {
    "duration": 8,
    "start_time": "2022-06-24T12:05:03.657Z"
   },
   {
    "duration": 1106,
    "start_time": "2022-06-24T12:05:03.667Z"
   },
   {
    "duration": 5,
    "start_time": "2022-06-24T12:05:04.775Z"
   },
   {
    "duration": 234,
    "start_time": "2022-06-24T12:05:04.782Z"
   },
   {
    "duration": 10,
    "start_time": "2022-06-24T12:05:05.018Z"
   },
   {
    "duration": 33,
    "start_time": "2022-06-24T12:05:05.030Z"
   },
   {
    "duration": 4,
    "start_time": "2022-06-24T12:27:13.049Z"
   },
   {
    "duration": 9,
    "start_time": "2022-06-24T12:27:47.274Z"
   },
   {
    "duration": 42,
    "start_time": "2022-06-24T12:27:53.445Z"
   },
   {
    "duration": 10,
    "start_time": "2022-06-24T12:27:53.489Z"
   },
   {
    "duration": 3,
    "start_time": "2022-06-24T12:27:53.500Z"
   },
   {
    "duration": 9,
    "start_time": "2022-06-24T12:27:53.505Z"
   },
   {
    "duration": 9,
    "start_time": "2022-06-24T12:27:53.516Z"
   },
   {
    "duration": 188,
    "start_time": "2022-06-24T12:27:53.526Z"
   },
   {
    "duration": 11,
    "start_time": "2022-06-24T12:27:53.716Z"
   },
   {
    "duration": 7,
    "start_time": "2022-06-24T12:27:53.731Z"
   },
   {
    "duration": 9,
    "start_time": "2022-06-24T12:27:53.740Z"
   },
   {
    "duration": 5,
    "start_time": "2022-06-24T12:27:53.750Z"
   },
   {
    "duration": 7,
    "start_time": "2022-06-24T12:27:53.757Z"
   },
   {
    "duration": 113,
    "start_time": "2022-06-24T12:27:53.765Z"
   },
   {
    "duration": 8,
    "start_time": "2022-06-24T12:27:53.879Z"
   },
   {
    "duration": 1056,
    "start_time": "2022-06-24T12:27:53.889Z"
   },
   {
    "duration": 4,
    "start_time": "2022-06-24T12:27:54.947Z"
   },
   {
    "duration": 341,
    "start_time": "2022-06-24T12:27:54.953Z"
   },
   {
    "duration": 4,
    "start_time": "2022-06-24T12:27:55.295Z"
   },
   {
    "duration": 7,
    "start_time": "2022-06-24T12:27:55.301Z"
   },
   {
    "duration": 16,
    "start_time": "2022-06-24T12:27:55.310Z"
   },
   {
    "duration": 8,
    "start_time": "2022-06-24T12:27:55.328Z"
   },
   {
    "duration": 40,
    "start_time": "2022-06-24T12:28:14.926Z"
   },
   {
    "duration": 40,
    "start_time": "2022-06-24T12:28:17.383Z"
   },
   {
    "duration": 10,
    "start_time": "2022-06-24T12:28:17.424Z"
   },
   {
    "duration": 7,
    "start_time": "2022-06-24T12:28:17.435Z"
   },
   {
    "duration": 29,
    "start_time": "2022-06-24T12:28:17.444Z"
   },
   {
    "duration": 22,
    "start_time": "2022-06-24T12:28:17.475Z"
   },
   {
    "duration": 229,
    "start_time": "2022-06-24T12:28:17.498Z"
   },
   {
    "duration": 9,
    "start_time": "2022-06-24T12:28:17.728Z"
   },
   {
    "duration": 16,
    "start_time": "2022-06-24T12:28:17.739Z"
   },
   {
    "duration": 26,
    "start_time": "2022-06-24T12:28:17.757Z"
   },
   {
    "duration": 15,
    "start_time": "2022-06-24T12:28:17.785Z"
   },
   {
    "duration": 25,
    "start_time": "2022-06-24T12:28:17.801Z"
   },
   {
    "duration": 103,
    "start_time": "2022-06-24T12:28:17.828Z"
   },
   {
    "duration": 7,
    "start_time": "2022-06-24T12:28:17.934Z"
   },
   {
    "duration": 1006,
    "start_time": "2022-06-24T12:28:17.943Z"
   },
   {
    "duration": 4,
    "start_time": "2022-06-24T12:28:18.951Z"
   },
   {
    "duration": 235,
    "start_time": "2022-06-24T12:28:18.957Z"
   },
   {
    "duration": 4,
    "start_time": "2022-06-24T12:28:19.194Z"
   },
   {
    "duration": 10,
    "start_time": "2022-06-24T12:28:19.199Z"
   },
   {
    "duration": 8,
    "start_time": "2022-06-24T12:28:19.211Z"
   },
   {
    "duration": 6,
    "start_time": "2022-06-24T12:28:19.220Z"
   },
   {
    "duration": 4,
    "start_time": "2022-06-24T12:32:47.303Z"
   },
   {
    "duration": 41,
    "start_time": "2022-06-24T12:33:41.031Z"
   },
   {
    "duration": 10,
    "start_time": "2022-06-24T12:35:04.022Z"
   },
   {
    "duration": 3,
    "start_time": "2022-06-24T12:35:15.185Z"
   },
   {
    "duration": 5,
    "start_time": "2022-06-24T12:35:16.272Z"
   },
   {
    "duration": 42,
    "start_time": "2022-06-24T12:35:42.244Z"
   },
   {
    "duration": 9,
    "start_time": "2022-06-24T12:35:42.288Z"
   },
   {
    "duration": 5,
    "start_time": "2022-06-24T12:35:42.298Z"
   },
   {
    "duration": 34,
    "start_time": "2022-06-24T12:35:42.305Z"
   },
   {
    "duration": 7,
    "start_time": "2022-06-24T12:35:42.342Z"
   },
   {
    "duration": 312,
    "start_time": "2022-06-24T12:35:42.351Z"
   },
   {
    "duration": 7,
    "start_time": "2022-06-24T12:35:42.664Z"
   },
   {
    "duration": 10,
    "start_time": "2022-06-24T12:35:42.672Z"
   },
   {
    "duration": 10,
    "start_time": "2022-06-24T12:35:42.683Z"
   },
   {
    "duration": 109,
    "start_time": "2022-06-24T12:35:42.694Z"
   },
   {
    "duration": 8,
    "start_time": "2022-06-24T12:35:42.805Z"
   },
   {
    "duration": 982,
    "start_time": "2022-06-24T12:35:42.825Z"
   },
   {
    "duration": 16,
    "start_time": "2022-06-24T12:35:43.809Z"
   },
   {
    "duration": 261,
    "start_time": "2022-06-24T12:35:43.828Z"
   },
   {
    "duration": 6,
    "start_time": "2022-06-24T12:35:44.091Z"
   },
   {
    "duration": 10,
    "start_time": "2022-06-24T12:35:44.098Z"
   },
   {
    "duration": 18,
    "start_time": "2022-06-24T12:35:44.110Z"
   },
   {
    "duration": 12,
    "start_time": "2022-06-24T12:35:44.129Z"
   },
   {
    "duration": 35,
    "start_time": "2022-06-24T12:35:44.143Z"
   },
   {
    "duration": 4,
    "start_time": "2022-06-24T12:36:42.086Z"
   },
   {
    "duration": 3,
    "start_time": "2022-06-24T12:36:46.792Z"
   },
   {
    "duration": 5,
    "start_time": "2022-06-24T12:36:47.136Z"
   },
   {
    "duration": 15,
    "start_time": "2022-06-24T12:43:57.969Z"
   },
   {
    "duration": 4,
    "start_time": "2022-06-24T12:44:00.687Z"
   },
   {
    "duration": 10,
    "start_time": "2022-06-24T12:45:35.635Z"
   },
   {
    "duration": 85,
    "start_time": "2022-06-24T12:46:26.119Z"
   },
   {
    "duration": 10,
    "start_time": "2022-06-24T12:46:39.180Z"
   },
   {
    "duration": 3,
    "start_time": "2022-06-24T12:46:42.587Z"
   },
   {
    "duration": 9,
    "start_time": "2022-06-24T12:46:43.593Z"
   },
   {
    "duration": 10,
    "start_time": "2022-06-24T12:46:43.917Z"
   },
   {
    "duration": 225,
    "start_time": "2022-06-24T12:46:44.396Z"
   },
   {
    "duration": 7,
    "start_time": "2022-06-24T12:46:45.740Z"
   },
   {
    "duration": 3,
    "start_time": "2022-06-24T12:46:46.269Z"
   },
   {
    "duration": 7,
    "start_time": "2022-06-24T12:46:46.818Z"
   },
   {
    "duration": 102,
    "start_time": "2022-06-24T12:46:47.333Z"
   },
   {
    "duration": 9,
    "start_time": "2022-06-24T12:46:47.750Z"
   },
   {
    "duration": 1208,
    "start_time": "2022-06-24T12:46:48.090Z"
   },
   {
    "duration": 15,
    "start_time": "2022-06-24T12:46:50.076Z"
   },
   {
    "duration": 4,
    "start_time": "2022-06-24T12:46:51.605Z"
   },
   {
    "duration": 4,
    "start_time": "2022-06-24T12:46:53.270Z"
   },
   {
    "duration": 13,
    "start_time": "2022-06-24T12:47:15.197Z"
   },
   {
    "duration": 3,
    "start_time": "2022-06-24T12:47:28.098Z"
   },
   {
    "duration": 94,
    "start_time": "2022-06-24T12:47:53.879Z"
   },
   {
    "duration": 100,
    "start_time": "2022-06-24T12:48:07.483Z"
   },
   {
    "duration": 114,
    "start_time": "2022-06-24T12:49:15.003Z"
   },
   {
    "duration": 8,
    "start_time": "2022-06-24T12:49:23.912Z"
   },
   {
    "duration": 11,
    "start_time": "2022-06-24T12:49:25.191Z"
   },
   {
    "duration": 9,
    "start_time": "2022-06-24T12:50:43.611Z"
   },
   {
    "duration": 9,
    "start_time": "2022-06-24T12:50:54.962Z"
   },
   {
    "duration": 4,
    "start_time": "2022-06-24T12:51:08.166Z"
   },
   {
    "duration": 41,
    "start_time": "2022-06-24T12:52:40.486Z"
   },
   {
    "duration": 10,
    "start_time": "2022-06-24T12:52:40.529Z"
   },
   {
    "duration": 3,
    "start_time": "2022-06-24T12:52:40.541Z"
   },
   {
    "duration": 9,
    "start_time": "2022-06-24T12:52:40.545Z"
   },
   {
    "duration": 7,
    "start_time": "2022-06-24T12:52:40.557Z"
   },
   {
    "duration": 241,
    "start_time": "2022-06-24T12:52:40.566Z"
   },
   {
    "duration": 7,
    "start_time": "2022-06-24T12:52:40.808Z"
   },
   {
    "duration": 11,
    "start_time": "2022-06-24T12:52:40.817Z"
   },
   {
    "duration": 12,
    "start_time": "2022-06-24T12:52:40.829Z"
   },
   {
    "duration": 120,
    "start_time": "2022-06-24T12:52:40.843Z"
   },
   {
    "duration": 8,
    "start_time": "2022-06-24T12:52:40.964Z"
   },
   {
    "duration": 1094,
    "start_time": "2022-06-24T12:52:40.973Z"
   },
   {
    "duration": 15,
    "start_time": "2022-06-24T12:52:42.069Z"
   },
   {
    "duration": 5,
    "start_time": "2022-06-24T12:52:42.087Z"
   },
   {
    "duration": 6,
    "start_time": "2022-06-24T12:52:42.093Z"
   },
   {
    "duration": 10,
    "start_time": "2022-06-24T12:52:42.125Z"
   },
   {
    "duration": 9,
    "start_time": "2022-06-24T12:52:42.137Z"
   },
   {
    "duration": 182,
    "start_time": "2022-06-24T12:52:42.148Z"
   },
   {
    "duration": 6,
    "start_time": "2022-06-24T12:52:42.332Z"
   },
   {
    "duration": 36,
    "start_time": "2022-06-24T12:52:42.339Z"
   },
   {
    "duration": 8,
    "start_time": "2022-06-24T12:52:42.376Z"
   },
   {
    "duration": 12,
    "start_time": "2022-06-24T12:52:42.385Z"
   },
   {
    "duration": 5,
    "start_time": "2022-06-24T12:52:53.227Z"
   },
   {
    "duration": 3,
    "start_time": "2022-06-24T12:53:56.776Z"
   },
   {
    "duration": 393,
    "start_time": "2022-06-24T12:53:57.218Z"
   },
   {
    "duration": 45,
    "start_time": "2022-06-24T12:53:57.780Z"
   },
   {
    "duration": 5,
    "start_time": "2022-06-24T12:53:59.211Z"
   },
   {
    "duration": 1338,
    "start_time": "2022-06-26T11:08:09.908Z"
   },
   {
    "duration": 554,
    "start_time": "2022-06-26T11:12:31.250Z"
   },
   {
    "duration": 13,
    "start_time": "2022-06-26T11:12:31.806Z"
   },
   {
    "duration": 4,
    "start_time": "2022-06-26T11:12:31.821Z"
   },
   {
    "duration": 22,
    "start_time": "2022-06-26T11:12:31.826Z"
   },
   {
    "duration": 22,
    "start_time": "2022-06-26T11:12:31.850Z"
   },
   {
    "duration": 237,
    "start_time": "2022-06-26T11:12:31.874Z"
   },
   {
    "duration": 7,
    "start_time": "2022-06-26T11:12:32.113Z"
   },
   {
    "duration": 10,
    "start_time": "2022-06-26T11:12:32.122Z"
   },
   {
    "duration": 12,
    "start_time": "2022-06-26T11:12:32.134Z"
   },
   {
    "duration": 126,
    "start_time": "2022-06-26T11:12:32.147Z"
   },
   {
    "duration": 8,
    "start_time": "2022-06-26T11:12:32.275Z"
   },
   {
    "duration": 1232,
    "start_time": "2022-06-26T11:12:32.284Z"
   },
   {
    "duration": 16,
    "start_time": "2022-06-26T11:12:33.518Z"
   },
   {
    "duration": 3,
    "start_time": "2022-06-26T11:12:33.537Z"
   },
   {
    "duration": 4,
    "start_time": "2022-06-26T11:12:33.542Z"
   },
   {
    "duration": 31,
    "start_time": "2022-06-26T11:12:33.547Z"
   },
   {
    "duration": 182,
    "start_time": "2022-06-26T11:12:33.580Z"
   },
   {
    "duration": 102,
    "start_time": "2022-06-26T11:12:33.764Z"
   },
   {
    "duration": 12,
    "start_time": "2022-06-26T11:12:33.868Z"
   },
   {
    "duration": 32,
    "start_time": "2022-06-26T11:12:33.882Z"
   },
   {
    "duration": 7,
    "start_time": "2022-06-26T11:12:33.916Z"
   },
   {
    "duration": 12,
    "start_time": "2022-06-26T11:12:33.925Z"
   },
   {
    "duration": 9,
    "start_time": "2022-06-26T11:12:33.939Z"
   },
   {
    "duration": 445,
    "start_time": "2022-06-26T11:12:33.949Z"
   },
   {
    "duration": 40,
    "start_time": "2022-06-26T11:12:34.395Z"
   },
   {
    "duration": 4,
    "start_time": "2022-06-26T11:12:34.437Z"
   },
   {
    "duration": 13,
    "start_time": "2022-06-26T11:12:34.442Z"
   },
   {
    "duration": 29,
    "start_time": "2022-06-26T11:12:34.456Z"
   },
   {
    "duration": 18778,
    "start_time": "2022-06-26T11:12:34.486Z"
   },
   {
    "duration": 104,
    "start_time": "2022-06-26T11:12:53.269Z"
   },
   {
    "duration": 6,
    "start_time": "2022-06-26T11:12:53.374Z"
   },
   {
    "duration": 128,
    "start_time": "2022-06-26T11:12:53.381Z"
   },
   {
    "duration": 469,
    "start_time": "2022-06-26T11:19:51.427Z"
   },
   {
    "duration": 51,
    "start_time": "2022-06-26T11:19:57.127Z"
   },
   {
    "duration": 12,
    "start_time": "2022-06-26T11:19:57.181Z"
   },
   {
    "duration": 6,
    "start_time": "2022-06-26T11:19:57.196Z"
   },
   {
    "duration": 22,
    "start_time": "2022-06-26T11:19:57.203Z"
   },
   {
    "duration": 21,
    "start_time": "2022-06-26T11:19:57.228Z"
   },
   {
    "duration": 282,
    "start_time": "2022-06-26T11:19:57.251Z"
   },
   {
    "duration": 6,
    "start_time": "2022-06-26T11:19:57.535Z"
   },
   {
    "duration": 7,
    "start_time": "2022-06-26T11:19:57.543Z"
   },
   {
    "duration": 13,
    "start_time": "2022-06-26T11:19:57.551Z"
   },
   {
    "duration": 109,
    "start_time": "2022-06-26T11:19:57.570Z"
   },
   {
    "duration": 7,
    "start_time": "2022-06-26T11:19:57.681Z"
   },
   {
    "duration": 1014,
    "start_time": "2022-06-26T11:19:57.689Z"
   },
   {
    "duration": 15,
    "start_time": "2022-06-26T11:19:58.705Z"
   },
   {
    "duration": 4,
    "start_time": "2022-06-26T11:19:58.723Z"
   },
   {
    "duration": 11,
    "start_time": "2022-06-26T11:19:58.729Z"
   },
   {
    "duration": 99,
    "start_time": "2022-06-26T11:19:58.742Z"
   },
   {
    "duration": 60,
    "start_time": "2022-06-26T11:19:58.843Z"
   },
   {
    "duration": 4,
    "start_time": "2022-06-26T11:19:58.905Z"
   },
   {
    "duration": 9,
    "start_time": "2022-06-26T11:19:58.910Z"
   },
   {
    "duration": 78,
    "start_time": "2022-06-26T11:19:58.920Z"
   },
   {
    "duration": 71,
    "start_time": "2022-06-26T11:19:59.000Z"
   },
   {
    "duration": 4,
    "start_time": "2022-06-26T11:19:59.073Z"
   },
   {
    "duration": 8,
    "start_time": "2022-06-26T11:19:59.078Z"
   },
   {
    "duration": 64,
    "start_time": "2022-06-26T11:19:59.087Z"
   },
   {
    "duration": 69,
    "start_time": "2022-06-26T11:19:59.153Z"
   },
   {
    "duration": 4,
    "start_time": "2022-06-26T11:19:59.224Z"
   },
   {
    "duration": 6,
    "start_time": "2022-06-26T11:19:59.229Z"
   },
   {
    "duration": 5,
    "start_time": "2022-06-26T11:19:59.237Z"
   },
   {
    "duration": 13934,
    "start_time": "2022-06-26T11:19:59.244Z"
   },
   {
    "duration": 98,
    "start_time": "2022-06-26T11:20:13.180Z"
   },
   {
    "duration": 5,
    "start_time": "2022-06-26T11:20:13.281Z"
   },
   {
    "duration": 86,
    "start_time": "2022-06-26T11:20:13.287Z"
   },
   {
    "duration": 45,
    "start_time": "2022-06-26T11:20:33.988Z"
   },
   {
    "duration": 8,
    "start_time": "2022-06-26T11:20:34.035Z"
   },
   {
    "duration": 6,
    "start_time": "2022-06-26T11:20:34.045Z"
   },
   {
    "duration": 19,
    "start_time": "2022-06-26T11:20:34.052Z"
   },
   {
    "duration": 9,
    "start_time": "2022-06-26T11:20:34.073Z"
   },
   {
    "duration": 302,
    "start_time": "2022-06-26T11:20:34.083Z"
   },
   {
    "duration": 7,
    "start_time": "2022-06-26T11:20:34.386Z"
   },
   {
    "duration": 5,
    "start_time": "2022-06-26T11:20:34.394Z"
   },
   {
    "duration": 9,
    "start_time": "2022-06-26T11:20:34.401Z"
   },
   {
    "duration": 120,
    "start_time": "2022-06-26T11:20:34.411Z"
   },
   {
    "duration": 8,
    "start_time": "2022-06-26T11:20:34.532Z"
   },
   {
    "duration": 1073,
    "start_time": "2022-06-26T11:20:34.541Z"
   },
   {
    "duration": 16,
    "start_time": "2022-06-26T11:20:35.616Z"
   },
   {
    "duration": 4,
    "start_time": "2022-06-26T11:20:35.634Z"
   },
   {
    "duration": 8,
    "start_time": "2022-06-26T11:20:35.639Z"
   },
   {
    "duration": 20,
    "start_time": "2022-06-26T11:20:35.662Z"
   },
   {
    "duration": 8,
    "start_time": "2022-06-26T11:20:35.684Z"
   },
   {
    "duration": 75,
    "start_time": "2022-06-26T11:20:35.693Z"
   },
   {
    "duration": 99,
    "start_time": "2022-06-26T11:20:35.773Z"
   },
   {
    "duration": 38,
    "start_time": "2022-06-26T11:20:35.874Z"
   },
   {
    "duration": 8,
    "start_time": "2022-06-26T11:20:35.913Z"
   },
   {
    "duration": 6,
    "start_time": "2022-06-26T11:20:35.922Z"
   },
   {
    "duration": 5,
    "start_time": "2022-06-26T11:20:35.929Z"
   },
   {
    "duration": 417,
    "start_time": "2022-06-26T11:20:35.936Z"
   },
   {
    "duration": 55,
    "start_time": "2022-06-26T11:20:36.354Z"
   },
   {
    "duration": 4,
    "start_time": "2022-06-26T11:20:36.410Z"
   },
   {
    "duration": 7,
    "start_time": "2022-06-26T11:20:36.416Z"
   },
   {
    "duration": 7,
    "start_time": "2022-06-26T11:20:36.424Z"
   },
   {
    "duration": 17250,
    "start_time": "2022-06-26T11:20:36.432Z"
   },
   {
    "duration": 91,
    "start_time": "2022-06-26T11:20:53.685Z"
   },
   {
    "duration": 16,
    "start_time": "2022-06-26T11:20:53.778Z"
   },
   {
    "duration": 555,
    "start_time": "2022-06-26T11:20:53.795Z"
   },
   {
    "duration": 1692,
    "start_time": "2022-06-27T08:03:11.441Z"
   },
   {
    "duration": 10,
    "start_time": "2022-06-27T08:11:56.900Z"
   },
   {
    "duration": 10,
    "start_time": "2022-06-27T08:11:57.632Z"
   },
   {
    "duration": 218,
    "start_time": "2022-06-27T08:12:00.208Z"
   },
   {
    "duration": 6,
    "start_time": "2022-06-27T08:12:08.294Z"
   },
   {
    "duration": 5,
    "start_time": "2022-06-27T08:12:10.619Z"
   },
   {
    "duration": 7,
    "start_time": "2022-06-27T08:12:16.164Z"
   },
   {
    "duration": 89,
    "start_time": "2022-06-27T08:12:17.478Z"
   },
   {
    "duration": 8,
    "start_time": "2022-06-27T08:12:18.353Z"
   },
   {
    "duration": 1178,
    "start_time": "2022-06-27T08:12:19.082Z"
   },
   {
    "duration": 32,
    "start_time": "2022-06-27T08:20:17.686Z"
   },
   {
    "duration": 10,
    "start_time": "2022-06-27T08:20:17.720Z"
   },
   {
    "duration": 12,
    "start_time": "2022-06-27T08:20:17.731Z"
   },
   {
    "duration": 11,
    "start_time": "2022-06-27T08:20:17.744Z"
   },
   {
    "duration": 12,
    "start_time": "2022-06-27T08:20:17.757Z"
   },
   {
    "duration": 219,
    "start_time": "2022-06-27T08:20:17.771Z"
   },
   {
    "duration": 7,
    "start_time": "2022-06-27T08:20:17.992Z"
   },
   {
    "duration": 7,
    "start_time": "2022-06-27T08:20:18.000Z"
   },
   {
    "duration": 21,
    "start_time": "2022-06-27T08:20:18.008Z"
   },
   {
    "duration": 103,
    "start_time": "2022-06-27T08:20:18.030Z"
   },
   {
    "duration": 18,
    "start_time": "2022-06-27T08:20:18.135Z"
   },
   {
    "duration": 1094,
    "start_time": "2022-06-27T08:20:18.154Z"
   },
   {
    "duration": 125,
    "start_time": "2022-06-27T08:20:19.251Z"
   },
   {
    "duration": 4,
    "start_time": "2022-06-27T08:20:19.378Z"
   },
   {
    "duration": 18,
    "start_time": "2022-06-27T08:20:19.383Z"
   },
   {
    "duration": 19,
    "start_time": "2022-06-27T08:20:19.402Z"
   },
   {
    "duration": 111,
    "start_time": "2022-06-27T08:20:19.453Z"
   },
   {
    "duration": 89,
    "start_time": "2022-06-27T08:20:19.566Z"
   },
   {
    "duration": 2,
    "start_time": "2022-06-27T08:20:19.657Z"
   },
   {
    "duration": 121,
    "start_time": "2022-06-27T08:20:19.661Z"
   },
   {
    "duration": 8,
    "start_time": "2022-06-27T08:20:19.784Z"
   },
   {
    "duration": 7,
    "start_time": "2022-06-27T08:20:19.794Z"
   },
   {
    "duration": 4,
    "start_time": "2022-06-27T08:20:19.803Z"
   },
   {
    "duration": 455,
    "start_time": "2022-06-27T08:20:19.809Z"
   },
   {
    "duration": 45,
    "start_time": "2022-06-27T08:20:20.266Z"
   },
   {
    "duration": 4,
    "start_time": "2022-06-27T08:20:20.313Z"
   },
   {
    "duration": 9,
    "start_time": "2022-06-27T08:20:20.320Z"
   },
   {
    "duration": 10,
    "start_time": "2022-06-27T08:20:20.330Z"
   },
   {
    "duration": 51916,
    "start_time": "2022-06-27T08:20:20.352Z"
   },
   {
    "duration": 100,
    "start_time": "2022-06-27T08:21:12.270Z"
   },
   {
    "duration": 6,
    "start_time": "2022-06-27T08:21:12.372Z"
   },
   {
    "duration": 483,
    "start_time": "2022-06-27T08:21:12.452Z"
   },
   {
    "duration": 10,
    "start_time": "2022-06-27T08:21:12.937Z"
   },
   {
    "duration": 1707,
    "start_time": "2022-07-07T10:49:41.254Z"
   },
   {
    "duration": 11,
    "start_time": "2022-07-07T10:49:42.963Z"
   },
   {
    "duration": 6,
    "start_time": "2022-07-07T10:49:42.976Z"
   },
   {
    "duration": 26,
    "start_time": "2022-07-07T10:49:42.984Z"
   },
   {
    "duration": 20,
    "start_time": "2022-07-07T10:49:43.012Z"
   },
   {
    "duration": 242,
    "start_time": "2022-07-07T10:49:43.033Z"
   },
   {
    "duration": 6,
    "start_time": "2022-07-07T10:49:43.277Z"
   },
   {
    "duration": 6,
    "start_time": "2022-07-07T10:49:43.285Z"
   },
   {
    "duration": 10,
    "start_time": "2022-07-07T10:49:43.292Z"
   },
   {
    "duration": 108,
    "start_time": "2022-07-07T10:49:43.304Z"
   },
   {
    "duration": 6,
    "start_time": "2022-07-07T10:49:43.414Z"
   },
   {
    "duration": 1107,
    "start_time": "2022-07-07T10:49:43.422Z"
   },
   {
    "duration": 20,
    "start_time": "2022-07-07T10:49:44.531Z"
   },
   {
    "duration": 10,
    "start_time": "2022-07-07T10:49:44.555Z"
   },
   {
    "duration": 20,
    "start_time": "2022-07-07T10:49:44.567Z"
   },
   {
    "duration": 9,
    "start_time": "2022-07-07T10:49:44.589Z"
   },
   {
    "duration": 64,
    "start_time": "2022-07-07T10:49:44.599Z"
   },
   {
    "duration": 99,
    "start_time": "2022-07-07T10:49:44.745Z"
   },
   {
    "duration": 112,
    "start_time": "2022-07-07T10:49:44.846Z"
   },
   {
    "duration": 7,
    "start_time": "2022-07-07T10:49:44.959Z"
   },
   {
    "duration": 30,
    "start_time": "2022-07-07T10:49:44.967Z"
   },
   {
    "duration": 8,
    "start_time": "2022-07-07T10:49:44.998Z"
   },
   {
    "duration": 6,
    "start_time": "2022-07-07T10:49:45.007Z"
   },
   {
    "duration": 25,
    "start_time": "2022-07-07T10:49:45.014Z"
   },
   {
    "duration": 392,
    "start_time": "2022-07-07T10:49:45.040Z"
   },
   {
    "duration": 53,
    "start_time": "2022-07-07T10:49:45.434Z"
   },
   {
    "duration": 3,
    "start_time": "2022-07-07T10:49:45.489Z"
   },
   {
    "duration": 4,
    "start_time": "2022-07-07T10:49:45.494Z"
   },
   {
    "duration": 7,
    "start_time": "2022-07-07T10:49:45.499Z"
   },
   {
    "duration": 7843,
    "start_time": "2022-07-07T10:49:45.507Z"
   },
   {
    "duration": 98,
    "start_time": "2022-07-07T10:49:53.352Z"
   },
   {
    "duration": 10,
    "start_time": "2022-07-07T10:49:53.455Z"
   },
   {
    "duration": 458,
    "start_time": "2022-07-07T10:49:53.466Z"
   },
   {
    "duration": 42,
    "start_time": "2022-07-07T10:58:41.136Z"
   },
   {
    "duration": 11,
    "start_time": "2022-07-07T10:58:41.180Z"
   },
   {
    "duration": 4,
    "start_time": "2022-07-07T10:58:41.192Z"
   },
   {
    "duration": 10,
    "start_time": "2022-07-07T10:58:41.197Z"
   },
   {
    "duration": 38,
    "start_time": "2022-07-07T10:58:41.209Z"
   },
   {
    "duration": 285,
    "start_time": "2022-07-07T10:58:41.249Z"
   },
   {
    "duration": 13,
    "start_time": "2022-07-07T10:58:41.537Z"
   },
   {
    "duration": 12,
    "start_time": "2022-07-07T10:58:41.552Z"
   },
   {
    "duration": 33,
    "start_time": "2022-07-07T10:58:41.565Z"
   },
   {
    "duration": 98,
    "start_time": "2022-07-07T10:58:41.600Z"
   },
   {
    "duration": 10,
    "start_time": "2022-07-07T10:58:41.700Z"
   },
   {
    "duration": 49,
    "start_time": "2022-07-07T10:58:41.713Z"
   },
   {
    "duration": 0,
    "start_time": "2022-07-07T10:58:41.764Z"
   },
   {
    "duration": 0,
    "start_time": "2022-07-07T10:58:41.767Z"
   },
   {
    "duration": 0,
    "start_time": "2022-07-07T10:58:41.769Z"
   },
   {
    "duration": 0,
    "start_time": "2022-07-07T10:58:41.770Z"
   },
   {
    "duration": 0,
    "start_time": "2022-07-07T10:58:41.772Z"
   },
   {
    "duration": 0,
    "start_time": "2022-07-07T10:58:41.774Z"
   },
   {
    "duration": 0,
    "start_time": "2022-07-07T10:58:41.775Z"
   },
   {
    "duration": 0,
    "start_time": "2022-07-07T10:58:41.776Z"
   },
   {
    "duration": 0,
    "start_time": "2022-07-07T10:58:41.777Z"
   },
   {
    "duration": 0,
    "start_time": "2022-07-07T10:58:41.779Z"
   },
   {
    "duration": 0,
    "start_time": "2022-07-07T10:58:41.780Z"
   },
   {
    "duration": 0,
    "start_time": "2022-07-07T10:58:41.781Z"
   },
   {
    "duration": 0,
    "start_time": "2022-07-07T10:58:41.783Z"
   },
   {
    "duration": 0,
    "start_time": "2022-07-07T10:58:41.784Z"
   },
   {
    "duration": 0,
    "start_time": "2022-07-07T10:58:41.785Z"
   },
   {
    "duration": 0,
    "start_time": "2022-07-07T10:58:41.787Z"
   },
   {
    "duration": 0,
    "start_time": "2022-07-07T10:58:41.789Z"
   },
   {
    "duration": 0,
    "start_time": "2022-07-07T10:58:41.790Z"
   },
   {
    "duration": 0,
    "start_time": "2022-07-07T10:58:41.792Z"
   },
   {
    "duration": 0,
    "start_time": "2022-07-07T10:58:41.794Z"
   },
   {
    "duration": 0,
    "start_time": "2022-07-07T10:58:41.795Z"
   },
   {
    "duration": 35,
    "start_time": "2022-07-07T11:01:17.261Z"
   },
   {
    "duration": 13,
    "start_time": "2022-07-07T11:01:17.298Z"
   },
   {
    "duration": 3,
    "start_time": "2022-07-07T11:01:17.313Z"
   },
   {
    "duration": 8,
    "start_time": "2022-07-07T11:01:17.319Z"
   },
   {
    "duration": 7,
    "start_time": "2022-07-07T11:01:17.329Z"
   },
   {
    "duration": 228,
    "start_time": "2022-07-07T11:01:17.343Z"
   },
   {
    "duration": 7,
    "start_time": "2022-07-07T11:01:17.573Z"
   },
   {
    "duration": 5,
    "start_time": "2022-07-07T11:01:17.582Z"
   },
   {
    "duration": 7,
    "start_time": "2022-07-07T11:01:17.589Z"
   },
   {
    "duration": 121,
    "start_time": "2022-07-07T11:01:17.598Z"
   },
   {
    "duration": 8,
    "start_time": "2022-07-07T11:01:17.721Z"
   },
   {
    "duration": 1161,
    "start_time": "2022-07-07T11:01:17.731Z"
   },
   {
    "duration": 132,
    "start_time": "2022-07-07T11:01:18.894Z"
   },
   {
    "duration": 0,
    "start_time": "2022-07-07T11:01:19.028Z"
   },
   {
    "duration": 0,
    "start_time": "2022-07-07T11:01:19.029Z"
   },
   {
    "duration": 0,
    "start_time": "2022-07-07T11:01:19.029Z"
   },
   {
    "duration": 0,
    "start_time": "2022-07-07T11:01:19.030Z"
   },
   {
    "duration": 0,
    "start_time": "2022-07-07T11:01:19.031Z"
   },
   {
    "duration": 0,
    "start_time": "2022-07-07T11:01:19.032Z"
   },
   {
    "duration": 0,
    "start_time": "2022-07-07T11:01:19.032Z"
   },
   {
    "duration": 0,
    "start_time": "2022-07-07T11:01:19.033Z"
   },
   {
    "duration": 0,
    "start_time": "2022-07-07T11:01:19.033Z"
   },
   {
    "duration": 0,
    "start_time": "2022-07-07T11:01:19.034Z"
   },
   {
    "duration": 0,
    "start_time": "2022-07-07T11:01:19.034Z"
   },
   {
    "duration": 0,
    "start_time": "2022-07-07T11:01:19.035Z"
   },
   {
    "duration": 0,
    "start_time": "2022-07-07T11:01:19.035Z"
   },
   {
    "duration": 0,
    "start_time": "2022-07-07T11:01:19.046Z"
   },
   {
    "duration": 0,
    "start_time": "2022-07-07T11:01:19.046Z"
   },
   {
    "duration": 0,
    "start_time": "2022-07-07T11:01:19.047Z"
   },
   {
    "duration": 0,
    "start_time": "2022-07-07T11:01:19.047Z"
   },
   {
    "duration": 0,
    "start_time": "2022-07-07T11:01:19.050Z"
   },
   {
    "duration": 0,
    "start_time": "2022-07-07T11:01:19.050Z"
   },
   {
    "duration": 0,
    "start_time": "2022-07-07T11:01:19.051Z"
   },
   {
    "duration": 1215,
    "start_time": "2022-07-07T11:01:37.777Z"
   },
   {
    "duration": 922,
    "start_time": "2022-07-07T11:01:53.479Z"
   },
   {
    "duration": 1046,
    "start_time": "2022-07-07T11:02:20.538Z"
   },
   {
    "duration": 711,
    "start_time": "2022-07-07T11:03:40.207Z"
   },
   {
    "duration": 895,
    "start_time": "2022-07-07T11:04:05.940Z"
   },
   {
    "duration": 1034,
    "start_time": "2022-07-07T11:04:22.558Z"
   },
   {
    "duration": 11,
    "start_time": "2022-07-07T11:07:26.766Z"
   },
   {
    "duration": 3,
    "start_time": "2022-07-07T11:07:47.490Z"
   },
   {
    "duration": 14,
    "start_time": "2022-07-07T11:08:23.555Z"
   },
   {
    "duration": 14,
    "start_time": "2022-07-07T11:08:27.569Z"
   },
   {
    "duration": 13,
    "start_time": "2022-07-07T11:08:35.252Z"
   },
   {
    "duration": 15,
    "start_time": "2022-07-07T11:08:50.242Z"
   },
   {
    "duration": 13,
    "start_time": "2022-07-07T11:09:36.998Z"
   },
   {
    "duration": 33,
    "start_time": "2022-07-07T11:14:00.689Z"
   },
   {
    "duration": 11,
    "start_time": "2022-07-07T11:14:00.724Z"
   },
   {
    "duration": 10,
    "start_time": "2022-07-07T11:14:00.737Z"
   },
   {
    "duration": 19,
    "start_time": "2022-07-07T11:14:00.749Z"
   },
   {
    "duration": 10,
    "start_time": "2022-07-07T11:14:00.770Z"
   },
   {
    "duration": 238,
    "start_time": "2022-07-07T11:14:00.781Z"
   },
   {
    "duration": 24,
    "start_time": "2022-07-07T11:14:01.021Z"
   },
   {
    "duration": 13,
    "start_time": "2022-07-07T11:14:01.053Z"
   },
   {
    "duration": 32,
    "start_time": "2022-07-07T11:14:01.068Z"
   },
   {
    "duration": 90,
    "start_time": "2022-07-07T11:14:01.102Z"
   },
   {
    "duration": 8,
    "start_time": "2022-07-07T11:14:01.193Z"
   },
   {
    "duration": 893,
    "start_time": "2022-07-07T11:14:01.203Z"
   },
   {
    "duration": 16,
    "start_time": "2022-07-07T11:14:02.098Z"
   },
   {
    "duration": 33,
    "start_time": "2022-07-07T11:14:02.116Z"
   },
   {
    "duration": 9,
    "start_time": "2022-07-07T11:14:02.156Z"
   },
   {
    "duration": 10,
    "start_time": "2022-07-07T11:14:02.166Z"
   },
   {
    "duration": 6,
    "start_time": "2022-07-07T11:14:02.177Z"
   },
   {
    "duration": 9,
    "start_time": "2022-07-07T11:14:02.184Z"
   },
   {
    "duration": 5,
    "start_time": "2022-07-07T11:14:02.195Z"
   },
   {
    "duration": 159,
    "start_time": "2022-07-07T11:14:02.202Z"
   },
   {
    "duration": 17,
    "start_time": "2022-07-07T11:14:02.363Z"
   },
   {
    "duration": 60,
    "start_time": "2022-07-07T11:14:02.381Z"
   },
   {
    "duration": 18,
    "start_time": "2022-07-07T11:14:02.444Z"
   },
   {
    "duration": 7,
    "start_time": "2022-07-07T11:14:02.464Z"
   },
   {
    "duration": 15,
    "start_time": "2022-07-07T11:14:02.472Z"
   },
   {
    "duration": 414,
    "start_time": "2022-07-07T11:14:02.489Z"
   },
   {
    "duration": 51,
    "start_time": "2022-07-07T11:14:02.905Z"
   },
   {
    "duration": 4,
    "start_time": "2022-07-07T11:14:02.962Z"
   },
   {
    "duration": 6,
    "start_time": "2022-07-07T11:14:02.968Z"
   },
   {
    "duration": 5,
    "start_time": "2022-07-07T11:14:02.976Z"
   },
   {
    "duration": 1468,
    "start_time": "2022-07-07T11:21:07.146Z"
   },
   {
    "duration": 16,
    "start_time": "2022-07-07T11:21:08.617Z"
   },
   {
    "duration": 4,
    "start_time": "2022-07-07T11:21:08.635Z"
   },
   {
    "duration": 34,
    "start_time": "2022-07-07T11:21:08.641Z"
   },
   {
    "duration": 12,
    "start_time": "2022-07-07T11:21:08.678Z"
   },
   {
    "duration": 260,
    "start_time": "2022-07-07T11:21:08.692Z"
   },
   {
    "duration": 10,
    "start_time": "2022-07-07T11:21:08.955Z"
   },
   {
    "duration": 15,
    "start_time": "2022-07-07T11:21:08.967Z"
   },
   {
    "duration": 13,
    "start_time": "2022-07-07T11:21:08.984Z"
   },
   {
    "duration": 107,
    "start_time": "2022-07-07T11:21:08.999Z"
   },
   {
    "duration": 9,
    "start_time": "2022-07-07T11:21:09.107Z"
   },
   {
    "duration": 1063,
    "start_time": "2022-07-07T11:21:09.118Z"
   },
   {
    "duration": 15,
    "start_time": "2022-07-07T11:21:10.183Z"
   },
   {
    "duration": 10,
    "start_time": "2022-07-07T11:21:10.201Z"
   },
   {
    "duration": 25,
    "start_time": "2022-07-07T11:21:10.213Z"
   },
   {
    "duration": 20,
    "start_time": "2022-07-07T11:21:10.239Z"
   },
   {
    "duration": 16,
    "start_time": "2022-07-07T11:21:10.260Z"
   },
   {
    "duration": 12,
    "start_time": "2022-07-07T11:21:10.278Z"
   },
   {
    "duration": 8,
    "start_time": "2022-07-07T11:21:10.291Z"
   },
   {
    "duration": 144,
    "start_time": "2022-07-07T11:21:10.301Z"
   },
   {
    "duration": 124,
    "start_time": "2022-07-07T11:21:10.450Z"
   },
   {
    "duration": 0,
    "start_time": "2022-07-07T11:21:10.576Z"
   },
   {
    "duration": 0,
    "start_time": "2022-07-07T11:21:10.577Z"
   },
   {
    "duration": 0,
    "start_time": "2022-07-07T11:21:10.578Z"
   },
   {
    "duration": 0,
    "start_time": "2022-07-07T11:21:10.580Z"
   },
   {
    "duration": 0,
    "start_time": "2022-07-07T11:21:10.581Z"
   },
   {
    "duration": 0,
    "start_time": "2022-07-07T11:21:10.583Z"
   },
   {
    "duration": 0,
    "start_time": "2022-07-07T11:21:10.584Z"
   },
   {
    "duration": 0,
    "start_time": "2022-07-07T11:21:10.586Z"
   },
   {
    "duration": 0,
    "start_time": "2022-07-07T11:21:10.587Z"
   },
   {
    "duration": 0,
    "start_time": "2022-07-07T11:21:10.588Z"
   },
   {
    "duration": 0,
    "start_time": "2022-07-07T11:21:10.590Z"
   },
   {
    "duration": 0,
    "start_time": "2022-07-07T11:21:10.591Z"
   },
   {
    "duration": 0,
    "start_time": "2022-07-07T11:21:10.592Z"
   },
   {
    "duration": 0,
    "start_time": "2022-07-07T11:21:10.594Z"
   },
   {
    "duration": 152,
    "start_time": "2022-07-07T11:22:18.462Z"
   },
   {
    "duration": 2220,
    "start_time": "2022-07-07T11:22:45.268Z"
   },
   {
    "duration": 3,
    "start_time": "2022-07-07T11:22:57.001Z"
   },
   {
    "duration": 2,
    "start_time": "2022-07-07T11:23:31.412Z"
   },
   {
    "duration": 368,
    "start_time": "2022-07-07T11:23:32.529Z"
   },
   {
    "duration": 37,
    "start_time": "2022-07-07T11:23:34.010Z"
   },
   {
    "duration": 5,
    "start_time": "2022-07-07T11:23:36.185Z"
   },
   {
    "duration": 5,
    "start_time": "2022-07-07T11:23:41.197Z"
   },
   {
    "duration": 3,
    "start_time": "2022-07-07T11:23:41.786Z"
   },
   {
    "duration": 3,
    "start_time": "2022-07-07T11:23:42.768Z"
   },
   {
    "duration": 1461,
    "start_time": "2022-07-07T11:30:30.110Z"
   },
   {
    "duration": 14,
    "start_time": "2022-07-07T11:30:31.574Z"
   },
   {
    "duration": 4,
    "start_time": "2022-07-07T11:30:31.590Z"
   },
   {
    "duration": 17,
    "start_time": "2022-07-07T11:30:31.595Z"
   },
   {
    "duration": 41,
    "start_time": "2022-07-07T11:30:31.615Z"
   },
   {
    "duration": 244,
    "start_time": "2022-07-07T11:30:31.659Z"
   },
   {
    "duration": 7,
    "start_time": "2022-07-07T11:30:31.905Z"
   },
   {
    "duration": 21,
    "start_time": "2022-07-07T11:30:31.913Z"
   },
   {
    "duration": 16,
    "start_time": "2022-07-07T11:30:31.936Z"
   },
   {
    "duration": 127,
    "start_time": "2022-07-07T11:30:31.955Z"
   },
   {
    "duration": 9,
    "start_time": "2022-07-07T11:30:32.084Z"
   },
   {
    "duration": 1047,
    "start_time": "2022-07-07T11:30:32.094Z"
   },
   {
    "duration": 129,
    "start_time": "2022-07-07T11:30:33.143Z"
   },
   {
    "duration": 0,
    "start_time": "2022-07-07T11:30:33.275Z"
   },
   {
    "duration": 0,
    "start_time": "2022-07-07T11:30:33.276Z"
   },
   {
    "duration": 0,
    "start_time": "2022-07-07T11:30:33.277Z"
   },
   {
    "duration": 0,
    "start_time": "2022-07-07T11:30:33.278Z"
   },
   {
    "duration": 0,
    "start_time": "2022-07-07T11:30:33.279Z"
   },
   {
    "duration": 0,
    "start_time": "2022-07-07T11:30:33.280Z"
   },
   {
    "duration": 0,
    "start_time": "2022-07-07T11:30:33.281Z"
   },
   {
    "duration": 0,
    "start_time": "2022-07-07T11:30:33.282Z"
   },
   {
    "duration": 0,
    "start_time": "2022-07-07T11:30:33.283Z"
   },
   {
    "duration": 0,
    "start_time": "2022-07-07T11:30:33.285Z"
   },
   {
    "duration": 0,
    "start_time": "2022-07-07T11:30:33.286Z"
   },
   {
    "duration": 1,
    "start_time": "2022-07-07T11:30:33.286Z"
   },
   {
    "duration": 0,
    "start_time": "2022-07-07T11:30:33.288Z"
   },
   {
    "duration": 0,
    "start_time": "2022-07-07T11:30:33.289Z"
   },
   {
    "duration": 0,
    "start_time": "2022-07-07T11:30:33.289Z"
   },
   {
    "duration": 0,
    "start_time": "2022-07-07T11:30:33.290Z"
   },
   {
    "duration": 0,
    "start_time": "2022-07-07T11:30:33.291Z"
   },
   {
    "duration": 0,
    "start_time": "2022-07-07T11:30:33.292Z"
   },
   {
    "duration": 0,
    "start_time": "2022-07-07T11:30:33.293Z"
   },
   {
    "duration": 14,
    "start_time": "2022-07-07T11:31:30.552Z"
   },
   {
    "duration": 14,
    "start_time": "2022-07-07T11:31:38.585Z"
   },
   {
    "duration": 17,
    "start_time": "2022-07-07T11:31:39.713Z"
   },
   {
    "duration": 4,
    "start_time": "2022-07-07T11:31:49.160Z"
   },
   {
    "duration": 2,
    "start_time": "2022-07-07T11:31:49.999Z"
   },
   {
    "duration": 60,
    "start_time": "2022-07-07T11:31:50.752Z"
   },
   {
    "duration": 10,
    "start_time": "2022-07-07T11:36:56.876Z"
   },
   {
    "duration": 18,
    "start_time": "2022-07-07T11:38:08.036Z"
   },
   {
    "duration": 10,
    "start_time": "2022-07-07T11:38:36.707Z"
   },
   {
    "duration": 4,
    "start_time": "2022-07-07T11:39:01.189Z"
   },
   {
    "duration": 4,
    "start_time": "2022-07-07T11:39:41.163Z"
   },
   {
    "duration": 9,
    "start_time": "2022-07-07T11:42:39.460Z"
   },
   {
    "duration": 6,
    "start_time": "2022-07-07T11:43:08.190Z"
   },
   {
    "duration": 19,
    "start_time": "2022-07-07T11:43:10.444Z"
   },
   {
    "duration": 14,
    "start_time": "2022-07-07T11:43:12.502Z"
   },
   {
    "duration": 16,
    "start_time": "2022-07-07T11:44:02.042Z"
   },
   {
    "duration": 11,
    "start_time": "2022-07-07T11:44:04.204Z"
   },
   {
    "duration": 64,
    "start_time": "2022-07-07T11:46:08.611Z"
   },
   {
    "duration": 4,
    "start_time": "2022-07-07T11:46:30.655Z"
   },
   {
    "duration": 3,
    "start_time": "2022-07-07T11:49:36.625Z"
   },
   {
    "duration": 63,
    "start_time": "2022-07-07T11:49:37.572Z"
   },
   {
    "duration": 11,
    "start_time": "2022-07-07T11:50:33.763Z"
   },
   {
    "duration": 8,
    "start_time": "2022-07-07T11:50:34.431Z"
   },
   {
    "duration": 4,
    "start_time": "2022-07-07T11:50:34.980Z"
   },
   {
    "duration": 11,
    "start_time": "2022-07-07T11:50:37.327Z"
   },
   {
    "duration": 18,
    "start_time": "2022-07-07T11:51:04.092Z"
   },
   {
    "duration": 8,
    "start_time": "2022-07-07T11:51:04.602Z"
   },
   {
    "duration": 4,
    "start_time": "2022-07-07T11:51:05.396Z"
   },
   {
    "duration": 15,
    "start_time": "2022-07-07T11:51:06.364Z"
   },
   {
    "duration": 10,
    "start_time": "2022-07-07T11:51:12.959Z"
   },
   {
    "duration": 6,
    "start_time": "2022-07-07T11:51:13.498Z"
   },
   {
    "duration": 3,
    "start_time": "2022-07-07T11:51:13.987Z"
   },
   {
    "duration": 9,
    "start_time": "2022-07-07T11:51:15.085Z"
   },
   {
    "duration": 13,
    "start_time": "2022-07-07T11:52:21.500Z"
   },
   {
    "duration": 9,
    "start_time": "2022-07-07T11:52:22.253Z"
   },
   {
    "duration": 7,
    "start_time": "2022-07-07T11:52:22.865Z"
   },
   {
    "duration": 4,
    "start_time": "2022-07-07T11:52:24.019Z"
   },
   {
    "duration": 14,
    "start_time": "2022-07-07T11:52:27.204Z"
   },
   {
    "duration": 19,
    "start_time": "2022-07-07T11:52:55.137Z"
   },
   {
    "duration": 4,
    "start_time": "2022-07-07T11:53:09.605Z"
   },
   {
    "duration": 4,
    "start_time": "2022-07-07T11:53:19.566Z"
   },
   {
    "duration": 3,
    "start_time": "2022-07-07T11:54:07.593Z"
   },
   {
    "duration": 69,
    "start_time": "2022-07-07T11:54:08.541Z"
   },
   {
    "duration": 6,
    "start_time": "2022-07-07T11:54:20.992Z"
   },
   {
    "duration": 5,
    "start_time": "2022-07-07T11:54:23.841Z"
   },
   {
    "duration": 12,
    "start_time": "2022-07-07T11:54:24.483Z"
   },
   {
    "duration": 8,
    "start_time": "2022-07-07T11:54:26.850Z"
   },
   {
    "duration": 75,
    "start_time": "2022-07-07T11:54:27.481Z"
   },
   {
    "duration": 9,
    "start_time": "2022-07-07T11:57:05.582Z"
   },
   {
    "duration": 24,
    "start_time": "2022-07-07T11:57:32.369Z"
   },
   {
    "duration": 20,
    "start_time": "2022-07-07T11:58:00.841Z"
   },
   {
    "duration": 13,
    "start_time": "2022-07-07T11:58:13.367Z"
   },
   {
    "duration": 26,
    "start_time": "2022-07-07T11:59:25.827Z"
   },
   {
    "duration": 4,
    "start_time": "2022-07-07T11:59:53.276Z"
   },
   {
    "duration": 5,
    "start_time": "2022-07-07T12:02:07.813Z"
   },
   {
    "duration": 14,
    "start_time": "2022-07-07T12:03:38.502Z"
   },
   {
    "duration": 12,
    "start_time": "2022-07-07T12:03:39.442Z"
   },
   {
    "duration": 3,
    "start_time": "2022-07-07T12:03:42.098Z"
   },
   {
    "duration": 10,
    "start_time": "2022-07-07T12:03:46.425Z"
   },
   {
    "duration": 7,
    "start_time": "2022-07-07T12:04:19.142Z"
   },
   {
    "duration": 9,
    "start_time": "2022-07-07T12:04:19.918Z"
   },
   {
    "duration": 6,
    "start_time": "2022-07-07T12:04:22.269Z"
   },
   {
    "duration": 4,
    "start_time": "2022-07-07T12:04:23.735Z"
   },
   {
    "duration": 11,
    "start_time": "2022-07-07T12:04:48.832Z"
   },
   {
    "duration": 6,
    "start_time": "2022-07-07T12:04:50.037Z"
   },
   {
    "duration": 5,
    "start_time": "2022-07-07T12:04:51.157Z"
   },
   {
    "duration": 1496,
    "start_time": "2022-07-07T12:05:01.785Z"
   },
   {
    "duration": 3,
    "start_time": "2022-07-07T12:05:05.439Z"
   },
   {
    "duration": 4,
    "start_time": "2022-07-07T12:05:09.639Z"
   },
   {
    "duration": 252,
    "start_time": "2022-07-07T12:05:10.637Z"
   },
   {
    "duration": 24,
    "start_time": "2022-07-07T12:05:20.232Z"
   },
   {
    "duration": 5,
    "start_time": "2022-07-07T12:05:29.282Z"
   },
   {
    "duration": 4,
    "start_time": "2022-07-07T12:06:15.242Z"
   },
   {
    "duration": 7,
    "start_time": "2022-07-07T12:16:01.868Z"
   },
   {
    "duration": 9090,
    "start_time": "2022-07-07T12:16:01.878Z"
   },
   {
    "duration": 14,
    "start_time": "2022-07-07T12:16:29.696Z"
   },
   {
    "duration": 4,
    "start_time": "2022-07-07T12:16:32.039Z"
   },
   {
    "duration": 5,
    "start_time": "2022-07-07T12:16:38.752Z"
   },
   {
    "duration": 20932,
    "start_time": "2022-07-07T12:16:39.531Z"
   },
   {
    "duration": 13,
    "start_time": "2022-07-07T12:17:00.466Z"
   },
   {
    "duration": 8,
    "start_time": "2022-07-07T12:17:00.481Z"
   },
   {
    "duration": 3,
    "start_time": "2022-07-07T12:17:19.422Z"
   },
   {
    "duration": 130472,
    "start_time": "2022-07-07T12:17:20.094Z"
   },
   {
    "duration": 78,
    "start_time": "2022-07-07T12:19:30.569Z"
   },
   {
    "duration": 14,
    "start_time": "2022-07-07T12:19:30.649Z"
   },
   {
    "duration": 19,
    "start_time": "2022-07-07T12:19:52.808Z"
   },
   {
    "duration": 5,
    "start_time": "2022-07-07T12:19:54.267Z"
   },
   {
    "duration": 265,
    "start_time": "2022-07-07T12:20:25.832Z"
   },
   {
    "duration": 270,
    "start_time": "2022-07-07T12:20:41.040Z"
   },
   {
    "duration": 4,
    "start_time": "2022-07-07T12:23:52.493Z"
   },
   {
    "duration": 5,
    "start_time": "2022-07-07T12:23:57.496Z"
   },
   {
    "duration": 9,
    "start_time": "2022-07-07T12:27:25.877Z"
   },
   {
    "duration": 15,
    "start_time": "2022-07-07T12:30:32.394Z"
   },
   {
    "duration": 18,
    "start_time": "2022-07-07T12:30:34.744Z"
   },
   {
    "duration": 37,
    "start_time": "2022-07-07T12:30:43.376Z"
   },
   {
    "duration": 9,
    "start_time": "2022-07-07T12:30:43.415Z"
   },
   {
    "duration": 3,
    "start_time": "2022-07-07T12:30:43.425Z"
   },
   {
    "duration": 7,
    "start_time": "2022-07-07T12:30:43.430Z"
   },
   {
    "duration": 10,
    "start_time": "2022-07-07T12:30:43.440Z"
   },
   {
    "duration": 266,
    "start_time": "2022-07-07T12:30:43.453Z"
   },
   {
    "duration": 6,
    "start_time": "2022-07-07T12:30:43.720Z"
   },
   {
    "duration": 6,
    "start_time": "2022-07-07T12:30:43.728Z"
   },
   {
    "duration": 27,
    "start_time": "2022-07-07T12:30:43.748Z"
   },
   {
    "duration": 101,
    "start_time": "2022-07-07T12:30:43.778Z"
   },
   {
    "duration": 11,
    "start_time": "2022-07-07T12:30:43.882Z"
   },
   {
    "duration": 1119,
    "start_time": "2022-07-07T12:30:43.895Z"
   },
   {
    "duration": 31,
    "start_time": "2022-07-07T12:30:45.016Z"
   },
   {
    "duration": 14,
    "start_time": "2022-07-07T12:30:45.057Z"
   },
   {
    "duration": 19,
    "start_time": "2022-07-07T12:30:45.073Z"
   },
   {
    "duration": 8,
    "start_time": "2022-07-07T12:30:45.094Z"
   },
   {
    "duration": 8,
    "start_time": "2022-07-07T12:30:45.103Z"
   },
   {
    "duration": 11,
    "start_time": "2022-07-07T12:30:45.113Z"
   },
   {
    "duration": 134,
    "start_time": "2022-07-07T12:30:45.126Z"
   },
   {
    "duration": 14,
    "start_time": "2022-07-07T12:30:45.269Z"
   },
   {
    "duration": 2492,
    "start_time": "2022-07-07T12:30:45.287Z"
   },
   {
    "duration": 4,
    "start_time": "2022-07-07T12:30:47.782Z"
   },
   {
    "duration": 11,
    "start_time": "2022-07-07T12:30:47.788Z"
   },
   {
    "duration": 331,
    "start_time": "2022-07-07T12:30:47.803Z"
   },
   {
    "duration": 41,
    "start_time": "2022-07-07T12:30:48.135Z"
   },
   {
    "duration": 11,
    "start_time": "2022-07-07T12:30:48.180Z"
   },
   {
    "duration": 17,
    "start_time": "2022-07-07T12:30:48.193Z"
   },
   {
    "duration": 125638,
    "start_time": "2022-07-07T12:30:48.212Z"
   },
   {
    "duration": 95,
    "start_time": "2022-07-07T12:32:53.853Z"
   },
   {
    "duration": 7,
    "start_time": "2022-07-07T12:32:53.951Z"
   },
   {
    "duration": 332,
    "start_time": "2022-07-07T12:32:53.961Z"
   },
   {
    "duration": 126305,
    "start_time": "2022-07-07T12:33:42.357Z"
   },
   {
    "duration": 12,
    "start_time": "2022-07-07T12:36:24.510Z"
   },
   {
    "duration": 12,
    "start_time": "2022-07-07T12:39:35.680Z"
   },
   {
    "duration": 20,
    "start_time": "2022-07-07T12:40:42.740Z"
   },
   {
    "duration": 1041,
    "start_time": "2022-07-07T12:42:09.280Z"
   },
   {
    "duration": 22,
    "start_time": "2022-07-07T12:46:45.004Z"
   },
   {
    "duration": 22,
    "start_time": "2022-07-07T12:46:46.037Z"
   },
   {
    "duration": 16,
    "start_time": "2022-07-07T12:46:50.488Z"
   },
   {
    "duration": 33,
    "start_time": "2022-07-07T12:46:55.294Z"
   },
   {
    "duration": 34,
    "start_time": "2022-07-07T12:47:09.487Z"
   },
   {
    "duration": 10,
    "start_time": "2022-07-07T12:47:09.523Z"
   },
   {
    "duration": 3,
    "start_time": "2022-07-07T12:47:09.535Z"
   },
   {
    "duration": 32,
    "start_time": "2022-07-07T12:47:09.540Z"
   },
   {
    "duration": 10,
    "start_time": "2022-07-07T12:47:09.576Z"
   },
   {
    "duration": 267,
    "start_time": "2022-07-07T12:47:09.588Z"
   },
   {
    "duration": 9,
    "start_time": "2022-07-07T12:47:09.859Z"
   },
   {
    "duration": 11,
    "start_time": "2022-07-07T12:47:09.873Z"
   },
   {
    "duration": 11,
    "start_time": "2022-07-07T12:47:09.885Z"
   },
   {
    "duration": 122,
    "start_time": "2022-07-07T12:47:09.898Z"
   },
   {
    "duration": 9,
    "start_time": "2022-07-07T12:47:10.022Z"
   },
   {
    "duration": 1096,
    "start_time": "2022-07-07T12:47:10.042Z"
   },
   {
    "duration": 40,
    "start_time": "2022-07-07T12:47:11.142Z"
   },
   {
    "duration": 15,
    "start_time": "2022-07-07T12:47:11.186Z"
   },
   {
    "duration": 15,
    "start_time": "2022-07-07T12:47:11.203Z"
   },
   {
    "duration": 34,
    "start_time": "2022-07-07T12:47:11.241Z"
   },
   {
    "duration": 6,
    "start_time": "2022-07-07T12:47:11.277Z"
   },
   {
    "duration": 10,
    "start_time": "2022-07-07T12:47:11.286Z"
   },
   {
    "duration": 9,
    "start_time": "2022-07-07T12:47:11.297Z"
   },
   {
    "duration": 37,
    "start_time": "2022-07-07T12:47:11.308Z"
   },
   {
    "duration": 109,
    "start_time": "2022-07-07T12:47:11.350Z"
   },
   {
    "duration": 92,
    "start_time": "2022-07-07T12:47:11.463Z"
   },
   {
    "duration": 5114,
    "start_time": "2022-07-07T12:47:11.557Z"
   },
   {
    "duration": 4,
    "start_time": "2022-07-07T12:47:16.674Z"
   },
   {
    "duration": 17,
    "start_time": "2022-07-07T12:47:16.680Z"
   },
   {
    "duration": 587,
    "start_time": "2022-07-07T12:47:16.698Z"
   },
   {
    "duration": 24,
    "start_time": "2022-07-07T12:47:17.287Z"
   },
   {
    "duration": 5,
    "start_time": "2022-07-07T12:47:17.313Z"
   },
   {
    "duration": 27,
    "start_time": "2022-07-07T12:47:17.319Z"
   },
   {
    "duration": 174300,
    "start_time": "2022-07-07T12:47:17.349Z"
   },
   {
    "duration": 26,
    "start_time": "2022-07-07T12:50:11.651Z"
   },
   {
    "duration": 11,
    "start_time": "2022-07-07T12:50:11.748Z"
   },
   {
    "duration": 23,
    "start_time": "2022-07-07T12:50:11.761Z"
   },
   {
    "duration": 135978,
    "start_time": "2022-07-07T12:50:43.963Z"
   },
   {
    "duration": 23,
    "start_time": "2022-07-07T12:53:39.194Z"
   },
   {
    "duration": 17,
    "start_time": "2022-07-07T12:53:58.483Z"
   },
   {
    "duration": 25,
    "start_time": "2022-07-07T12:54:16.860Z"
   },
   {
    "duration": 32,
    "start_time": "2022-07-07T12:54:20.800Z"
   },
   {
    "duration": 13,
    "start_time": "2022-07-07T12:54:20.834Z"
   },
   {
    "duration": 32,
    "start_time": "2022-07-07T12:54:20.851Z"
   },
   {
    "duration": 33,
    "start_time": "2022-07-07T12:54:20.885Z"
   },
   {
    "duration": 55,
    "start_time": "2022-07-07T12:54:20.920Z"
   },
   {
    "duration": 247,
    "start_time": "2022-07-07T12:54:20.978Z"
   },
   {
    "duration": 6,
    "start_time": "2022-07-07T12:54:21.227Z"
   },
   {
    "duration": 56,
    "start_time": "2022-07-07T12:54:21.235Z"
   },
   {
    "duration": 19,
    "start_time": "2022-07-07T12:54:21.293Z"
   },
   {
    "duration": 161,
    "start_time": "2022-07-07T12:54:21.313Z"
   },
   {
    "duration": 12,
    "start_time": "2022-07-07T12:54:21.477Z"
   },
   {
    "duration": 1144,
    "start_time": "2022-07-07T12:54:21.491Z"
   },
   {
    "duration": 31,
    "start_time": "2022-07-07T12:54:22.637Z"
   },
   {
    "duration": 33,
    "start_time": "2022-07-07T12:54:22.674Z"
   },
   {
    "duration": 40,
    "start_time": "2022-07-07T12:54:22.709Z"
   },
   {
    "duration": 62,
    "start_time": "2022-07-07T12:54:22.751Z"
   },
   {
    "duration": 7,
    "start_time": "2022-07-07T12:54:22.815Z"
   },
   {
    "duration": 33,
    "start_time": "2022-07-07T12:54:22.824Z"
   },
   {
    "duration": 35,
    "start_time": "2022-07-07T12:54:22.860Z"
   },
   {
    "duration": 58,
    "start_time": "2022-07-07T12:54:22.897Z"
   },
   {
    "duration": 195,
    "start_time": "2022-07-07T12:54:22.957Z"
   },
   {
    "duration": 35,
    "start_time": "2022-07-07T12:54:23.160Z"
   },
   {
    "duration": 4352,
    "start_time": "2022-07-07T12:54:23.242Z"
   },
   {
    "duration": 4,
    "start_time": "2022-07-07T12:54:27.595Z"
   },
   {
    "duration": 7,
    "start_time": "2022-07-07T12:54:27.600Z"
   },
   {
    "duration": 487,
    "start_time": "2022-07-07T12:54:27.608Z"
   },
   {
    "duration": 19,
    "start_time": "2022-07-07T12:54:28.097Z"
   },
   {
    "duration": 7,
    "start_time": "2022-07-07T12:54:28.118Z"
   },
   {
    "duration": 40,
    "start_time": "2022-07-07T12:54:28.127Z"
   },
   {
    "duration": 165489,
    "start_time": "2022-07-07T12:54:28.170Z"
   },
   {
    "duration": 92,
    "start_time": "2022-07-07T12:57:13.664Z"
   },
   {
    "duration": 11,
    "start_time": "2022-07-07T12:57:13.759Z"
   },
   {
    "duration": 136097,
    "start_time": "2022-07-07T12:57:13.773Z"
   },
   {
    "duration": 467,
    "start_time": "2022-07-07T13:00:11.898Z"
   },
   {
    "duration": 10,
    "start_time": "2022-07-07T13:00:26.702Z"
   },
   {
    "duration": 5559,
    "start_time": "2022-07-07T13:01:11.367Z"
   },
   {
    "duration": 4,
    "start_time": "2022-07-07T13:01:19.784Z"
   },
   {
    "duration": 3,
    "start_time": "2022-07-07T13:01:29.694Z"
   },
   {
    "duration": 2184,
    "start_time": "2022-07-07T13:01:31.257Z"
   },
   {
    "duration": 80,
    "start_time": "2022-07-07T13:01:33.443Z"
   },
   {
    "duration": 4,
    "start_time": "2022-07-07T13:01:33.525Z"
   },
   {
    "duration": 2305,
    "start_time": "2022-07-07T13:02:11.834Z"
   },
   {
    "duration": 28,
    "start_time": "2022-07-07T13:20:33.166Z"
   },
   {
    "duration": 1103,
    "start_time": "2022-07-07T13:22:06.460Z"
   },
   {
    "duration": 996,
    "start_time": "2022-07-07T13:22:19.383Z"
   },
   {
    "duration": 33,
    "start_time": "2022-07-07T13:45:49.659Z"
   },
   {
    "duration": 9,
    "start_time": "2022-07-07T13:45:49.694Z"
   },
   {
    "duration": 2,
    "start_time": "2022-07-07T13:45:49.705Z"
   },
   {
    "duration": 9,
    "start_time": "2022-07-07T13:45:49.709Z"
   },
   {
    "duration": 6,
    "start_time": "2022-07-07T13:45:49.720Z"
   },
   {
    "duration": 332,
    "start_time": "2022-07-07T13:45:49.727Z"
   },
   {
    "duration": 6,
    "start_time": "2022-07-07T13:45:50.061Z"
   },
   {
    "duration": 8,
    "start_time": "2022-07-07T13:45:50.069Z"
   },
   {
    "duration": 10,
    "start_time": "2022-07-07T13:45:50.078Z"
   },
   {
    "duration": 104,
    "start_time": "2022-07-07T13:45:50.090Z"
   },
   {
    "duration": 7,
    "start_time": "2022-07-07T13:45:50.196Z"
   },
   {
    "duration": 885,
    "start_time": "2022-07-07T13:45:50.205Z"
   },
   {
    "duration": 21,
    "start_time": "2022-07-07T13:45:51.092Z"
   },
   {
    "duration": 41,
    "start_time": "2022-07-07T13:45:51.116Z"
   },
   {
    "duration": 5,
    "start_time": "2022-07-07T13:45:51.159Z"
   },
   {
    "duration": 6,
    "start_time": "2022-07-07T13:45:51.166Z"
   },
   {
    "duration": 5,
    "start_time": "2022-07-07T13:45:51.173Z"
   },
   {
    "duration": 11,
    "start_time": "2022-07-07T13:45:51.180Z"
   },
   {
    "duration": 68,
    "start_time": "2022-07-07T13:45:51.193Z"
   },
   {
    "duration": 5,
    "start_time": "2022-07-07T13:45:51.262Z"
   },
   {
    "duration": 4873,
    "start_time": "2022-07-07T13:45:51.268Z"
   },
   {
    "duration": 3,
    "start_time": "2022-07-07T13:45:56.147Z"
   },
   {
    "duration": 14,
    "start_time": "2022-07-07T13:45:56.151Z"
   },
   {
    "duration": 1891,
    "start_time": "2022-07-07T13:45:56.167Z"
   },
   {
    "duration": 68,
    "start_time": "2022-07-07T13:45:58.060Z"
   },
   {
    "duration": 4,
    "start_time": "2022-07-07T13:45:58.130Z"
   },
   {
    "duration": 4,
    "start_time": "2022-07-07T13:45:58.145Z"
   },
   {
    "duration": 129905,
    "start_time": "2022-07-07T13:45:58.150Z"
   },
   {
    "duration": 86,
    "start_time": "2022-07-07T13:48:08.062Z"
   },
   {
    "duration": 10,
    "start_time": "2022-07-07T13:48:08.153Z"
   },
   {
    "duration": 1957,
    "start_time": "2022-07-07T13:48:08.165Z"
   },
   {
    "duration": 14,
    "start_time": "2022-07-07T13:51:05.762Z"
   },
   {
    "duration": 60,
    "start_time": "2022-07-07T13:51:15.133Z"
   },
   {
    "duration": 11,
    "start_time": "2022-07-07T13:51:15.195Z"
   },
   {
    "duration": 21,
    "start_time": "2022-07-07T13:51:15.207Z"
   },
   {
    "duration": 30,
    "start_time": "2022-07-07T13:51:15.231Z"
   },
   {
    "duration": 35,
    "start_time": "2022-07-07T13:51:15.263Z"
   },
   {
    "duration": 267,
    "start_time": "2022-07-07T13:51:15.299Z"
   },
   {
    "duration": 9,
    "start_time": "2022-07-07T13:51:15.568Z"
   },
   {
    "duration": 20,
    "start_time": "2022-07-07T13:51:15.580Z"
   },
   {
    "duration": 19,
    "start_time": "2022-07-07T13:51:15.603Z"
   },
   {
    "duration": 145,
    "start_time": "2022-07-07T13:51:15.626Z"
   },
   {
    "duration": 9,
    "start_time": "2022-07-07T13:51:15.773Z"
   },
   {
    "duration": 1162,
    "start_time": "2022-07-07T13:51:15.784Z"
   },
   {
    "duration": 33,
    "start_time": "2022-07-07T13:51:16.948Z"
   },
   {
    "duration": 31,
    "start_time": "2022-07-07T13:51:16.983Z"
   },
   {
    "duration": 32,
    "start_time": "2022-07-07T13:51:17.016Z"
   },
   {
    "duration": 16,
    "start_time": "2022-07-07T13:51:17.050Z"
   },
   {
    "duration": 8,
    "start_time": "2022-07-07T13:51:17.068Z"
   },
   {
    "duration": 17,
    "start_time": "2022-07-07T13:51:17.079Z"
   },
   {
    "duration": 61,
    "start_time": "2022-07-07T13:51:17.098Z"
   },
   {
    "duration": 116,
    "start_time": "2022-07-07T13:51:17.162Z"
   },
   {
    "duration": 5484,
    "start_time": "2022-07-07T13:51:17.343Z"
   },
   {
    "duration": 3,
    "start_time": "2022-07-07T13:51:22.829Z"
   },
   {
    "duration": 9,
    "start_time": "2022-07-07T13:51:22.834Z"
   },
   {
    "duration": 2231,
    "start_time": "2022-07-07T13:51:22.846Z"
   },
   {
    "duration": 78,
    "start_time": "2022-07-07T13:51:25.079Z"
   },
   {
    "duration": 6,
    "start_time": "2022-07-07T13:51:25.158Z"
   },
   {
    "duration": 8,
    "start_time": "2022-07-07T13:51:25.165Z"
   },
   {
    "duration": 146200,
    "start_time": "2022-07-07T13:51:25.176Z"
   },
   {
    "duration": 92,
    "start_time": "2022-07-07T13:53:51.378Z"
   },
   {
    "duration": 19,
    "start_time": "2022-07-07T13:53:51.477Z"
   },
   {
    "duration": 2162,
    "start_time": "2022-07-07T13:53:51.499Z"
   },
   {
    "duration": 10352,
    "start_time": "2022-07-07T13:54:40.962Z"
   },
   {
    "duration": 39,
    "start_time": "2022-07-07T14:01:22.251Z"
   },
   {
    "duration": 10,
    "start_time": "2022-07-07T14:01:22.292Z"
   },
   {
    "duration": 3,
    "start_time": "2022-07-07T14:01:22.304Z"
   },
   {
    "duration": 9,
    "start_time": "2022-07-07T14:01:22.309Z"
   },
   {
    "duration": 7,
    "start_time": "2022-07-07T14:01:22.320Z"
   },
   {
    "duration": 219,
    "start_time": "2022-07-07T14:01:22.342Z"
   },
   {
    "duration": 7,
    "start_time": "2022-07-07T14:01:22.563Z"
   },
   {
    "duration": 7,
    "start_time": "2022-07-07T14:01:22.571Z"
   },
   {
    "duration": 10,
    "start_time": "2022-07-07T14:01:22.579Z"
   },
   {
    "duration": 109,
    "start_time": "2022-07-07T14:01:22.591Z"
   },
   {
    "duration": 10,
    "start_time": "2022-07-07T14:01:22.702Z"
   },
   {
    "duration": 957,
    "start_time": "2022-07-07T14:01:22.713Z"
   },
   {
    "duration": 23,
    "start_time": "2022-07-07T14:01:23.672Z"
   },
   {
    "duration": 23,
    "start_time": "2022-07-07T14:01:23.697Z"
   },
   {
    "duration": 7,
    "start_time": "2022-07-07T14:01:23.741Z"
   },
   {
    "duration": 17,
    "start_time": "2022-07-07T14:01:23.750Z"
   },
   {
    "duration": 7,
    "start_time": "2022-07-07T14:01:23.769Z"
   },
   {
    "duration": 12,
    "start_time": "2022-07-07T14:01:23.777Z"
   },
   {
    "duration": 170,
    "start_time": "2022-07-07T14:01:23.791Z"
   },
   {
    "duration": 84,
    "start_time": "2022-07-07T14:01:23.963Z"
   },
   {
    "duration": 4942,
    "start_time": "2022-07-07T14:01:24.052Z"
   },
   {
    "duration": 4,
    "start_time": "2022-07-07T14:01:28.996Z"
   },
   {
    "duration": 7,
    "start_time": "2022-07-07T14:01:29.001Z"
   },
   {
    "duration": 2010,
    "start_time": "2022-07-07T14:01:29.010Z"
   },
   {
    "duration": 84,
    "start_time": "2022-07-07T14:01:31.022Z"
   },
   {
    "duration": 6,
    "start_time": "2022-07-07T14:01:31.108Z"
   },
   {
    "duration": 12,
    "start_time": "2022-07-07T14:01:31.115Z"
   },
   {
    "duration": 133437,
    "start_time": "2022-07-07T14:01:31.129Z"
   },
   {
    "duration": 83,
    "start_time": "2022-07-07T14:03:44.568Z"
   },
   {
    "duration": 32,
    "start_time": "2022-07-07T14:03:44.653Z"
   },
   {
    "duration": 2015,
    "start_time": "2022-07-07T14:03:44.687Z"
   },
   {
    "duration": 1771,
    "start_time": "2022-07-08T09:51:47.572Z"
   },
   {
    "duration": 13,
    "start_time": "2022-07-08T09:51:49.345Z"
   },
   {
    "duration": 3,
    "start_time": "2022-07-08T09:51:49.359Z"
   },
   {
    "duration": 12,
    "start_time": "2022-07-08T09:51:49.364Z"
   },
   {
    "duration": 10,
    "start_time": "2022-07-08T09:51:49.378Z"
   },
   {
    "duration": 247,
    "start_time": "2022-07-08T09:51:49.390Z"
   },
   {
    "duration": 7,
    "start_time": "2022-07-08T09:51:49.639Z"
   },
   {
    "duration": 16,
    "start_time": "2022-07-08T09:51:49.649Z"
   },
   {
    "duration": 9,
    "start_time": "2022-07-08T09:51:49.667Z"
   },
   {
    "duration": 124,
    "start_time": "2022-07-08T09:51:49.678Z"
   },
   {
    "duration": 9,
    "start_time": "2022-07-08T09:51:49.803Z"
   },
   {
    "duration": 1098,
    "start_time": "2022-07-08T09:51:49.814Z"
   },
   {
    "duration": 132,
    "start_time": "2022-07-08T09:51:50.914Z"
   },
   {
    "duration": 0,
    "start_time": "2022-07-08T09:51:51.049Z"
   },
   {
    "duration": 0,
    "start_time": "2022-07-08T09:51:51.050Z"
   },
   {
    "duration": 0,
    "start_time": "2022-07-08T09:51:51.052Z"
   },
   {
    "duration": 0,
    "start_time": "2022-07-08T09:51:51.053Z"
   },
   {
    "duration": 0,
    "start_time": "2022-07-08T09:51:51.054Z"
   },
   {
    "duration": 0,
    "start_time": "2022-07-08T09:51:51.064Z"
   },
   {
    "duration": 0,
    "start_time": "2022-07-08T09:51:51.065Z"
   },
   {
    "duration": 0,
    "start_time": "2022-07-08T09:51:51.066Z"
   },
   {
    "duration": 0,
    "start_time": "2022-07-08T09:51:51.067Z"
   },
   {
    "duration": 0,
    "start_time": "2022-07-08T09:51:51.068Z"
   },
   {
    "duration": 0,
    "start_time": "2022-07-08T09:51:51.069Z"
   },
   {
    "duration": 0,
    "start_time": "2022-07-08T09:51:51.070Z"
   },
   {
    "duration": 0,
    "start_time": "2022-07-08T09:51:51.071Z"
   },
   {
    "duration": 0,
    "start_time": "2022-07-08T09:51:51.072Z"
   },
   {
    "duration": 0,
    "start_time": "2022-07-08T09:51:51.073Z"
   },
   {
    "duration": 0,
    "start_time": "2022-07-08T09:51:51.074Z"
   },
   {
    "duration": 0,
    "start_time": "2022-07-08T09:51:51.075Z"
   },
   {
    "duration": 0,
    "start_time": "2022-07-08T09:51:51.076Z"
   },
   {
    "duration": 38,
    "start_time": "2022-07-08T09:53:23.969Z"
   },
   {
    "duration": 11,
    "start_time": "2022-07-08T09:53:24.009Z"
   },
   {
    "duration": 6,
    "start_time": "2022-07-08T09:53:24.022Z"
   },
   {
    "duration": 9,
    "start_time": "2022-07-08T09:53:24.030Z"
   },
   {
    "duration": 24,
    "start_time": "2022-07-08T09:53:24.041Z"
   },
   {
    "duration": 231,
    "start_time": "2022-07-08T09:53:24.067Z"
   },
   {
    "duration": 8,
    "start_time": "2022-07-08T09:53:24.300Z"
   },
   {
    "duration": 9,
    "start_time": "2022-07-08T09:53:24.309Z"
   },
   {
    "duration": 15,
    "start_time": "2022-07-08T09:53:24.320Z"
   },
   {
    "duration": 98,
    "start_time": "2022-07-08T09:53:24.338Z"
   },
   {
    "duration": 8,
    "start_time": "2022-07-08T09:53:24.438Z"
   },
   {
    "duration": 953,
    "start_time": "2022-07-08T09:53:24.464Z"
   },
   {
    "duration": 24,
    "start_time": "2022-07-08T09:53:25.418Z"
   },
   {
    "duration": 43,
    "start_time": "2022-07-08T09:53:25.443Z"
   },
   {
    "duration": 3,
    "start_time": "2022-07-08T09:53:25.488Z"
   },
   {
    "duration": 8,
    "start_time": "2022-07-08T09:53:25.493Z"
   },
   {
    "duration": 7,
    "start_time": "2022-07-08T09:53:25.503Z"
   },
   {
    "duration": 54,
    "start_time": "2022-07-08T09:53:25.512Z"
   },
   {
    "duration": 103,
    "start_time": "2022-07-08T09:53:25.568Z"
   },
   {
    "duration": 7,
    "start_time": "2022-07-08T09:53:25.673Z"
   },
   {
    "duration": 11320,
    "start_time": "2022-07-08T09:53:25.681Z"
   },
   {
    "duration": 3,
    "start_time": "2022-07-08T09:53:37.003Z"
   },
   {
    "duration": 16,
    "start_time": "2022-07-08T09:53:37.007Z"
   },
   {
    "duration": 4872,
    "start_time": "2022-07-08T09:53:37.025Z"
   },
   {
    "duration": 43,
    "start_time": "2022-07-08T09:53:41.899Z"
   },
   {
    "duration": 5,
    "start_time": "2022-07-08T09:53:41.944Z"
   },
   {
    "duration": 3,
    "start_time": "2022-07-08T09:53:41.964Z"
   },
   {
    "duration": 162712,
    "start_time": "2022-07-08T09:53:41.970Z"
   },
   {
    "duration": 93,
    "start_time": "2022-07-08T09:56:24.683Z"
   },
   {
    "duration": 4,
    "start_time": "2022-07-08T09:56:24.779Z"
   },
   {
    "duration": 5130,
    "start_time": "2022-07-08T09:56:24.785Z"
   },
   {
    "duration": 54,
    "start_time": "2022-07-08T09:58:46.670Z"
   },
   {
    "duration": 136265,
    "start_time": "2022-07-08T09:59:21.620Z"
   },
   {
    "duration": 162367,
    "start_time": "2022-07-08T10:04:28.441Z"
   },
   {
    "duration": 43,
    "start_time": "2022-07-08T10:08:03.037Z"
   },
   {
    "duration": 12,
    "start_time": "2022-07-08T10:08:03.082Z"
   },
   {
    "duration": 4,
    "start_time": "2022-07-08T10:08:03.095Z"
   },
   {
    "duration": 9,
    "start_time": "2022-07-08T10:08:03.101Z"
   },
   {
    "duration": 7,
    "start_time": "2022-07-08T10:08:03.113Z"
   },
   {
    "duration": 367,
    "start_time": "2022-07-08T10:08:03.122Z"
   },
   {
    "duration": 7,
    "start_time": "2022-07-08T10:08:03.491Z"
   },
   {
    "duration": 6,
    "start_time": "2022-07-08T10:08:03.499Z"
   },
   {
    "duration": 9,
    "start_time": "2022-07-08T10:08:03.506Z"
   },
   {
    "duration": 127,
    "start_time": "2022-07-08T10:08:03.516Z"
   },
   {
    "duration": 8,
    "start_time": "2022-07-08T10:08:03.644Z"
   },
   {
    "duration": 947,
    "start_time": "2022-07-08T10:08:03.667Z"
   },
   {
    "duration": 24,
    "start_time": "2022-07-08T10:08:04.616Z"
   },
   {
    "duration": 47,
    "start_time": "2022-07-08T10:08:04.644Z"
   },
   {
    "duration": 8,
    "start_time": "2022-07-08T10:08:04.692Z"
   },
   {
    "duration": 9,
    "start_time": "2022-07-08T10:08:04.702Z"
   },
   {
    "duration": 6,
    "start_time": "2022-07-08T10:08:04.713Z"
   },
   {
    "duration": 52,
    "start_time": "2022-07-08T10:08:04.720Z"
   },
   {
    "duration": 88,
    "start_time": "2022-07-08T10:08:04.776Z"
   },
   {
    "duration": 28,
    "start_time": "2022-07-08T10:08:04.866Z"
   },
   {
    "duration": 11884,
    "start_time": "2022-07-08T10:08:04.896Z"
   },
   {
    "duration": 4,
    "start_time": "2022-07-08T10:08:16.781Z"
   },
   {
    "duration": 7,
    "start_time": "2022-07-08T10:08:16.786Z"
   },
   {
    "duration": 5186,
    "start_time": "2022-07-08T10:08:16.795Z"
   },
   {
    "duration": 37,
    "start_time": "2022-07-08T10:08:21.985Z"
   },
   {
    "duration": 4,
    "start_time": "2022-07-08T10:08:22.024Z"
   },
   {
    "duration": 11,
    "start_time": "2022-07-08T10:08:22.030Z"
   },
   {
    "duration": 135931,
    "start_time": "2022-07-08T10:08:22.042Z"
   },
   {
    "duration": 91,
    "start_time": "2022-07-08T10:10:37.975Z"
   },
   {
    "duration": 19,
    "start_time": "2022-07-08T10:10:38.068Z"
   },
   {
    "duration": 163687,
    "start_time": "2022-07-08T10:10:38.089Z"
   }
  ],
  "kernelspec": {
   "display_name": "Python 3 (ipykernel)",
   "language": "python",
   "name": "python3"
  },
  "language_info": {
   "codemirror_mode": {
    "name": "ipython",
    "version": 3
   },
   "file_extension": ".py",
   "mimetype": "text/x-python",
   "name": "python",
   "nbconvert_exporter": "python",
   "pygments_lexer": "ipython3",
   "version": "3.9.5"
  },
  "toc": {
   "base_numbering": 1,
   "nav_menu": {},
   "number_sections": true,
   "sideBar": true,
   "skip_h1_title": true,
   "title_cell": "Содержание",
   "title_sidebar": "Contents",
   "toc_cell": true,
   "toc_position": {},
   "toc_section_display": true,
   "toc_window_display": false
  }
 },
 "nbformat": 4,
 "nbformat_minor": 2
}
