{
 "cells": [
  {
   "cell_type": "markdown",
   "metadata": {
    "toc": true
   },
   "source": [
    "<h1>Содержание<span class=\"tocSkip\"></span></h1>\n",
    "<div class=\"toc\"><ul class=\"toc-item\"><li><span><a href=\"#Подготовка\" data-toc-modified-id=\"Подготовка-1\"><span class=\"toc-item-num\">1&nbsp;&nbsp;</span>Подготовка</a></span><ul class=\"toc-item\"><li><span><a href=\"#Вывод:\" data-toc-modified-id=\"Вывод:-1.1\"><span class=\"toc-item-num\">1.1&nbsp;&nbsp;</span>Вывод:</a></span></li></ul></li><li><span><a href=\"#Обучение-моделей\" data-toc-modified-id=\"Обучение-моделей-2\"><span class=\"toc-item-num\">2&nbsp;&nbsp;</span>Обучение моделей</a></span><ul class=\"toc-item\"><li><span><a href=\"#LogisticRegression\" data-toc-modified-id=\"LogisticRegression-2.1\"><span class=\"toc-item-num\">2.1&nbsp;&nbsp;</span>LogisticRegression</a></span></li><li><span><a href=\"#RandomForestClassifier-(с-подбором-гиперпараметров)\" data-toc-modified-id=\"RandomForestClassifier-(с-подбором-гиперпараметров)-2.2\"><span class=\"toc-item-num\">2.2&nbsp;&nbsp;</span>RandomForestClassifier (с подбором гиперпараметров)</a></span></li></ul></li><li><span><a href=\"#Выводы\" data-toc-modified-id=\"Выводы-3\"><span class=\"toc-item-num\">3&nbsp;&nbsp;</span>Выводы</a></span></li><li><span><a href=\"#Чек-лист-проверки\" data-toc-modified-id=\"Чек-лист-проверки-4\"><span class=\"toc-item-num\">4&nbsp;&nbsp;</span>Чек-лист проверки</a></span></li></ul></div>"
   ]
  },
  {
   "cell_type": "markdown",
   "metadata": {},
   "source": [
    "# Проект для «Викишоп»"
   ]
  },
  {
   "cell_type": "markdown",
   "metadata": {},
   "source": [
    "Интернет-магазин «Викишоп» запускает новый сервис. Теперь пользователи могут редактировать и дополнять описания товаров, как в вики-сообществах. То есть клиенты предлагают свои правки и комментируют изменения других. Магазину нужен инструмент, который будет искать токсичные комментарии и отправлять их на модерацию. \n",
    "\n",
    "Обучите модель классифицировать комментарии на позитивные и негативные. В вашем распоряжении набор данных с разметкой о токсичности правок.\n",
    "\n",
    "Постройте модель со значением метрики качества *F1* не меньше 0.75. \n",
    "\n",
    "**Инструкция по выполнению проекта**\n",
    "\n",
    "1. Загрузите и подготовьте данные.\n",
    "2. Обучите разные модели. \n",
    "3. Сделайте выводы.\n",
    "\n",
    "Для выполнения проекта применять *BERT* необязательно, но вы можете попробовать.\n",
    "\n",
    "**Описание данных**\n",
    "\n",
    "Данные находятся в файле `toxic_comments.csv`. Столбец *text* в нём содержит текст комментария, а *toxic* — целевой признак."
   ]
  },
  {
   "cell_type": "markdown",
   "metadata": {},
   "source": [
    "## Подготовка"
   ]
  },
  {
   "cell_type": "markdown",
   "metadata": {},
   "source": [
    "Начнем новый проект:\n",
    "\n",
    "- Импортируем все необходимые библиотеки\n",
    "\n",
    "- Проведем небольшой анализ\n",
    "\n",
    "- Преобразуем комментарии в корпус, проведем лемматизацию или стемминг\n",
    "\n",
    "- Далее рассмотрим 2-3 модели (попытаюсь и BERT, но не уверен в мощности своего компьютера)\n",
    "\n",
    "- В моделях будем пробовать различные гиперпараметры и возможно сбалансируем классы"
   ]
  },
  {
   "cell_type": "code",
   "execution_count": 1,
   "metadata": {},
   "outputs": [],
   "source": [
    "import pandas as pd\n",
    "import numpy as np\n",
    "import torch\n",
    "import transformers\n",
    "from sklearn.metrics import f1_score\n",
    "from sklearn.linear_model import LogisticRegression \n",
    "from sklearn.model_selection import cross_val_score \n",
    "from sklearn.model_selection import train_test_split\n",
    "import nltk\n",
    "from nltk.stem import WordNetLemmatizer\n",
    "from nltk.corpus import stopwords as nltk_stopwords\n",
    "import re\n",
    "from sklearn.feature_extraction.text import CountVectorizer\n",
    "from sklearn.feature_extraction.text import TfidfVectorizer\n",
    "from nltk.corpus import stopwords as stopwords_nltk\n",
    "from nltk.tokenize import word_tokenize\n",
    "import warnings\n",
    "warnings.filterwarnings(\"ignore\")\n",
    "from sklearn.ensemble import RandomForestClassifier\n",
    "from sklearn.tree import DecisionTreeClassifier\n",
    "from sklearn.model_selection import TimeSeriesSplit, GridSearchCV"
   ]
  },
  {
   "cell_type": "markdown",
   "metadata": {},
   "source": [
    "Прочитаем файл и посмотрим необходимую информацию"
   ]
  },
  {
   "cell_type": "code",
   "execution_count": 2,
   "metadata": {},
   "outputs": [],
   "source": [
    "data = pd.read_csv('/datasets/toxic_comments.csv')"
   ]
  },
  {
   "cell_type": "markdown",
   "metadata": {},
   "source": [
    "Выведем первые 5 строк, посмотрим инфо и распределение"
   ]
  },
  {
   "cell_type": "code",
   "execution_count": 3,
   "metadata": {
    "scrolled": true
   },
   "outputs": [
    {
     "data": {
      "text/html": [
       "<div>\n",
       "<style scoped>\n",
       "    .dataframe tbody tr th:only-of-type {\n",
       "        vertical-align: middle;\n",
       "    }\n",
       "\n",
       "    .dataframe tbody tr th {\n",
       "        vertical-align: top;\n",
       "    }\n",
       "\n",
       "    .dataframe thead th {\n",
       "        text-align: right;\n",
       "    }\n",
       "</style>\n",
       "<table border=\"1\" class=\"dataframe\">\n",
       "  <thead>\n",
       "    <tr style=\"text-align: right;\">\n",
       "      <th></th>\n",
       "      <th>text</th>\n",
       "      <th>toxic</th>\n",
       "    </tr>\n",
       "  </thead>\n",
       "  <tbody>\n",
       "    <tr>\n",
       "      <th>0</th>\n",
       "      <td>Explanation\\nWhy the edits made under my usern...</td>\n",
       "      <td>0</td>\n",
       "    </tr>\n",
       "    <tr>\n",
       "      <th>1</th>\n",
       "      <td>D'aww! He matches this background colour I'm s...</td>\n",
       "      <td>0</td>\n",
       "    </tr>\n",
       "    <tr>\n",
       "      <th>2</th>\n",
       "      <td>Hey man, I'm really not trying to edit war. It...</td>\n",
       "      <td>0</td>\n",
       "    </tr>\n",
       "    <tr>\n",
       "      <th>3</th>\n",
       "      <td>\"\\nMore\\nI can't make any real suggestions on ...</td>\n",
       "      <td>0</td>\n",
       "    </tr>\n",
       "    <tr>\n",
       "      <th>4</th>\n",
       "      <td>You, sir, are my hero. Any chance you remember...</td>\n",
       "      <td>0</td>\n",
       "    </tr>\n",
       "  </tbody>\n",
       "</table>\n",
       "</div>"
      ],
      "text/plain": [
       "                                                text  toxic\n",
       "0  Explanation\\nWhy the edits made under my usern...      0\n",
       "1  D'aww! He matches this background colour I'm s...      0\n",
       "2  Hey man, I'm really not trying to edit war. It...      0\n",
       "3  \"\\nMore\\nI can't make any real suggestions on ...      0\n",
       "4  You, sir, are my hero. Any chance you remember...      0"
      ]
     },
     "execution_count": 3,
     "metadata": {},
     "output_type": "execute_result"
    }
   ],
   "source": [
    "data.head()"
   ]
  },
  {
   "cell_type": "code",
   "execution_count": 4,
   "metadata": {
    "scrolled": false
   },
   "outputs": [
    {
     "name": "stdout",
     "output_type": "stream",
     "text": [
      "<class 'pandas.core.frame.DataFrame'>\n",
      "RangeIndex: 159571 entries, 0 to 159570\n",
      "Data columns (total 2 columns):\n",
      " #   Column  Non-Null Count   Dtype \n",
      "---  ------  --------------   ----- \n",
      " 0   text    159571 non-null  object\n",
      " 1   toxic   159571 non-null  int64 \n",
      "dtypes: int64(1), object(1)\n",
      "memory usage: 2.4+ MB\n"
     ]
    }
   ],
   "source": [
    "data.info()"
   ]
  },
  {
   "cell_type": "markdown",
   "metadata": {},
   "source": [
    "Имеем 2 столбца по 159571 строке - текст и определение токсичности (0 - обычный комментарий, 1 - токсичный)"
   ]
  },
  {
   "cell_type": "code",
   "execution_count": 5,
   "metadata": {
    "scrolled": true
   },
   "outputs": [
    {
     "data": {
      "text/html": [
       "<div>\n",
       "<style scoped>\n",
       "    .dataframe tbody tr th:only-of-type {\n",
       "        vertical-align: middle;\n",
       "    }\n",
       "\n",
       "    .dataframe tbody tr th {\n",
       "        vertical-align: top;\n",
       "    }\n",
       "\n",
       "    .dataframe thead th {\n",
       "        text-align: right;\n",
       "    }\n",
       "</style>\n",
       "<table border=\"1\" class=\"dataframe\">\n",
       "  <thead>\n",
       "    <tr style=\"text-align: right;\">\n",
       "      <th></th>\n",
       "      <th>toxic</th>\n",
       "    </tr>\n",
       "  </thead>\n",
       "  <tbody>\n",
       "    <tr>\n",
       "      <th>count</th>\n",
       "      <td>159571.000000</td>\n",
       "    </tr>\n",
       "    <tr>\n",
       "      <th>mean</th>\n",
       "      <td>0.101679</td>\n",
       "    </tr>\n",
       "    <tr>\n",
       "      <th>std</th>\n",
       "      <td>0.302226</td>\n",
       "    </tr>\n",
       "    <tr>\n",
       "      <th>min</th>\n",
       "      <td>0.000000</td>\n",
       "    </tr>\n",
       "    <tr>\n",
       "      <th>25%</th>\n",
       "      <td>0.000000</td>\n",
       "    </tr>\n",
       "    <tr>\n",
       "      <th>50%</th>\n",
       "      <td>0.000000</td>\n",
       "    </tr>\n",
       "    <tr>\n",
       "      <th>75%</th>\n",
       "      <td>0.000000</td>\n",
       "    </tr>\n",
       "    <tr>\n",
       "      <th>max</th>\n",
       "      <td>1.000000</td>\n",
       "    </tr>\n",
       "  </tbody>\n",
       "</table>\n",
       "</div>"
      ],
      "text/plain": [
       "               toxic\n",
       "count  159571.000000\n",
       "mean        0.101679\n",
       "std         0.302226\n",
       "min         0.000000\n",
       "25%         0.000000\n",
       "50%         0.000000\n",
       "75%         0.000000\n",
       "max         1.000000"
      ]
     },
     "execution_count": 5,
     "metadata": {},
     "output_type": "execute_result"
    }
   ],
   "source": [
    "data.describe()"
   ]
  },
  {
   "cell_type": "markdown",
   "metadata": {},
   "source": [
    "Посмотрим на соотношение количества обычных комментариев и токсичных"
   ]
  },
  {
   "cell_type": "code",
   "execution_count": 6,
   "metadata": {
    "scrolled": false
   },
   "outputs": [
    {
     "data": {
      "text/plain": [
       "0    143346\n",
       "1     16225\n",
       "Name: toxic, dtype: int64"
      ]
     },
     "execution_count": 6,
     "metadata": {},
     "output_type": "execute_result"
    }
   ],
   "source": [
    "data['toxic'].value_counts()"
   ]
  },
  {
   "cell_type": "markdown",
   "metadata": {},
   "source": [
    "По количеству наблюдаем некий дисбаланс классов - токсичных комментариев очевидно меньше, чем обычных\n",
    "\n",
    "Посмортим по моделям - возможно имеет место быть дисбаланс классов"
   ]
  },
  {
   "cell_type": "markdown",
   "metadata": {},
   "source": [
    "Посмотрим что система принимает за токсичный комментарий"
   ]
  },
  {
   "cell_type": "code",
   "execution_count": 7,
   "metadata": {
    "scrolled": true
   },
   "outputs": [
    {
     "data": {
      "text/html": [
       "<div>\n",
       "<style scoped>\n",
       "    .dataframe tbody tr th:only-of-type {\n",
       "        vertical-align: middle;\n",
       "    }\n",
       "\n",
       "    .dataframe tbody tr th {\n",
       "        vertical-align: top;\n",
       "    }\n",
       "\n",
       "    .dataframe thead th {\n",
       "        text-align: right;\n",
       "    }\n",
       "</style>\n",
       "<table border=\"1\" class=\"dataframe\">\n",
       "  <thead>\n",
       "    <tr style=\"text-align: right;\">\n",
       "      <th></th>\n",
       "      <th>text</th>\n",
       "      <th>toxic</th>\n",
       "    </tr>\n",
       "  </thead>\n",
       "  <tbody>\n",
       "    <tr>\n",
       "      <th>6</th>\n",
       "      <td>COCKSUCKER BEFORE YOU PISS AROUND ON MY WORK</td>\n",
       "      <td>1</td>\n",
       "    </tr>\n",
       "    <tr>\n",
       "      <th>12</th>\n",
       "      <td>Hey... what is it..\\n@ | talk .\\nWhat is it......</td>\n",
       "      <td>1</td>\n",
       "    </tr>\n",
       "    <tr>\n",
       "      <th>16</th>\n",
       "      <td>Bye! \\n\\nDon't look, come or think of comming ...</td>\n",
       "      <td>1</td>\n",
       "    </tr>\n",
       "    <tr>\n",
       "      <th>42</th>\n",
       "      <td>You are gay or antisemmitian? \\n\\nArchangel WH...</td>\n",
       "      <td>1</td>\n",
       "    </tr>\n",
       "    <tr>\n",
       "      <th>43</th>\n",
       "      <td>FUCK YOUR FILTHY MOTHER IN THE ASS, DRY!</td>\n",
       "      <td>1</td>\n",
       "    </tr>\n",
       "  </tbody>\n",
       "</table>\n",
       "</div>"
      ],
      "text/plain": [
       "                                                 text  toxic\n",
       "6        COCKSUCKER BEFORE YOU PISS AROUND ON MY WORK      1\n",
       "12  Hey... what is it..\\n@ | talk .\\nWhat is it......      1\n",
       "16  Bye! \\n\\nDon't look, come or think of comming ...      1\n",
       "42  You are gay or antisemmitian? \\n\\nArchangel WH...      1\n",
       "43           FUCK YOUR FILTHY MOTHER IN THE ASS, DRY!      1"
      ]
     },
     "execution_count": 7,
     "metadata": {},
     "output_type": "execute_result"
    }
   ],
   "source": [
    "data[data['toxic'] == 1].head()"
   ]
  },
  {
   "cell_type": "markdown",
   "metadata": {},
   "source": [
    "Уберем все ненужные символы и оставим сухой текст\n",
    "\n",
    "Далее проведем лемматизацию текста и посмотрим что получилось в итоге"
   ]
  },
  {
   "cell_type": "code",
   "execution_count": 8,
   "metadata": {},
   "outputs": [],
   "source": [
    "def clear_text_and_lemm(text):\n",
    "    wn1 = WordNetLemmatizer()\n",
    "    sub = re.sub(r'[^a-zA-Z]',' ', text)\n",
    "    lemm = nltk.word_tokenize(sub)\n",
    "    sup =\" \".join([wn1.lemmatize(words) for words in lemm])\n",
    "    return sup"
   ]
  },
  {
   "cell_type": "markdown",
   "metadata": {},
   "source": [
    "Применим нашу очистку и лемматизацию и применим функцию для дальнейшей работы"
   ]
  },
  {
   "cell_type": "code",
   "execution_count": 9,
   "metadata": {
    "scrolled": true
   },
   "outputs": [],
   "source": [
    "data['lemm_text'] = data['text'].apply(clear_text_and_lemm)"
   ]
  },
  {
   "cell_type": "code",
   "execution_count": 10,
   "metadata": {},
   "outputs": [],
   "source": [
    "data['lemm_text'] = data['lemm_text'].str.lower()"
   ]
  },
  {
   "cell_type": "code",
   "execution_count": 11,
   "metadata": {
    "scrolled": true
   },
   "outputs": [
    {
     "data": {
      "text/html": [
       "<div>\n",
       "<style scoped>\n",
       "    .dataframe tbody tr th:only-of-type {\n",
       "        vertical-align: middle;\n",
       "    }\n",
       "\n",
       "    .dataframe tbody tr th {\n",
       "        vertical-align: top;\n",
       "    }\n",
       "\n",
       "    .dataframe thead th {\n",
       "        text-align: right;\n",
       "    }\n",
       "</style>\n",
       "<table border=\"1\" class=\"dataframe\">\n",
       "  <thead>\n",
       "    <tr style=\"text-align: right;\">\n",
       "      <th></th>\n",
       "      <th>text</th>\n",
       "      <th>toxic</th>\n",
       "      <th>lemm_text</th>\n",
       "    </tr>\n",
       "  </thead>\n",
       "  <tbody>\n",
       "    <tr>\n",
       "      <th>0</th>\n",
       "      <td>Explanation\\nWhy the edits made under my usern...</td>\n",
       "      <td>0</td>\n",
       "      <td>explanation why the edits made under my userna...</td>\n",
       "    </tr>\n",
       "    <tr>\n",
       "      <th>1</th>\n",
       "      <td>D'aww! He matches this background colour I'm s...</td>\n",
       "      <td>0</td>\n",
       "      <td>d aww he match this background colour i m seem...</td>\n",
       "    </tr>\n",
       "    <tr>\n",
       "      <th>2</th>\n",
       "      <td>Hey man, I'm really not trying to edit war. It...</td>\n",
       "      <td>0</td>\n",
       "      <td>hey man i m really not trying to edit war it s...</td>\n",
       "    </tr>\n",
       "    <tr>\n",
       "      <th>3</th>\n",
       "      <td>\"\\nMore\\nI can't make any real suggestions on ...</td>\n",
       "      <td>0</td>\n",
       "      <td>more i can t make any real suggestion on impro...</td>\n",
       "    </tr>\n",
       "    <tr>\n",
       "      <th>4</th>\n",
       "      <td>You, sir, are my hero. Any chance you remember...</td>\n",
       "      <td>0</td>\n",
       "      <td>you sir are my hero any chance you remember wh...</td>\n",
       "    </tr>\n",
       "  </tbody>\n",
       "</table>\n",
       "</div>"
      ],
      "text/plain": [
       "                                                text  toxic  \\\n",
       "0  Explanation\\nWhy the edits made under my usern...      0   \n",
       "1  D'aww! He matches this background colour I'm s...      0   \n",
       "2  Hey man, I'm really not trying to edit war. It...      0   \n",
       "3  \"\\nMore\\nI can't make any real suggestions on ...      0   \n",
       "4  You, sir, are my hero. Any chance you remember...      0   \n",
       "\n",
       "                                           lemm_text  \n",
       "0  explanation why the edits made under my userna...  \n",
       "1  d aww he match this background colour i m seem...  \n",
       "2  hey man i m really not trying to edit war it s...  \n",
       "3  more i can t make any real suggestion on impro...  \n",
       "4  you sir are my hero any chance you remember wh...  "
      ]
     },
     "execution_count": 11,
     "metadata": {},
     "output_type": "execute_result"
    }
   ],
   "source": [
    "data.head()"
   ]
  },
  {
   "cell_type": "markdown",
   "metadata": {},
   "source": [
    "### Вывод:\n",
    "\n",
    "- Провели первичное ислледование\n",
    "\n",
    "- Оставили только регулярные выражения и провели лемматизацю\n",
    "\n",
    "- Создали корпус постов\n",
    "\n",
    "- создали мешок слов"
   ]
  },
  {
   "cell_type": "markdown",
   "metadata": {},
   "source": [
    "## Обучение моделей"
   ]
  },
  {
   "cell_type": "markdown",
   "metadata": {},
   "source": [
    "На данном этапе произведем следующие действия:\n",
    "    \n",
    "- Выделим таргет и фичи\n",
    "\n",
    "- Разделим данные на 2 выборки (выделим 25% для тестовой выборки)\n",
    "\n",
    "- Уберем стоп слова и переведем наши данные в Unicode для дальнейшей работы\n",
    "\n",
    "- протестируем 2 модели - Логистическую Классификацию и Случайный лес\n"
   ]
  },
  {
   "cell_type": "code",
   "execution_count": 12,
   "metadata": {
    "scrolled": true
   },
   "outputs": [
    {
     "name": "stdout",
     "output_type": "stream",
     "text": [
      "Целевой признак: (159571,)\n",
      "Признаки: (159571, 1)\n"
     ]
    }
   ],
   "source": [
    "target = data['toxic']\n",
    "features = data.drop(['toxic','text'], axis = 1)\n",
    "\n",
    "print('Целевой признак:', target.shape)\n",
    "print('Признаки:', features.shape)"
   ]
  },
  {
   "cell_type": "code",
   "execution_count": 13,
   "metadata": {},
   "outputs": [],
   "source": [
    "features_train, features_test, target_train, target_test = train_test_split(features,\n",
    "                                                                            target,\n",
    "                                                                            test_size=0.25,\n",
    "                                                                           stratify = target) \n",
    "                                                                            "
   ]
  },
  {
   "cell_type": "code",
   "execution_count": 14,
   "metadata": {
    "scrolled": true
   },
   "outputs": [
    {
     "name": "stdout",
     "output_type": "stream",
     "text": [
      "Размер обучающей выборки: (119678, 1) Размер тестовой выборки: (39893, 1)\n"
     ]
    }
   ],
   "source": [
    "print('Размер обучающей выборки:', features_train.shape,\n",
    "      \n",
    "     'Размер тестовой выборки:', features_test.shape)"
   ]
  },
  {
   "cell_type": "code",
   "execution_count": 15,
   "metadata": {},
   "outputs": [],
   "source": [
    "corpus_train = features_train['lemm_text']\n",
    "corpus_test = features_test['lemm_text']"
   ]
  },
  {
   "cell_type": "markdown",
   "metadata": {},
   "source": [
    "Избавимся от стоп-слов и сделаем векторизацию"
   ]
  },
  {
   "cell_type": "code",
   "execution_count": 16,
   "metadata": {
    "scrolled": true
   },
   "outputs": [
    {
     "name": "stderr",
     "output_type": "stream",
     "text": [
      "[nltk_data] Downloading package stopwords to /home/jovyan/nltk_data...\n",
      "[nltk_data]   Unzipping corpora/stopwords.zip.\n"
     ]
    },
    {
     "name": "stdout",
     "output_type": "stream",
     "text": [
      "(119678, 138366)\n",
      "(39893, 138366)\n"
     ]
    }
   ],
   "source": [
    "nltk.download('stopwords')\n",
    "stopwords = set(nltk_stopwords.words('english'))\n",
    "count_tf_idf = TfidfVectorizer(stop_words=stopwords)\n",
    "train_X = count_tf_idf.fit_transform(corpus_train)\n",
    "test_X = count_tf_idf.transform(corpus_test)\n",
    "print(train_X.shape)\n",
    "print(test_X.shape)"
   ]
  },
  {
   "cell_type": "markdown",
   "metadata": {},
   "source": [
    "### LogisticRegression"
   ]
  },
  {
   "cell_type": "markdown",
   "metadata": {},
   "source": [
    "Первую модель возьмем логистическую регрессию - сразу в настройках сбалансируем классы (у нас примерно 10% токсичных твитов от общего числа записей)"
   ]
  },
  {
   "cell_type": "code",
   "execution_count": 17,
   "metadata": {},
   "outputs": [],
   "source": [
    "model=LogisticRegression(random_state=12345, class_weight='balanced', C = 10)"
   ]
  },
  {
   "cell_type": "code",
   "execution_count": 18,
   "metadata": {
    "scrolled": true
   },
   "outputs": [
    {
     "name": "stdout",
     "output_type": "stream",
     "text": [
      "CPU times: user 21.7 s, sys: 27.7 s, total: 49.4 s\n",
      "Wall time: 49.5 s\n"
     ]
    },
    {
     "data": {
      "text/plain": [
       "LogisticRegression(C=10, class_weight='balanced', random_state=12345)"
      ]
     },
     "execution_count": 18,
     "metadata": {},
     "output_type": "execute_result"
    }
   ],
   "source": [
    "%%time\n",
    "model.fit(train_X, target_train)"
   ]
  },
  {
   "cell_type": "code",
   "execution_count": 19,
   "metadata": {},
   "outputs": [
    {
     "name": "stdout",
     "output_type": "stream",
     "text": [
      "CPU times: user 0 ns, sys: 5.54 ms, total: 5.54 ms\n",
      "Wall time: 4.2 ms\n"
     ]
    }
   ],
   "source": [
    "%%time\n",
    "predictions = model.predict(test_X)"
   ]
  },
  {
   "cell_type": "code",
   "execution_count": 20,
   "metadata": {
    "scrolled": true
   },
   "outputs": [
    {
     "name": "stdout",
     "output_type": "stream",
     "text": [
      "LogisticRegression: 0.757734303912648\n"
     ]
    }
   ],
   "source": [
    "f1 = f1_score(target_test, predictions)\n",
    "print('LogisticRegression:', f1)"
   ]
  },
  {
   "cell_type": "markdown",
   "metadata": {},
   "source": [
    "Модель показала отличный результат - посмотрим на Слуйчаный лес"
   ]
  },
  {
   "cell_type": "markdown",
   "metadata": {},
   "source": [
    "### RandomForestClassifier (с подбором гиперпараметров)"
   ]
  },
  {
   "cell_type": "code",
   "execution_count": 21,
   "metadata": {
    "scrolled": true
   },
   "outputs": [
    {
     "name": "stdout",
     "output_type": "stream",
     "text": [
      "Fitting 5 folds for each of 25 candidates, totalling 125 fits\n",
      "[CV] END ......................max_depth=10, n_estimators=10; total time=   1.8s\n",
      "[CV] END ......................max_depth=10, n_estimators=10; total time=   1.8s\n",
      "[CV] END ......................max_depth=10, n_estimators=10; total time=   1.8s\n",
      "[CV] END ......................max_depth=10, n_estimators=10; total time=   1.8s\n",
      "[CV] END ......................max_depth=10, n_estimators=10; total time=   1.8s\n",
      "[CV] END ......................max_depth=10, n_estimators=20; total time=   3.5s\n",
      "[CV] END ......................max_depth=10, n_estimators=20; total time=   3.8s\n",
      "[CV] END ......................max_depth=10, n_estimators=20; total time=   3.7s\n",
      "[CV] END ......................max_depth=10, n_estimators=20; total time=   3.6s\n",
      "[CV] END ......................max_depth=10, n_estimators=20; total time=   3.6s\n",
      "[CV] END ......................max_depth=10, n_estimators=30; total time=   5.2s\n",
      "[CV] END ......................max_depth=10, n_estimators=30; total time=   5.2s\n",
      "[CV] END ......................max_depth=10, n_estimators=30; total time=   5.1s\n",
      "[CV] END ......................max_depth=10, n_estimators=30; total time=   5.4s\n",
      "[CV] END ......................max_depth=10, n_estimators=30; total time=   5.3s\n",
      "[CV] END ......................max_depth=10, n_estimators=40; total time=   7.2s\n",
      "[CV] END ......................max_depth=10, n_estimators=40; total time=   6.9s\n",
      "[CV] END ......................max_depth=10, n_estimators=40; total time=   6.9s\n",
      "[CV] END ......................max_depth=10, n_estimators=40; total time=   7.4s\n",
      "[CV] END ......................max_depth=10, n_estimators=40; total time=   7.0s\n",
      "[CV] END ......................max_depth=10, n_estimators=50; total time=   8.8s\n",
      "[CV] END ......................max_depth=10, n_estimators=50; total time=   9.1s\n",
      "[CV] END ......................max_depth=10, n_estimators=50; total time=   9.0s\n",
      "[CV] END ......................max_depth=10, n_estimators=50; total time=   8.9s\n",
      "[CV] END ......................max_depth=10, n_estimators=50; total time=   9.0s\n",
      "[CV] END ......................max_depth=20, n_estimators=10; total time=   3.8s\n",
      "[CV] END ......................max_depth=20, n_estimators=10; total time=   3.8s\n",
      "[CV] END ......................max_depth=20, n_estimators=10; total time=   3.8s\n",
      "[CV] END ......................max_depth=20, n_estimators=10; total time=   3.8s\n",
      "[CV] END ......................max_depth=20, n_estimators=10; total time=   3.6s\n",
      "[CV] END ......................max_depth=20, n_estimators=20; total time=   7.2s\n",
      "[CV] END ......................max_depth=20, n_estimators=20; total time=   7.6s\n",
      "[CV] END ......................max_depth=20, n_estimators=20; total time=   7.3s\n",
      "[CV] END ......................max_depth=20, n_estimators=20; total time=   7.4s\n",
      "[CV] END ......................max_depth=20, n_estimators=20; total time=   7.7s\n",
      "[CV] END ......................max_depth=20, n_estimators=30; total time=  11.3s\n",
      "[CV] END ......................max_depth=20, n_estimators=30; total time=  11.4s\n",
      "[CV] END ......................max_depth=20, n_estimators=30; total time=  11.9s\n",
      "[CV] END ......................max_depth=20, n_estimators=30; total time=  11.2s\n",
      "[CV] END ......................max_depth=20, n_estimators=30; total time=  11.1s\n",
      "[CV] END ......................max_depth=20, n_estimators=40; total time=  15.2s\n",
      "[CV] END ......................max_depth=20, n_estimators=40; total time=  14.6s\n",
      "[CV] END ......................max_depth=20, n_estimators=40; total time=  15.0s\n",
      "[CV] END ......................max_depth=20, n_estimators=40; total time=  15.3s\n",
      "[CV] END ......................max_depth=20, n_estimators=40; total time=  14.8s\n",
      "[CV] END ......................max_depth=20, n_estimators=50; total time=  18.2s\n",
      "[CV] END ......................max_depth=20, n_estimators=50; total time=  18.4s\n",
      "[CV] END ......................max_depth=20, n_estimators=50; total time=  17.9s\n",
      "[CV] END ......................max_depth=20, n_estimators=50; total time=  18.5s\n",
      "[CV] END ......................max_depth=20, n_estimators=50; total time=  18.0s\n",
      "[CV] END ......................max_depth=30, n_estimators=10; total time=   6.0s\n",
      "[CV] END ......................max_depth=30, n_estimators=10; total time=   5.9s\n",
      "[CV] END ......................max_depth=30, n_estimators=10; total time=   5.9s\n",
      "[CV] END ......................max_depth=30, n_estimators=10; total time=   5.9s\n",
      "[CV] END ......................max_depth=30, n_estimators=10; total time=   5.8s\n",
      "[CV] END ......................max_depth=30, n_estimators=20; total time=  11.8s\n",
      "[CV] END ......................max_depth=30, n_estimators=20; total time=  11.6s\n",
      "[CV] END ......................max_depth=30, n_estimators=20; total time=  11.5s\n",
      "[CV] END ......................max_depth=30, n_estimators=20; total time=  11.8s\n",
      "[CV] END ......................max_depth=30, n_estimators=20; total time=  11.5s\n",
      "[CV] END ......................max_depth=30, n_estimators=30; total time=  17.1s\n",
      "[CV] END ......................max_depth=30, n_estimators=30; total time=  17.9s\n",
      "[CV] END ......................max_depth=30, n_estimators=30; total time=  17.1s\n",
      "[CV] END ......................max_depth=30, n_estimators=30; total time=  17.8s\n",
      "[CV] END ......................max_depth=30, n_estimators=30; total time=  17.6s\n",
      "[CV] END ......................max_depth=30, n_estimators=40; total time=  23.5s\n",
      "[CV] END ......................max_depth=30, n_estimators=40; total time=  23.3s\n",
      "[CV] END ......................max_depth=30, n_estimators=40; total time=  23.4s\n",
      "[CV] END ......................max_depth=30, n_estimators=40; total time=  23.3s\n",
      "[CV] END ......................max_depth=30, n_estimators=40; total time=  23.1s\n",
      "[CV] END ......................max_depth=30, n_estimators=50; total time=  29.0s\n",
      "[CV] END ......................max_depth=30, n_estimators=50; total time=  28.9s\n",
      "[CV] END ......................max_depth=30, n_estimators=50; total time=  28.9s\n",
      "[CV] END ......................max_depth=30, n_estimators=50; total time=  29.3s\n",
      "[CV] END ......................max_depth=30, n_estimators=50; total time=  28.9s\n",
      "[CV] END ......................max_depth=40, n_estimators=10; total time=   8.3s\n",
      "[CV] END ......................max_depth=40, n_estimators=10; total time=   8.5s\n",
      "[CV] END ......................max_depth=40, n_estimators=10; total time=   8.0s\n",
      "[CV] END ......................max_depth=40, n_estimators=10; total time=   8.3s\n",
      "[CV] END ......................max_depth=40, n_estimators=10; total time=   8.4s\n",
      "[CV] END ......................max_depth=40, n_estimators=20; total time=  18.2s\n",
      "[CV] END ......................max_depth=40, n_estimators=20; total time=  16.6s\n",
      "[CV] END ......................max_depth=40, n_estimators=20; total time=  15.7s\n",
      "[CV] END ......................max_depth=40, n_estimators=20; total time=  17.0s\n",
      "[CV] END ......................max_depth=40, n_estimators=20; total time=  15.9s\n",
      "[CV] END ......................max_depth=40, n_estimators=30; total time=  24.6s\n",
      "[CV] END ......................max_depth=40, n_estimators=30; total time=  24.5s\n",
      "[CV] END ......................max_depth=40, n_estimators=30; total time=  24.8s\n",
      "[CV] END ......................max_depth=40, n_estimators=30; total time=  25.6s\n",
      "[CV] END ......................max_depth=40, n_estimators=30; total time=  24.3s\n",
      "[CV] END ......................max_depth=40, n_estimators=40; total time=  33.2s\n",
      "[CV] END ......................max_depth=40, n_estimators=40; total time=  33.1s\n",
      "[CV] END ......................max_depth=40, n_estimators=40; total time=  33.8s\n",
      "[CV] END ......................max_depth=40, n_estimators=40; total time=  34.7s\n",
      "[CV] END ......................max_depth=40, n_estimators=40; total time=  34.6s\n",
      "[CV] END ......................max_depth=40, n_estimators=50; total time=  40.8s\n",
      "[CV] END ......................max_depth=40, n_estimators=50; total time=  40.7s\n",
      "[CV] END ......................max_depth=40, n_estimators=50; total time=  39.6s\n",
      "[CV] END ......................max_depth=40, n_estimators=50; total time=  40.6s\n",
      "[CV] END ......................max_depth=40, n_estimators=50; total time=  40.9s\n",
      "[CV] END ......................max_depth=50, n_estimators=10; total time=  10.4s\n",
      "[CV] END ......................max_depth=50, n_estimators=10; total time=  10.5s\n",
      "[CV] END ......................max_depth=50, n_estimators=10; total time=  10.5s\n",
      "[CV] END ......................max_depth=50, n_estimators=10; total time=  10.8s\n",
      "[CV] END ......................max_depth=50, n_estimators=10; total time=  10.9s\n",
      "[CV] END ......................max_depth=50, n_estimators=20; total time=  21.0s\n",
      "[CV] END ......................max_depth=50, n_estimators=20; total time=  21.3s\n",
      "[CV] END ......................max_depth=50, n_estimators=20; total time=  20.9s\n",
      "[CV] END ......................max_depth=50, n_estimators=20; total time=  20.8s\n",
      "[CV] END ......................max_depth=50, n_estimators=20; total time=  21.4s\n",
      "[CV] END ......................max_depth=50, n_estimators=30; total time=  31.9s\n",
      "[CV] END ......................max_depth=50, n_estimators=30; total time=  32.0s\n",
      "[CV] END ......................max_depth=50, n_estimators=30; total time=  31.5s\n",
      "[CV] END ......................max_depth=50, n_estimators=30; total time=  31.8s\n",
      "[CV] END ......................max_depth=50, n_estimators=30; total time=  31.5s\n",
      "[CV] END ......................max_depth=50, n_estimators=40; total time=  41.9s\n",
      "[CV] END ......................max_depth=50, n_estimators=40; total time=  41.4s\n",
      "[CV] END ......................max_depth=50, n_estimators=40; total time=  41.9s\n",
      "[CV] END ......................max_depth=50, n_estimators=40; total time=  43.2s\n",
      "[CV] END ......................max_depth=50, n_estimators=40; total time=  42.4s\n",
      "[CV] END ......................max_depth=50, n_estimators=50; total time=  52.4s\n",
      "[CV] END ......................max_depth=50, n_estimators=50; total time=  51.9s\n",
      "[CV] END ......................max_depth=50, n_estimators=50; total time=  52.5s\n",
      "[CV] END ......................max_depth=50, n_estimators=50; total time=  53.6s\n",
      "[CV] END ......................max_depth=50, n_estimators=50; total time=  52.9s\n"
     ]
    },
    {
     "data": {
      "text/plain": [
       "GridSearchCV(cv=5, estimator=RandomForestClassifier(class_weight='balanced'),\n",
       "             param_grid={'max_depth': range(10, 51, 10),\n",
       "                         'n_estimators': range(10, 51, 10)},\n",
       "             verbose=2)"
      ]
     },
     "execution_count": 21,
     "metadata": {},
     "output_type": "execute_result"
    }
   ],
   "source": [
    "model = RandomForestClassifier(class_weight = 'balanced')\n",
    "parametrs = { 'n_estimators': range (10, 51, 10),\n",
    "              'max_depth': range (10, 51, 10) }\n",
    "grid = GridSearchCV(estimator=model, cv=5,\n",
    "                        param_grid=parametrs, verbose=2)\n",
    "grid.fit(train_X, target_train)"
   ]
  },
  {
   "cell_type": "code",
   "execution_count": 22,
   "metadata": {},
   "outputs": [
    {
     "name": "stdout",
     "output_type": "stream",
     "text": [
      "{'max_depth': 50, 'n_estimators': 40}\n"
     ]
    }
   ],
   "source": [
    "print(grid.best_params_)"
   ]
  },
  {
   "cell_type": "code",
   "execution_count": 23,
   "metadata": {},
   "outputs": [],
   "source": [
    "model = RandomForestClassifier(max_depth= 50, n_estimators= 50, class_weight = 'balanced', random_state=12345)"
   ]
  },
  {
   "cell_type": "code",
   "execution_count": 24,
   "metadata": {},
   "outputs": [
    {
     "name": "stdout",
     "output_type": "stream",
     "text": [
      "CPU times: user 22.7 s, sys: 52.5 ms, total: 22.7 s\n",
      "Wall time: 22.7 s\n"
     ]
    },
    {
     "data": {
      "text/plain": [
       "RandomForestClassifier(class_weight='balanced', max_depth=50, n_estimators=50,\n",
       "                       random_state=12345)"
      ]
     },
     "execution_count": 24,
     "metadata": {},
     "output_type": "execute_result"
    }
   ],
   "source": [
    "%%time\n",
    "model.fit(train_X, target_train) "
   ]
  },
  {
   "cell_type": "code",
   "execution_count": 25,
   "metadata": {},
   "outputs": [
    {
     "name": "stdout",
     "output_type": "stream",
     "text": [
      "CPU times: user 540 ms, sys: 68 µs, total: 541 ms\n",
      "Wall time: 546 ms\n"
     ]
    }
   ],
   "source": [
    "%%time\n",
    "predictions = model.predict(test_X)"
   ]
  },
  {
   "cell_type": "code",
   "execution_count": 26,
   "metadata": {},
   "outputs": [
    {
     "name": "stdout",
     "output_type": "stream",
     "text": [
      "RandomForestClassifier: 0.4644816847100696\n"
     ]
    }
   ],
   "source": [
    "f1 = f1_score(target_test, predictions)\n",
    "print('RandomForestClassifier:', f1)"
   ]
  },
  {
   "cell_type": "markdown",
   "metadata": {},
   "source": [
    "Очень низкий показатель модели - у Логистической регрессии было гораздо лучше"
   ]
  },
  {
   "cell_type": "markdown",
   "metadata": {},
   "source": [
    "## Выводы"
   ]
  },
  {
   "cell_type": "markdown",
   "metadata": {},
   "source": [
    "В данном проекте были выволнены следующие шаги:\n",
    "    \n",
    "- Просмотрен файл с записями и указанием их токсичности\n",
    "\n",
    "- выполнена очистка и лемматизация для данного текста\n",
    "\n",
    "- слова переведены в корпус, очищены от ненужных слов и подготовлены к работе с моделями\n",
    "\n",
    "- произведено исследование с 2 моделями - Логистической регрессией и Случайным лесом с подбором гиперпараметров\n",
    "\n",
    "- в результате исследования лучший результат показала модель - 0.75044 (Логистическая регрессиия)"
   ]
  }
 ],
 "metadata": {
  "ExecuteTimeLog": [
   {
    "duration": 426,
    "start_time": "2022-07-14T13:46:31.114Z"
   },
   {
    "duration": 148,
    "start_time": "2022-07-14T13:46:32.151Z"
   },
   {
    "duration": 12,
    "start_time": "2022-07-14T13:46:52.029Z"
   },
   {
    "duration": 3174,
    "start_time": "2022-07-14T13:47:41.848Z"
   },
   {
    "duration": 13,
    "start_time": "2022-07-14T13:47:46.031Z"
   },
   {
    "duration": 86,
    "start_time": "2022-07-14T13:48:08.685Z"
   },
   {
    "duration": 393,
    "start_time": "2022-07-17T16:38:07.358Z"
   },
   {
    "duration": 2478,
    "start_time": "2022-07-17T16:38:07.753Z"
   },
   {
    "duration": 13,
    "start_time": "2022-07-17T16:38:10.232Z"
   },
   {
    "duration": 33,
    "start_time": "2022-07-17T16:42:57.762Z"
   },
   {
    "duration": 17,
    "start_time": "2022-07-17T16:43:07.262Z"
   },
   {
    "duration": 6,
    "start_time": "2022-07-17T16:43:32.763Z"
   },
   {
    "duration": 2,
    "start_time": "2022-07-17T16:44:02.052Z"
   },
   {
    "duration": 448,
    "start_time": "2022-07-21T12:36:24.178Z"
   },
   {
    "duration": 3777,
    "start_time": "2022-07-21T12:36:24.628Z"
   },
   {
    "duration": 17,
    "start_time": "2022-07-21T12:36:28.407Z"
   },
   {
    "duration": 39,
    "start_time": "2022-07-21T12:36:28.427Z"
   },
   {
    "duration": 18,
    "start_time": "2022-07-21T12:36:28.468Z"
   },
   {
    "duration": 19,
    "start_time": "2022-07-21T12:36:28.488Z"
   },
   {
    "duration": 126,
    "start_time": "2022-07-21T13:13:18.189Z"
   },
   {
    "duration": 4,
    "start_time": "2022-07-21T13:33:34.963Z"
   },
   {
    "duration": 792,
    "start_time": "2022-07-21T13:33:34.970Z"
   },
   {
    "duration": 8,
    "start_time": "2022-07-21T13:33:35.765Z"
   },
   {
    "duration": 42,
    "start_time": "2022-07-21T13:33:35.775Z"
   },
   {
    "duration": 17,
    "start_time": "2022-07-21T13:33:35.818Z"
   },
   {
    "duration": 6,
    "start_time": "2022-07-21T13:33:35.837Z"
   },
   {
    "duration": 356,
    "start_time": "2022-07-21T13:33:35.844Z"
   },
   {
    "duration": 4,
    "start_time": "2022-07-21T13:38:28.136Z"
   },
   {
    "duration": 774,
    "start_time": "2022-07-21T13:38:28.143Z"
   },
   {
    "duration": 8,
    "start_time": "2022-07-21T13:38:28.918Z"
   },
   {
    "duration": 33,
    "start_time": "2022-07-21T13:38:28.928Z"
   },
   {
    "duration": 14,
    "start_time": "2022-07-21T13:38:28.964Z"
   },
   {
    "duration": 26,
    "start_time": "2022-07-21T13:38:28.979Z"
   },
   {
    "duration": 26,
    "start_time": "2022-07-21T13:38:29.007Z"
   },
   {
    "duration": 4,
    "start_time": "2022-07-21T13:38:57.628Z"
   },
   {
    "duration": 740,
    "start_time": "2022-07-21T13:38:57.634Z"
   },
   {
    "duration": 7,
    "start_time": "2022-07-21T13:38:58.376Z"
   },
   {
    "duration": 48,
    "start_time": "2022-07-21T13:38:58.385Z"
   },
   {
    "duration": 16,
    "start_time": "2022-07-21T13:38:58.435Z"
   },
   {
    "duration": 8,
    "start_time": "2022-07-21T13:38:58.454Z"
   },
   {
    "duration": 48,
    "start_time": "2022-07-21T13:38:58.463Z"
   },
   {
    "duration": 4,
    "start_time": "2022-07-21T13:48:48.066Z"
   },
   {
    "duration": 789,
    "start_time": "2022-07-21T13:48:48.072Z"
   },
   {
    "duration": 7,
    "start_time": "2022-07-21T13:48:48.863Z"
   },
   {
    "duration": 44,
    "start_time": "2022-07-21T13:48:48.872Z"
   },
   {
    "duration": 15,
    "start_time": "2022-07-21T13:48:48.919Z"
   },
   {
    "duration": 6,
    "start_time": "2022-07-21T13:48:48.936Z"
   },
   {
    "duration": 2061,
    "start_time": "2022-07-21T13:54:47.143Z"
   },
   {
    "duration": 34,
    "start_time": "2022-07-21T13:54:59.512Z"
   },
   {
    "duration": 4,
    "start_time": "2022-07-21T13:58:38.215Z"
   },
   {
    "duration": 823,
    "start_time": "2022-07-21T13:58:38.221Z"
   },
   {
    "duration": 7,
    "start_time": "2022-07-21T13:58:39.046Z"
   },
   {
    "duration": 35,
    "start_time": "2022-07-21T13:58:39.055Z"
   },
   {
    "duration": 18,
    "start_time": "2022-07-21T13:58:39.104Z"
   },
   {
    "duration": 7,
    "start_time": "2022-07-21T13:58:39.124Z"
   },
   {
    "duration": 78564,
    "start_time": "2022-07-21T13:58:49.026Z"
   },
   {
    "duration": 3557,
    "start_time": "2022-07-21T14:00:07.592Z"
   },
   {
    "duration": 15,
    "start_time": "2022-07-21T14:00:11.151Z"
   },
   {
    "duration": 73,
    "start_time": "2022-07-21T14:00:11.168Z"
   },
   {
    "duration": 41,
    "start_time": "2022-07-21T14:00:11.243Z"
   },
   {
    "duration": 40,
    "start_time": "2022-07-21T14:00:11.286Z"
   },
   {
    "duration": 2032,
    "start_time": "2022-07-21T14:00:11.329Z"
   },
   {
    "duration": 8,
    "start_time": "2022-07-21T14:00:13.363Z"
   },
   {
    "duration": 318,
    "start_time": "2022-07-21T14:00:13.373Z"
   },
   {
    "duration": 5,
    "start_time": "2022-07-21T14:50:07.394Z"
   },
   {
    "duration": 956,
    "start_time": "2022-07-21T14:50:07.401Z"
   },
   {
    "duration": 7,
    "start_time": "2022-07-21T14:50:08.359Z"
   },
   {
    "duration": 37,
    "start_time": "2022-07-21T14:50:08.367Z"
   },
   {
    "duration": 15,
    "start_time": "2022-07-21T14:50:08.407Z"
   },
   {
    "duration": 5,
    "start_time": "2022-07-21T14:50:08.423Z"
   },
   {
    "duration": 7,
    "start_time": "2022-07-21T15:09:41.842Z"
   },
   {
    "duration": 7,
    "start_time": "2022-07-21T15:09:41.850Z"
   },
   {
    "duration": 3359,
    "start_time": "2022-07-21T15:09:41.858Z"
   },
   {
    "duration": 10,
    "start_time": "2022-07-21T15:09:45.220Z"
   },
   {
    "duration": 47,
    "start_time": "2022-07-21T15:09:45.233Z"
   },
   {
    "duration": 17,
    "start_time": "2022-07-21T15:09:45.283Z"
   },
   {
    "duration": 15,
    "start_time": "2022-07-21T15:09:45.302Z"
   },
   {
    "duration": 81343,
    "start_time": "2022-07-21T15:12:04.700Z"
   },
   {
    "duration": 3526,
    "start_time": "2022-07-21T15:13:26.045Z"
   },
   {
    "duration": 16,
    "start_time": "2022-07-21T15:13:29.573Z"
   },
   {
    "duration": 39,
    "start_time": "2022-07-21T15:13:29.591Z"
   },
   {
    "duration": 19,
    "start_time": "2022-07-21T15:13:29.632Z"
   },
   {
    "duration": 8,
    "start_time": "2022-07-21T15:13:29.653Z"
   },
   {
    "duration": 2015,
    "start_time": "2022-07-21T15:13:29.662Z"
   },
   {
    "duration": 10,
    "start_time": "2022-07-21T15:13:31.679Z"
   },
   {
    "duration": 8,
    "start_time": "2022-07-21T15:13:31.691Z"
   },
   {
    "duration": 17,
    "start_time": "2022-07-21T15:13:31.701Z"
   },
   {
    "duration": 3,
    "start_time": "2022-07-21T15:13:40.701Z"
   },
   {
    "duration": 4,
    "start_time": "2022-07-21T15:13:41.525Z"
   },
   {
    "duration": 3,
    "start_time": "2022-07-21T15:13:44.194Z"
   },
   {
    "duration": 1471,
    "start_time": "2022-07-21T15:15:41.441Z"
   },
   {
    "duration": 10,
    "start_time": "2022-07-21T15:16:15.310Z"
   },
   {
    "duration": 4,
    "start_time": "2022-07-21T15:16:59.790Z"
   },
   {
    "duration": 3,
    "start_time": "2022-07-21T15:31:11.095Z"
   },
   {
    "duration": 11,
    "start_time": "2022-07-21T15:35:40.913Z"
   },
   {
    "duration": 14,
    "start_time": "2022-07-21T15:35:49.396Z"
   },
   {
    "duration": 7,
    "start_time": "2022-07-21T15:37:38.647Z"
   },
   {
    "duration": 13,
    "start_time": "2022-07-21T15:40:51.867Z"
   },
   {
    "duration": 52,
    "start_time": "2022-07-21T15:47:20.300Z"
   },
   {
    "duration": 19,
    "start_time": "2022-07-21T15:49:28.186Z"
   },
   {
    "duration": 803,
    "start_time": "2022-07-21T15:49:28.234Z"
   },
   {
    "duration": 8,
    "start_time": "2022-07-21T15:49:29.048Z"
   },
   {
    "duration": 55,
    "start_time": "2022-07-21T15:49:29.078Z"
   },
   {
    "duration": 27,
    "start_time": "2022-07-21T15:49:31.113Z"
   },
   {
    "duration": 19,
    "start_time": "2022-07-21T15:49:31.166Z"
   },
   {
    "duration": 43,
    "start_time": "2022-07-21T15:49:31.187Z"
   },
   {
    "duration": 82675,
    "start_time": "2022-07-21T15:51:40.736Z"
   },
   {
    "duration": 3525,
    "start_time": "2022-07-21T15:53:03.414Z"
   },
   {
    "duration": 16,
    "start_time": "2022-07-21T15:53:06.941Z"
   },
   {
    "duration": 47,
    "start_time": "2022-07-21T15:53:06.959Z"
   },
   {
    "duration": 21,
    "start_time": "2022-07-21T15:53:07.009Z"
   },
   {
    "duration": 7,
    "start_time": "2022-07-21T15:53:07.031Z"
   },
   {
    "duration": 26,
    "start_time": "2022-07-21T15:53:07.040Z"
   },
   {
    "duration": 1995,
    "start_time": "2022-07-21T15:53:07.068Z"
   },
   {
    "duration": 28,
    "start_time": "2022-07-21T15:53:09.065Z"
   },
   {
    "duration": 4,
    "start_time": "2022-07-21T15:59:21.520Z"
   },
   {
    "duration": 310,
    "start_time": "2022-07-21T15:59:54.654Z"
   },
   {
    "duration": 99058,
    "start_time": "2022-07-21T16:03:46.037Z"
   },
   {
    "duration": 3412,
    "start_time": "2022-07-21T16:05:25.098Z"
   },
   {
    "duration": 18,
    "start_time": "2022-07-21T16:05:28.511Z"
   },
   {
    "duration": 33,
    "start_time": "2022-07-21T16:05:28.532Z"
   },
   {
    "duration": 21,
    "start_time": "2022-07-21T16:05:28.567Z"
   },
   {
    "duration": 9,
    "start_time": "2022-07-21T16:05:28.604Z"
   },
   {
    "duration": 13,
    "start_time": "2022-07-21T16:05:28.614Z"
   },
   {
    "duration": 1893,
    "start_time": "2022-07-21T16:05:28.629Z"
   },
   {
    "duration": 18,
    "start_time": "2022-07-21T16:05:30.524Z"
   },
   {
    "duration": 18,
    "start_time": "2022-07-21T16:05:30.544Z"
   },
   {
    "duration": 423,
    "start_time": "2022-07-21T16:05:30.565Z"
   },
   {
    "duration": 8,
    "start_time": "2022-07-21T16:05:30.990Z"
   },
   {
    "duration": 89277,
    "start_time": "2022-07-21T16:14:10.595Z"
   },
   {
    "duration": 3350,
    "start_time": "2022-07-21T16:15:39.874Z"
   },
   {
    "duration": 16,
    "start_time": "2022-07-21T16:15:43.225Z"
   },
   {
    "duration": 34,
    "start_time": "2022-07-21T16:15:43.244Z"
   },
   {
    "duration": 34,
    "start_time": "2022-07-21T16:15:43.280Z"
   },
   {
    "duration": 8,
    "start_time": "2022-07-21T16:15:43.315Z"
   },
   {
    "duration": 17,
    "start_time": "2022-07-21T16:15:43.325Z"
   },
   {
    "duration": 1952,
    "start_time": "2022-07-21T16:15:43.344Z"
   },
   {
    "duration": 11,
    "start_time": "2022-07-21T16:15:45.297Z"
   },
   {
    "duration": 6,
    "start_time": "2022-07-21T16:15:45.311Z"
   },
   {
    "duration": 55464,
    "start_time": "2022-08-02T17:29:49.971Z"
   },
   {
    "duration": 2424,
    "start_time": "2022-08-02T17:30:45.437Z"
   },
   {
    "duration": 13,
    "start_time": "2022-08-02T17:30:47.862Z"
   },
   {
    "duration": 35,
    "start_time": "2022-08-02T17:30:47.876Z"
   },
   {
    "duration": 16,
    "start_time": "2022-08-02T17:30:47.913Z"
   },
   {
    "duration": 6,
    "start_time": "2022-08-02T17:30:47.931Z"
   },
   {
    "duration": 16,
    "start_time": "2022-08-02T17:30:47.939Z"
   },
   {
    "duration": 2035,
    "start_time": "2022-08-02T17:30:47.957Z"
   },
   {
    "duration": 5,
    "start_time": "2022-08-02T17:30:49.994Z"
   },
   {
    "duration": 802,
    "start_time": "2022-08-02T18:04:41.455Z"
   },
   {
    "duration": 8,
    "start_time": "2022-08-02T18:04:43.275Z"
   },
   {
    "duration": 33,
    "start_time": "2022-08-02T18:04:45.721Z"
   },
   {
    "duration": 2476,
    "start_time": "2022-08-02T18:41:55.115Z"
   },
   {
    "duration": 57495,
    "start_time": "2022-08-02T19:08:54.726Z"
   },
   {
    "duration": 745,
    "start_time": "2022-08-02T19:09:52.223Z"
   },
   {
    "duration": 13,
    "start_time": "2022-08-02T19:09:52.970Z"
   },
   {
    "duration": 28,
    "start_time": "2022-08-02T19:09:52.985Z"
   },
   {
    "duration": 39,
    "start_time": "2022-08-02T19:09:53.014Z"
   },
   {
    "duration": 5,
    "start_time": "2022-08-02T19:09:53.054Z"
   },
   {
    "duration": 9,
    "start_time": "2022-08-02T19:09:53.061Z"
   },
   {
    "duration": 1932,
    "start_time": "2022-08-02T19:09:53.072Z"
   },
   {
    "duration": 18,
    "start_time": "2022-08-02T19:09:55.006Z"
   },
   {
    "duration": 3,
    "start_time": "2022-08-02T19:09:55.026Z"
   },
   {
    "duration": 3,
    "start_time": "2022-08-02T19:10:28.620Z"
   },
   {
    "duration": 3,
    "start_time": "2022-08-02T19:10:45.006Z"
   },
   {
    "duration": 3,
    "start_time": "2022-08-02T19:12:04.530Z"
   },
   {
    "duration": 3,
    "start_time": "2022-08-02T19:18:10.956Z"
   },
   {
    "duration": 284,
    "start_time": "2022-08-02T19:18:11.781Z"
   },
   {
    "duration": 60714,
    "start_time": "2022-08-03T09:54:22.825Z"
   },
   {
    "duration": 2218,
    "start_time": "2022-08-03T09:55:23.541Z"
   },
   {
    "duration": 12,
    "start_time": "2022-08-03T09:55:25.761Z"
   },
   {
    "duration": 26,
    "start_time": "2022-08-03T09:55:25.774Z"
   },
   {
    "duration": 15,
    "start_time": "2022-08-03T09:55:25.802Z"
   },
   {
    "duration": 5,
    "start_time": "2022-08-03T09:55:25.818Z"
   },
   {
    "duration": 11,
    "start_time": "2022-08-03T09:55:25.824Z"
   },
   {
    "duration": 3299,
    "start_time": "2022-08-03T09:55:25.836Z"
   },
   {
    "duration": 14,
    "start_time": "2022-08-03T09:55:29.137Z"
   },
   {
    "duration": 3,
    "start_time": "2022-08-03T09:55:29.152Z"
   },
   {
    "duration": 3883,
    "start_time": "2022-08-03T09:55:29.156Z"
   },
   {
    "duration": 3,
    "start_time": "2022-08-03T09:55:33.042Z"
   },
   {
    "duration": 25,
    "start_time": "2022-08-03T09:55:40.336Z"
   },
   {
    "duration": 4,
    "start_time": "2022-08-03T09:56:58.016Z"
   },
   {
    "duration": 327,
    "start_time": "2022-08-03T10:00:16.619Z"
   },
   {
    "duration": 0,
    "start_time": "2022-08-03T10:00:16.954Z"
   },
   {
    "duration": 0,
    "start_time": "2022-08-03T10:00:16.955Z"
   },
   {
    "duration": 0,
    "start_time": "2022-08-03T10:00:16.956Z"
   },
   {
    "duration": 0,
    "start_time": "2022-08-03T10:00:16.956Z"
   },
   {
    "duration": 0,
    "start_time": "2022-08-03T10:00:16.957Z"
   },
   {
    "duration": 0,
    "start_time": "2022-08-03T10:00:16.958Z"
   },
   {
    "duration": 0,
    "start_time": "2022-08-03T10:00:16.958Z"
   },
   {
    "duration": 0,
    "start_time": "2022-08-03T10:00:16.959Z"
   },
   {
    "duration": 0,
    "start_time": "2022-08-03T10:00:16.960Z"
   },
   {
    "duration": 0,
    "start_time": "2022-08-03T10:00:16.961Z"
   },
   {
    "duration": 0,
    "start_time": "2022-08-03T10:00:16.961Z"
   },
   {
    "duration": 0,
    "start_time": "2022-08-03T10:00:16.963Z"
   },
   {
    "duration": 0,
    "start_time": "2022-08-03T10:00:16.963Z"
   },
   {
    "duration": 0,
    "start_time": "2022-08-03T10:00:16.964Z"
   },
   {
    "duration": 3,
    "start_time": "2022-08-03T10:02:10.525Z"
   },
   {
    "duration": 818,
    "start_time": "2022-08-03T10:02:10.530Z"
   },
   {
    "duration": 6,
    "start_time": "2022-08-03T10:02:11.350Z"
   },
   {
    "duration": 27,
    "start_time": "2022-08-03T10:02:11.358Z"
   },
   {
    "duration": 30,
    "start_time": "2022-08-03T10:02:11.387Z"
   },
   {
    "duration": 5,
    "start_time": "2022-08-03T10:02:11.419Z"
   },
   {
    "duration": 9,
    "start_time": "2022-08-03T10:02:11.425Z"
   },
   {
    "duration": 2,
    "start_time": "2022-08-03T10:02:11.436Z"
   },
   {
    "duration": 3859,
    "start_time": "2022-08-03T10:02:11.440Z"
   },
   {
    "duration": 21,
    "start_time": "2022-08-03T10:02:15.301Z"
   },
   {
    "duration": 27,
    "start_time": "2022-08-03T10:02:15.323Z"
   },
   {
    "duration": 1819,
    "start_time": "2022-08-03T10:02:15.351Z"
   },
   {
    "duration": 6,
    "start_time": "2022-08-03T10:02:17.171Z"
   },
   {
    "duration": 12,
    "start_time": "2022-08-03T10:02:17.179Z"
   },
   {
    "duration": 57,
    "start_time": "2022-08-03T16:58:39.075Z"
   },
   {
    "duration": 49032,
    "start_time": "2022-08-03T16:58:43.902Z"
   },
   {
    "duration": 2429,
    "start_time": "2022-08-03T16:59:32.937Z"
   },
   {
    "duration": 14,
    "start_time": "2022-08-03T16:59:35.368Z"
   },
   {
    "duration": 40,
    "start_time": "2022-08-03T16:59:35.383Z"
   },
   {
    "duration": 16,
    "start_time": "2022-08-03T16:59:35.426Z"
   },
   {
    "duration": 6,
    "start_time": "2022-08-03T16:59:35.444Z"
   },
   {
    "duration": 273,
    "start_time": "2022-08-03T16:59:35.451Z"
   },
   {
    "duration": 0,
    "start_time": "2022-08-03T16:59:35.726Z"
   },
   {
    "duration": 0,
    "start_time": "2022-08-03T16:59:35.728Z"
   },
   {
    "duration": 0,
    "start_time": "2022-08-03T16:59:35.729Z"
   },
   {
    "duration": 0,
    "start_time": "2022-08-03T16:59:35.730Z"
   },
   {
    "duration": 0,
    "start_time": "2022-08-03T16:59:35.731Z"
   },
   {
    "duration": 0,
    "start_time": "2022-08-03T16:59:35.732Z"
   },
   {
    "duration": 0,
    "start_time": "2022-08-03T16:59:35.734Z"
   },
   {
    "duration": 0,
    "start_time": "2022-08-03T16:59:35.735Z"
   },
   {
    "duration": 576,
    "start_time": "2022-08-03T17:00:21.265Z"
   },
   {
    "duration": 792,
    "start_time": "2022-08-03T17:00:36.696Z"
   },
   {
    "duration": 3,
    "start_time": "2022-08-03T17:31:42.965Z"
   },
   {
    "duration": 4088,
    "start_time": "2022-08-03T17:31:43.615Z"
   },
   {
    "duration": 31,
    "start_time": "2022-08-03T17:31:48.595Z"
   },
   {
    "duration": 4,
    "start_time": "2022-08-03T17:31:50.040Z"
   },
   {
    "duration": 4148,
    "start_time": "2022-08-03T17:31:55.767Z"
   },
   {
    "duration": 10,
    "start_time": "2022-08-03T17:32:01.068Z"
   },
   {
    "duration": 3,
    "start_time": "2022-08-03T17:32:11.271Z"
   },
   {
    "duration": 33,
    "start_time": "2022-08-03T17:32:57.097Z"
   },
   {
    "duration": 29,
    "start_time": "2022-08-03T17:33:07.369Z"
   },
   {
    "duration": 24,
    "start_time": "2022-08-03T17:33:44.296Z"
   },
   {
    "duration": 23,
    "start_time": "2022-08-03T17:34:28.025Z"
   },
   {
    "duration": 27,
    "start_time": "2022-08-03T17:34:59.610Z"
   },
   {
    "duration": 5,
    "start_time": "2022-08-03T17:36:01.373Z"
   },
   {
    "duration": 884,
    "start_time": "2022-08-03T17:36:01.381Z"
   },
   {
    "duration": 9,
    "start_time": "2022-08-03T17:36:02.267Z"
   },
   {
    "duration": 62,
    "start_time": "2022-08-03T17:36:02.278Z"
   },
   {
    "duration": 39,
    "start_time": "2022-08-03T17:36:02.343Z"
   },
   {
    "duration": 10,
    "start_time": "2022-08-03T17:36:02.384Z"
   },
   {
    "duration": 25,
    "start_time": "2022-08-03T17:36:02.396Z"
   },
   {
    "duration": 20,
    "start_time": "2022-08-03T17:36:02.423Z"
   },
   {
    "duration": 4386,
    "start_time": "2022-08-03T17:36:02.445Z"
   },
   {
    "duration": 36,
    "start_time": "2022-08-03T17:36:06.833Z"
   },
   {
    "duration": 4,
    "start_time": "2022-08-03T17:36:06.870Z"
   },
   {
    "duration": 51,
    "start_time": "2022-08-03T17:36:15.745Z"
   },
   {
    "duration": 0,
    "start_time": "2022-08-03T17:37:17.225Z"
   },
   {
    "duration": 0,
    "start_time": "2022-08-03T17:37:17.227Z"
   },
   {
    "duration": 0,
    "start_time": "2022-08-03T17:37:17.228Z"
   },
   {
    "duration": 0,
    "start_time": "2022-08-03T17:37:17.229Z"
   },
   {
    "duration": 0,
    "start_time": "2022-08-03T17:37:17.230Z"
   },
   {
    "duration": 0,
    "start_time": "2022-08-03T17:37:17.231Z"
   },
   {
    "duration": 0,
    "start_time": "2022-08-03T17:37:17.232Z"
   },
   {
    "duration": 0,
    "start_time": "2022-08-03T17:37:17.234Z"
   },
   {
    "duration": 0,
    "start_time": "2022-08-03T17:37:17.236Z"
   },
   {
    "duration": 0,
    "start_time": "2022-08-03T17:37:17.236Z"
   },
   {
    "duration": 0,
    "start_time": "2022-08-03T17:37:17.238Z"
   },
   {
    "duration": 0,
    "start_time": "2022-08-03T17:37:17.239Z"
   },
   {
    "duration": 0,
    "start_time": "2022-08-03T17:37:17.240Z"
   },
   {
    "duration": 0,
    "start_time": "2022-08-03T17:37:17.241Z"
   },
   {
    "duration": 0,
    "start_time": "2022-08-03T17:37:17.243Z"
   },
   {
    "duration": 0,
    "start_time": "2022-08-03T17:37:17.243Z"
   },
   {
    "duration": 6,
    "start_time": "2022-08-03T17:37:27.927Z"
   },
   {
    "duration": 741,
    "start_time": "2022-08-03T17:37:29.369Z"
   },
   {
    "duration": 8,
    "start_time": "2022-08-03T17:37:35.507Z"
   },
   {
    "duration": 35,
    "start_time": "2022-08-03T17:37:36.510Z"
   },
   {
    "duration": 22,
    "start_time": "2022-08-03T17:37:39.906Z"
   },
   {
    "duration": 7,
    "start_time": "2022-08-03T17:37:41.110Z"
   },
   {
    "duration": 10,
    "start_time": "2022-08-03T17:37:42.599Z"
   },
   {
    "duration": 4,
    "start_time": "2022-08-03T17:37:43.991Z"
   },
   {
    "duration": 4126,
    "start_time": "2022-08-03T17:37:44.787Z"
   },
   {
    "duration": 32,
    "start_time": "2022-08-03T17:37:49.662Z"
   },
   {
    "duration": 5,
    "start_time": "2022-08-03T17:37:50.689Z"
   },
   {
    "duration": 5,
    "start_time": "2022-08-03T17:38:05.365Z"
   },
   {
    "duration": 48,
    "start_time": "2022-08-03T17:38:27.363Z"
   },
   {
    "duration": 6,
    "start_time": "2022-08-03T17:38:30.089Z"
   },
   {
    "duration": 49764,
    "start_time": "2022-08-03T17:38:44.159Z"
   },
   {
    "duration": 2294,
    "start_time": "2022-08-03T17:39:33.925Z"
   },
   {
    "duration": 16,
    "start_time": "2022-08-03T17:39:36.221Z"
   },
   {
    "duration": 31,
    "start_time": "2022-08-03T17:39:36.239Z"
   },
   {
    "duration": 16,
    "start_time": "2022-08-03T17:39:36.273Z"
   },
   {
    "duration": 14,
    "start_time": "2022-08-03T17:39:36.290Z"
   },
   {
    "duration": 12,
    "start_time": "2022-08-03T17:39:36.305Z"
   },
   {
    "duration": 3,
    "start_time": "2022-08-03T17:39:36.318Z"
   },
   {
    "duration": 4008,
    "start_time": "2022-08-03T17:39:36.323Z"
   },
   {
    "duration": 34,
    "start_time": "2022-08-03T17:39:40.334Z"
   },
   {
    "duration": 5,
    "start_time": "2022-08-03T17:39:40.370Z"
   },
   {
    "duration": 1960,
    "start_time": "2022-08-03T17:39:40.377Z"
   },
   {
    "duration": 30,
    "start_time": "2022-08-03T17:39:42.339Z"
   },
   {
    "duration": 9,
    "start_time": "2022-08-03T17:39:42.371Z"
   },
   {
    "duration": 293,
    "start_time": "2022-08-03T17:39:42.382Z"
   },
   {
    "duration": 0,
    "start_time": "2022-08-03T17:39:42.677Z"
   },
   {
    "duration": 47,
    "start_time": "2022-08-03T17:41:00.994Z"
   },
   {
    "duration": 0,
    "start_time": "2022-08-03T17:41:01.043Z"
   },
   {
    "duration": 48500,
    "start_time": "2022-08-03T17:41:09.554Z"
   },
   {
    "duration": 2370,
    "start_time": "2022-08-03T17:41:58.056Z"
   },
   {
    "duration": 14,
    "start_time": "2022-08-03T17:42:00.428Z"
   },
   {
    "duration": 38,
    "start_time": "2022-08-03T17:42:00.444Z"
   },
   {
    "duration": 36,
    "start_time": "2022-08-03T17:42:00.484Z"
   },
   {
    "duration": 29,
    "start_time": "2022-08-03T17:42:00.522Z"
   },
   {
    "duration": 42,
    "start_time": "2022-08-03T17:42:00.554Z"
   },
   {
    "duration": 273,
    "start_time": "2022-08-03T17:43:34.681Z"
   },
   {
    "duration": 1911,
    "start_time": "2022-08-03T17:43:38.187Z"
   },
   {
    "duration": 30,
    "start_time": "2022-08-03T17:43:41.899Z"
   },
   {
    "duration": 5,
    "start_time": "2022-08-03T17:43:44.624Z"
   },
   {
    "duration": 18,
    "start_time": "2022-08-03T17:45:59.046Z"
   },
   {
    "duration": 3,
    "start_time": "2022-08-03T17:49:42.373Z"
   },
   {
    "duration": 233,
    "start_time": "2022-08-03T17:49:43.240Z"
   },
   {
    "duration": 5,
    "start_time": "2022-08-03T17:50:03.238Z"
   },
   {
    "duration": 305,
    "start_time": "2022-08-03T17:50:04.740Z"
   },
   {
    "duration": 3,
    "start_time": "2022-08-03T17:50:21.041Z"
   },
   {
    "duration": 88783,
    "start_time": "2022-08-03T17:50:21.883Z"
   },
   {
    "duration": 6,
    "start_time": "2022-08-03T17:52:03.665Z"
   },
   {
    "duration": 42,
    "start_time": "2022-08-03T17:52:19.257Z"
   },
   {
    "duration": 7,
    "start_time": "2022-08-03T17:52:21.878Z"
   },
   {
    "duration": 4,
    "start_time": "2022-08-03T17:52:36.353Z"
   },
   {
    "duration": 780,
    "start_time": "2022-08-03T17:52:36.359Z"
   },
   {
    "duration": 7,
    "start_time": "2022-08-03T17:52:37.141Z"
   },
   {
    "duration": 31,
    "start_time": "2022-08-03T17:52:37.149Z"
   },
   {
    "duration": 32,
    "start_time": "2022-08-03T17:52:37.182Z"
   },
   {
    "duration": 6,
    "start_time": "2022-08-03T17:52:37.216Z"
   },
   {
    "duration": 9,
    "start_time": "2022-08-03T17:52:37.223Z"
   },
   {
    "duration": 7,
    "start_time": "2022-08-03T17:52:37.234Z"
   },
   {
    "duration": 84935,
    "start_time": "2022-08-03T17:52:37.242Z"
   },
   {
    "duration": 51577,
    "start_time": "2022-08-03T17:54:17.036Z"
   },
   {
    "duration": 2321,
    "start_time": "2022-08-03T17:55:08.616Z"
   },
   {
    "duration": 15,
    "start_time": "2022-08-03T17:55:10.938Z"
   },
   {
    "duration": 35,
    "start_time": "2022-08-03T17:55:10.955Z"
   },
   {
    "duration": 20,
    "start_time": "2022-08-03T17:55:10.992Z"
   },
   {
    "duration": 6,
    "start_time": "2022-08-03T17:55:11.014Z"
   },
   {
    "duration": 11,
    "start_time": "2022-08-03T17:55:11.021Z"
   },
   {
    "duration": 3,
    "start_time": "2022-08-03T17:55:11.034Z"
   },
   {
    "duration": 85752,
    "start_time": "2022-08-03T17:55:11.038Z"
   },
   {
    "duration": 2,
    "start_time": "2022-08-03T17:56:36.793Z"
   },
   {
    "duration": 46,
    "start_time": "2022-08-03T17:56:36.796Z"
   },
   {
    "duration": 4,
    "start_time": "2022-08-03T17:56:36.844Z"
   },
   {
    "duration": 325,
    "start_time": "2022-08-03T17:56:36.850Z"
   },
   {
    "duration": 0,
    "start_time": "2022-08-03T17:56:37.177Z"
   },
   {
    "duration": 0,
    "start_time": "2022-08-03T17:56:37.178Z"
   },
   {
    "duration": 0,
    "start_time": "2022-08-03T17:56:37.180Z"
   },
   {
    "duration": 4,
    "start_time": "2022-08-03T17:59:46.940Z"
   },
   {
    "duration": 759,
    "start_time": "2022-08-03T17:59:46.947Z"
   },
   {
    "duration": 9,
    "start_time": "2022-08-03T17:59:47.708Z"
   },
   {
    "duration": 36,
    "start_time": "2022-08-03T17:59:47.719Z"
   },
   {
    "duration": 29,
    "start_time": "2022-08-03T17:59:47.758Z"
   },
   {
    "duration": 19,
    "start_time": "2022-08-03T17:59:47.789Z"
   },
   {
    "duration": 11,
    "start_time": "2022-08-03T17:59:47.809Z"
   },
   {
    "duration": 1972,
    "start_time": "2022-08-03T17:59:47.822Z"
   },
   {
    "duration": 4,
    "start_time": "2022-08-03T17:59:49.803Z"
   },
   {
    "duration": 22,
    "start_time": "2022-08-03T17:59:49.809Z"
   },
   {
    "duration": 0,
    "start_time": "2022-08-03T17:59:49.833Z"
   },
   {
    "duration": 0,
    "start_time": "2022-08-03T17:59:49.834Z"
   },
   {
    "duration": 1,
    "start_time": "2022-08-03T17:59:49.835Z"
   },
   {
    "duration": 0,
    "start_time": "2022-08-03T17:59:49.837Z"
   },
   {
    "duration": 8,
    "start_time": "2022-08-03T18:04:27.144Z"
   },
   {
    "duration": 4,
    "start_time": "2022-08-03T18:04:47.759Z"
   },
   {
    "duration": 778,
    "start_time": "2022-08-03T18:04:47.765Z"
   },
   {
    "duration": 7,
    "start_time": "2022-08-03T18:04:48.545Z"
   },
   {
    "duration": 49,
    "start_time": "2022-08-03T18:04:48.554Z"
   },
   {
    "duration": 15,
    "start_time": "2022-08-03T18:04:48.605Z"
   },
   {
    "duration": 16,
    "start_time": "2022-08-03T18:04:48.621Z"
   },
   {
    "duration": 25,
    "start_time": "2022-08-03T18:04:48.639Z"
   },
   {
    "duration": 49315,
    "start_time": "2022-08-03T18:11:07.554Z"
   },
   {
    "duration": 2411,
    "start_time": "2022-08-03T18:11:56.871Z"
   },
   {
    "duration": 16,
    "start_time": "2022-08-03T18:11:59.284Z"
   },
   {
    "duration": 41,
    "start_time": "2022-08-03T18:11:59.302Z"
   },
   {
    "duration": 20,
    "start_time": "2022-08-03T18:11:59.347Z"
   },
   {
    "duration": 7,
    "start_time": "2022-08-03T18:11:59.369Z"
   },
   {
    "duration": 35,
    "start_time": "2022-08-03T18:11:59.378Z"
   },
   {
    "duration": 3,
    "start_time": "2022-08-03T18:11:59.415Z"
   },
   {
    "duration": 88627,
    "start_time": "2022-08-03T18:11:59.420Z"
   },
   {
    "duration": 8,
    "start_time": "2022-08-03T18:13:28.049Z"
   },
   {
    "duration": 1921,
    "start_time": "2022-08-03T18:13:28.059Z"
   },
   {
    "duration": 8,
    "start_time": "2022-08-03T18:13:29.982Z"
   },
   {
    "duration": 321,
    "start_time": "2022-08-03T18:13:29.992Z"
   },
   {
    "duration": 0,
    "start_time": "2022-08-03T18:13:30.315Z"
   },
   {
    "duration": 9,
    "start_time": "2022-08-03T18:14:47.143Z"
   },
   {
    "duration": 52,
    "start_time": "2022-08-03T18:20:50.607Z"
   },
   {
    "duration": 50128,
    "start_time": "2022-08-03T18:20:55.071Z"
   },
   {
    "duration": 2330,
    "start_time": "2022-08-03T18:21:45.201Z"
   },
   {
    "duration": 19,
    "start_time": "2022-08-03T18:21:47.533Z"
   },
   {
    "duration": 36,
    "start_time": "2022-08-03T18:21:47.554Z"
   },
   {
    "duration": 23,
    "start_time": "2022-08-03T18:21:47.592Z"
   },
   {
    "duration": 6,
    "start_time": "2022-08-03T18:21:47.617Z"
   },
   {
    "duration": 11,
    "start_time": "2022-08-03T18:21:47.625Z"
   },
   {
    "duration": 3,
    "start_time": "2022-08-03T18:21:47.638Z"
   },
   {
    "duration": 84924,
    "start_time": "2022-08-03T18:21:47.643Z"
   },
   {
    "duration": 10,
    "start_time": "2022-08-03T18:23:12.570Z"
   },
   {
    "duration": 1898,
    "start_time": "2022-08-03T18:23:12.582Z"
   },
   {
    "duration": 9,
    "start_time": "2022-08-03T18:23:14.482Z"
   },
   {
    "duration": 294,
    "start_time": "2022-08-03T18:23:14.493Z"
   },
   {
    "duration": 0,
    "start_time": "2022-08-03T18:23:14.790Z"
   },
   {
    "duration": 17,
    "start_time": "2022-08-03T18:51:36.349Z"
   },
   {
    "duration": 4,
    "start_time": "2022-08-03T18:53:11.229Z"
   },
   {
    "duration": 3,
    "start_time": "2022-08-03T18:54:49.129Z"
   },
   {
    "duration": 62723,
    "start_time": "2022-08-05T12:23:49.842Z"
   },
   {
    "duration": 2110,
    "start_time": "2022-08-05T12:24:52.567Z"
   },
   {
    "duration": 13,
    "start_time": "2022-08-05T12:24:54.679Z"
   },
   {
    "duration": 29,
    "start_time": "2022-08-05T12:24:54.694Z"
   },
   {
    "duration": 26,
    "start_time": "2022-08-05T12:24:54.725Z"
   },
   {
    "duration": 5,
    "start_time": "2022-08-05T12:24:54.753Z"
   },
   {
    "duration": 10,
    "start_time": "2022-08-05T12:24:54.760Z"
   },
   {
    "duration": 3,
    "start_time": "2022-08-05T12:24:54.772Z"
   },
   {
    "duration": 82303,
    "start_time": "2022-08-05T12:24:54.776Z"
   },
   {
    "duration": 4,
    "start_time": "2022-08-05T12:26:17.081Z"
   },
   {
    "duration": 9,
    "start_time": "2022-08-05T12:26:17.087Z"
   },
   {
    "duration": 7,
    "start_time": "2022-08-05T12:26:17.098Z"
   },
   {
    "duration": 80251,
    "start_time": "2022-08-05T17:53:44.736Z"
   },
   {
    "duration": 3176,
    "start_time": "2022-08-05T17:55:04.989Z"
   },
   {
    "duration": 16,
    "start_time": "2022-08-05T17:55:08.167Z"
   },
   {
    "duration": 33,
    "start_time": "2022-08-05T17:55:08.186Z"
   },
   {
    "duration": 17,
    "start_time": "2022-08-05T17:55:08.221Z"
   },
   {
    "duration": 7,
    "start_time": "2022-08-05T17:55:08.268Z"
   },
   {
    "duration": 17,
    "start_time": "2022-08-05T17:55:08.278Z"
   },
   {
    "duration": 4,
    "start_time": "2022-08-05T17:55:08.297Z"
   },
   {
    "duration": 88570,
    "start_time": "2022-08-05T17:55:08.302Z"
   },
   {
    "duration": 5,
    "start_time": "2022-08-05T17:56:36.874Z"
   },
   {
    "duration": 9,
    "start_time": "2022-08-05T17:56:36.881Z"
   },
   {
    "duration": 9,
    "start_time": "2022-08-05T17:56:36.892Z"
   },
   {
    "duration": 15,
    "start_time": "2022-08-05T17:56:36.903Z"
   },
   {
    "duration": 29,
    "start_time": "2022-08-05T17:57:47.714Z"
   },
   {
    "duration": 345,
    "start_time": "2022-08-05T17:58:15.268Z"
   },
   {
    "duration": 88,
    "start_time": "2022-08-05T17:58:40.003Z"
   },
   {
    "duration": 5,
    "start_time": "2022-08-05T17:59:39.228Z"
   },
   {
    "duration": 90,
    "start_time": "2022-08-05T17:59:45.552Z"
   },
   {
    "duration": 8,
    "start_time": "2022-08-05T17:59:51.377Z"
   },
   {
    "duration": 41,
    "start_time": "2022-08-05T18:00:20.564Z"
   },
   {
    "duration": 4,
    "start_time": "2022-08-05T18:00:21.284Z"
   },
   {
    "duration": 95019,
    "start_time": "2022-08-05T18:03:15.818Z"
   },
   {
    "duration": 9,
    "start_time": "2022-08-05T18:04:53.750Z"
   },
   {
    "duration": 44,
    "start_time": "2022-08-05T18:05:04.247Z"
   },
   {
    "duration": 56,
    "start_time": "2022-08-05T18:05:05.437Z"
   },
   {
    "duration": 5,
    "start_time": "2022-08-05T18:05:07.156Z"
   },
   {
    "duration": 472,
    "start_time": "2022-08-05T18:05:13.169Z"
   },
   {
    "duration": 5,
    "start_time": "2022-08-05T18:05:38.833Z"
   },
   {
    "duration": 7977,
    "start_time": "2022-08-05T18:05:44.072Z"
   },
   {
    "duration": 1975,
    "start_time": "2022-08-05T18:06:46.867Z"
   },
   {
    "duration": 10832,
    "start_time": "2022-08-05T18:06:51.099Z"
   },
   {
    "duration": 58,
    "start_time": "2022-08-05T18:11:17.517Z"
   },
   {
    "duration": 0,
    "start_time": "2022-08-05T18:11:17.578Z"
   },
   {
    "duration": 77302,
    "start_time": "2022-08-05T18:11:23.017Z"
   },
   {
    "duration": 3108,
    "start_time": "2022-08-05T18:12:40.321Z"
   },
   {
    "duration": 20,
    "start_time": "2022-08-05T18:12:43.430Z"
   },
   {
    "duration": 44,
    "start_time": "2022-08-05T18:12:43.453Z"
   },
   {
    "duration": 28,
    "start_time": "2022-08-05T18:12:43.501Z"
   },
   {
    "duration": 6,
    "start_time": "2022-08-05T18:12:43.531Z"
   },
   {
    "duration": 13,
    "start_time": "2022-08-05T18:12:43.568Z"
   },
   {
    "duration": 3,
    "start_time": "2022-08-05T18:12:43.583Z"
   },
   {
    "duration": 90666,
    "start_time": "2022-08-05T18:12:43.588Z"
   },
   {
    "duration": 3,
    "start_time": "2022-08-05T18:14:14.256Z"
   },
   {
    "duration": 3,
    "start_time": "2022-08-05T18:14:14.268Z"
   },
   {
    "duration": 12,
    "start_time": "2022-08-05T18:14:14.272Z"
   },
   {
    "duration": 51,
    "start_time": "2022-08-05T18:14:14.287Z"
   },
   {
    "duration": 42,
    "start_time": "2022-08-05T18:14:14.367Z"
   },
   {
    "duration": 5,
    "start_time": "2022-08-05T18:14:14.411Z"
   },
   {
    "duration": 1973,
    "start_time": "2022-08-05T18:14:14.418Z"
   },
   {
    "duration": 574,
    "start_time": "2022-08-05T18:14:16.393Z"
   },
   {
    "duration": 0,
    "start_time": "2022-08-05T18:14:16.968Z"
   },
   {
    "duration": 0,
    "start_time": "2022-08-05T18:14:16.970Z"
   },
   {
    "duration": 9651,
    "start_time": "2022-08-05T18:22:03.701Z"
   },
   {
    "duration": 21,
    "start_time": "2022-08-05T18:22:19.803Z"
   },
   {
    "duration": 6,
    "start_time": "2022-08-05T18:28:03.826Z"
   },
   {
    "duration": 821,
    "start_time": "2022-08-05T18:28:03.835Z"
   },
   {
    "duration": 10,
    "start_time": "2022-08-05T18:28:04.658Z"
   },
   {
    "duration": 35,
    "start_time": "2022-08-05T18:28:04.670Z"
   },
   {
    "duration": 16,
    "start_time": "2022-08-05T18:28:04.707Z"
   },
   {
    "duration": 7,
    "start_time": "2022-08-05T18:28:04.726Z"
   },
   {
    "duration": 42,
    "start_time": "2022-08-05T18:28:04.735Z"
   },
   {
    "duration": 4,
    "start_time": "2022-08-05T18:28:04.779Z"
   },
   {
    "duration": 92670,
    "start_time": "2022-08-05T18:28:04.785Z"
   },
   {
    "duration": 52,
    "start_time": "2022-08-05T18:30:08.492Z"
   },
   {
    "duration": 81411,
    "start_time": "2022-08-05T18:30:12.011Z"
   },
   {
    "duration": 3115,
    "start_time": "2022-08-05T18:31:33.424Z"
   },
   {
    "duration": 25,
    "start_time": "2022-08-05T18:31:36.542Z"
   },
   {
    "duration": 36,
    "start_time": "2022-08-05T18:31:36.570Z"
   },
   {
    "duration": 24,
    "start_time": "2022-08-05T18:31:36.610Z"
   },
   {
    "duration": 33,
    "start_time": "2022-08-05T18:31:36.636Z"
   },
   {
    "duration": 22,
    "start_time": "2022-08-05T18:31:36.671Z"
   },
   {
    "duration": 19,
    "start_time": "2022-08-05T18:31:36.694Z"
   },
   {
    "duration": 96263,
    "start_time": "2022-08-05T18:31:36.716Z"
   },
   {
    "duration": 1944,
    "start_time": "2022-08-05T18:33:12.982Z"
   },
   {
    "duration": 8,
    "start_time": "2022-08-05T18:33:14.928Z"
   },
   {
    "duration": 6,
    "start_time": "2022-08-05T18:33:14.938Z"
   },
   {
    "duration": 12,
    "start_time": "2022-08-05T18:33:14.971Z"
   },
   {
    "duration": 8,
    "start_time": "2022-08-05T18:33:14.986Z"
   },
   {
    "duration": 72,
    "start_time": "2022-08-05T18:33:28.327Z"
   },
   {
    "duration": 80373,
    "start_time": "2022-08-05T18:33:33.259Z"
   },
   {
    "duration": 3221,
    "start_time": "2022-08-05T18:34:53.636Z"
   },
   {
    "duration": 21,
    "start_time": "2022-08-05T18:34:56.860Z"
   },
   {
    "duration": 60,
    "start_time": "2022-08-05T18:34:56.884Z"
   },
   {
    "duration": 34,
    "start_time": "2022-08-05T18:34:56.949Z"
   },
   {
    "duration": 9,
    "start_time": "2022-08-05T18:34:56.986Z"
   },
   {
    "duration": 18,
    "start_time": "2022-08-05T18:34:56.998Z"
   },
   {
    "duration": 5,
    "start_time": "2022-08-05T18:34:57.019Z"
   },
   {
    "duration": 90608,
    "start_time": "2022-08-05T18:34:57.026Z"
   },
   {
    "duration": 1840,
    "start_time": "2022-08-05T18:36:27.636Z"
   },
   {
    "duration": 5,
    "start_time": "2022-08-05T18:36:29.479Z"
   },
   {
    "duration": 12,
    "start_time": "2022-08-05T18:36:29.486Z"
   },
   {
    "duration": 27,
    "start_time": "2022-08-05T18:36:29.501Z"
   },
   {
    "duration": 6,
    "start_time": "2022-08-05T18:36:29.530Z"
   },
   {
    "duration": 62,
    "start_time": "2022-08-05T18:38:00.539Z"
   },
   {
    "duration": 78313,
    "start_time": "2022-08-05T18:38:14.714Z"
   },
   {
    "duration": 6,
    "start_time": "2022-08-05T18:39:37.116Z"
   },
   {
    "duration": 3173,
    "start_time": "2022-08-05T18:39:38.313Z"
   },
   {
    "duration": 4,
    "start_time": "2022-08-05T18:41:27.227Z"
   },
   {
    "duration": 757,
    "start_time": "2022-08-05T18:41:27.233Z"
   },
   {
    "duration": 15,
    "start_time": "2022-08-05T18:41:27.992Z"
   },
   {
    "duration": 61,
    "start_time": "2022-08-05T18:41:28.008Z"
   },
   {
    "duration": 17,
    "start_time": "2022-08-05T18:41:28.070Z"
   },
   {
    "duration": 9,
    "start_time": "2022-08-05T18:41:28.090Z"
   },
   {
    "duration": 18,
    "start_time": "2022-08-05T18:41:28.102Z"
   },
   {
    "duration": 6,
    "start_time": "2022-08-05T18:41:28.121Z"
   },
   {
    "duration": 498,
    "start_time": "2022-08-05T18:42:57.884Z"
   },
   {
    "duration": 0,
    "start_time": "2022-08-05T18:42:58.386Z"
   },
   {
    "duration": 0,
    "start_time": "2022-08-05T18:42:58.387Z"
   },
   {
    "duration": 0,
    "start_time": "2022-08-05T18:42:58.388Z"
   },
   {
    "duration": 0,
    "start_time": "2022-08-05T18:42:58.390Z"
   },
   {
    "duration": 0,
    "start_time": "2022-08-05T18:42:58.391Z"
   },
   {
    "duration": 0,
    "start_time": "2022-08-05T18:42:58.392Z"
   },
   {
    "duration": 0,
    "start_time": "2022-08-05T18:42:58.393Z"
   },
   {
    "duration": 0,
    "start_time": "2022-08-05T18:42:58.394Z"
   },
   {
    "duration": 0,
    "start_time": "2022-08-05T18:42:58.395Z"
   },
   {
    "duration": 0,
    "start_time": "2022-08-05T18:42:58.396Z"
   },
   {
    "duration": 0,
    "start_time": "2022-08-05T18:42:58.398Z"
   },
   {
    "duration": 0,
    "start_time": "2022-08-05T18:42:58.399Z"
   },
   {
    "duration": 0,
    "start_time": "2022-08-05T18:42:58.400Z"
   },
   {
    "duration": 0,
    "start_time": "2022-08-05T18:42:58.401Z"
   },
   {
    "duration": 0,
    "start_time": "2022-08-05T18:42:58.402Z"
   },
   {
    "duration": 0,
    "start_time": "2022-08-05T18:42:58.403Z"
   },
   {
    "duration": 0,
    "start_time": "2022-08-05T18:42:58.404Z"
   },
   {
    "duration": 5,
    "start_time": "2022-08-05T18:47:57.726Z"
   },
   {
    "duration": 840,
    "start_time": "2022-08-05T18:47:57.733Z"
   },
   {
    "duration": 8,
    "start_time": "2022-08-05T18:47:58.574Z"
   },
   {
    "duration": 49,
    "start_time": "2022-08-05T18:47:58.586Z"
   },
   {
    "duration": 45,
    "start_time": "2022-08-05T18:47:58.638Z"
   },
   {
    "duration": 10,
    "start_time": "2022-08-05T18:47:58.686Z"
   },
   {
    "duration": 16,
    "start_time": "2022-08-05T18:47:58.699Z"
   },
   {
    "duration": 5,
    "start_time": "2022-08-05T18:47:58.718Z"
   },
   {
    "duration": 89402,
    "start_time": "2022-08-05T18:47:58.726Z"
   },
   {
    "duration": 3,
    "start_time": "2022-08-05T18:49:28.130Z"
   },
   {
    "duration": 7,
    "start_time": "2022-08-05T18:49:28.135Z"
   },
   {
    "duration": 10,
    "start_time": "2022-08-05T18:49:28.144Z"
   },
   {
    "duration": 42,
    "start_time": "2022-08-05T18:49:28.169Z"
   },
   {
    "duration": 59,
    "start_time": "2022-08-05T18:49:28.213Z"
   },
   {
    "duration": 4,
    "start_time": "2022-08-05T18:49:28.274Z"
   },
   {
    "duration": 24,
    "start_time": "2022-08-05T18:49:28.280Z"
   },
   {
    "duration": 0,
    "start_time": "2022-08-05T18:49:28.305Z"
   },
   {
    "duration": 0,
    "start_time": "2022-08-05T18:49:28.307Z"
   },
   {
    "duration": 2100,
    "start_time": "2022-08-05T18:54:33.513Z"
   },
   {
    "duration": 10141,
    "start_time": "2022-08-05T18:54:38.110Z"
   },
   {
    "duration": 23,
    "start_time": "2022-08-05T18:54:53.591Z"
   },
   {
    "duration": 51,
    "start_time": "2022-08-05T18:55:06.097Z"
   },
   {
    "duration": 21,
    "start_time": "2022-08-05T18:55:25.414Z"
   },
   {
    "duration": 17,
    "start_time": "2022-08-05T18:55:44.311Z"
   },
   {
    "duration": 21,
    "start_time": "2022-08-05T18:57:48.030Z"
   },
   {
    "duration": 21,
    "start_time": "2022-08-05T18:59:03.547Z"
   },
   {
    "duration": 63,
    "start_time": "2022-08-05T19:02:01.322Z"
   },
   {
    "duration": 84080,
    "start_time": "2022-08-05T19:02:15.138Z"
   },
   {
    "duration": 3399,
    "start_time": "2022-08-05T19:03:39.220Z"
   },
   {
    "duration": 17,
    "start_time": "2022-08-05T19:03:42.621Z"
   },
   {
    "duration": 74,
    "start_time": "2022-08-05T19:03:42.640Z"
   },
   {
    "duration": 17,
    "start_time": "2022-08-05T19:03:42.716Z"
   },
   {
    "duration": 16,
    "start_time": "2022-08-05T19:03:42.735Z"
   },
   {
    "duration": 23,
    "start_time": "2022-08-05T19:03:42.753Z"
   },
   {
    "duration": 11,
    "start_time": "2022-08-05T19:03:42.779Z"
   },
   {
    "duration": 95990,
    "start_time": "2022-08-05T19:03:42.791Z"
   },
   {
    "duration": 2,
    "start_time": "2022-08-05T19:05:18.784Z"
   },
   {
    "duration": 6,
    "start_time": "2022-08-05T19:05:18.788Z"
   },
   {
    "duration": 12,
    "start_time": "2022-08-05T19:05:18.795Z"
   },
   {
    "duration": 37,
    "start_time": "2022-08-05T19:05:18.809Z"
   },
   {
    "duration": 53,
    "start_time": "2022-08-05T19:05:18.848Z"
   },
   {
    "duration": 3,
    "start_time": "2022-08-05T19:05:18.903Z"
   },
   {
    "duration": 2072,
    "start_time": "2022-08-05T19:05:18.908Z"
   },
   {
    "duration": 10717,
    "start_time": "2022-08-05T19:05:20.982Z"
   },
   {
    "duration": 3,
    "start_time": "2022-08-05T19:05:31.700Z"
   },
   {
    "duration": 10,
    "start_time": "2022-08-05T19:05:31.704Z"
   },
   {
    "duration": 7876,
    "start_time": "2022-08-05T19:05:40.457Z"
   },
   {
    "duration": 333,
    "start_time": "2022-08-05T19:06:11.409Z"
   },
   {
    "duration": 45,
    "start_time": "2022-08-05T19:08:17.566Z"
   },
   {
    "duration": 10264,
    "start_time": "2022-08-05T19:09:34.220Z"
   },
   {
    "duration": 56,
    "start_time": "2022-08-05T19:12:45.853Z"
   },
   {
    "duration": 83386,
    "start_time": "2022-08-05T19:12:50.934Z"
   },
   {
    "duration": 3379,
    "start_time": "2022-08-05T19:14:14.322Z"
   },
   {
    "duration": 16,
    "start_time": "2022-08-05T19:14:17.703Z"
   },
   {
    "duration": 35,
    "start_time": "2022-08-05T19:14:17.722Z"
   },
   {
    "duration": 39,
    "start_time": "2022-08-05T19:14:17.758Z"
   },
   {
    "duration": 6,
    "start_time": "2022-08-05T19:14:17.798Z"
   },
   {
    "duration": 13,
    "start_time": "2022-08-05T19:14:17.806Z"
   },
   {
    "duration": 4,
    "start_time": "2022-08-05T19:14:17.820Z"
   },
   {
    "duration": 94854,
    "start_time": "2022-08-05T19:14:17.826Z"
   },
   {
    "duration": 3,
    "start_time": "2022-08-05T19:15:52.684Z"
   },
   {
    "duration": 7,
    "start_time": "2022-08-05T19:15:52.689Z"
   },
   {
    "duration": 12,
    "start_time": "2022-08-05T19:15:52.698Z"
   },
   {
    "duration": 40,
    "start_time": "2022-08-05T19:15:52.712Z"
   },
   {
    "duration": 78,
    "start_time": "2022-08-05T19:15:52.753Z"
   },
   {
    "duration": 4,
    "start_time": "2022-08-05T19:15:52.833Z"
   },
   {
    "duration": 2145,
    "start_time": "2022-08-05T19:15:52.839Z"
   },
   {
    "duration": 10264,
    "start_time": "2022-08-05T19:15:54.986Z"
   },
   {
    "duration": 4,
    "start_time": "2022-08-05T19:16:05.252Z"
   },
   {
    "duration": 52636,
    "start_time": "2022-08-05T19:16:05.258Z"
   },
   {
    "duration": 7,
    "start_time": "2022-08-05T19:16:57.968Z"
   },
   {
    "duration": 4,
    "start_time": "2022-08-05T19:22:55.494Z"
   },
   {
    "duration": 2,
    "start_time": "2022-08-05T19:39:51.798Z"
   },
   {
    "duration": 48945,
    "start_time": "2022-08-05T19:39:52.556Z"
   },
   {
    "duration": 9,
    "start_time": "2022-08-05T19:40:49.183Z"
   },
   {
    "duration": 18,
    "start_time": "2022-08-05T19:40:51.830Z"
   },
   {
    "duration": 52,
    "start_time": "2022-08-05T19:53:27.414Z"
   },
   {
    "duration": 388,
    "start_time": "2022-08-05T19:53:33.233Z"
   },
   {
    "duration": 60,
    "start_time": "2022-08-05T19:59:06.501Z"
   },
   {
    "duration": 88098,
    "start_time": "2022-08-05T19:59:10.585Z"
   },
   {
    "duration": 3458,
    "start_time": "2022-08-05T20:00:38.686Z"
   },
   {
    "duration": 19,
    "start_time": "2022-08-05T20:00:42.146Z"
   },
   {
    "duration": 49,
    "start_time": "2022-08-05T20:00:42.167Z"
   },
   {
    "duration": 20,
    "start_time": "2022-08-05T20:00:42.218Z"
   },
   {
    "duration": 7,
    "start_time": "2022-08-05T20:00:42.240Z"
   },
   {
    "duration": 22,
    "start_time": "2022-08-05T20:00:42.268Z"
   },
   {
    "duration": 5,
    "start_time": "2022-08-05T20:00:42.292Z"
   },
   {
    "duration": 98959,
    "start_time": "2022-08-05T20:00:42.299Z"
   },
   {
    "duration": 11,
    "start_time": "2022-08-05T20:02:21.260Z"
   },
   {
    "duration": 69,
    "start_time": "2022-08-05T20:02:21.273Z"
   },
   {
    "duration": 52,
    "start_time": "2022-08-05T20:02:21.344Z"
   },
   {
    "duration": 15,
    "start_time": "2022-08-05T20:02:21.398Z"
   },
   {
    "duration": 2243,
    "start_time": "2022-08-05T20:02:21.417Z"
   },
   {
    "duration": 11198,
    "start_time": "2022-08-05T20:02:23.667Z"
   },
   {
    "duration": 4,
    "start_time": "2022-08-05T20:02:34.881Z"
   },
   {
    "duration": 52989,
    "start_time": "2022-08-05T20:02:34.888Z"
   },
   {
    "duration": 12,
    "start_time": "2022-08-05T20:03:27.879Z"
   },
   {
    "duration": 27,
    "start_time": "2022-08-05T20:03:27.893Z"
   },
   {
    "duration": 99617,
    "start_time": "2022-08-05T20:03:58.285Z"
   },
   {
    "duration": 3390,
    "start_time": "2022-08-05T20:05:37.905Z"
   },
   {
    "duration": 16,
    "start_time": "2022-08-05T20:05:41.297Z"
   },
   {
    "duration": 37,
    "start_time": "2022-08-05T20:05:41.315Z"
   },
   {
    "duration": 32,
    "start_time": "2022-08-05T20:05:41.354Z"
   },
   {
    "duration": 10,
    "start_time": "2022-08-05T20:05:41.388Z"
   },
   {
    "duration": 13,
    "start_time": "2022-08-05T20:05:41.400Z"
   },
   {
    "duration": 3,
    "start_time": "2022-08-05T20:05:41.415Z"
   },
   {
    "duration": 95283,
    "start_time": "2022-08-05T20:05:41.420Z"
   },
   {
    "duration": 12,
    "start_time": "2022-08-05T20:07:16.705Z"
   },
   {
    "duration": 71,
    "start_time": "2022-08-05T20:07:16.720Z"
   },
   {
    "duration": 57,
    "start_time": "2022-08-05T20:07:16.793Z"
   },
   {
    "duration": 23,
    "start_time": "2022-08-05T20:07:16.855Z"
   },
   {
    "duration": 2180,
    "start_time": "2022-08-05T20:07:16.881Z"
   },
   {
    "duration": 10415,
    "start_time": "2022-08-05T20:07:19.063Z"
   },
   {
    "duration": 3,
    "start_time": "2022-08-05T20:07:29.479Z"
   },
   {
    "duration": 31610,
    "start_time": "2022-08-05T20:07:29.487Z"
   },
   {
    "duration": 117,
    "start_time": "2022-08-05T20:08:01.099Z"
   },
   {
    "duration": 22,
    "start_time": "2022-08-05T20:08:01.218Z"
   },
   {
    "duration": 0,
    "start_time": "2022-08-05T20:08:01.242Z"
   },
   {
    "duration": 0,
    "start_time": "2022-08-05T20:08:01.243Z"
   },
   {
    "duration": 50384,
    "start_time": "2022-08-05T20:08:05.189Z"
   },
   {
    "duration": 11,
    "start_time": "2022-08-05T20:08:55.575Z"
   },
   {
    "duration": 97,
    "start_time": "2022-08-05T20:08:55.588Z"
   },
   {
    "duration": 67,
    "start_time": "2022-08-05T20:09:27.241Z"
   },
   {
    "duration": 89737,
    "start_time": "2022-08-05T20:11:07.380Z"
   },
   {
    "duration": 3395,
    "start_time": "2022-08-05T20:12:37.119Z"
   },
   {
    "duration": 18,
    "start_time": "2022-08-05T20:12:40.516Z"
   },
   {
    "duration": 48,
    "start_time": "2022-08-05T20:12:40.536Z"
   },
   {
    "duration": 25,
    "start_time": "2022-08-05T20:12:40.587Z"
   },
   {
    "duration": 7,
    "start_time": "2022-08-05T20:12:40.614Z"
   },
   {
    "duration": 14,
    "start_time": "2022-08-05T20:12:40.624Z"
   },
   {
    "duration": 4,
    "start_time": "2022-08-05T20:12:40.640Z"
   },
   {
    "duration": 95044,
    "start_time": "2022-08-05T20:12:40.670Z"
   },
   {
    "duration": 8,
    "start_time": "2022-08-05T20:14:15.716Z"
   },
   {
    "duration": 62,
    "start_time": "2022-08-05T20:14:15.725Z"
   },
   {
    "duration": 30,
    "start_time": "2022-08-05T20:14:15.789Z"
   },
   {
    "duration": 5,
    "start_time": "2022-08-05T20:14:15.821Z"
   },
   {
    "duration": 2282,
    "start_time": "2022-08-05T20:14:15.828Z"
   },
   {
    "duration": 10494,
    "start_time": "2022-08-05T20:14:18.112Z"
   },
   {
    "duration": 3,
    "start_time": "2022-08-05T20:14:28.608Z"
   },
   {
    "duration": 50873,
    "start_time": "2022-08-05T20:14:28.613Z"
   },
   {
    "duration": 77,
    "start_time": "2022-08-05T20:15:19.493Z"
   },
   {
    "duration": 33,
    "start_time": "2022-08-05T20:15:19.573Z"
   },
   {
    "duration": 1870,
    "start_time": "2022-08-05T20:15:19.609Z"
   },
   {
    "duration": 5,
    "start_time": "2022-08-05T20:15:21.487Z"
   },
   {
    "duration": 17,
    "start_time": "2022-08-05T20:15:21.494Z"
   },
   {
    "duration": 6,
    "start_time": "2022-08-05T20:15:21.513Z"
   },
   {
    "duration": 94,
    "start_time": "2022-08-05T20:16:12.982Z"
   },
   {
    "duration": 3,
    "start_time": "2022-08-05T20:16:51.308Z"
   },
   {
    "duration": 141,
    "start_time": "2022-08-05T20:17:14.518Z"
   },
   {
    "duration": 34,
    "start_time": "2022-08-05T20:17:48.887Z"
   },
   {
    "duration": 15,
    "start_time": "2022-08-05T20:18:12.235Z"
   },
   {
    "duration": 16,
    "start_time": "2022-08-05T20:29:05.259Z"
   },
   {
    "duration": 3718,
    "start_time": "2022-08-05T20:29:05.277Z"
   },
   {
    "duration": 9,
    "start_time": "2022-08-05T20:29:08.997Z"
   },
   {
    "duration": 41,
    "start_time": "2022-08-05T20:29:09.008Z"
   },
   {
    "duration": 23,
    "start_time": "2022-08-05T20:29:09.052Z"
   },
   {
    "duration": 40,
    "start_time": "2022-08-05T20:29:09.078Z"
   },
   {
    "duration": 16,
    "start_time": "2022-08-05T20:29:09.120Z"
   },
   {
    "duration": 6,
    "start_time": "2022-08-05T20:29:09.138Z"
   },
   {
    "duration": 100999,
    "start_time": "2022-08-05T20:29:09.146Z"
   },
   {
    "duration": 9,
    "start_time": "2022-08-05T20:30:50.147Z"
   },
   {
    "duration": 50,
    "start_time": "2022-08-05T20:30:50.158Z"
   },
   {
    "duration": 36,
    "start_time": "2022-08-05T20:30:50.210Z"
   },
   {
    "duration": 4,
    "start_time": "2022-08-05T20:30:50.248Z"
   },
   {
    "duration": 7,
    "start_time": "2022-08-05T20:34:26.274Z"
   },
   {
    "duration": 914,
    "start_time": "2022-08-05T20:34:26.309Z"
   },
   {
    "duration": 23,
    "start_time": "2022-08-05T20:34:29.453Z"
   },
   {
    "duration": 33,
    "start_time": "2022-08-05T20:34:40.515Z"
   },
   {
    "duration": 38,
    "start_time": "2022-08-05T20:34:40.583Z"
   },
   {
    "duration": 15,
    "start_time": "2022-08-05T20:35:26.579Z"
   },
   {
    "duration": 19,
    "start_time": "2022-08-05T20:35:26.731Z"
   },
   {
    "duration": 34,
    "start_time": "2022-08-05T20:35:26.780Z"
   },
   {
    "duration": 98377,
    "start_time": "2022-08-05T20:36:07.146Z"
   },
   {
    "duration": 13,
    "start_time": "2022-08-05T20:37:45.532Z"
   },
   {
    "duration": 34,
    "start_time": "2022-08-05T20:37:45.570Z"
   },
   {
    "duration": 31,
    "start_time": "2022-08-05T20:37:45.794Z"
   },
   {
    "duration": 7,
    "start_time": "2022-08-05T20:37:45.881Z"
   },
   {
    "duration": 97,
    "start_time": "2022-08-05T20:43:23.897Z"
   },
   {
    "duration": 5,
    "start_time": "2022-08-05T20:47:12.191Z"
   },
   {
    "duration": 3219,
    "start_time": "2022-08-05T20:47:12.198Z"
   },
   {
    "duration": 15,
    "start_time": "2022-08-05T20:47:15.419Z"
   },
   {
    "duration": 46,
    "start_time": "2022-08-05T20:47:15.435Z"
   },
   {
    "duration": 27,
    "start_time": "2022-08-05T20:47:15.483Z"
   },
   {
    "duration": 7,
    "start_time": "2022-08-05T20:47:15.512Z"
   },
   {
    "duration": 19,
    "start_time": "2022-08-05T20:47:15.521Z"
   },
   {
    "duration": 3,
    "start_time": "2022-08-05T20:47:15.542Z"
   },
   {
    "duration": 92385,
    "start_time": "2022-08-05T20:47:15.567Z"
   },
   {
    "duration": 29,
    "start_time": "2022-08-05T20:48:47.954Z"
   },
   {
    "duration": 39,
    "start_time": "2022-08-05T20:49:57.484Z"
   },
   {
    "duration": 28,
    "start_time": "2022-08-05T20:49:59.428Z"
   },
   {
    "duration": 5,
    "start_time": "2022-08-05T20:50:00.386Z"
   },
   {
    "duration": 2217,
    "start_time": "2022-08-05T20:50:05.137Z"
   },
   {
    "duration": 10246,
    "start_time": "2022-08-05T20:50:09.759Z"
   },
   {
    "duration": 7,
    "start_time": "2022-08-05T20:50:23.616Z"
   },
   {
    "duration": 51322,
    "start_time": "2022-08-05T20:50:25.957Z"
   },
   {
    "duration": 9,
    "start_time": "2022-08-05T20:51:25.122Z"
   },
   {
    "duration": 14,
    "start_time": "2022-08-05T20:51:27.323Z"
   },
   {
    "duration": 14,
    "start_time": "2022-08-05T20:51:37.682Z"
   },
   {
    "duration": 4159,
    "start_time": "2022-08-05T20:51:39.485Z"
   },
   {
    "duration": 6,
    "start_time": "2022-08-05T20:51:47.970Z"
   },
   {
    "duration": 3,
    "start_time": "2022-08-05T20:51:55.690Z"
   },
   {
    "duration": 139,
    "start_time": "2022-08-05T20:51:56.907Z"
   },
   {
    "duration": 33,
    "start_time": "2022-08-05T20:52:01.359Z"
   },
   {
    "duration": 12,
    "start_time": "2022-08-05T20:52:03.337Z"
   },
   {
    "duration": 2276,
    "start_time": "2022-08-05T20:52:35.182Z"
   },
   {
    "duration": 2527293,
    "start_time": "2022-08-05T20:55:03.987Z"
   },
   {
    "duration": 4,
    "start_time": "2022-08-05T21:37:58.112Z"
   },
   {
    "duration": 4,
    "start_time": "2022-08-05T21:38:06.819Z"
   },
   {
    "duration": 25245,
    "start_time": "2022-08-05T21:38:12.285Z"
   },
   {
    "duration": 535,
    "start_time": "2022-08-05T21:38:56.261Z"
   },
   {
    "duration": 21,
    "start_time": "2022-08-05T21:38:59.270Z"
   },
   {
    "duration": 3,
    "start_time": "2022-08-05T21:39:11.354Z"
   },
   {
    "duration": 50306,
    "start_time": "2022-08-05T21:39:12.163Z"
   },
   {
    "duration": 8,
    "start_time": "2022-08-05T21:40:08.613Z"
   },
   {
    "duration": 14,
    "start_time": "2022-08-05T21:40:11.139Z"
   },
   {
    "duration": 86307,
    "start_time": "2022-08-05T23:14:48.712Z"
   },
   {
    "duration": 2234,
    "start_time": "2022-08-05T23:20:20.805Z"
   },
   {
    "duration": 14,
    "start_time": "2022-08-05T23:20:23.041Z"
   },
   {
    "duration": 54,
    "start_time": "2022-08-05T23:20:23.056Z"
   },
   {
    "duration": 15,
    "start_time": "2022-08-05T23:20:23.765Z"
   },
   {
    "duration": 7,
    "start_time": "2022-08-05T23:20:24.527Z"
   },
   {
    "duration": 11,
    "start_time": "2022-08-05T23:20:25.460Z"
   },
   {
    "duration": 3,
    "start_time": "2022-08-05T23:20:26.277Z"
   },
   {
    "duration": 79318,
    "start_time": "2022-08-05T23:20:26.972Z"
   },
   {
    "duration": 11,
    "start_time": "2022-08-05T23:21:46.293Z"
   },
   {
    "duration": 48,
    "start_time": "2022-08-05T23:22:23.288Z"
   },
   {
    "duration": 40,
    "start_time": "2022-08-05T23:22:23.648Z"
   },
   {
    "duration": 4,
    "start_time": "2022-08-05T23:22:24.047Z"
   },
   {
    "duration": 2011,
    "start_time": "2022-08-05T23:22:24.543Z"
   },
   {
    "duration": 74,
    "start_time": "2022-08-05T23:22:26.556Z"
   },
   {
    "duration": 0,
    "start_time": "2022-08-05T23:22:26.631Z"
   },
   {
    "duration": 8589,
    "start_time": "2022-08-05T23:22:43.274Z"
   },
   {
    "duration": 3,
    "start_time": "2022-08-05T23:22:55.016Z"
   },
   {
    "duration": 44109,
    "start_time": "2022-08-05T23:22:55.992Z"
   },
   {
    "duration": 10,
    "start_time": "2022-08-05T23:23:40.103Z"
   },
   {
    "duration": 20,
    "start_time": "2022-08-05T23:23:40.199Z"
   },
   {
    "duration": 3,
    "start_time": "2022-08-05T23:33:51.900Z"
   },
   {
    "duration": 44120,
    "start_time": "2022-08-05T23:33:52.083Z"
   },
   {
    "duration": 95,
    "start_time": "2022-08-05T23:34:36.205Z"
   },
   {
    "duration": 12,
    "start_time": "2022-08-05T23:34:36.302Z"
   },
   {
    "duration": 3,
    "start_time": "2022-08-05T23:34:53.262Z"
   },
   {
    "duration": 42756,
    "start_time": "2022-08-05T23:34:53.446Z"
   },
   {
    "duration": 10,
    "start_time": "2022-08-05T23:35:36.204Z"
   },
   {
    "duration": 13,
    "start_time": "2022-08-05T23:35:36.301Z"
   },
   {
    "duration": 58,
    "start_time": "2022-08-06T00:02:43.534Z"
   },
   {
    "duration": 85447,
    "start_time": "2022-08-06T00:02:46.465Z"
   },
   {
    "duration": 3381,
    "start_time": "2022-08-06T00:04:11.915Z"
   },
   {
    "duration": 14,
    "start_time": "2022-08-06T00:04:15.298Z"
   },
   {
    "duration": 36,
    "start_time": "2022-08-06T00:04:15.314Z"
   },
   {
    "duration": 29,
    "start_time": "2022-08-06T00:04:15.352Z"
   },
   {
    "duration": 7,
    "start_time": "2022-08-06T00:04:15.383Z"
   },
   {
    "duration": 12,
    "start_time": "2022-08-06T00:04:15.392Z"
   },
   {
    "duration": 4,
    "start_time": "2022-08-06T00:04:15.406Z"
   },
   {
    "duration": 89637,
    "start_time": "2022-08-06T00:04:15.412Z"
   },
   {
    "duration": 8,
    "start_time": "2022-08-06T00:05:45.051Z"
   },
   {
    "duration": 37,
    "start_time": "2022-08-06T00:05:45.068Z"
   },
   {
    "duration": 30,
    "start_time": "2022-08-06T00:05:45.106Z"
   },
   {
    "duration": 4,
    "start_time": "2022-08-06T00:05:45.137Z"
   },
   {
    "duration": 41,
    "start_time": "2022-08-06T00:05:45.143Z"
   },
   {
    "duration": 7674,
    "start_time": "2022-08-06T00:05:45.186Z"
   },
   {
    "duration": 18,
    "start_time": "2022-08-06T00:05:52.862Z"
   },
   {
    "duration": 50716,
    "start_time": "2022-08-06T00:05:52.881Z"
   },
   {
    "duration": 12,
    "start_time": "2022-08-06T00:06:43.673Z"
   },
   {
    "duration": 19,
    "start_time": "2022-08-06T00:06:43.689Z"
   },
   {
    "duration": 2500198,
    "start_time": "2022-08-06T00:06:43.710Z"
   },
   {
    "duration": 4,
    "start_time": "2022-08-06T00:48:23.911Z"
   },
   {
    "duration": 6,
    "start_time": "2022-08-06T00:48:23.917Z"
   },
   {
    "duration": 23315,
    "start_time": "2022-08-06T00:48:23.925Z"
   },
   {
    "duration": 504,
    "start_time": "2022-08-06T00:48:47.242Z"
   },
   {
    "duration": 29,
    "start_time": "2022-08-06T00:48:47.748Z"
   },
   {
    "duration": 316,
    "start_time": "2022-08-06T00:48:47.785Z"
   },
   {
    "duration": 184,
    "start_time": "2022-08-06T01:02:54.449Z"
   },
   {
    "duration": 8,
    "start_time": "2022-08-06T01:02:57.226Z"
   },
   {
    "duration": 4,
    "start_time": "2022-08-06T01:07:58.309Z"
   },
   {
    "duration": 3,
    "start_time": "2022-08-06T01:07:59.439Z"
   },
   {
    "duration": 27155,
    "start_time": "2022-08-06T01:08:00.332Z"
   },
   {
    "duration": 605,
    "start_time": "2022-08-06T01:14:05.147Z"
   },
   {
    "duration": 14,
    "start_time": "2022-08-06T01:14:09.882Z"
   },
   {
    "duration": 189,
    "start_time": "2022-08-06T06:31:03.262Z"
   },
   {
    "duration": 50401,
    "start_time": "2022-08-06T10:32:33.085Z"
   },
   {
    "duration": 2261,
    "start_time": "2022-08-06T10:33:23.488Z"
   },
   {
    "duration": 12,
    "start_time": "2022-08-06T10:33:25.751Z"
   },
   {
    "duration": 34,
    "start_time": "2022-08-06T10:33:25.765Z"
   },
   {
    "duration": 25,
    "start_time": "2022-08-06T10:33:25.801Z"
   },
   {
    "duration": 12,
    "start_time": "2022-08-06T10:33:25.828Z"
   },
   {
    "duration": 19,
    "start_time": "2022-08-06T10:33:25.841Z"
   },
   {
    "duration": 6,
    "start_time": "2022-08-06T10:33:25.861Z"
   },
   {
    "duration": 79409,
    "start_time": "2022-08-06T10:33:25.869Z"
   },
   {
    "duration": 196,
    "start_time": "2022-08-06T10:34:45.281Z"
   },
   {
    "duration": 8,
    "start_time": "2022-08-06T10:34:45.479Z"
   },
   {
    "duration": 39,
    "start_time": "2022-08-06T10:34:45.488Z"
   },
   {
    "duration": 50,
    "start_time": "2022-08-06T10:34:45.529Z"
   },
   {
    "duration": 3,
    "start_time": "2022-08-06T10:34:45.581Z"
   },
   {
    "duration": 13,
    "start_time": "2022-08-06T10:34:45.586Z"
   },
   {
    "duration": 6654,
    "start_time": "2022-08-06T10:34:45.609Z"
   },
   {
    "duration": 3,
    "start_time": "2022-08-06T10:34:52.264Z"
   },
   {
    "duration": 49544,
    "start_time": "2022-08-06T10:34:52.269Z"
   },
   {
    "duration": 7,
    "start_time": "2022-08-06T10:35:41.814Z"
   },
   {
    "duration": 15,
    "start_time": "2022-08-06T10:35:41.823Z"
   },
   {
    "duration": 2280693,
    "start_time": "2022-08-06T10:35:41.839Z"
   },
   {
    "duration": 4,
    "start_time": "2022-08-06T11:13:42.534Z"
   },
   {
    "duration": 16,
    "start_time": "2022-08-06T11:13:42.540Z"
   },
   {
    "duration": 22746,
    "start_time": "2022-08-06T11:13:42.557Z"
   },
   {
    "duration": 553,
    "start_time": "2022-08-06T11:14:05.304Z"
   },
   {
    "duration": 15,
    "start_time": "2022-08-06T11:14:05.859Z"
   }
  ],
  "kernelspec": {
   "display_name": "Python 3 (ipykernel)",
   "language": "python",
   "name": "python3"
  },
  "language_info": {
   "codemirror_mode": {
    "name": "ipython",
    "version": 3
   },
   "file_extension": ".py",
   "mimetype": "text/x-python",
   "name": "python",
   "nbconvert_exporter": "python",
   "pygments_lexer": "ipython3",
   "version": "3.9.13"
  },
  "toc": {
   "base_numbering": 1,
   "nav_menu": {},
   "number_sections": true,
   "sideBar": true,
   "skip_h1_title": true,
   "title_cell": "Содержание",
   "title_sidebar": "Contents",
   "toc_cell": true,
   "toc_position": {
    "height": "calc(100% - 180px)",
    "left": "10px",
    "top": "150px",
    "width": "165px"
   },
   "toc_section_display": true,
   "toc_window_display": true
  }
 },
 "nbformat": 4,
 "nbformat_minor": 2
}
