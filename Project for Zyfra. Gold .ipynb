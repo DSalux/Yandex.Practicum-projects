{
 "cells": [
  {
   "cell_type": "markdown",
   "metadata": {
    "toc": true
   },
   "source": [
    "<h1>Содержание<span class=\"tocSkip\"></span></h1>\n",
    "<div class=\"toc\"><ul class=\"toc-item\"><li><span><a href=\"#Подготовка-данных\" data-toc-modified-id=\"Подготовка-данных-1\"><span class=\"toc-item-num\">1&nbsp;&nbsp;</span>Подготовка данных</a></span><ul class=\"toc-item\"><li><span><a href=\"#Первичный-просмотр\" data-toc-modified-id=\"Первичный-просмотр-1.1\"><span class=\"toc-item-num\">1.1&nbsp;&nbsp;</span>Первичный просмотр</a></span></li><li><span><a href=\"#Описание-данных\" data-toc-modified-id=\"Описание-данных-1.2\"><span class=\"toc-item-num\">1.2&nbsp;&nbsp;</span>Описание данных</a></span></li><li><span><a href=\"#Проверим,-что-эффективность-обогащения-рассчитана-правильно.\" data-toc-modified-id=\"Проверим,-что-эффективность-обогащения-рассчитана-правильно.-1.3\"><span class=\"toc-item-num\">1.3&nbsp;&nbsp;</span>Проверим, что эффективность обогащения рассчитана правильно.</a></span></li><li><span><a href=\"#Вывод\" data-toc-modified-id=\"Вывод-1.4\"><span class=\"toc-item-num\">1.4&nbsp;&nbsp;</span>Вывод</a></span></li></ul></li><li><span><a href=\"#Анализ-данных\" data-toc-modified-id=\"Анализ-данных-2\"><span class=\"toc-item-num\">2&nbsp;&nbsp;</span>Анализ данных</a></span><ul class=\"toc-item\"><li><span><a href=\"#Концентрация-металлов-(Au,-Ag,-Pb)-на-различных-этапах-очистки\" data-toc-modified-id=\"Концентрация-металлов-(Au,-Ag,-Pb)-на-различных-этапах-очистки-2.1\"><span class=\"toc-item-num\">2.1&nbsp;&nbsp;</span>Концентрация металлов (Au, Ag, Pb) на различных этапах очистки</a></span><ul class=\"toc-item\"><li><span><a href=\"#Вывод:\" data-toc-modified-id=\"Вывод:-2.1.1\"><span class=\"toc-item-num\">2.1.1&nbsp;&nbsp;</span>Вывод:</a></span></li></ul></li><li><span><a href=\"#Сравнение-распределения-размеров-гранул-сырья-на-обучающей-и-тестовой-выборках\" data-toc-modified-id=\"Сравнение-распределения-размеров-гранул-сырья-на-обучающей-и-тестовой-выборках-2.2\"><span class=\"toc-item-num\">2.2&nbsp;&nbsp;</span>Сравнение распределения размеров гранул сырья на обучающей и тестовой выборках</a></span><ul class=\"toc-item\"><li><span><a href=\"#Вывод\" data-toc-modified-id=\"Вывод-2.2.1\"><span class=\"toc-item-num\">2.2.1&nbsp;&nbsp;</span>Вывод</a></span></li></ul></li><li><span><a href=\"#Суммарная-концентрация-всех-веществ-на-разных-стадиях\" data-toc-modified-id=\"Суммарная-концентрация-всех-веществ-на-разных-стадиях-2.3\"><span class=\"toc-item-num\">2.3&nbsp;&nbsp;</span>Суммарная концентрация всех веществ на разных стадиях</a></span></li><li><span><a href=\"#Вывод:\" data-toc-modified-id=\"Вывод:-2.4\"><span class=\"toc-item-num\">2.4&nbsp;&nbsp;</span>Вывод:</a></span></li></ul></li><li><span><a href=\"#Модель\" data-toc-modified-id=\"Модель-3\"><span class=\"toc-item-num\">3&nbsp;&nbsp;</span>Модель</a></span><ul class=\"toc-item\"><li><span><a href=\"#Вычисление-метрики-sMAPE\" data-toc-modified-id=\"Вычисление-метрики-sMAPE-3.1\"><span class=\"toc-item-num\">3.1&nbsp;&nbsp;</span>Вычисление метрики sMAPE</a></span></li><li><span><a href=\"#Обучение-и-выбор-модели-после-этапа-флотации\" data-toc-modified-id=\"Обучение-и-выбор-модели-после-этапа-флотации-3.2\"><span class=\"toc-item-num\">3.2&nbsp;&nbsp;</span>Обучение и выбор модели после этапа флотации</a></span><ul class=\"toc-item\"><li><span><a href=\"#LinearRegression\" data-toc-modified-id=\"LinearRegression-3.2.1\"><span class=\"toc-item-num\">3.2.1&nbsp;&nbsp;</span>LinearRegression</a></span></li><li><span><a href=\"#RandomForestRegressor\" data-toc-modified-id=\"RandomForestRegressor-3.2.2\"><span class=\"toc-item-num\">3.2.2&nbsp;&nbsp;</span>RandomForestRegressor</a></span></li></ul></li><li><span><a href=\"#Обучение-и-выбор-модели-после-этапа-финальной-очистки\" data-toc-modified-id=\"Обучение-и-выбор-модели-после-этапа-финальной-очистки-3.3\"><span class=\"toc-item-num\">3.3&nbsp;&nbsp;</span>Обучение и выбор модели после этапа финальной очистки</a></span><ul class=\"toc-item\"><li><span><a href=\"#LinearRegression\" data-toc-modified-id=\"LinearRegression-3.3.1\"><span class=\"toc-item-num\">3.3.1&nbsp;&nbsp;</span>LinearRegression</a></span></li><li><span><a href=\"#RandomForestRegressor\" data-toc-modified-id=\"RandomForestRegressor-3.3.2\"><span class=\"toc-item-num\">3.3.2&nbsp;&nbsp;</span>RandomForestRegressor</a></span></li></ul></li><li><span><a href=\"#Тестируем-модель-и-выводим-финальную-метрику-sMAPE\" data-toc-modified-id=\"Тестируем-модель-и-выводим-финальную-метрику-sMAPE-3.4\"><span class=\"toc-item-num\">3.4&nbsp;&nbsp;</span>Тестируем модель и выводим финальную метрику sMAPE</a></span><ul class=\"toc-item\"><li><span><a href=\"#Модель-после-этапа-флотации-(RandomForestRegressor)\" data-toc-modified-id=\"Модель-после-этапа-флотации-(RandomForestRegressor)-3.4.1\"><span class=\"toc-item-num\">3.4.1&nbsp;&nbsp;</span>Модель после этапа флотации (RandomForestRegressor)</a></span></li><li><span><a href=\"#Модель-после-этапа-финальной-очистки-(LinearRegression)\" data-toc-modified-id=\"Модель-после-этапа-финальной-очистки-(LinearRegression)-3.4.2\"><span class=\"toc-item-num\">3.4.2&nbsp;&nbsp;</span>Модель после этапа финальной очистки (LinearRegression)</a></span></li></ul></li><li><span><a href=\"#Выводы:\" data-toc-modified-id=\"Выводы:-3.5\"><span class=\"toc-item-num\">3.5&nbsp;&nbsp;</span>Выводы:</a></span></li></ul></li><li><span><a href=\"#Общий-вывод-проекта\" data-toc-modified-id=\"Общий-вывод-проекта-4\"><span class=\"toc-item-num\">4&nbsp;&nbsp;</span>Общий вывод проекта</a></span></li><li><span><a href=\"#Чек-лист-готовности-проекта\" data-toc-modified-id=\"Чек-лист-готовности-проекта-5\"><span class=\"toc-item-num\">5&nbsp;&nbsp;</span>Чек-лист готовности проекта</a></span></li></ul></div>"
   ]
  },
  {
   "cell_type": "markdown",
   "metadata": {},
   "source": [
    "# Восстановление золота из руды"
   ]
  },
  {
   "cell_type": "markdown",
   "metadata": {},
   "source": [
    "Подготовьте прототип модели машинного обучения для «Цифры». Компания разрабатывает решения для эффективной работы промышленных предприятий.\n",
    "\n",
    "Модель должна предсказать коэффициент восстановления золота из золотосодержащей руды. Используйте данные с параметрами добычи и очистки. \n",
    "\n",
    "Модель поможет оптимизировать производство, чтобы не запускать предприятие с убыточными характеристиками.\n",
    "\n",
    "Вам нужно:\n",
    "\n",
    "1. Подготовить данные;\n",
    "2. Провести исследовательский анализ данных;\n",
    "3. Построить и обучить модель.\n",
    "\n",
    "Чтобы выполнить проект, обращайтесь к библиотекам *pandas*, *matplotlib* и *sklearn.* Вам поможет их документация."
   ]
  },
  {
   "cell_type": "markdown",
   "metadata": {},
   "source": [
    "## Подготовка данных"
   ]
  },
  {
   "cell_type": "markdown",
   "metadata": {},
   "source": [
    "Импортируем все необходимые библиотеки для проекта"
   ]
  },
  {
   "cell_type": "code",
   "execution_count": 240,
   "metadata": {},
   "outputs": [],
   "source": [
    "import time as tm\n",
    "import numpy as np\n",
    "import pandas as pd\n",
    "import sklearn as sk\n",
    "import catboost as ct\n",
    "import seaborn as sns\n",
    "import matplotlib.pyplot as plt\n",
    "import matplotlib.patches as mpatches\n",
    "from sklearn import svm\n",
    "from sklearn import tree\n",
    "from sklearn import ensemble\n",
    "from sklearn import linear_model\n",
    "from sklearn import model_selection\n",
    "from sklearn import metrics\n",
    "from sklearn import pipeline\n",
    "from sklearn import preprocessing\n",
    "from catboost import CatBoostRegressor\n",
    "from catboost import Pool\n",
    "from IPython.display import clear_output\n",
    "from scipy import stats as st\n",
    "from numpy.random import RandomState\n",
    "from sklearn.preprocessing import StandardScaler\n",
    "from sklearn.model_selection import train_test_split, cross_val_score\n",
    "from sklearn.metrics import mean_squared_error, make_scorer\n",
    "from sklearn.linear_model import LinearRegression\n",
    "from sklearn.ensemble import RandomForestRegressor\n",
    "from sklearn.tree import DecisionTreeRegressor\n",
    "from sklearn.model_selection import GridSearchCV"
   ]
  },
  {
   "cell_type": "markdown",
   "metadata": {},
   "source": [
    "### Первичный просмотр\n",
    "Загрузим все датасеты"
   ]
  },
  {
   "cell_type": "code",
   "execution_count": 241,
   "metadata": {},
   "outputs": [],
   "source": [
    "data_full  = pd.read_csv('/datasets/gold_recovery_full_new.csv')\n",
    "data_train = pd.read_csv('/datasets/gold_recovery_train_new.csv')\n",
    "data_test  = pd.read_csv('/datasets/gold_recovery_test_new.csv')"
   ]
  },
  {
   "cell_type": "markdown",
   "metadata": {},
   "source": [
    "Посмотрим что включают в себя файлы, а также возможные пропуски и аномалии в данных"
   ]
  },
  {
   "cell_type": "code",
   "execution_count": 242,
   "metadata": {
    "scrolled": true
   },
   "outputs": [
    {
     "data": {
      "text/html": [
       "<div>\n",
       "<style scoped>\n",
       "    .dataframe tbody tr th:only-of-type {\n",
       "        vertical-align: middle;\n",
       "    }\n",
       "\n",
       "    .dataframe tbody tr th {\n",
       "        vertical-align: top;\n",
       "    }\n",
       "\n",
       "    .dataframe thead th {\n",
       "        text-align: right;\n",
       "    }\n",
       "</style>\n",
       "<table border=\"1\" class=\"dataframe\">\n",
       "  <thead>\n",
       "    <tr style=\"text-align: right;\">\n",
       "      <th></th>\n",
       "      <th>date</th>\n",
       "      <th>final.output.concentrate_ag</th>\n",
       "      <th>final.output.concentrate_pb</th>\n",
       "      <th>final.output.concentrate_sol</th>\n",
       "      <th>final.output.concentrate_au</th>\n",
       "      <th>final.output.recovery</th>\n",
       "      <th>final.output.tail_ag</th>\n",
       "      <th>final.output.tail_pb</th>\n",
       "      <th>final.output.tail_sol</th>\n",
       "      <th>final.output.tail_au</th>\n",
       "      <th>...</th>\n",
       "      <th>secondary_cleaner.state.floatbank4_a_air</th>\n",
       "      <th>secondary_cleaner.state.floatbank4_a_level</th>\n",
       "      <th>secondary_cleaner.state.floatbank4_b_air</th>\n",
       "      <th>secondary_cleaner.state.floatbank4_b_level</th>\n",
       "      <th>secondary_cleaner.state.floatbank5_a_air</th>\n",
       "      <th>secondary_cleaner.state.floatbank5_a_level</th>\n",
       "      <th>secondary_cleaner.state.floatbank5_b_air</th>\n",
       "      <th>secondary_cleaner.state.floatbank5_b_level</th>\n",
       "      <th>secondary_cleaner.state.floatbank6_a_air</th>\n",
       "      <th>secondary_cleaner.state.floatbank6_a_level</th>\n",
       "    </tr>\n",
       "  </thead>\n",
       "  <tbody>\n",
       "    <tr>\n",
       "      <td>0</td>\n",
       "      <td>2016-01-15 00:00:00</td>\n",
       "      <td>6.055403</td>\n",
       "      <td>9.889648</td>\n",
       "      <td>5.507324</td>\n",
       "      <td>42.192020</td>\n",
       "      <td>70.541216</td>\n",
       "      <td>10.411962</td>\n",
       "      <td>0.895447</td>\n",
       "      <td>16.904297</td>\n",
       "      <td>2.143149</td>\n",
       "      <td>...</td>\n",
       "      <td>14.016835</td>\n",
       "      <td>-502.488007</td>\n",
       "      <td>12.099931</td>\n",
       "      <td>-504.715942</td>\n",
       "      <td>9.925633</td>\n",
       "      <td>-498.310211</td>\n",
       "      <td>8.079666</td>\n",
       "      <td>-500.470978</td>\n",
       "      <td>14.151341</td>\n",
       "      <td>-605.841980</td>\n",
       "    </tr>\n",
       "    <tr>\n",
       "      <td>1</td>\n",
       "      <td>2016-01-15 01:00:00</td>\n",
       "      <td>6.029369</td>\n",
       "      <td>9.968944</td>\n",
       "      <td>5.257781</td>\n",
       "      <td>42.701629</td>\n",
       "      <td>69.266198</td>\n",
       "      <td>10.462676</td>\n",
       "      <td>0.927452</td>\n",
       "      <td>16.634514</td>\n",
       "      <td>2.224930</td>\n",
       "      <td>...</td>\n",
       "      <td>13.992281</td>\n",
       "      <td>-505.503262</td>\n",
       "      <td>11.950531</td>\n",
       "      <td>-501.331529</td>\n",
       "      <td>10.039245</td>\n",
       "      <td>-500.169983</td>\n",
       "      <td>7.984757</td>\n",
       "      <td>-500.582168</td>\n",
       "      <td>13.998353</td>\n",
       "      <td>-599.787184</td>\n",
       "    </tr>\n",
       "    <tr>\n",
       "      <td>2</td>\n",
       "      <td>2016-01-15 02:00:00</td>\n",
       "      <td>6.055926</td>\n",
       "      <td>10.213995</td>\n",
       "      <td>5.383759</td>\n",
       "      <td>42.657501</td>\n",
       "      <td>68.116445</td>\n",
       "      <td>10.507046</td>\n",
       "      <td>0.953716</td>\n",
       "      <td>16.208849</td>\n",
       "      <td>2.257889</td>\n",
       "      <td>...</td>\n",
       "      <td>14.015015</td>\n",
       "      <td>-502.520901</td>\n",
       "      <td>11.912783</td>\n",
       "      <td>-501.133383</td>\n",
       "      <td>10.070913</td>\n",
       "      <td>-500.129135</td>\n",
       "      <td>8.013877</td>\n",
       "      <td>-500.517572</td>\n",
       "      <td>14.028663</td>\n",
       "      <td>-601.427363</td>\n",
       "    </tr>\n",
       "    <tr>\n",
       "      <td>3</td>\n",
       "      <td>2016-01-15 03:00:00</td>\n",
       "      <td>6.047977</td>\n",
       "      <td>9.977019</td>\n",
       "      <td>4.858634</td>\n",
       "      <td>42.689819</td>\n",
       "      <td>68.347543</td>\n",
       "      <td>10.422762</td>\n",
       "      <td>0.883763</td>\n",
       "      <td>16.532835</td>\n",
       "      <td>2.146849</td>\n",
       "      <td>...</td>\n",
       "      <td>14.036510</td>\n",
       "      <td>-500.857308</td>\n",
       "      <td>11.999550</td>\n",
       "      <td>-501.193686</td>\n",
       "      <td>9.970366</td>\n",
       "      <td>-499.201640</td>\n",
       "      <td>7.977324</td>\n",
       "      <td>-500.255908</td>\n",
       "      <td>14.005551</td>\n",
       "      <td>-599.996129</td>\n",
       "    </tr>\n",
       "    <tr>\n",
       "      <td>4</td>\n",
       "      <td>2016-01-15 04:00:00</td>\n",
       "      <td>6.148599</td>\n",
       "      <td>10.142511</td>\n",
       "      <td>4.939416</td>\n",
       "      <td>42.774141</td>\n",
       "      <td>66.927016</td>\n",
       "      <td>10.360302</td>\n",
       "      <td>0.792826</td>\n",
       "      <td>16.525686</td>\n",
       "      <td>2.055292</td>\n",
       "      <td>...</td>\n",
       "      <td>14.027298</td>\n",
       "      <td>-499.838632</td>\n",
       "      <td>11.953070</td>\n",
       "      <td>-501.053894</td>\n",
       "      <td>9.925709</td>\n",
       "      <td>-501.686727</td>\n",
       "      <td>7.894242</td>\n",
       "      <td>-500.356035</td>\n",
       "      <td>13.996647</td>\n",
       "      <td>-601.496691</td>\n",
       "    </tr>\n",
       "  </tbody>\n",
       "</table>\n",
       "<p>5 rows × 87 columns</p>\n",
       "</div>"
      ],
      "text/plain": [
       "                  date  final.output.concentrate_ag  \\\n",
       "0  2016-01-15 00:00:00                     6.055403   \n",
       "1  2016-01-15 01:00:00                     6.029369   \n",
       "2  2016-01-15 02:00:00                     6.055926   \n",
       "3  2016-01-15 03:00:00                     6.047977   \n",
       "4  2016-01-15 04:00:00                     6.148599   \n",
       "\n",
       "   final.output.concentrate_pb  final.output.concentrate_sol  \\\n",
       "0                     9.889648                      5.507324   \n",
       "1                     9.968944                      5.257781   \n",
       "2                    10.213995                      5.383759   \n",
       "3                     9.977019                      4.858634   \n",
       "4                    10.142511                      4.939416   \n",
       "\n",
       "   final.output.concentrate_au  final.output.recovery  final.output.tail_ag  \\\n",
       "0                    42.192020              70.541216             10.411962   \n",
       "1                    42.701629              69.266198             10.462676   \n",
       "2                    42.657501              68.116445             10.507046   \n",
       "3                    42.689819              68.347543             10.422762   \n",
       "4                    42.774141              66.927016             10.360302   \n",
       "\n",
       "   final.output.tail_pb  final.output.tail_sol  final.output.tail_au  ...  \\\n",
       "0              0.895447              16.904297              2.143149  ...   \n",
       "1              0.927452              16.634514              2.224930  ...   \n",
       "2              0.953716              16.208849              2.257889  ...   \n",
       "3              0.883763              16.532835              2.146849  ...   \n",
       "4              0.792826              16.525686              2.055292  ...   \n",
       "\n",
       "   secondary_cleaner.state.floatbank4_a_air  \\\n",
       "0                                 14.016835   \n",
       "1                                 13.992281   \n",
       "2                                 14.015015   \n",
       "3                                 14.036510   \n",
       "4                                 14.027298   \n",
       "\n",
       "   secondary_cleaner.state.floatbank4_a_level  \\\n",
       "0                                 -502.488007   \n",
       "1                                 -505.503262   \n",
       "2                                 -502.520901   \n",
       "3                                 -500.857308   \n",
       "4                                 -499.838632   \n",
       "\n",
       "   secondary_cleaner.state.floatbank4_b_air  \\\n",
       "0                                 12.099931   \n",
       "1                                 11.950531   \n",
       "2                                 11.912783   \n",
       "3                                 11.999550   \n",
       "4                                 11.953070   \n",
       "\n",
       "   secondary_cleaner.state.floatbank4_b_level  \\\n",
       "0                                 -504.715942   \n",
       "1                                 -501.331529   \n",
       "2                                 -501.133383   \n",
       "3                                 -501.193686   \n",
       "4                                 -501.053894   \n",
       "\n",
       "   secondary_cleaner.state.floatbank5_a_air  \\\n",
       "0                                  9.925633   \n",
       "1                                 10.039245   \n",
       "2                                 10.070913   \n",
       "3                                  9.970366   \n",
       "4                                  9.925709   \n",
       "\n",
       "   secondary_cleaner.state.floatbank5_a_level  \\\n",
       "0                                 -498.310211   \n",
       "1                                 -500.169983   \n",
       "2                                 -500.129135   \n",
       "3                                 -499.201640   \n",
       "4                                 -501.686727   \n",
       "\n",
       "   secondary_cleaner.state.floatbank5_b_air  \\\n",
       "0                                  8.079666   \n",
       "1                                  7.984757   \n",
       "2                                  8.013877   \n",
       "3                                  7.977324   \n",
       "4                                  7.894242   \n",
       "\n",
       "   secondary_cleaner.state.floatbank5_b_level  \\\n",
       "0                                 -500.470978   \n",
       "1                                 -500.582168   \n",
       "2                                 -500.517572   \n",
       "3                                 -500.255908   \n",
       "4                                 -500.356035   \n",
       "\n",
       "   secondary_cleaner.state.floatbank6_a_air  \\\n",
       "0                                 14.151341   \n",
       "1                                 13.998353   \n",
       "2                                 14.028663   \n",
       "3                                 14.005551   \n",
       "4                                 13.996647   \n",
       "\n",
       "   secondary_cleaner.state.floatbank6_a_level  \n",
       "0                                 -605.841980  \n",
       "1                                 -599.787184  \n",
       "2                                 -601.427363  \n",
       "3                                 -599.996129  \n",
       "4                                 -601.496691  \n",
       "\n",
       "[5 rows x 87 columns]"
      ]
     },
     "execution_count": 242,
     "metadata": {},
     "output_type": "execute_result"
    }
   ],
   "source": [
    "data_full.head()"
   ]
  },
  {
   "cell_type": "code",
   "execution_count": 243,
   "metadata": {
    "scrolled": false
   },
   "outputs": [
    {
     "data": {
      "text/html": [
       "<div>\n",
       "<style scoped>\n",
       "    .dataframe tbody tr th:only-of-type {\n",
       "        vertical-align: middle;\n",
       "    }\n",
       "\n",
       "    .dataframe tbody tr th {\n",
       "        vertical-align: top;\n",
       "    }\n",
       "\n",
       "    .dataframe thead th {\n",
       "        text-align: right;\n",
       "    }\n",
       "</style>\n",
       "<table border=\"1\" class=\"dataframe\">\n",
       "  <thead>\n",
       "    <tr style=\"text-align: right;\">\n",
       "      <th></th>\n",
       "      <th>date</th>\n",
       "      <th>final.output.concentrate_ag</th>\n",
       "      <th>final.output.concentrate_pb</th>\n",
       "      <th>final.output.concentrate_sol</th>\n",
       "      <th>final.output.concentrate_au</th>\n",
       "      <th>final.output.recovery</th>\n",
       "      <th>final.output.tail_ag</th>\n",
       "      <th>final.output.tail_pb</th>\n",
       "      <th>final.output.tail_sol</th>\n",
       "      <th>final.output.tail_au</th>\n",
       "      <th>...</th>\n",
       "      <th>secondary_cleaner.state.floatbank4_a_air</th>\n",
       "      <th>secondary_cleaner.state.floatbank4_a_level</th>\n",
       "      <th>secondary_cleaner.state.floatbank4_b_air</th>\n",
       "      <th>secondary_cleaner.state.floatbank4_b_level</th>\n",
       "      <th>secondary_cleaner.state.floatbank5_a_air</th>\n",
       "      <th>secondary_cleaner.state.floatbank5_a_level</th>\n",
       "      <th>secondary_cleaner.state.floatbank5_b_air</th>\n",
       "      <th>secondary_cleaner.state.floatbank5_b_level</th>\n",
       "      <th>secondary_cleaner.state.floatbank6_a_air</th>\n",
       "      <th>secondary_cleaner.state.floatbank6_a_level</th>\n",
       "    </tr>\n",
       "  </thead>\n",
       "  <tbody>\n",
       "    <tr>\n",
       "      <td>0</td>\n",
       "      <td>2016-01-15 00:00:00</td>\n",
       "      <td>6.055403</td>\n",
       "      <td>9.889648</td>\n",
       "      <td>5.507324</td>\n",
       "      <td>42.192020</td>\n",
       "      <td>70.541216</td>\n",
       "      <td>10.411962</td>\n",
       "      <td>0.895447</td>\n",
       "      <td>16.904297</td>\n",
       "      <td>2.143149</td>\n",
       "      <td>...</td>\n",
       "      <td>14.016835</td>\n",
       "      <td>-502.488007</td>\n",
       "      <td>12.099931</td>\n",
       "      <td>-504.715942</td>\n",
       "      <td>9.925633</td>\n",
       "      <td>-498.310211</td>\n",
       "      <td>8.079666</td>\n",
       "      <td>-500.470978</td>\n",
       "      <td>14.151341</td>\n",
       "      <td>-605.841980</td>\n",
       "    </tr>\n",
       "    <tr>\n",
       "      <td>1</td>\n",
       "      <td>2016-01-15 01:00:00</td>\n",
       "      <td>6.029369</td>\n",
       "      <td>9.968944</td>\n",
       "      <td>5.257781</td>\n",
       "      <td>42.701629</td>\n",
       "      <td>69.266198</td>\n",
       "      <td>10.462676</td>\n",
       "      <td>0.927452</td>\n",
       "      <td>16.634514</td>\n",
       "      <td>2.224930</td>\n",
       "      <td>...</td>\n",
       "      <td>13.992281</td>\n",
       "      <td>-505.503262</td>\n",
       "      <td>11.950531</td>\n",
       "      <td>-501.331529</td>\n",
       "      <td>10.039245</td>\n",
       "      <td>-500.169983</td>\n",
       "      <td>7.984757</td>\n",
       "      <td>-500.582168</td>\n",
       "      <td>13.998353</td>\n",
       "      <td>-599.787184</td>\n",
       "    </tr>\n",
       "    <tr>\n",
       "      <td>2</td>\n",
       "      <td>2016-01-15 02:00:00</td>\n",
       "      <td>6.055926</td>\n",
       "      <td>10.213995</td>\n",
       "      <td>5.383759</td>\n",
       "      <td>42.657501</td>\n",
       "      <td>68.116445</td>\n",
       "      <td>10.507046</td>\n",
       "      <td>0.953716</td>\n",
       "      <td>16.208849</td>\n",
       "      <td>2.257889</td>\n",
       "      <td>...</td>\n",
       "      <td>14.015015</td>\n",
       "      <td>-502.520901</td>\n",
       "      <td>11.912783</td>\n",
       "      <td>-501.133383</td>\n",
       "      <td>10.070913</td>\n",
       "      <td>-500.129135</td>\n",
       "      <td>8.013877</td>\n",
       "      <td>-500.517572</td>\n",
       "      <td>14.028663</td>\n",
       "      <td>-601.427363</td>\n",
       "    </tr>\n",
       "    <tr>\n",
       "      <td>3</td>\n",
       "      <td>2016-01-15 03:00:00</td>\n",
       "      <td>6.047977</td>\n",
       "      <td>9.977019</td>\n",
       "      <td>4.858634</td>\n",
       "      <td>42.689819</td>\n",
       "      <td>68.347543</td>\n",
       "      <td>10.422762</td>\n",
       "      <td>0.883763</td>\n",
       "      <td>16.532835</td>\n",
       "      <td>2.146849</td>\n",
       "      <td>...</td>\n",
       "      <td>14.036510</td>\n",
       "      <td>-500.857308</td>\n",
       "      <td>11.999550</td>\n",
       "      <td>-501.193686</td>\n",
       "      <td>9.970366</td>\n",
       "      <td>-499.201640</td>\n",
       "      <td>7.977324</td>\n",
       "      <td>-500.255908</td>\n",
       "      <td>14.005551</td>\n",
       "      <td>-599.996129</td>\n",
       "    </tr>\n",
       "    <tr>\n",
       "      <td>4</td>\n",
       "      <td>2016-01-15 04:00:00</td>\n",
       "      <td>6.148599</td>\n",
       "      <td>10.142511</td>\n",
       "      <td>4.939416</td>\n",
       "      <td>42.774141</td>\n",
       "      <td>66.927016</td>\n",
       "      <td>10.360302</td>\n",
       "      <td>0.792826</td>\n",
       "      <td>16.525686</td>\n",
       "      <td>2.055292</td>\n",
       "      <td>...</td>\n",
       "      <td>14.027298</td>\n",
       "      <td>-499.838632</td>\n",
       "      <td>11.953070</td>\n",
       "      <td>-501.053894</td>\n",
       "      <td>9.925709</td>\n",
       "      <td>-501.686727</td>\n",
       "      <td>7.894242</td>\n",
       "      <td>-500.356035</td>\n",
       "      <td>13.996647</td>\n",
       "      <td>-601.496691</td>\n",
       "    </tr>\n",
       "  </tbody>\n",
       "</table>\n",
       "<p>5 rows × 87 columns</p>\n",
       "</div>"
      ],
      "text/plain": [
       "                  date  final.output.concentrate_ag  \\\n",
       "0  2016-01-15 00:00:00                     6.055403   \n",
       "1  2016-01-15 01:00:00                     6.029369   \n",
       "2  2016-01-15 02:00:00                     6.055926   \n",
       "3  2016-01-15 03:00:00                     6.047977   \n",
       "4  2016-01-15 04:00:00                     6.148599   \n",
       "\n",
       "   final.output.concentrate_pb  final.output.concentrate_sol  \\\n",
       "0                     9.889648                      5.507324   \n",
       "1                     9.968944                      5.257781   \n",
       "2                    10.213995                      5.383759   \n",
       "3                     9.977019                      4.858634   \n",
       "4                    10.142511                      4.939416   \n",
       "\n",
       "   final.output.concentrate_au  final.output.recovery  final.output.tail_ag  \\\n",
       "0                    42.192020              70.541216             10.411962   \n",
       "1                    42.701629              69.266198             10.462676   \n",
       "2                    42.657501              68.116445             10.507046   \n",
       "3                    42.689819              68.347543             10.422762   \n",
       "4                    42.774141              66.927016             10.360302   \n",
       "\n",
       "   final.output.tail_pb  final.output.tail_sol  final.output.tail_au  ...  \\\n",
       "0              0.895447              16.904297              2.143149  ...   \n",
       "1              0.927452              16.634514              2.224930  ...   \n",
       "2              0.953716              16.208849              2.257889  ...   \n",
       "3              0.883763              16.532835              2.146849  ...   \n",
       "4              0.792826              16.525686              2.055292  ...   \n",
       "\n",
       "   secondary_cleaner.state.floatbank4_a_air  \\\n",
       "0                                 14.016835   \n",
       "1                                 13.992281   \n",
       "2                                 14.015015   \n",
       "3                                 14.036510   \n",
       "4                                 14.027298   \n",
       "\n",
       "   secondary_cleaner.state.floatbank4_a_level  \\\n",
       "0                                 -502.488007   \n",
       "1                                 -505.503262   \n",
       "2                                 -502.520901   \n",
       "3                                 -500.857308   \n",
       "4                                 -499.838632   \n",
       "\n",
       "   secondary_cleaner.state.floatbank4_b_air  \\\n",
       "0                                 12.099931   \n",
       "1                                 11.950531   \n",
       "2                                 11.912783   \n",
       "3                                 11.999550   \n",
       "4                                 11.953070   \n",
       "\n",
       "   secondary_cleaner.state.floatbank4_b_level  \\\n",
       "0                                 -504.715942   \n",
       "1                                 -501.331529   \n",
       "2                                 -501.133383   \n",
       "3                                 -501.193686   \n",
       "4                                 -501.053894   \n",
       "\n",
       "   secondary_cleaner.state.floatbank5_a_air  \\\n",
       "0                                  9.925633   \n",
       "1                                 10.039245   \n",
       "2                                 10.070913   \n",
       "3                                  9.970366   \n",
       "4                                  9.925709   \n",
       "\n",
       "   secondary_cleaner.state.floatbank5_a_level  \\\n",
       "0                                 -498.310211   \n",
       "1                                 -500.169983   \n",
       "2                                 -500.129135   \n",
       "3                                 -499.201640   \n",
       "4                                 -501.686727   \n",
       "\n",
       "   secondary_cleaner.state.floatbank5_b_air  \\\n",
       "0                                  8.079666   \n",
       "1                                  7.984757   \n",
       "2                                  8.013877   \n",
       "3                                  7.977324   \n",
       "4                                  7.894242   \n",
       "\n",
       "   secondary_cleaner.state.floatbank5_b_level  \\\n",
       "0                                 -500.470978   \n",
       "1                                 -500.582168   \n",
       "2                                 -500.517572   \n",
       "3                                 -500.255908   \n",
       "4                                 -500.356035   \n",
       "\n",
       "   secondary_cleaner.state.floatbank6_a_air  \\\n",
       "0                                 14.151341   \n",
       "1                                 13.998353   \n",
       "2                                 14.028663   \n",
       "3                                 14.005551   \n",
       "4                                 13.996647   \n",
       "\n",
       "   secondary_cleaner.state.floatbank6_a_level  \n",
       "0                                 -605.841980  \n",
       "1                                 -599.787184  \n",
       "2                                 -601.427363  \n",
       "3                                 -599.996129  \n",
       "4                                 -601.496691  \n",
       "\n",
       "[5 rows x 87 columns]"
      ]
     },
     "execution_count": 243,
     "metadata": {},
     "output_type": "execute_result"
    }
   ],
   "source": [
    "data_train.head()"
   ]
  },
  {
   "cell_type": "code",
   "execution_count": 244,
   "metadata": {
    "scrolled": false
   },
   "outputs": [
    {
     "data": {
      "text/html": [
       "<div>\n",
       "<style scoped>\n",
       "    .dataframe tbody tr th:only-of-type {\n",
       "        vertical-align: middle;\n",
       "    }\n",
       "\n",
       "    .dataframe tbody tr th {\n",
       "        vertical-align: top;\n",
       "    }\n",
       "\n",
       "    .dataframe thead th {\n",
       "        text-align: right;\n",
       "    }\n",
       "</style>\n",
       "<table border=\"1\" class=\"dataframe\">\n",
       "  <thead>\n",
       "    <tr style=\"text-align: right;\">\n",
       "      <th></th>\n",
       "      <th>date</th>\n",
       "      <th>primary_cleaner.input.sulfate</th>\n",
       "      <th>primary_cleaner.input.depressant</th>\n",
       "      <th>primary_cleaner.input.feed_size</th>\n",
       "      <th>primary_cleaner.input.xanthate</th>\n",
       "      <th>primary_cleaner.state.floatbank8_a_air</th>\n",
       "      <th>primary_cleaner.state.floatbank8_a_level</th>\n",
       "      <th>primary_cleaner.state.floatbank8_b_air</th>\n",
       "      <th>primary_cleaner.state.floatbank8_b_level</th>\n",
       "      <th>primary_cleaner.state.floatbank8_c_air</th>\n",
       "      <th>...</th>\n",
       "      <th>secondary_cleaner.state.floatbank4_a_air</th>\n",
       "      <th>secondary_cleaner.state.floatbank4_a_level</th>\n",
       "      <th>secondary_cleaner.state.floatbank4_b_air</th>\n",
       "      <th>secondary_cleaner.state.floatbank4_b_level</th>\n",
       "      <th>secondary_cleaner.state.floatbank5_a_air</th>\n",
       "      <th>secondary_cleaner.state.floatbank5_a_level</th>\n",
       "      <th>secondary_cleaner.state.floatbank5_b_air</th>\n",
       "      <th>secondary_cleaner.state.floatbank5_b_level</th>\n",
       "      <th>secondary_cleaner.state.floatbank6_a_air</th>\n",
       "      <th>secondary_cleaner.state.floatbank6_a_level</th>\n",
       "    </tr>\n",
       "  </thead>\n",
       "  <tbody>\n",
       "    <tr>\n",
       "      <td>0</td>\n",
       "      <td>2016-09-01 00:59:59</td>\n",
       "      <td>210.800909</td>\n",
       "      <td>14.993118</td>\n",
       "      <td>8.080000</td>\n",
       "      <td>1.005021</td>\n",
       "      <td>1398.981301</td>\n",
       "      <td>-500.225577</td>\n",
       "      <td>1399.144926</td>\n",
       "      <td>-499.919735</td>\n",
       "      <td>1400.102998</td>\n",
       "      <td>...</td>\n",
       "      <td>12.023554</td>\n",
       "      <td>-497.795834</td>\n",
       "      <td>8.016656</td>\n",
       "      <td>-501.289139</td>\n",
       "      <td>7.946562</td>\n",
       "      <td>-432.317850</td>\n",
       "      <td>4.872511</td>\n",
       "      <td>-500.037437</td>\n",
       "      <td>26.705889</td>\n",
       "      <td>-499.709414</td>\n",
       "    </tr>\n",
       "    <tr>\n",
       "      <td>1</td>\n",
       "      <td>2016-09-01 01:59:59</td>\n",
       "      <td>215.392455</td>\n",
       "      <td>14.987471</td>\n",
       "      <td>8.080000</td>\n",
       "      <td>0.990469</td>\n",
       "      <td>1398.777912</td>\n",
       "      <td>-500.057435</td>\n",
       "      <td>1398.055362</td>\n",
       "      <td>-499.778182</td>\n",
       "      <td>1396.151033</td>\n",
       "      <td>...</td>\n",
       "      <td>12.058140</td>\n",
       "      <td>-498.695773</td>\n",
       "      <td>8.130979</td>\n",
       "      <td>-499.634209</td>\n",
       "      <td>7.958270</td>\n",
       "      <td>-525.839648</td>\n",
       "      <td>4.878850</td>\n",
       "      <td>-500.162375</td>\n",
       "      <td>25.019940</td>\n",
       "      <td>-499.819438</td>\n",
       "    </tr>\n",
       "    <tr>\n",
       "      <td>2</td>\n",
       "      <td>2016-09-01 02:59:59</td>\n",
       "      <td>215.259946</td>\n",
       "      <td>12.884934</td>\n",
       "      <td>7.786667</td>\n",
       "      <td>0.996043</td>\n",
       "      <td>1398.493666</td>\n",
       "      <td>-500.868360</td>\n",
       "      <td>1398.860436</td>\n",
       "      <td>-499.764529</td>\n",
       "      <td>1398.075709</td>\n",
       "      <td>...</td>\n",
       "      <td>11.962366</td>\n",
       "      <td>-498.767484</td>\n",
       "      <td>8.096893</td>\n",
       "      <td>-500.827423</td>\n",
       "      <td>8.071056</td>\n",
       "      <td>-500.801673</td>\n",
       "      <td>4.905125</td>\n",
       "      <td>-499.828510</td>\n",
       "      <td>24.994862</td>\n",
       "      <td>-500.622559</td>\n",
       "    </tr>\n",
       "    <tr>\n",
       "      <td>3</td>\n",
       "      <td>2016-09-01 03:59:59</td>\n",
       "      <td>215.336236</td>\n",
       "      <td>12.006805</td>\n",
       "      <td>7.640000</td>\n",
       "      <td>0.863514</td>\n",
       "      <td>1399.618111</td>\n",
       "      <td>-498.863574</td>\n",
       "      <td>1397.440120</td>\n",
       "      <td>-499.211024</td>\n",
       "      <td>1400.129303</td>\n",
       "      <td>...</td>\n",
       "      <td>12.033091</td>\n",
       "      <td>-498.350935</td>\n",
       "      <td>8.074946</td>\n",
       "      <td>-499.474407</td>\n",
       "      <td>7.897085</td>\n",
       "      <td>-500.868509</td>\n",
       "      <td>4.931400</td>\n",
       "      <td>-499.963623</td>\n",
       "      <td>24.948919</td>\n",
       "      <td>-498.709987</td>\n",
       "    </tr>\n",
       "    <tr>\n",
       "      <td>4</td>\n",
       "      <td>2016-09-01 04:59:59</td>\n",
       "      <td>199.099327</td>\n",
       "      <td>10.682530</td>\n",
       "      <td>7.530000</td>\n",
       "      <td>0.805575</td>\n",
       "      <td>1401.268123</td>\n",
       "      <td>-500.808305</td>\n",
       "      <td>1398.128818</td>\n",
       "      <td>-499.504543</td>\n",
       "      <td>1402.172226</td>\n",
       "      <td>...</td>\n",
       "      <td>12.025367</td>\n",
       "      <td>-500.786497</td>\n",
       "      <td>8.054678</td>\n",
       "      <td>-500.397500</td>\n",
       "      <td>8.107890</td>\n",
       "      <td>-509.526725</td>\n",
       "      <td>4.957674</td>\n",
       "      <td>-500.360026</td>\n",
       "      <td>25.003331</td>\n",
       "      <td>-500.856333</td>\n",
       "    </tr>\n",
       "  </tbody>\n",
       "</table>\n",
       "<p>5 rows × 53 columns</p>\n",
       "</div>"
      ],
      "text/plain": [
       "                  date  primary_cleaner.input.sulfate  \\\n",
       "0  2016-09-01 00:59:59                     210.800909   \n",
       "1  2016-09-01 01:59:59                     215.392455   \n",
       "2  2016-09-01 02:59:59                     215.259946   \n",
       "3  2016-09-01 03:59:59                     215.336236   \n",
       "4  2016-09-01 04:59:59                     199.099327   \n",
       "\n",
       "   primary_cleaner.input.depressant  primary_cleaner.input.feed_size  \\\n",
       "0                         14.993118                         8.080000   \n",
       "1                         14.987471                         8.080000   \n",
       "2                         12.884934                         7.786667   \n",
       "3                         12.006805                         7.640000   \n",
       "4                         10.682530                         7.530000   \n",
       "\n",
       "   primary_cleaner.input.xanthate  primary_cleaner.state.floatbank8_a_air  \\\n",
       "0                        1.005021                             1398.981301   \n",
       "1                        0.990469                             1398.777912   \n",
       "2                        0.996043                             1398.493666   \n",
       "3                        0.863514                             1399.618111   \n",
       "4                        0.805575                             1401.268123   \n",
       "\n",
       "   primary_cleaner.state.floatbank8_a_level  \\\n",
       "0                               -500.225577   \n",
       "1                               -500.057435   \n",
       "2                               -500.868360   \n",
       "3                               -498.863574   \n",
       "4                               -500.808305   \n",
       "\n",
       "   primary_cleaner.state.floatbank8_b_air  \\\n",
       "0                             1399.144926   \n",
       "1                             1398.055362   \n",
       "2                             1398.860436   \n",
       "3                             1397.440120   \n",
       "4                             1398.128818   \n",
       "\n",
       "   primary_cleaner.state.floatbank8_b_level  \\\n",
       "0                               -499.919735   \n",
       "1                               -499.778182   \n",
       "2                               -499.764529   \n",
       "3                               -499.211024   \n",
       "4                               -499.504543   \n",
       "\n",
       "   primary_cleaner.state.floatbank8_c_air  ...  \\\n",
       "0                             1400.102998  ...   \n",
       "1                             1396.151033  ...   \n",
       "2                             1398.075709  ...   \n",
       "3                             1400.129303  ...   \n",
       "4                             1402.172226  ...   \n",
       "\n",
       "   secondary_cleaner.state.floatbank4_a_air  \\\n",
       "0                                 12.023554   \n",
       "1                                 12.058140   \n",
       "2                                 11.962366   \n",
       "3                                 12.033091   \n",
       "4                                 12.025367   \n",
       "\n",
       "   secondary_cleaner.state.floatbank4_a_level  \\\n",
       "0                                 -497.795834   \n",
       "1                                 -498.695773   \n",
       "2                                 -498.767484   \n",
       "3                                 -498.350935   \n",
       "4                                 -500.786497   \n",
       "\n",
       "   secondary_cleaner.state.floatbank4_b_air  \\\n",
       "0                                  8.016656   \n",
       "1                                  8.130979   \n",
       "2                                  8.096893   \n",
       "3                                  8.074946   \n",
       "4                                  8.054678   \n",
       "\n",
       "   secondary_cleaner.state.floatbank4_b_level  \\\n",
       "0                                 -501.289139   \n",
       "1                                 -499.634209   \n",
       "2                                 -500.827423   \n",
       "3                                 -499.474407   \n",
       "4                                 -500.397500   \n",
       "\n",
       "   secondary_cleaner.state.floatbank5_a_air  \\\n",
       "0                                  7.946562   \n",
       "1                                  7.958270   \n",
       "2                                  8.071056   \n",
       "3                                  7.897085   \n",
       "4                                  8.107890   \n",
       "\n",
       "   secondary_cleaner.state.floatbank5_a_level  \\\n",
       "0                                 -432.317850   \n",
       "1                                 -525.839648   \n",
       "2                                 -500.801673   \n",
       "3                                 -500.868509   \n",
       "4                                 -509.526725   \n",
       "\n",
       "   secondary_cleaner.state.floatbank5_b_air  \\\n",
       "0                                  4.872511   \n",
       "1                                  4.878850   \n",
       "2                                  4.905125   \n",
       "3                                  4.931400   \n",
       "4                                  4.957674   \n",
       "\n",
       "   secondary_cleaner.state.floatbank5_b_level  \\\n",
       "0                                 -500.037437   \n",
       "1                                 -500.162375   \n",
       "2                                 -499.828510   \n",
       "3                                 -499.963623   \n",
       "4                                 -500.360026   \n",
       "\n",
       "   secondary_cleaner.state.floatbank6_a_air  \\\n",
       "0                                 26.705889   \n",
       "1                                 25.019940   \n",
       "2                                 24.994862   \n",
       "3                                 24.948919   \n",
       "4                                 25.003331   \n",
       "\n",
       "   secondary_cleaner.state.floatbank6_a_level  \n",
       "0                                 -499.709414  \n",
       "1                                 -499.819438  \n",
       "2                                 -500.622559  \n",
       "3                                 -498.709987  \n",
       "4                                 -500.856333  \n",
       "\n",
       "[5 rows x 53 columns]"
      ]
     },
     "execution_count": 244,
     "metadata": {},
     "output_type": "execute_result"
    }
   ],
   "source": [
    "data_test.head()"
   ]
  },
  {
   "cell_type": "code",
   "execution_count": 245,
   "metadata": {
    "scrolled": true
   },
   "outputs": [
    {
     "name": "stdout",
     "output_type": "stream",
     "text": [
      "<class 'pandas.core.frame.DataFrame'>\n",
      "RangeIndex: 19439 entries, 0 to 19438\n",
      "Data columns (total 87 columns):\n",
      "date                                                  19439 non-null object\n",
      "final.output.concentrate_ag                           19438 non-null float64\n",
      "final.output.concentrate_pb                           19438 non-null float64\n",
      "final.output.concentrate_sol                          19228 non-null float64\n",
      "final.output.concentrate_au                           19439 non-null float64\n",
      "final.output.recovery                                 19439 non-null float64\n",
      "final.output.tail_ag                                  19438 non-null float64\n",
      "final.output.tail_pb                                  19338 non-null float64\n",
      "final.output.tail_sol                                 19433 non-null float64\n",
      "final.output.tail_au                                  19439 non-null float64\n",
      "primary_cleaner.input.sulfate                         19415 non-null float64\n",
      "primary_cleaner.input.depressant                      19402 non-null float64\n",
      "primary_cleaner.input.feed_size                       19439 non-null float64\n",
      "primary_cleaner.input.xanthate                        19335 non-null float64\n",
      "primary_cleaner.output.concentrate_ag                 19439 non-null float64\n",
      "primary_cleaner.output.concentrate_pb                 19323 non-null float64\n",
      "primary_cleaner.output.concentrate_sol                19069 non-null float64\n",
      "primary_cleaner.output.concentrate_au                 19439 non-null float64\n",
      "primary_cleaner.output.tail_ag                        19435 non-null float64\n",
      "primary_cleaner.output.tail_pb                        19418 non-null float64\n",
      "primary_cleaner.output.tail_sol                       19377 non-null float64\n",
      "primary_cleaner.output.tail_au                        19439 non-null float64\n",
      "primary_cleaner.state.floatbank8_a_air                19435 non-null float64\n",
      "primary_cleaner.state.floatbank8_a_level              19438 non-null float64\n",
      "primary_cleaner.state.floatbank8_b_air                19435 non-null float64\n",
      "primary_cleaner.state.floatbank8_b_level              19438 non-null float64\n",
      "primary_cleaner.state.floatbank8_c_air                19437 non-null float64\n",
      "primary_cleaner.state.floatbank8_c_level              19438 non-null float64\n",
      "primary_cleaner.state.floatbank8_d_air                19436 non-null float64\n",
      "primary_cleaner.state.floatbank8_d_level              19438 non-null float64\n",
      "rougher.calculation.sulfate_to_au_concentrate         19437 non-null float64\n",
      "rougher.calculation.floatbank10_sulfate_to_au_feed    19437 non-null float64\n",
      "rougher.calculation.floatbank11_sulfate_to_au_feed    19437 non-null float64\n",
      "rougher.calculation.au_pb_ratio                       19439 non-null float64\n",
      "rougher.input.feed_ag                                 19439 non-null float64\n",
      "rougher.input.feed_pb                                 19339 non-null float64\n",
      "rougher.input.feed_rate                               19428 non-null float64\n",
      "rougher.input.feed_size                               19294 non-null float64\n",
      "rougher.input.feed_sol                                19340 non-null float64\n",
      "rougher.input.feed_au                                 19439 non-null float64\n",
      "rougher.input.floatbank10_sulfate                     19405 non-null float64\n",
      "rougher.input.floatbank10_xanthate                    19431 non-null float64\n",
      "rougher.input.floatbank11_sulfate                     19395 non-null float64\n",
      "rougher.input.floatbank11_xanthate                    18986 non-null float64\n",
      "rougher.output.concentrate_ag                         19439 non-null float64\n",
      "rougher.output.concentrate_pb                         19439 non-null float64\n",
      "rougher.output.concentrate_sol                        19416 non-null float64\n",
      "rougher.output.concentrate_au                         19439 non-null float64\n",
      "rougher.output.recovery                               19439 non-null float64\n",
      "rougher.output.tail_ag                                19438 non-null float64\n",
      "rougher.output.tail_pb                                19439 non-null float64\n",
      "rougher.output.tail_sol                               19439 non-null float64\n",
      "rougher.output.tail_au                                19439 non-null float64\n",
      "rougher.state.floatbank10_a_air                       19438 non-null float64\n",
      "rougher.state.floatbank10_a_level                     19438 non-null float64\n",
      "rougher.state.floatbank10_b_air                       19438 non-null float64\n",
      "rougher.state.floatbank10_b_level                     19438 non-null float64\n",
      "rougher.state.floatbank10_c_air                       19438 non-null float64\n",
      "rougher.state.floatbank10_c_level                     19438 non-null float64\n",
      "rougher.state.floatbank10_d_air                       19439 non-null float64\n",
      "rougher.state.floatbank10_d_level                     19439 non-null float64\n",
      "rougher.state.floatbank10_e_air                       19003 non-null float64\n",
      "rougher.state.floatbank10_e_level                     19439 non-null float64\n",
      "rougher.state.floatbank10_f_air                       19439 non-null float64\n",
      "rougher.state.floatbank10_f_level                     19439 non-null float64\n",
      "secondary_cleaner.output.tail_ag                      19437 non-null float64\n",
      "secondary_cleaner.output.tail_pb                      19427 non-null float64\n",
      "secondary_cleaner.output.tail_sol                     17691 non-null float64\n",
      "secondary_cleaner.output.tail_au                      19439 non-null float64\n",
      "secondary_cleaner.state.floatbank2_a_air              19219 non-null float64\n",
      "secondary_cleaner.state.floatbank2_a_level            19438 non-null float64\n",
      "secondary_cleaner.state.floatbank2_b_air              19416 non-null float64\n",
      "secondary_cleaner.state.floatbank2_b_level            19438 non-null float64\n",
      "secondary_cleaner.state.floatbank3_a_air              19426 non-null float64\n",
      "secondary_cleaner.state.floatbank3_a_level            19438 non-null float64\n",
      "secondary_cleaner.state.floatbank3_b_air              19438 non-null float64\n",
      "secondary_cleaner.state.floatbank3_b_level            19438 non-null float64\n",
      "secondary_cleaner.state.floatbank4_a_air              19433 non-null float64\n",
      "secondary_cleaner.state.floatbank4_a_level            19438 non-null float64\n",
      "secondary_cleaner.state.floatbank4_b_air              19438 non-null float64\n",
      "secondary_cleaner.state.floatbank4_b_level            19438 non-null float64\n",
      "secondary_cleaner.state.floatbank5_a_air              19438 non-null float64\n",
      "secondary_cleaner.state.floatbank5_a_level            19438 non-null float64\n",
      "secondary_cleaner.state.floatbank5_b_air              19438 non-null float64\n",
      "secondary_cleaner.state.floatbank5_b_level            19438 non-null float64\n",
      "secondary_cleaner.state.floatbank6_a_air              19437 non-null float64\n",
      "secondary_cleaner.state.floatbank6_a_level            19438 non-null float64\n",
      "dtypes: float64(86), object(1)\n",
      "memory usage: 12.9+ MB\n"
     ]
    }
   ],
   "source": [
    "data_full.info()"
   ]
  },
  {
   "cell_type": "code",
   "execution_count": 246,
   "metadata": {
    "scrolled": true
   },
   "outputs": [
    {
     "name": "stdout",
     "output_type": "stream",
     "text": [
      "<class 'pandas.core.frame.DataFrame'>\n",
      "RangeIndex: 5290 entries, 0 to 5289\n",
      "Data columns (total 53 columns):\n",
      "date                                          5290 non-null object\n",
      "primary_cleaner.input.sulfate                 5286 non-null float64\n",
      "primary_cleaner.input.depressant              5285 non-null float64\n",
      "primary_cleaner.input.feed_size               5290 non-null float64\n",
      "primary_cleaner.input.xanthate                5286 non-null float64\n",
      "primary_cleaner.state.floatbank8_a_air        5290 non-null float64\n",
      "primary_cleaner.state.floatbank8_a_level      5290 non-null float64\n",
      "primary_cleaner.state.floatbank8_b_air        5290 non-null float64\n",
      "primary_cleaner.state.floatbank8_b_level      5290 non-null float64\n",
      "primary_cleaner.state.floatbank8_c_air        5290 non-null float64\n",
      "primary_cleaner.state.floatbank8_c_level      5290 non-null float64\n",
      "primary_cleaner.state.floatbank8_d_air        5290 non-null float64\n",
      "primary_cleaner.state.floatbank8_d_level      5290 non-null float64\n",
      "rougher.input.feed_ag                         5290 non-null float64\n",
      "rougher.input.feed_pb                         5290 non-null float64\n",
      "rougher.input.feed_rate                       5287 non-null float64\n",
      "rougher.input.feed_size                       5289 non-null float64\n",
      "rougher.input.feed_sol                        5269 non-null float64\n",
      "rougher.input.feed_au                         5290 non-null float64\n",
      "rougher.input.floatbank10_sulfate             5285 non-null float64\n",
      "rougher.input.floatbank10_xanthate            5290 non-null float64\n",
      "rougher.input.floatbank11_sulfate             5282 non-null float64\n",
      "rougher.input.floatbank11_xanthate            5265 non-null float64\n",
      "rougher.state.floatbank10_a_air               5290 non-null float64\n",
      "rougher.state.floatbank10_a_level             5290 non-null float64\n",
      "rougher.state.floatbank10_b_air               5290 non-null float64\n",
      "rougher.state.floatbank10_b_level             5290 non-null float64\n",
      "rougher.state.floatbank10_c_air               5290 non-null float64\n",
      "rougher.state.floatbank10_c_level             5290 non-null float64\n",
      "rougher.state.floatbank10_d_air               5290 non-null float64\n",
      "rougher.state.floatbank10_d_level             5290 non-null float64\n",
      "rougher.state.floatbank10_e_air               5290 non-null float64\n",
      "rougher.state.floatbank10_e_level             5290 non-null float64\n",
      "rougher.state.floatbank10_f_air               5290 non-null float64\n",
      "rougher.state.floatbank10_f_level             5290 non-null float64\n",
      "secondary_cleaner.state.floatbank2_a_air      5287 non-null float64\n",
      "secondary_cleaner.state.floatbank2_a_level    5290 non-null float64\n",
      "secondary_cleaner.state.floatbank2_b_air      5288 non-null float64\n",
      "secondary_cleaner.state.floatbank2_b_level    5290 non-null float64\n",
      "secondary_cleaner.state.floatbank3_a_air      5281 non-null float64\n",
      "secondary_cleaner.state.floatbank3_a_level    5290 non-null float64\n",
      "secondary_cleaner.state.floatbank3_b_air      5290 non-null float64\n",
      "secondary_cleaner.state.floatbank3_b_level    5290 non-null float64\n",
      "secondary_cleaner.state.floatbank4_a_air      5290 non-null float64\n",
      "secondary_cleaner.state.floatbank4_a_level    5290 non-null float64\n",
      "secondary_cleaner.state.floatbank4_b_air      5290 non-null float64\n",
      "secondary_cleaner.state.floatbank4_b_level    5290 non-null float64\n",
      "secondary_cleaner.state.floatbank5_a_air      5290 non-null float64\n",
      "secondary_cleaner.state.floatbank5_a_level    5290 non-null float64\n",
      "secondary_cleaner.state.floatbank5_b_air      5290 non-null float64\n",
      "secondary_cleaner.state.floatbank5_b_level    5290 non-null float64\n",
      "secondary_cleaner.state.floatbank6_a_air      5290 non-null float64\n",
      "secondary_cleaner.state.floatbank6_a_level    5290 non-null float64\n",
      "dtypes: float64(52), object(1)\n",
      "memory usage: 2.1+ MB\n"
     ]
    }
   ],
   "source": [
    "data_test.info()"
   ]
  },
  {
   "cell_type": "code",
   "execution_count": 247,
   "metadata": {
    "scrolled": true
   },
   "outputs": [
    {
     "name": "stdout",
     "output_type": "stream",
     "text": [
      "<class 'pandas.core.frame.DataFrame'>\n",
      "RangeIndex: 14149 entries, 0 to 14148\n",
      "Data columns (total 87 columns):\n",
      "date                                                  14149 non-null object\n",
      "final.output.concentrate_ag                           14148 non-null float64\n",
      "final.output.concentrate_pb                           14148 non-null float64\n",
      "final.output.concentrate_sol                          13938 non-null float64\n",
      "final.output.concentrate_au                           14149 non-null float64\n",
      "final.output.recovery                                 14149 non-null float64\n",
      "final.output.tail_ag                                  14149 non-null float64\n",
      "final.output.tail_pb                                  14049 non-null float64\n",
      "final.output.tail_sol                                 14144 non-null float64\n",
      "final.output.tail_au                                  14149 non-null float64\n",
      "primary_cleaner.input.sulfate                         14129 non-null float64\n",
      "primary_cleaner.input.depressant                      14117 non-null float64\n",
      "primary_cleaner.input.feed_size                       14149 non-null float64\n",
      "primary_cleaner.input.xanthate                        14049 non-null float64\n",
      "primary_cleaner.output.concentrate_ag                 14149 non-null float64\n",
      "primary_cleaner.output.concentrate_pb                 14063 non-null float64\n",
      "primary_cleaner.output.concentrate_sol                13863 non-null float64\n",
      "primary_cleaner.output.concentrate_au                 14149 non-null float64\n",
      "primary_cleaner.output.tail_ag                        14148 non-null float64\n",
      "primary_cleaner.output.tail_pb                        14134 non-null float64\n",
      "primary_cleaner.output.tail_sol                       14103 non-null float64\n",
      "primary_cleaner.output.tail_au                        14149 non-null float64\n",
      "primary_cleaner.state.floatbank8_a_air                14145 non-null float64\n",
      "primary_cleaner.state.floatbank8_a_level              14148 non-null float64\n",
      "primary_cleaner.state.floatbank8_b_air                14145 non-null float64\n",
      "primary_cleaner.state.floatbank8_b_level              14148 non-null float64\n",
      "primary_cleaner.state.floatbank8_c_air                14147 non-null float64\n",
      "primary_cleaner.state.floatbank8_c_level              14148 non-null float64\n",
      "primary_cleaner.state.floatbank8_d_air                14146 non-null float64\n",
      "primary_cleaner.state.floatbank8_d_level              14148 non-null float64\n",
      "rougher.calculation.sulfate_to_au_concentrate         14148 non-null float64\n",
      "rougher.calculation.floatbank10_sulfate_to_au_feed    14148 non-null float64\n",
      "rougher.calculation.floatbank11_sulfate_to_au_feed    14148 non-null float64\n",
      "rougher.calculation.au_pb_ratio                       14149 non-null float64\n",
      "rougher.input.feed_ag                                 14149 non-null float64\n",
      "rougher.input.feed_pb                                 14049 non-null float64\n",
      "rougher.input.feed_rate                               14141 non-null float64\n",
      "rougher.input.feed_size                               14005 non-null float64\n",
      "rougher.input.feed_sol                                14071 non-null float64\n",
      "rougher.input.feed_au                                 14149 non-null float64\n",
      "rougher.input.floatbank10_sulfate                     14120 non-null float64\n",
      "rougher.input.floatbank10_xanthate                    14141 non-null float64\n",
      "rougher.input.floatbank11_sulfate                     14113 non-null float64\n",
      "rougher.input.floatbank11_xanthate                    13721 non-null float64\n",
      "rougher.output.concentrate_ag                         14149 non-null float64\n",
      "rougher.output.concentrate_pb                         14149 non-null float64\n",
      "rougher.output.concentrate_sol                        14127 non-null float64\n",
      "rougher.output.concentrate_au                         14149 non-null float64\n",
      "rougher.output.recovery                               14149 non-null float64\n",
      "rougher.output.tail_ag                                14148 non-null float64\n",
      "rougher.output.tail_pb                                14149 non-null float64\n",
      "rougher.output.tail_sol                               14149 non-null float64\n",
      "rougher.output.tail_au                                14149 non-null float64\n",
      "rougher.state.floatbank10_a_air                       14148 non-null float64\n",
      "rougher.state.floatbank10_a_level                     14148 non-null float64\n",
      "rougher.state.floatbank10_b_air                       14148 non-null float64\n",
      "rougher.state.floatbank10_b_level                     14148 non-null float64\n",
      "rougher.state.floatbank10_c_air                       14148 non-null float64\n",
      "rougher.state.floatbank10_c_level                     14148 non-null float64\n",
      "rougher.state.floatbank10_d_air                       14149 non-null float64\n",
      "rougher.state.floatbank10_d_level                     14149 non-null float64\n",
      "rougher.state.floatbank10_e_air                       13713 non-null float64\n",
      "rougher.state.floatbank10_e_level                     14149 non-null float64\n",
      "rougher.state.floatbank10_f_air                       14149 non-null float64\n",
      "rougher.state.floatbank10_f_level                     14149 non-null float64\n",
      "secondary_cleaner.output.tail_ag                      14147 non-null float64\n",
      "secondary_cleaner.output.tail_pb                      14139 non-null float64\n",
      "secondary_cleaner.output.tail_sol                     12544 non-null float64\n",
      "secondary_cleaner.output.tail_au                      14149 non-null float64\n",
      "secondary_cleaner.state.floatbank2_a_air              13932 non-null float64\n",
      "secondary_cleaner.state.floatbank2_a_level            14148 non-null float64\n",
      "secondary_cleaner.state.floatbank2_b_air              14128 non-null float64\n",
      "secondary_cleaner.state.floatbank2_b_level            14148 non-null float64\n",
      "secondary_cleaner.state.floatbank3_a_air              14145 non-null float64\n",
      "secondary_cleaner.state.floatbank3_a_level            14148 non-null float64\n",
      "secondary_cleaner.state.floatbank3_b_air              14148 non-null float64\n",
      "secondary_cleaner.state.floatbank3_b_level            14148 non-null float64\n",
      "secondary_cleaner.state.floatbank4_a_air              14143 non-null float64\n",
      "secondary_cleaner.state.floatbank4_a_level            14148 non-null float64\n",
      "secondary_cleaner.state.floatbank4_b_air              14148 non-null float64\n",
      "secondary_cleaner.state.floatbank4_b_level            14148 non-null float64\n",
      "secondary_cleaner.state.floatbank5_a_air              14148 non-null float64\n",
      "secondary_cleaner.state.floatbank5_a_level            14148 non-null float64\n",
      "secondary_cleaner.state.floatbank5_b_air              14148 non-null float64\n",
      "secondary_cleaner.state.floatbank5_b_level            14148 non-null float64\n",
      "secondary_cleaner.state.floatbank6_a_air              14147 non-null float64\n",
      "secondary_cleaner.state.floatbank6_a_level            14148 non-null float64\n",
      "dtypes: float64(86), object(1)\n",
      "memory usage: 9.4+ MB\n"
     ]
    }
   ],
   "source": [
    "data_train.info()"
   ]
  },
  {
   "cell_type": "markdown",
   "metadata": {},
   "source": [
    "Есть незначительные пропуски в некоторых столбцах"
   ]
  },
  {
   "cell_type": "markdown",
   "metadata": {},
   "source": [
    "### Описание данных\n",
    "- Технологический процесс\n",
    "\n",
    "  - Rougher feed — исходное сырье\n",
    "  - Rougher additions (или reagent additions) — флотационные реагенты: Xanthate, Sulphate, Depressant\n",
    "  - Xanthate **— ксантогенат (промотер, или активатор флотации);\n",
    "  - Sulphate — сульфат (на данном производстве сульфид натрия);\n",
    "  - Depressant — депрессант (силикат натрия).\n",
    "  - Rougher process — флотация\n",
    "  - Rougher tails — отвальные хвосты\n",
    "  - Float banks — флотационная установка\n",
    "  - Cleaner process — очистка\n",
    "  - Rougher Au — черновой концентрат золота\n",
    "  - Final Au — финальный концентрат золота\n",
    "- Параметры этапов\n",
    "\n",
    "  - air amount — объём воздуха\n",
    "  - fluid levels — уровень жидкости\n",
    "  - feed size — размер гранул сырья\n",
    "  - feed rate — скорость подачи\n",
    "- Наименование признаков\n",
    "\n",
    "[этап].[тип_параметра].[название_параметра]\n",
    "\n",
    "- Возможные значения для блока [этап]:\n",
    "\n",
    "  - rougher — флотация\n",
    "  - primary_cleaner — первичная очистка\n",
    "  - secondary_cleaner — вторичная очистка\n",
    "  - final — финальные характеристики\n",
    "- Возможные значения для блока [тип_параметра]:\n",
    "  - input — параметры сырья\n",
    "  - output — параметры продукта\n",
    "  - state — параметры, характеризующие текущее состояние этапа\n",
    "  - calculation — расчётные характеристики"
   ]
  },
  {
   "cell_type": "markdown",
   "metadata": {},
   "source": [
    "Установим дату как индекс"
   ]
  },
  {
   "cell_type": "code",
   "execution_count": 248,
   "metadata": {},
   "outputs": [],
   "source": [
    "data_full.set_index('date', inplace=True)\n",
    "data_train.set_index('date', inplace=True)\n",
    "data_test.set_index('date', inplace=True)"
   ]
  },
  {
   "cell_type": "markdown",
   "metadata": {},
   "source": [
    "### Проверим, что эффективность обогащения рассчитана правильно.\n",
    "\n",
    "Вычислим её на обучающей выборке для признака rougher.output.recovery."
   ]
  },
  {
   "cell_type": "code",
   "execution_count": 249,
   "metadata": {},
   "outputs": [],
   "source": [
    "def recovery(C, F, T):\n",
    "    '''Returns recovery value in percents.'''\n",
    "    return ((C * (F - T)) / (F * (C - T))) * 100"
   ]
  },
  {
   "cell_type": "markdown",
   "metadata": {},
   "source": [
    "Перед расчётом МАЕ удалим пропущенные значения в столбце 'final.output.recovery' (не меняя исходный датасет)"
   ]
  },
  {
   "cell_type": "code",
   "execution_count": 250,
   "metadata": {},
   "outputs": [],
   "source": [
    "data_train_mae = data_train[~data_train['final.output.recovery'].isna()]"
   ]
  },
  {
   "cell_type": "code",
   "execution_count": 251,
   "metadata": {
    "scrolled": true
   },
   "outputs": [
    {
     "data": {
      "text/plain": [
       "date\n",
       "2016-01-15 00:00:00    0.000000e+00\n",
       "2016-01-15 01:00:00   -1.421085e-14\n",
       "2016-01-15 02:00:00    4.263256e-14\n",
       "2016-01-15 03:00:00    1.421085e-14\n",
       "2016-01-15 04:00:00    0.000000e+00\n",
       "                           ...     \n",
       "2018-08-18 06:59:59    0.000000e+00\n",
       "2018-08-18 07:59:59   -1.421085e-14\n",
       "2018-08-18 08:59:59    0.000000e+00\n",
       "2018-08-18 09:59:59    0.000000e+00\n",
       "2018-08-18 10:59:59   -1.421085e-14\n",
       "Length: 14149, dtype: float64"
      ]
     },
     "execution_count": 251,
     "metadata": {},
     "output_type": "execute_result"
    }
   ],
   "source": [
    "au_recovery = recovery(data_train_mae['final.output.concentrate_au'], data_train_mae['rougher.input.feed_au'], data_train_mae['final.output.tail_au'])\n",
    "data_train_mae['final.output.recovery'] - au_recovery"
   ]
  },
  {
   "cell_type": "code",
   "execution_count": 252,
   "metadata": {
    "scrolled": true
   },
   "outputs": [
    {
     "name": "stdout",
     "output_type": "stream",
     "text": [
      "MAE: 8.65056685396196e-15\n"
     ]
    }
   ],
   "source": [
    "print(f\"MAE: {metrics.mean_absolute_error(data_train_mae['final.output.recovery'], au_recovery)}\")"
   ]
  },
  {
   "cell_type": "markdown",
   "metadata": {},
   "source": [
    "Результаты нашего вычисления и данных в выборке соответствуют с точностью до погрешности вычисления чисел с плавающей точкой."
   ]
  },
  {
   "cell_type": "markdown",
   "metadata": {},
   "source": [
    "Учтём, что по времени данные очень близки и заменим пропуски предыдущим значением\n",
    "\n"
   ]
  },
  {
   "cell_type": "code",
   "execution_count": 253,
   "metadata": {},
   "outputs": [],
   "source": [
    "def clear_nan(data):\n",
    "    if data.isna().sum() == 0:\n",
    "        return\n",
    "    for i in range(1,len(data)):\n",
    "        if np.isnan(data.iloc[i]):\n",
    "            data.iloc[i] = data.iloc[i-1]\n",
    "    if data.isna().sum() !=0:\n",
    "        raise RuntimeError(f\"Something goes wrong! {data.isna().sum()} values haven't fixed!\")"
   ]
  },
  {
   "cell_type": "code",
   "execution_count": 254,
   "metadata": {
    "scrolled": false
   },
   "outputs": [
    {
     "name": "stdout",
     "output_type": "stream",
     "text": [
      "100% done\n",
      "Calculating has finished\n"
     ]
    }
   ],
   "source": [
    "datas = [data_train, data_full]\n",
    "for data, i in zip(datas, range(len(datas))):\n",
    "    iterate_columns = data.columns.tolist()\n",
    "    if 'rougher.output.recovery' in iterate_columns:\n",
    "        iterate_columns.remove('rougher.output.recovery')\n",
    "    if 'final.output.recovery' in iterate_columns:\n",
    "        iterate_columns.remove('final.output.recovery')\n",
    "    for clmn, j in zip(iterate_columns, range(len(iterate_columns))):\n",
    "        clear_nan(data[clmn])\n",
    "        clear_output(wait=True)\n",
    "        print(f'{(((j+1)/len(iterate_columns))/(len(datas)-i))*100:.0f}% done')\n",
    "        \n",
    "print('Calculating has finished')"
   ]
  },
  {
   "cell_type": "markdown",
   "metadata": {},
   "source": [
    "Обработаем пропуски в столбце 'final.output.recovery'"
   ]
  },
  {
   "cell_type": "code",
   "execution_count": 255,
   "metadata": {},
   "outputs": [
    {
     "name": "stdout",
     "output_type": "stream",
     "text": [
      "Заменили    0 значений в столбце эффективности обогащения на рассчитанные на этапе флотации\n",
      "Заменили    0 значений в столбце эффективности обогащения на рассчитанные на этапе очистки\n"
     ]
    }
   ],
   "source": [
    "missed_count_before = data_train['rougher.output.recovery'].isna().sum()\n",
    "data_train['rougher.output.recovery'] = recovery(data_train['rougher.output.concentrate_au'], data_train['rougher.input.feed_au'], data_train['rougher.output.tail_au'])\n",
    "print(f\"Заменили {missed_count_before - data_train['rougher.output.recovery'].isna().sum():4d} значений в столбце эффективности обогащения на рассчитанные на этапе флотации\")\n",
    "\n",
    "missed_count_before = data_train['final.output.recovery'].isna().sum()\n",
    "print(f\"Заменили {missed_count_before - data_train['final.output.recovery'].isna().sum():4d} значений в столбце эффективности обогащения на рассчитанные на этапе очистки\")\n",
    "data_train['final.output.recovery'] = recovery(data_train['final.output.concentrate_au'], data_train['rougher.input.feed_au'], data_train['final.output.tail_au'])"
   ]
  },
  {
   "cell_type": "markdown",
   "metadata": {},
   "source": [
    "Удалим строки с оставшимися пропусками"
   ]
  },
  {
   "cell_type": "code",
   "execution_count": 256,
   "metadata": {},
   "outputs": [
    {
     "name": "stdout",
     "output_type": "stream",
     "text": [
      "61 of all 5290 or 1.15% has deleted\n"
     ]
    }
   ],
   "source": [
    "before = data_test.shape[0]\n",
    "for clmn in data_test.columns:\n",
    "    data_test = data_test[~data_test[clmn].isna()]\n",
    "print(f'{before - data_test.shape[0]} of all {before} or {((before - data_test.shape[0])/before)*100:.2f}% has deleted')"
   ]
  },
  {
   "cell_type": "markdown",
   "metadata": {},
   "source": [
    "Проанализируем признаки которых нет в тестовой выборке"
   ]
  },
  {
   "cell_type": "code",
   "execution_count": 257,
   "metadata": {},
   "outputs": [
    {
     "name": "stdout",
     "output_type": "stream",
     "text": [
      "<class 'pandas.core.frame.DataFrame'>\n",
      "Index: 14149 entries, 2016-01-15 00:00:00 to 2018-08-18 10:59:59\n",
      "Data columns (total 34 columns):\n",
      "final.output.concentrate_ag                           14149 non-null float64\n",
      "final.output.concentrate_au                           14149 non-null float64\n",
      "final.output.concentrate_pb                           14149 non-null float64\n",
      "final.output.concentrate_sol                          14149 non-null float64\n",
      "final.output.recovery                                 14149 non-null float64\n",
      "final.output.tail_ag                                  14149 non-null float64\n",
      "final.output.tail_au                                  14149 non-null float64\n",
      "final.output.tail_pb                                  14149 non-null float64\n",
      "final.output.tail_sol                                 14149 non-null float64\n",
      "primary_cleaner.output.concentrate_ag                 14149 non-null float64\n",
      "primary_cleaner.output.concentrate_au                 14149 non-null float64\n",
      "primary_cleaner.output.concentrate_pb                 14149 non-null float64\n",
      "primary_cleaner.output.concentrate_sol                14149 non-null float64\n",
      "primary_cleaner.output.tail_ag                        14149 non-null float64\n",
      "primary_cleaner.output.tail_au                        14149 non-null float64\n",
      "primary_cleaner.output.tail_pb                        14149 non-null float64\n",
      "primary_cleaner.output.tail_sol                       14149 non-null float64\n",
      "rougher.calculation.au_pb_ratio                       14149 non-null float64\n",
      "rougher.calculation.floatbank10_sulfate_to_au_feed    14149 non-null float64\n",
      "rougher.calculation.floatbank11_sulfate_to_au_feed    14149 non-null float64\n",
      "rougher.calculation.sulfate_to_au_concentrate         14149 non-null float64\n",
      "rougher.output.concentrate_ag                         14149 non-null float64\n",
      "rougher.output.concentrate_au                         14149 non-null float64\n",
      "rougher.output.concentrate_pb                         14149 non-null float64\n",
      "rougher.output.concentrate_sol                        14149 non-null float64\n",
      "rougher.output.recovery                               14149 non-null float64\n",
      "rougher.output.tail_ag                                14149 non-null float64\n",
      "rougher.output.tail_au                                14149 non-null float64\n",
      "rougher.output.tail_pb                                14149 non-null float64\n",
      "rougher.output.tail_sol                               14149 non-null float64\n",
      "secondary_cleaner.output.tail_ag                      14149 non-null float64\n",
      "secondary_cleaner.output.tail_au                      14149 non-null float64\n",
      "secondary_cleaner.output.tail_pb                      14149 non-null float64\n",
      "secondary_cleaner.output.tail_sol                     14149 non-null float64\n",
      "dtypes: float64(34)\n",
      "memory usage: 3.8+ MB\n"
     ]
    }
   ],
   "source": [
    "columns_absent_in_train = list(set(data_train.columns) - set(data_test.columns))\n",
    "data_train.loc[:,sorted(columns_absent_in_train)].info()"
   ]
  },
  {
   "cell_type": "markdown",
   "metadata": {},
   "source": [
    "Можем сделать вывод, что у нас в тестовой выборке отсутствуют данные по содержанию полезных ископаемых на всех этапах очистки руды в концентрате и в отвальных хвостах."
   ]
  },
  {
   "cell_type": "markdown",
   "metadata": {},
   "source": [
    "### Вывод\n",
    "- Обнаруженные пропуски в данных обработали (рассчитали из имеющихся данных или удалили)\n",
    "- Проверили что в обучающей выборке эффективность обогащения посчитана верно\n",
    "- Обнаружено, что в тестовой выборки отсутствуют данные по концетрации полезных ископаемых на всех этапах обработки руды"
   ]
  },
  {
   "cell_type": "markdown",
   "metadata": {},
   "source": [
    "## Анализ данных"
   ]
  },
  {
   "cell_type": "markdown",
   "metadata": {},
   "source": [
    "### Концентрация металлов (Au, Ag, Pb) на различных этапах очистки\n",
    "Посмотрим как меняется концентрация металлов (Au, Ag, Pb) на различных этапах очистки"
   ]
  },
  {
   "cell_type": "code",
   "execution_count": 258,
   "metadata": {},
   "outputs": [],
   "source": [
    "ag_concentrate_columns = ['rougher.output.concentrate_ag', 'primary_cleaner.output.concentrate_ag', 'final.output.concentrate_ag']\n",
    "au_concentrate_columns = ['rougher.output.concentrate_au', 'primary_cleaner.output.concentrate_au', 'final.output.concentrate_au']\n",
    "pb_concentrate_columns = ['rougher.output.concentrate_pb', 'primary_cleaner.output.concentrate_pb', 'final.output.concentrate_pb']"
   ]
  },
  {
   "cell_type": "code",
   "execution_count": 259,
   "metadata": {
    "scrolled": true
   },
   "outputs": [
    {
     "data": {
      "image/png": "[encoded data removed]",
      "text/plain": [
       "<Figure size 864x1080 with 3 Axes>"
      ]
     },
     "metadata": {
      "needs_background": "light"
     },
     "output_type": "display_data"
    }
   ],
   "source": [
    "ALPHA = 0.7\n",
    "BINS  = range(100)\n",
    "COLORS = ['aqua', 'darkviolet', 'forestgreen']\n",
    "\n",
    "fig, ax = plt.subplots(3, 1)\n",
    "fig.set_size_inches(12, 15)\n",
    "ax[0].set_title(f\"Concentrate of metals\", fontsize=16)\n",
    "\n",
    "patches = []\n",
    "for clmn, color in zip(au_concentrate_columns, COLORS):\n",
    "    ax[0].hist(data_full[clmn], density=True, color=color, bins=BINS, alpha=ALPHA)\n",
    "    patches.append(mpatches.Patch(color=color, label=clmn.split('.')[0]))\n",
    "ax[0].grid(True)\n",
    "ax[0].set_xlabel(f\"Au\", fontsize=14)\n",
    "ax[0].set_ylabel('Count', fontsize=14)\n",
    "ax[0].legend(handles=patches, loc='upper right')\n",
    "\n",
    "for clmn, color in zip(ag_concentrate_columns, COLORS):\n",
    "    ax[1].hist(data_full[clmn], density=True, color=color, bins=BINS, alpha=ALPHA)\n",
    "ax[1].grid(True)\n",
    "ax[1].set_xlabel(f\"Ag\", fontsize=14)\n",
    "ax[1].set_ylabel('Count', fontsize=14)\n",
    "ax[1].legend(handles=patches, loc='upper right')\n",
    "\n",
    "for clmn, color in zip(pb_concentrate_columns, COLORS):\n",
    "    ax[2].hist(data_full[clmn], density=True, color=color, bins=BINS, alpha=ALPHA)\n",
    "ax[2].grid(True)\n",
    "ax[2].set_xlabel(f\"Pb\", fontsize=14)\n",
    "ax[2].set_ylabel('Count', fontsize=14)\n",
    "ax[2].legend(handles=patches, loc='upper right')\n",
    "\n",
    "plt.subplots_adjust(hspace=0.25)\n",
    "plt.show()"
   ]
  },
  {
   "cell_type": "markdown",
   "metadata": {},
   "source": [
    "Заметим выбросы в виде нулевых значений концентрации на различных этапах."
   ]
  },
  {
   "cell_type": "markdown",
   "metadata": {},
   "source": [
    "Au - золото"
   ]
  },
  {
   "cell_type": "code",
   "execution_count": 260,
   "metadata": {
    "scrolled": false
   },
   "outputs": [
    {
     "data": {
      "text/html": [
       "<div>\n",
       "<style scoped>\n",
       "    .dataframe tbody tr th:only-of-type {\n",
       "        vertical-align: middle;\n",
       "    }\n",
       "\n",
       "    .dataframe tbody tr th {\n",
       "        vertical-align: top;\n",
       "    }\n",
       "\n",
       "    .dataframe thead th {\n",
       "        text-align: right;\n",
       "    }\n",
       "</style>\n",
       "<table border=\"1\" class=\"dataframe\">\n",
       "  <thead>\n",
       "    <tr style=\"text-align: right;\">\n",
       "      <th></th>\n",
       "      <th>rougher.output.concentrate_au</th>\n",
       "      <th>primary_cleaner.output.concentrate_au</th>\n",
       "      <th>final.output.concentrate_au</th>\n",
       "    </tr>\n",
       "  </thead>\n",
       "  <tbody>\n",
       "    <tr>\n",
       "      <td>count</td>\n",
       "      <td>19439.000000</td>\n",
       "      <td>19439.000000</td>\n",
       "      <td>19439.000000</td>\n",
       "    </tr>\n",
       "    <tr>\n",
       "      <td>mean</td>\n",
       "      <td>19.772000</td>\n",
       "      <td>32.119400</td>\n",
       "      <td>44.076513</td>\n",
       "    </tr>\n",
       "    <tr>\n",
       "      <td>std</td>\n",
       "      <td>3.753600</td>\n",
       "      <td>5.627611</td>\n",
       "      <td>5.129784</td>\n",
       "    </tr>\n",
       "    <tr>\n",
       "      <td>min</td>\n",
       "      <td>0.000000</td>\n",
       "      <td>0.000000</td>\n",
       "      <td>0.000000</td>\n",
       "    </tr>\n",
       "    <tr>\n",
       "      <td>25%</td>\n",
       "      <td>18.802523</td>\n",
       "      <td>30.463140</td>\n",
       "      <td>43.402215</td>\n",
       "    </tr>\n",
       "    <tr>\n",
       "      <td>50%</td>\n",
       "      <td>20.280214</td>\n",
       "      <td>32.841295</td>\n",
       "      <td>45.011244</td>\n",
       "    </tr>\n",
       "    <tr>\n",
       "      <td>75%</td>\n",
       "      <td>21.717843</td>\n",
       "      <td>35.048006</td>\n",
       "      <td>46.275313</td>\n",
       "    </tr>\n",
       "    <tr>\n",
       "      <td>max</td>\n",
       "      <td>28.824507</td>\n",
       "      <td>45.933934</td>\n",
       "      <td>52.756638</td>\n",
       "    </tr>\n",
       "  </tbody>\n",
       "</table>\n",
       "</div>"
      ],
      "text/plain": [
       "       rougher.output.concentrate_au  primary_cleaner.output.concentrate_au  \\\n",
       "count                   19439.000000                           19439.000000   \n",
       "mean                       19.772000                              32.119400   \n",
       "std                         3.753600                               5.627611   \n",
       "min                         0.000000                               0.000000   \n",
       "25%                        18.802523                              30.463140   \n",
       "50%                        20.280214                              32.841295   \n",
       "75%                        21.717843                              35.048006   \n",
       "max                        28.824507                              45.933934   \n",
       "\n",
       "       final.output.concentrate_au  \n",
       "count                 19439.000000  \n",
       "mean                     44.076513  \n",
       "std                       5.129784  \n",
       "min                       0.000000  \n",
       "25%                      43.402215  \n",
       "50%                      45.011244  \n",
       "75%                      46.275313  \n",
       "max                      52.756638  "
      ]
     },
     "execution_count": 260,
     "metadata": {},
     "output_type": "execute_result"
    }
   ],
   "source": [
    "data_full.loc[:,au_concentrate_columns].describe()\n"
   ]
  },
  {
   "cell_type": "markdown",
   "metadata": {},
   "source": [
    "Ag - серебро"
   ]
  },
  {
   "cell_type": "code",
   "execution_count": 261,
   "metadata": {
    "scrolled": true
   },
   "outputs": [
    {
     "data": {
      "text/html": [
       "<div>\n",
       "<style scoped>\n",
       "    .dataframe tbody tr th:only-of-type {\n",
       "        vertical-align: middle;\n",
       "    }\n",
       "\n",
       "    .dataframe tbody tr th {\n",
       "        vertical-align: top;\n",
       "    }\n",
       "\n",
       "    .dataframe thead th {\n",
       "        text-align: right;\n",
       "    }\n",
       "</style>\n",
       "<table border=\"1\" class=\"dataframe\">\n",
       "  <thead>\n",
       "    <tr style=\"text-align: right;\">\n",
       "      <th></th>\n",
       "      <th>rougher.output.concentrate_ag</th>\n",
       "      <th>primary_cleaner.output.concentrate_ag</th>\n",
       "      <th>final.output.concentrate_ag</th>\n",
       "    </tr>\n",
       "  </thead>\n",
       "  <tbody>\n",
       "    <tr>\n",
       "      <td>count</td>\n",
       "      <td>19439.000000</td>\n",
       "      <td>19439.000000</td>\n",
       "      <td>19439.000000</td>\n",
       "    </tr>\n",
       "    <tr>\n",
       "      <td>mean</td>\n",
       "      <td>11.994759</td>\n",
       "      <td>8.442408</td>\n",
       "      <td>5.168387</td>\n",
       "    </tr>\n",
       "    <tr>\n",
       "      <td>std</td>\n",
       "      <td>2.733862</td>\n",
       "      <td>2.054465</td>\n",
       "      <td>1.372362</td>\n",
       "    </tr>\n",
       "    <tr>\n",
       "      <td>min</td>\n",
       "      <td>0.000000</td>\n",
       "      <td>0.000000</td>\n",
       "      <td>0.000000</td>\n",
       "    </tr>\n",
       "    <tr>\n",
       "      <td>25%</td>\n",
       "      <td>10.628337</td>\n",
       "      <td>7.263288</td>\n",
       "      <td>4.251000</td>\n",
       "    </tr>\n",
       "    <tr>\n",
       "      <td>50%</td>\n",
       "      <td>12.098115</td>\n",
       "      <td>8.507298</td>\n",
       "      <td>5.066039</td>\n",
       "    </tr>\n",
       "    <tr>\n",
       "      <td>75%</td>\n",
       "      <td>13.736996</td>\n",
       "      <td>9.809001</td>\n",
       "      <td>5.895401</td>\n",
       "    </tr>\n",
       "    <tr>\n",
       "      <td>max</td>\n",
       "      <td>24.480271</td>\n",
       "      <td>16.081632</td>\n",
       "      <td>16.001945</td>\n",
       "    </tr>\n",
       "  </tbody>\n",
       "</table>\n",
       "</div>"
      ],
      "text/plain": [
       "       rougher.output.concentrate_ag  primary_cleaner.output.concentrate_ag  \\\n",
       "count                   19439.000000                           19439.000000   \n",
       "mean                       11.994759                               8.442408   \n",
       "std                         2.733862                               2.054465   \n",
       "min                         0.000000                               0.000000   \n",
       "25%                        10.628337                               7.263288   \n",
       "50%                        12.098115                               8.507298   \n",
       "75%                        13.736996                               9.809001   \n",
       "max                        24.480271                              16.081632   \n",
       "\n",
       "       final.output.concentrate_ag  \n",
       "count                 19439.000000  \n",
       "mean                      5.168387  \n",
       "std                       1.372362  \n",
       "min                       0.000000  \n",
       "25%                       4.251000  \n",
       "50%                       5.066039  \n",
       "75%                       5.895401  \n",
       "max                      16.001945  "
      ]
     },
     "execution_count": 261,
     "metadata": {},
     "output_type": "execute_result"
    }
   ],
   "source": [
    "data_full.loc[:,ag_concentrate_columns].describe()"
   ]
  },
  {
   "cell_type": "markdown",
   "metadata": {},
   "source": [
    "Pb - свинец"
   ]
  },
  {
   "cell_type": "code",
   "execution_count": 262,
   "metadata": {
    "scrolled": true
   },
   "outputs": [
    {
     "data": {
      "text/html": [
       "<div>\n",
       "<style scoped>\n",
       "    .dataframe tbody tr th:only-of-type {\n",
       "        vertical-align: middle;\n",
       "    }\n",
       "\n",
       "    .dataframe tbody tr th {\n",
       "        vertical-align: top;\n",
       "    }\n",
       "\n",
       "    .dataframe thead th {\n",
       "        text-align: right;\n",
       "    }\n",
       "</style>\n",
       "<table border=\"1\" class=\"dataframe\">\n",
       "  <thead>\n",
       "    <tr style=\"text-align: right;\">\n",
       "      <th></th>\n",
       "      <th>rougher.output.concentrate_pb</th>\n",
       "      <th>primary_cleaner.output.concentrate_pb</th>\n",
       "      <th>final.output.concentrate_pb</th>\n",
       "    </tr>\n",
       "  </thead>\n",
       "  <tbody>\n",
       "    <tr>\n",
       "      <td>count</td>\n",
       "      <td>19439.000000</td>\n",
       "      <td>19439.000000</td>\n",
       "      <td>19439.000000</td>\n",
       "    </tr>\n",
       "    <tr>\n",
       "      <td>mean</td>\n",
       "      <td>7.606272</td>\n",
       "      <td>9.810317</td>\n",
       "      <td>9.978821</td>\n",
       "    </tr>\n",
       "    <tr>\n",
       "      <td>std</td>\n",
       "      <td>1.796757</td>\n",
       "      <td>2.572253</td>\n",
       "      <td>1.669228</td>\n",
       "    </tr>\n",
       "    <tr>\n",
       "      <td>min</td>\n",
       "      <td>0.000000</td>\n",
       "      <td>0.000000</td>\n",
       "      <td>0.000000</td>\n",
       "    </tr>\n",
       "    <tr>\n",
       "      <td>25%</td>\n",
       "      <td>6.725987</td>\n",
       "      <td>8.676500</td>\n",
       "      <td>9.137225</td>\n",
       "    </tr>\n",
       "    <tr>\n",
       "      <td>50%</td>\n",
       "      <td>7.742580</td>\n",
       "      <td>10.142270</td>\n",
       "      <td>10.102264</td>\n",
       "    </tr>\n",
       "    <tr>\n",
       "      <td>75%</td>\n",
       "      <td>8.565199</td>\n",
       "      <td>11.416298</td>\n",
       "      <td>11.035644</td>\n",
       "    </tr>\n",
       "    <tr>\n",
       "      <td>max</td>\n",
       "      <td>13.617072</td>\n",
       "      <td>17.081278</td>\n",
       "      <td>17.031899</td>\n",
       "    </tr>\n",
       "  </tbody>\n",
       "</table>\n",
       "</div>"
      ],
      "text/plain": [
       "       rougher.output.concentrate_pb  primary_cleaner.output.concentrate_pb  \\\n",
       "count                   19439.000000                           19439.000000   \n",
       "mean                        7.606272                               9.810317   \n",
       "std                         1.796757                               2.572253   \n",
       "min                         0.000000                               0.000000   \n",
       "25%                         6.725987                               8.676500   \n",
       "50%                         7.742580                              10.142270   \n",
       "75%                         8.565199                              11.416298   \n",
       "max                        13.617072                              17.081278   \n",
       "\n",
       "       final.output.concentrate_pb  \n",
       "count                 19439.000000  \n",
       "mean                      9.978821  \n",
       "std                       1.669228  \n",
       "min                       0.000000  \n",
       "25%                       9.137225  \n",
       "50%                      10.102264  \n",
       "75%                      11.035644  \n",
       "max                      17.031899  "
      ]
     },
     "execution_count": 262,
     "metadata": {},
     "output_type": "execute_result"
    }
   ],
   "source": [
    "data_full.loc[:,pb_concentrate_columns].describe()"
   ]
  },
  {
   "cell_type": "markdown",
   "metadata": {},
   "source": [
    "#### Вывод:\n",
    "- На каждом этапе очистки повышается доля содержания золота в руде\n",
    "- Доля серебра на каждом этапе немного уменьшается\n",
    "- Доля свинца после первого этапа очистки немного увеличивается, на втором этапе очистки почти не изменяется"
   ]
  },
  {
   "cell_type": "markdown",
   "metadata": {},
   "source": [
    "### Сравнение распределения размеров гранул сырья на обучающей и тестовой выборках"
   ]
  },
  {
   "cell_type": "code",
   "execution_count": 263,
   "metadata": {},
   "outputs": [],
   "source": [
    "feed_sizes = ['rougher.input.feed_size', 'primary_cleaner.input.feed_size']"
   ]
  },
  {
   "cell_type": "markdown",
   "metadata": {},
   "source": [
    "Размеры гранул сырья на обучающей выборке\n",
    "\n"
   ]
  },
  {
   "cell_type": "code",
   "execution_count": 264,
   "metadata": {},
   "outputs": [
    {
     "data": {
      "text/html": [
       "<div>\n",
       "<style scoped>\n",
       "    .dataframe tbody tr th:only-of-type {\n",
       "        vertical-align: middle;\n",
       "    }\n",
       "\n",
       "    .dataframe tbody tr th {\n",
       "        vertical-align: top;\n",
       "    }\n",
       "\n",
       "    .dataframe thead th {\n",
       "        text-align: right;\n",
       "    }\n",
       "</style>\n",
       "<table border=\"1\" class=\"dataframe\">\n",
       "  <thead>\n",
       "    <tr style=\"text-align: right;\">\n",
       "      <th></th>\n",
       "      <th>rougher.input.feed_size</th>\n",
       "      <th>primary_cleaner.input.feed_size</th>\n",
       "    </tr>\n",
       "  </thead>\n",
       "  <tbody>\n",
       "    <tr>\n",
       "      <td>count</td>\n",
       "      <td>14149.000000</td>\n",
       "      <td>14149.000000</td>\n",
       "    </tr>\n",
       "    <tr>\n",
       "      <td>mean</td>\n",
       "      <td>60.239856</td>\n",
       "      <td>7.322310</td>\n",
       "    </tr>\n",
       "    <tr>\n",
       "      <td>std</td>\n",
       "      <td>23.005310</td>\n",
       "      <td>0.614062</td>\n",
       "    </tr>\n",
       "    <tr>\n",
       "      <td>min</td>\n",
       "      <td>9.659576</td>\n",
       "      <td>1.080000</td>\n",
       "    </tr>\n",
       "    <tr>\n",
       "      <td>25%</td>\n",
       "      <td>48.966751</td>\n",
       "      <td>6.960000</td>\n",
       "    </tr>\n",
       "    <tr>\n",
       "      <td>50%</td>\n",
       "      <td>55.269784</td>\n",
       "      <td>7.290000</td>\n",
       "    </tr>\n",
       "    <tr>\n",
       "      <td>75%</td>\n",
       "      <td>66.007526</td>\n",
       "      <td>7.700000</td>\n",
       "    </tr>\n",
       "    <tr>\n",
       "      <td>max</td>\n",
       "      <td>484.967466</td>\n",
       "      <td>10.470000</td>\n",
       "    </tr>\n",
       "  </tbody>\n",
       "</table>\n",
       "</div>"
      ],
      "text/plain": [
       "       rougher.input.feed_size  primary_cleaner.input.feed_size\n",
       "count             14149.000000                     14149.000000\n",
       "mean                 60.239856                         7.322310\n",
       "std                  23.005310                         0.614062\n",
       "min                   9.659576                         1.080000\n",
       "25%                  48.966751                         6.960000\n",
       "50%                  55.269784                         7.290000\n",
       "75%                  66.007526                         7.700000\n",
       "max                 484.967466                        10.470000"
      ]
     },
     "execution_count": 264,
     "metadata": {},
     "output_type": "execute_result"
    }
   ],
   "source": [
    "data_train.loc[:,feed_sizes].describe()"
   ]
  },
  {
   "cell_type": "markdown",
   "metadata": {},
   "source": [
    "Размеры гранул сырья на тестовой выборке"
   ]
  },
  {
   "cell_type": "code",
   "execution_count": 265,
   "metadata": {},
   "outputs": [
    {
     "data": {
      "text/html": [
       "<div>\n",
       "<style scoped>\n",
       "    .dataframe tbody tr th:only-of-type {\n",
       "        vertical-align: middle;\n",
       "    }\n",
       "\n",
       "    .dataframe tbody tr th {\n",
       "        vertical-align: top;\n",
       "    }\n",
       "\n",
       "    .dataframe thead th {\n",
       "        text-align: right;\n",
       "    }\n",
       "</style>\n",
       "<table border=\"1\" class=\"dataframe\">\n",
       "  <thead>\n",
       "    <tr style=\"text-align: right;\">\n",
       "      <th></th>\n",
       "      <th>rougher.input.feed_size</th>\n",
       "      <th>primary_cleaner.input.feed_size</th>\n",
       "    </tr>\n",
       "  </thead>\n",
       "  <tbody>\n",
       "    <tr>\n",
       "      <td>count</td>\n",
       "      <td>5229.000000</td>\n",
       "      <td>5229.000000</td>\n",
       "    </tr>\n",
       "    <tr>\n",
       "      <td>mean</td>\n",
       "      <td>55.863978</td>\n",
       "      <td>7.271546</td>\n",
       "    </tr>\n",
       "    <tr>\n",
       "      <td>std</td>\n",
       "      <td>18.914656</td>\n",
       "      <td>0.605887</td>\n",
       "    </tr>\n",
       "    <tr>\n",
       "      <td>min</td>\n",
       "      <td>0.046369</td>\n",
       "      <td>5.650000</td>\n",
       "    </tr>\n",
       "    <tr>\n",
       "      <td>25%</td>\n",
       "      <td>43.911874</td>\n",
       "      <td>6.900000</td>\n",
       "    </tr>\n",
       "    <tr>\n",
       "      <td>50%</td>\n",
       "      <td>50.772729</td>\n",
       "      <td>7.250000</td>\n",
       "    </tr>\n",
       "    <tr>\n",
       "      <td>75%</td>\n",
       "      <td>62.265394</td>\n",
       "      <td>7.600000</td>\n",
       "    </tr>\n",
       "    <tr>\n",
       "      <td>max</td>\n",
       "      <td>392.494040</td>\n",
       "      <td>15.500000</td>\n",
       "    </tr>\n",
       "  </tbody>\n",
       "</table>\n",
       "</div>"
      ],
      "text/plain": [
       "       rougher.input.feed_size  primary_cleaner.input.feed_size\n",
       "count              5229.000000                      5229.000000\n",
       "mean                 55.863978                         7.271546\n",
       "std                  18.914656                         0.605887\n",
       "min                   0.046369                         5.650000\n",
       "25%                  43.911874                         6.900000\n",
       "50%                  50.772729                         7.250000\n",
       "75%                  62.265394                         7.600000\n",
       "max                 392.494040                        15.500000"
      ]
     },
     "execution_count": 265,
     "metadata": {},
     "output_type": "execute_result"
    }
   ],
   "source": [
    "data_test.loc[:,feed_sizes].describe()"
   ]
  },
  {
   "cell_type": "markdown",
   "metadata": {},
   "source": [
    "Построим сводный график распределения размеров гранулв в тренировочной и тестовой выборке"
   ]
  },
  {
   "cell_type": "code",
   "execution_count": 266,
   "metadata": {},
   "outputs": [
    {
     "name": "stderr",
     "output_type": "stream",
     "text": [
      "/opt/conda/lib/python3.7/site-packages/numpy/core/_asarray.py:83: VisibleDeprecationWarning: Creating an ndarray from ragged nested sequences (which is a list-or-tuple of lists-or-tuples-or ndarrays with different lengths or shapes) is deprecated. If you meant to do this, you must specify 'dtype=object' when creating the ndarray\n",
      "  return array(a, dtype, copy=False, order=order)\n",
      "/opt/conda/lib/python3.7/site-packages/numpy/core/_asarray.py:83: VisibleDeprecationWarning: Creating an ndarray from ragged nested sequences (which is a list-or-tuple of lists-or-tuples-or ndarrays with different lengths or shapes) is deprecated. If you meant to do this, you must specify 'dtype=object' when creating the ndarray\n",
      "  return array(a, dtype, copy=False, order=order)\n"
     ]
    },
    {
     "data": {
      "image/png": "[encoded data removed]",
      "text/plain": [
       "<Figure size 432x576 with 2 Axes>"
      ]
     },
     "metadata": {
      "needs_background": "light"
     },
     "output_type": "display_data"
    }
   ],
   "source": [
    "fig, ax = plt.subplots(1,2)\n",
    "fig.set_size_inches(6,8)\n",
    "fig.suptitle('Statistics of feed_size', fontsize=16)\n",
    "ax[0].set_ylabel('Size', fontsize=14)\n",
    "ax[0].set_xlabel('Rougher', fontsize=14)\n",
    "ax[0].boxplot([data_train['rougher.input.feed_size'], data_test['rougher.input.feed_size']], labels=['train','test'])\n",
    "ax[1].set_xlabel('Primary cleaner', fontsize=14)\n",
    "ax[1].boxplot([data_train['primary_cleaner.input.feed_size'], data_test['primary_cleaner.input.feed_size']], labels=['train','test'])\n",
    "plt.tight_layout()\n",
    "plt.show()"
   ]
  },
  {
   "cell_type": "markdown",
   "metadata": {},
   "source": [
    "Построим график распределения размеров гранул"
   ]
  },
  {
   "cell_type": "code",
   "execution_count": 267,
   "metadata": {},
   "outputs": [
    {
     "data": {
      "image/png": "[encoded data removed]",
      "text/plain": [
       "<Figure size 720x720 with 2 Axes>"
      ]
     },
     "metadata": {
      "needs_background": "light"
     },
     "output_type": "display_data"
    }
   ],
   "source": [
    "fig, ax = plt.subplots(2,1)\n",
    "fig.set_size_inches(10, 10)\n",
    "ax[0].set_title(f\"Feed size\", fontsize=16)\n",
    "green_patch = mpatches.Patch(color='green', label='Train data')\n",
    "red_patch = mpatches.Patch(color='red', label='Test data')\n",
    "ax[0].legend(handles=[red_patch, green_patch])\n",
    "\n",
    "for i, clmn in zip(range(len(feed_sizes)), feed_sizes):\n",
    "    ax[i].hist(data_train[clmn], bins=range(100), density=True, color='g', alpha=0.5)\n",
    "    ax[i].hist(data_test[clmn], bins=range(100), density=True, color='r', alpha=0.5)\n",
    "    ax[i].grid(True)\n",
    "    ax[i].set_xlabel(f\"After stage: {clmn.split('.')[0]}\", fontsize=14)\n",
    "    ax[i].set_ylabel('Count', fontsize=14)\n",
    "\n",
    "plt.subplots_adjust(hspace=0.25)\n",
    "plt.show()"
   ]
  },
  {
   "cell_type": "markdown",
   "metadata": {},
   "source": [
    "#### Вывод\n",
    "- Существенных отличий гранул сырья в обучающей и тестовой выборе не выявлено, но на графике распределения размеров гранул после флотации мы видим, что на тестовой выборке при средних значениях размеров гранул наблюдается аномально малое количество данных, что может повлиять на оценку качества модели на тестовой выборке.\n",
    "- Для более глубокого анализа необходимо провести проверку гипотезы об отличии гранул сырья\n",
    "\n"
   ]
  },
  {
   "cell_type": "markdown",
   "metadata": {},
   "source": [
    "### Суммарная концентрация всех веществ на разных стадиях"
   ]
  },
  {
   "cell_type": "code",
   "execution_count": 268,
   "metadata": {},
   "outputs": [],
   "source": [
    "def plot_sum_concentrate_hist(data=None, columns=None, bins=None):\n",
    "    '''Plot histogram of sum of selected columns.'''\n",
    "    fig, ax = plt.subplots(1,1)\n",
    "    fig.set_size_inches(10, 4)\n",
    "    \n",
    "    ax.set_title(f\"Concentrate of all minerals on stage: {columns[0].split('.')[0]}\", fontsize=16)\n",
    "    ax.hist(data[columns].sum(axis=1), bins=range(bins), color='forestgreen')\n",
    "    ax.grid(True)\n",
    "    ax.set_xlabel(\"Sum of minerals concentrate\", fontsize=14)\n",
    "    ax.set_ylabel('Count', fontsize=14)\n",
    "\n",
    "    plt.subplots_adjust(hspace=0.25)\n",
    "    plt.show()"
   ]
  },
  {
   "cell_type": "code",
   "execution_count": 269,
   "metadata": {},
   "outputs": [
    {
     "data": {
      "image/png": "[encoded data removed]",
      "text/plain": [
       "<Figure size 720x288 with 1 Axes>"
      ]
     },
     "metadata": {
      "needs_background": "light"
     },
     "output_type": "display_data"
    }
   ],
   "source": [
    "all_mineralls_concentrate_columns_rougher = ['rougher.output.concentrate_ag', 'rougher.output.concentrate_au', 'rougher.output.concentrate_pb', 'rougher.output.concentrate_sol']\n",
    "plot_sum_concentrate_hist(data_full, all_mineralls_concentrate_columns_rougher, 100)"
   ]
  },
  {
   "cell_type": "code",
   "execution_count": 270,
   "metadata": {
    "scrolled": true
   },
   "outputs": [
    {
     "data": {
      "image/png": "[encoded data removed]",
      "text/plain": [
       "<Figure size 720x288 with 1 Axes>"
      ]
     },
     "metadata": {
      "needs_background": "light"
     },
     "output_type": "display_data"
    }
   ],
   "source": [
    "all_mineralls_concentrate_columns_primary_cleaner = ['primary_cleaner.output.concentrate_ag', 'primary_cleaner.output.concentrate_au', 'primary_cleaner.output.concentrate_pb', 'primary_cleaner.output.concentrate_sol']\n",
    "plot_sum_concentrate_hist(data_full, all_mineralls_concentrate_columns_primary_cleaner, 100)"
   ]
  },
  {
   "cell_type": "code",
   "execution_count": 271,
   "metadata": {},
   "outputs": [
    {
     "data": {
      "image/png": "[encoded data removed]",
      "text/plain": [
       "<Figure size 720x288 with 1 Axes>"
      ]
     },
     "metadata": {
      "needs_background": "light"
     },
     "output_type": "display_data"
    }
   ],
   "source": [
    "all_mineralls_concentrate_columns_final = ['final.output.concentrate_ag', 'final.output.concentrate_au', 'final.output.concentrate_pb', 'final.output.concentrate_sol']\n",
    "plot_sum_concentrate_hist(data_full, all_mineralls_concentrate_columns_final, 100)"
   ]
  },
  {
   "cell_type": "markdown",
   "metadata": {},
   "source": [
    "Отфильтруем нули, я не эксперт в металлургии поэтому просто предположу что либо это потерянные/испорченные данные, либо какие-то аномалии при замерах и тд"
   ]
  },
  {
   "cell_type": "code",
   "execution_count": 272,
   "metadata": {},
   "outputs": [],
   "source": [
    "data_train_filter = ((data_train[['rougher.input.feed_au',\n",
    "                                'rougher.input.feed_sol',\n",
    "                                'rougher.input.feed_pb',\n",
    "                                'rougher.input.feed_ag']].sum(axis=1) > 10) &\n",
    "                    (data_train[['rougher.output.concentrate_au', \n",
    "                                'rougher.output.concentrate_sol',\n",
    "                                'rougher.output.concentrate_pb', \n",
    "                                'rougher.output.concentrate_ag']].sum(axis=1) > 10) &\n",
    "                    (data_train[['primary_cleaner.output.concentrate_au', \n",
    "                                'primary_cleaner.output.concentrate_sol',\n",
    "                                'primary_cleaner.output.concentrate_pb', \n",
    "                                'primary_cleaner.output.concentrate_ag']].sum(axis=1) > 10) &\n",
    "                    (data_train[['final.output.concentrate_au', \n",
    "                                'final.output.concentrate_sol',\n",
    "                                'final.output.concentrate_pb', \n",
    "                                'final.output.concentrate_ag']].sum(axis=1) > 10))\n",
    "\n",
    "data_train = data_train[data_train_filter]"
   ]
  },
  {
   "cell_type": "code",
   "execution_count": 273,
   "metadata": {},
   "outputs": [],
   "source": [
    "filter_full_data = ((data_full[['rougher.input.feed_au',\n",
    "                                'rougher.input.feed_sol',\n",
    "                                'rougher.input.feed_pb',\n",
    "                                'rougher.input.feed_ag']].sum(axis=1) > 10) &\n",
    "                    (data_full[['rougher.output.concentrate_au', \n",
    "                                'rougher.output.concentrate_sol',\n",
    "                                'rougher.output.concentrate_pb', \n",
    "                                'rougher.output.concentrate_ag']].sum(axis=1) > 10) &\n",
    "                    (data_full[['primary_cleaner.output.concentrate_au', \n",
    "                                'primary_cleaner.output.concentrate_sol',\n",
    "                                'primary_cleaner.output.concentrate_pb', \n",
    "                                'primary_cleaner.output.concentrate_ag']].sum(axis=1) > 10) &\n",
    "                    (data_full[['final.output.concentrate_au', \n",
    "                                'final.output.concentrate_sol',\n",
    "                                'final.output.concentrate_pb', \n",
    "                                'final.output.concentrate_ag']].sum(axis=1) > 10))\n",
    "\n",
    "data_full = data_full[filter_full_data]"
   ]
  },
  {
   "cell_type": "code",
   "execution_count": 274,
   "metadata": {},
   "outputs": [],
   "source": [
    "filter_test_data = ((data_test[['rougher.input.feed_au',\n",
    "                                'rougher.input.feed_sol',\n",
    "                                'rougher.input.feed_pb',\n",
    "                                'rougher.input.feed_ag']].sum(axis=1) > 10))\n",
    "data_test = data_test[filter_test_data]"
   ]
  },
  {
   "cell_type": "markdown",
   "metadata": {},
   "source": [
    "В качестве проверки повторим наши графики"
   ]
  },
  {
   "cell_type": "code",
   "execution_count": 275,
   "metadata": {},
   "outputs": [
    {
     "data": {
      "image/png": "[encoded data removed]",
      "text/plain": [
       "<Figure size 720x288 with 1 Axes>"
      ]
     },
     "metadata": {
      "needs_background": "light"
     },
     "output_type": "display_data"
    }
   ],
   "source": [
    "all_mineralls_concentrate_columns_rougher = ['rougher.output.concentrate_ag', 'rougher.output.concentrate_au', 'rougher.output.concentrate_pb', 'rougher.output.concentrate_sol']\n",
    "plot_sum_concentrate_hist(data_full, all_mineralls_concentrate_columns_rougher, 100)"
   ]
  },
  {
   "cell_type": "code",
   "execution_count": 276,
   "metadata": {},
   "outputs": [
    {
     "data": {
      "image/png": "[encoded data removed]",
      "text/plain": [
       "<Figure size 720x288 with 1 Axes>"
      ]
     },
     "metadata": {
      "needs_background": "light"
     },
     "output_type": "display_data"
    }
   ],
   "source": [
    "all_mineralls_concentrate_columns_primary_cleaner = ['primary_cleaner.output.concentrate_ag', 'primary_cleaner.output.concentrate_au', 'primary_cleaner.output.concentrate_pb', 'primary_cleaner.output.concentrate_sol']\n",
    "plot_sum_concentrate_hist(data_full, all_mineralls_concentrate_columns_primary_cleaner, 100)"
   ]
  },
  {
   "cell_type": "code",
   "execution_count": 277,
   "metadata": {},
   "outputs": [
    {
     "data": {
      "image/png": "[encoded data removed]",
      "text/plain": [
       "<Figure size 720x288 with 1 Axes>"
      ]
     },
     "metadata": {
      "needs_background": "light"
     },
     "output_type": "display_data"
    }
   ],
   "source": [
    "all_mineralls_concentrate_columns_final = ['final.output.concentrate_ag', 'final.output.concentrate_au', 'final.output.concentrate_pb', 'final.output.concentrate_sol']\n",
    "plot_sum_concentrate_hist(data_full, all_mineralls_concentrate_columns_final, 100)"
   ]
  },
  {
   "cell_type": "markdown",
   "metadata": {},
   "source": [
    "### Вывод: \n",
    "- При рассмотре суммарной концентрации были найдены аномалии - значения 0. Было решено удалить их (значения меньше 10). Для улучшения работы будущей модели"
   ]
  },
  {
   "cell_type": "markdown",
   "metadata": {},
   "source": [
    "## Модель"
   ]
  },
  {
   "cell_type": "markdown",
   "metadata": {},
   "source": [
    "### Вычисление метрики sMAPE\n",
    "Создадим функцию расчёта sMAPE для одного целевого признака и для комбинации двух целевых признаков"
   ]
  },
  {
   "cell_type": "code",
   "execution_count": 278,
   "metadata": {},
   "outputs": [],
   "source": [
    "# Первая функция для расчета sMape \n",
    "def smape(target, predictions):\n",
    "    score = ((sum((abs(target - predictions)) / ((abs(target) + abs(predictions)) / 2+0.000001))) / len(target)) * 100\n",
    "    return score\n",
    "# Функция для расчета итогового sMape    \n",
    "def smape_final(smape_rougher, smape_final):\n",
    "    return (0.25*smape_rougher + 0.75*smape_final)"
   ]
  },
  {
   "cell_type": "markdown",
   "metadata": {},
   "source": [
    "### Обучение и выбор модели после этапа флотации"
   ]
  },
  {
   "cell_type": "markdown",
   "metadata": {},
   "source": [
    "Разделим тренировочную выборку на признаки и целевые признаки\n",
    "\n",
    "Для обучения модели прогноза после этапа флотации используем только данные на этапе флотации, а для обучения модели прогноза на финальном этапе используем только данные после этапа флотации."
   ]
  },
  {
   "cell_type": "code",
   "execution_count": 279,
   "metadata": {},
   "outputs": [],
   "source": [
    "rougher_columns = list(filter(lambda x: 'rougher' in x, data_test.columns.tolist()))\n",
    "final_columns = list(set(data_test.columns)-set(rougher_columns))\n",
    "features_rough_train = np.array(data_train[rougher_columns])\n",
    "features_final_train = np.array(data_train[final_columns])\n",
    "target_rough_train = np.array(data_train['rougher.output.recovery'])\n",
    "target_final_train = np.array(data_train['final.output.recovery'])"
   ]
  },
  {
   "cell_type": "markdown",
   "metadata": {},
   "source": [
    "Проверим размер выборок"
   ]
  },
  {
   "cell_type": "code",
   "execution_count": 280,
   "metadata": {},
   "outputs": [
    {
     "data": {
      "text/plain": [
       "13570"
      ]
     },
     "execution_count": 280,
     "metadata": {},
     "output_type": "execute_result"
    }
   ],
   "source": [
    "features_rough_train.shape[0]"
   ]
  },
  {
   "cell_type": "code",
   "execution_count": 281,
   "metadata": {},
   "outputs": [
    {
     "data": {
      "text/plain": [
       "13570"
      ]
     },
     "execution_count": 281,
     "metadata": {},
     "output_type": "execute_result"
    }
   ],
   "source": [
    "features_final_train.shape[0]"
   ]
  },
  {
   "cell_type": "code",
   "execution_count": 282,
   "metadata": {},
   "outputs": [
    {
     "data": {
      "text/plain": [
       "13570"
      ]
     },
     "execution_count": 282,
     "metadata": {},
     "output_type": "execute_result"
    }
   ],
   "source": [
    "target_rough_train.shape[0]"
   ]
  },
  {
   "cell_type": "code",
   "execution_count": 283,
   "metadata": {},
   "outputs": [
    {
     "data": {
      "text/plain": [
       "13570"
      ]
     },
     "execution_count": 283,
     "metadata": {},
     "output_type": "execute_result"
    }
   ],
   "source": [
    "target_rough_train.shape[0]"
   ]
  },
  {
   "cell_type": "markdown",
   "metadata": {},
   "source": [
    "Попробуем модели для вычисления метрики sMAPE после этапа флотации"
   ]
  },
  {
   "cell_type": "markdown",
   "metadata": {},
   "source": [
    "####  LinearRegression"
   ]
  },
  {
   "cell_type": "code",
   "execution_count": 284,
   "metadata": {},
   "outputs": [
    {
     "name": "stdout",
     "output_type": "stream",
     "text": [
      "Средняя оценка качества модели LinearRegression: -6.675661800028351\n"
     ]
    }
   ],
   "source": [
    "sMAPE_scorer = make_scorer(smape, greater_is_better=False)\n",
    "model_reg = LinearRegression()\n",
    "scores = cross_val_score(model_reg, features_rough_train, target_rough_train, cv=5, scoring=sMAPE_scorer)\n",
    "final_score = sum(scores)/len(scores)\n",
    "print('Средняя оценка качества модели LinearRegression:', final_score)"
   ]
  },
  {
   "cell_type": "markdown",
   "metadata": {},
   "source": [
    "#### RandomForestRegressor"
   ]
  },
  {
   "cell_type": "markdown",
   "metadata": {},
   "source": [
    "Для модели RandomForestRegressor используем подбор параметров GridSearchCV"
   ]
  },
  {
   "cell_type": "code",
   "execution_count": 285,
   "metadata": {},
   "outputs": [
    {
     "data": {
      "text/plain": [
       "GridSearchCV(cv=5, error_score='raise-deprecating',\n",
       "             estimator=RandomForestRegressor(bootstrap=True, criterion='mse',\n",
       "                                             max_depth=None,\n",
       "                                             max_features='auto',\n",
       "                                             max_leaf_nodes=None,\n",
       "                                             min_impurity_decrease=0.0,\n",
       "                                             min_impurity_split=None,\n",
       "                                             min_samples_leaf=1,\n",
       "                                             min_samples_split=2,\n",
       "                                             min_weight_fraction_leaf=0.0,\n",
       "                                             n_estimators='warn', n_jobs=None,\n",
       "                                             oob_score=False, random_state=None,\n",
       "                                             verbose=0, warm_start=False),\n",
       "             iid='warn', n_jobs=None,\n",
       "             param_grid={'max_depth': range(1, 13, 2),\n",
       "                         'n_estimators': range(10, 51, 10)},\n",
       "             pre_dispatch='2*n_jobs', refit=True, return_train_score=False,\n",
       "             scoring=make_scorer(smape, greater_is_better=False), verbose=0)"
      ]
     },
     "execution_count": 285,
     "metadata": {},
     "output_type": "execute_result"
    }
   ],
   "source": [
    "model_for = RandomForestRegressor() \n",
    "\n",
    "\n",
    "parametrs = { 'n_estimators': range (10, 51, 10),\n",
    "              'max_depth': range (1, 13, 2) }\n",
    "grid = GridSearchCV(model_for, parametrs,scoring=sMAPE_scorer, cv=5)\n",
    "grid.fit(features_rough_train, target_rough_train)\n"
   ]
  },
  {
   "cell_type": "code",
   "execution_count": 286,
   "metadata": {},
   "outputs": [
    {
     "data": {
      "text/plain": [
       "{'max_depth': 5, 'n_estimators': 40}"
      ]
     },
     "execution_count": 286,
     "metadata": {},
     "output_type": "execute_result"
    }
   ],
   "source": [
    "grid.best_params_"
   ]
  },
  {
   "cell_type": "code",
   "execution_count": 287,
   "metadata": {},
   "outputs": [
    {
     "name": "stdout",
     "output_type": "stream",
     "text": [
      "Средняя оценка качества модели RandomForestRegression: -6.642775194374975\n"
     ]
    }
   ],
   "source": [
    "model_2 = RandomForestRegressor(n_estimators=20, max_depth=9, random_state=12345) \n",
    "scores_2 = cross_val_score(model_2, features_rough_train, target_rough_train, cv=5, scoring=sMAPE_scorer)\n",
    "final_score_2 = sum(scores_2)/len(scores_2)\n",
    "print('Средняя оценка качества модели RandomForestRegression:', final_score_2)"
   ]
  },
  {
   "cell_type": "code",
   "execution_count": 288,
   "metadata": {},
   "outputs": [
    {
     "name": "stdout",
     "output_type": "stream",
     "text": [
      "Лучшей моделью предсказывания после этапа флотации оказалась:\n",
      "RandomForestRegressor\n"
     ]
    }
   ],
   "source": [
    "print('Лучшей моделью предсказывания после этапа флотации оказалась:')\n",
    "if final_score_2 < final_score: #ставим знак меньше, так как у нас отрицательные значения, значение должно быть ближе к 0\n",
    "    print ('LinearRegression')\n",
    "else:\n",
    "    print('RandomForestRegressor')\n",
    "    "
   ]
  },
  {
   "cell_type": "markdown",
   "metadata": {},
   "source": [
    "### Обучение и выбор модели после этапа финальной очистки"
   ]
  },
  {
   "cell_type": "markdown",
   "metadata": {},
   "source": [
    "#### LinearRegression"
   ]
  },
  {
   "cell_type": "code",
   "execution_count": 289,
   "metadata": {},
   "outputs": [
    {
     "name": "stdout",
     "output_type": "stream",
     "text": [
      "Средняя оценка качества модели LinearRegression: -9.645392089019534\n"
     ]
    }
   ],
   "source": [
    "model_reg = LinearRegression()\n",
    "scores = cross_val_score(model_reg, features_final_train, target_final_train, cv=5, scoring=sMAPE_scorer)\n",
    "final_score = sum(scores)/len(scores)\n",
    "print('Средняя оценка качества модели LinearRegression:', final_score)"
   ]
  },
  {
   "cell_type": "markdown",
   "metadata": {},
   "source": [
    "#### RandomForestRegressor"
   ]
  },
  {
   "cell_type": "code",
   "execution_count": 290,
   "metadata": {},
   "outputs": [
    {
     "data": {
      "text/plain": [
       "GridSearchCV(cv=5, error_score='raise-deprecating',\n",
       "             estimator=RandomForestRegressor(bootstrap=True, criterion='mse',\n",
       "                                             max_depth=None,\n",
       "                                             max_features='auto',\n",
       "                                             max_leaf_nodes=None,\n",
       "                                             min_impurity_decrease=0.0,\n",
       "                                             min_impurity_split=None,\n",
       "                                             min_samples_leaf=1,\n",
       "                                             min_samples_split=2,\n",
       "                                             min_weight_fraction_leaf=0.0,\n",
       "                                             n_estimators='warn', n_jobs=None,\n",
       "                                             oob_score=False, random_state=None,\n",
       "                                             verbose=0, warm_start=False),\n",
       "             iid='warn', n_jobs=None,\n",
       "             param_grid={'max_depth': range(1, 13, 2),\n",
       "                         'n_estimators': range(10, 51, 10)},\n",
       "             pre_dispatch='2*n_jobs', refit=True, return_train_score=False,\n",
       "             scoring=make_scorer(smape, greater_is_better=False), verbose=0)"
      ]
     },
     "execution_count": 290,
     "metadata": {},
     "output_type": "execute_result"
    }
   ],
   "source": [
    "model_for = RandomForestRegressor() \n",
    "\n",
    "\n",
    "parametrs = { 'n_estimators': range (10, 51, 10),\n",
    "              'max_depth': range (1, 13, 2) }\n",
    "grid = GridSearchCV(model_for, parametrs, scoring=sMAPE_scorer, cv=5)\n",
    "grid.fit(features_final_train, target_final_train)"
   ]
  },
  {
   "cell_type": "code",
   "execution_count": 291,
   "metadata": {},
   "outputs": [
    {
     "data": {
      "text/plain": [
       "{'max_depth': 1, 'n_estimators': 50}"
      ]
     },
     "execution_count": 291,
     "metadata": {},
     "output_type": "execute_result"
    }
   ],
   "source": [
    "grid.best_params_"
   ]
  },
  {
   "cell_type": "code",
   "execution_count": 308,
   "metadata": {},
   "outputs": [
    {
     "name": "stdout",
     "output_type": "stream",
     "text": [
      "Средняя оценка качества модели RandomForestRegression: -9.819234970909722\n"
     ]
    }
   ],
   "source": [
    "model_2 = RandomForestRegressor(n_estimators=50, max_depth=1, random_state=12345) \n",
    "scores_2 = cross_val_score(model_2, features_final_train, target_final_train, cv=5, scoring=sMAPE_scorer)\n",
    "final_score_2 = sum(scores_2)/len(scores_2)\n",
    "print('Средняя оценка качества модели RandomForestRegression:', final_score_2)"
   ]
  },
  {
   "cell_type": "code",
   "execution_count": 293,
   "metadata": {},
   "outputs": [
    {
     "name": "stdout",
     "output_type": "stream",
     "text": [
      "Лучшей моделью предсказывания после финального этапа очистки оказалась:\n",
      "LinearRegression\n"
     ]
    }
   ],
   "source": [
    "print('Лучшей моделью предсказывания после финального этапа очистки оказалась:')\n",
    "if final_score_2 < final_score: #ставим знак меньше, так как у нас отрицательные значения, значение должно быть ближе к 0\n",
    "    print ('LinearRegression')\n",
    "else:\n",
    "    print('RandomForestRegressor')"
   ]
  },
  {
   "cell_type": "markdown",
   "metadata": {},
   "source": [
    "Вывод - для предсказания будем использовать:\n",
    "- после флотации модель RandomForestRegressor с параметрами (n_estimators=40, max_depth=5, random_state=12345)\n",
    "- после финальной очистки LinearRegression"
   ]
  },
  {
   "cell_type": "markdown",
   "metadata": {},
   "source": [
    "### Тестируем модель и выводим финальную метрику sMAPE"
   ]
  },
  {
   "cell_type": "markdown",
   "metadata": {},
   "source": [
    "Определим тагреты из таблицы full и признаки из таблицы test - все уравняем и проведем тестирование модели"
   ]
  },
  {
   "cell_type": "code",
   "execution_count": 294,
   "metadata": {},
   "outputs": [],
   "source": [
    "data_train_r = data_train.loc[~data_train['rougher.output.recovery'].isna()]\n",
    "data_train_f = data_train.loc[~data_train['final.output.recovery'].isna()]\n",
    "input_columns = list(data_test.columns)"
   ]
  },
  {
   "cell_type": "code",
   "execution_count": 295,
   "metadata": {},
   "outputs": [],
   "source": [
    "X_r = data_train_r[rougher_columns]\n",
    "X_f = data_train_f[input_columns]\n",
    "y_r = data_train_r['rougher.output.recovery']\n",
    "y_f = data_train_f['final.output.recovery']\n",
    "test_r = data_test[rougher_columns]\n",
    "test_f = data_test[input_columns]"
   ]
  },
  {
   "cell_type": "code",
   "execution_count": 296,
   "metadata": {},
   "outputs": [
    {
     "name": "stderr",
     "output_type": "stream",
     "text": [
      "/opt/conda/lib/python3.7/site-packages/pandas/core/indexing.py:961: FutureWarning: \n",
      "Passing list-likes to .loc or [] with any missing label will raise\n",
      "KeyError in the future, you can use .reindex() as an alternative.\n",
      "\n",
      "See the documentation here:\n",
      "https://pandas.pydata.org/pandas-docs/stable/user_guide/indexing.html#deprecate-loc-reindex-listlike\n",
      "  return getattr(section, self.name)[new_key]\n"
     ]
    }
   ],
   "source": [
    "# Возьмем для оценки модели таргеты из full датасета и добавим только те, что соответствуют по индексу(дате) \n",
    "# со значениями в тестовой выборке\n",
    "y_true_r = data_full.loc[data_test.index, 'rougher.output.recovery'].dropna()\n",
    "y_true_f = data_full.loc[data_test.index, 'final.output.recovery'].dropna()\n",
    "# создадим тестовые выборки признаков с валидными индексами для обоих этапов - для двух моделей (после флотации и после финального этапа)\n",
    "test_r = test_r.loc[y_true_r.index]\n",
    "test_f = test_f.loc[y_true_f.index]\n",
    "test_r = test_r[X_r.columns]\n",
    "test_f = test_f[X_f.columns]"
   ]
  },
  {
   "cell_type": "code",
   "execution_count": 297,
   "metadata": {},
   "outputs": [
    {
     "data": {
      "text/plain": [
       "5064"
      ]
     },
     "execution_count": 297,
     "metadata": {},
     "output_type": "execute_result"
    }
   ],
   "source": [
    "y_true_r.shape[0]"
   ]
  },
  {
   "cell_type": "code",
   "execution_count": 298,
   "metadata": {},
   "outputs": [
    {
     "data": {
      "text/plain": [
       "5064"
      ]
     },
     "execution_count": 298,
     "metadata": {},
     "output_type": "execute_result"
    }
   ],
   "source": [
    "test_r.shape[0]"
   ]
  },
  {
   "cell_type": "code",
   "execution_count": 299,
   "metadata": {},
   "outputs": [
    {
     "data": {
      "text/plain": [
       "5064"
      ]
     },
     "execution_count": 299,
     "metadata": {},
     "output_type": "execute_result"
    }
   ],
   "source": [
    "y_true_f.shape[0]"
   ]
  },
  {
   "cell_type": "code",
   "execution_count": 300,
   "metadata": {},
   "outputs": [
    {
     "data": {
      "text/plain": [
       "13570"
      ]
     },
     "execution_count": 300,
     "metadata": {},
     "output_type": "execute_result"
    }
   ],
   "source": [
    "X_r.shape[0]"
   ]
  },
  {
   "cell_type": "code",
   "execution_count": 301,
   "metadata": {},
   "outputs": [
    {
     "data": {
      "text/plain": [
       "13570"
      ]
     },
     "execution_count": 301,
     "metadata": {},
     "output_type": "execute_result"
    }
   ],
   "source": [
    "y_f.shape[0]"
   ]
  },
  {
   "cell_type": "code",
   "execution_count": 302,
   "metadata": {},
   "outputs": [
    {
     "data": {
      "text/plain": [
       "5064"
      ]
     },
     "execution_count": 302,
     "metadata": {},
     "output_type": "execute_result"
    }
   ],
   "source": [
    "test_pred_r.shape[0]"
   ]
  },
  {
   "cell_type": "code",
   "execution_count": 303,
   "metadata": {},
   "outputs": [
    {
     "data": {
      "text/plain": [
       "5064"
      ]
     },
     "execution_count": 303,
     "metadata": {},
     "output_type": "execute_result"
    }
   ],
   "source": [
    "test_pred_f.shape[0]"
   ]
  },
  {
   "cell_type": "markdown",
   "metadata": {},
   "source": [
    "#### Модель после этапа флотации (RandomForestRegressor)"
   ]
  },
  {
   "cell_type": "code",
   "execution_count": 304,
   "metadata": {},
   "outputs": [
    {
     "name": "stdout",
     "output_type": "stream",
     "text": [
      "sMAPE модели RandomForestRegressor: 4.665705284106966\n"
     ]
    }
   ],
   "source": [
    "model_2 = RandomForestRegressor(n_estimators=20, max_depth=9, random_state=12345) \n",
    "\n",
    "model_2.fit(X_r, y_r)\n",
    "predicted_r = model_2.predict(test_r)\n",
    "\n",
    "final_score_r = smape(y_true_r, predicted_r)\n",
    "print('sMAPE модели RandomForestRegressor:', final_score_r)"
   ]
  },
  {
   "cell_type": "markdown",
   "metadata": {},
   "source": [
    "#### Модель после этапа финальной очистки (LinearRegression)"
   ]
  },
  {
   "cell_type": "code",
   "execution_count": 305,
   "metadata": {
    "scrolled": true
   },
   "outputs": [
    {
     "name": "stdout",
     "output_type": "stream",
     "text": [
      "sMAPE модели LinearRegression: 8.010711842323426\n"
     ]
    }
   ],
   "source": [
    "model_reg = LinearRegression()\n",
    "model_reg.fit(X_f, y_f)\n",
    "predicted_f = model_reg.predict(test_f)\n",
    "\n",
    "final_score_f = smape(y_true_f, predicted_f)\n",
    "print('sMAPE модели LinearRegression:', final_score_f)"
   ]
  },
  {
   "cell_type": "code",
   "execution_count": 306,
   "metadata": {},
   "outputs": [],
   "source": [
    "final = smape_final(final_score_r, final_score_f)"
   ]
  },
  {
   "cell_type": "code",
   "execution_count": 307,
   "metadata": {},
   "outputs": [
    {
     "name": "stdout",
     "output_type": "stream",
     "text": [
      "sMAPE флотации на тестовой выборке: 4.665705284106966\n",
      "sMAPE очистки на тестовой выборке: : 8.010711842323426\n",
      "Итоговый sMAPE: 7.174460202769311\n"
     ]
    }
   ],
   "source": [
    "print('sMAPE флотации на тестовой выборке:', final_score_r)\n",
    "print('sMAPE очистки на тестовой выборке: :', final_score_f)\n",
    "print('Итоговый sMAPE:', final)"
   ]
  },
  {
   "cell_type": "markdown",
   "metadata": {},
   "source": [
    "### Выводы:\n",
    "- Данные обучены на моделях линейной регрессии и случайный лес.\n",
    "- Модели обучались отдельно для прогноза после этапа флотации и после финальной очистки\n",
    "- Применены техники кросс-валидации для оценки качества моделей и GridSearchCV для поиска оптимальных гиперпараметров.\n",
    "- Лучший результаты для этапа финальной очистки показала модель - Линейная регрессия, после этапа флотации - Случайный Лес\n",
    "- Итоговая метрика sMAPE равна - 7,17%"
   ]
  },
  {
   "cell_type": "markdown",
   "metadata": {},
   "source": [
    "## Общий вывод проекта\n",
    "\n",
    "1) \n",
    "- данные были успешно загружены, обработаны и проанализированы\n",
    "\n",
    "2)\n",
    "- проанализированы концентрации металлов (Au, Ag, Pb), а также суммарные концентрации веществ на всех стадиях очистки.\n",
    "- Рассмотрены распределения гранул сырья на входе технологического процесса для обучающей и тестовой выборок. \n",
    "- Анализ суммарных концентраций подтвердил наличие аномальных данных. Для обучения моделей аномалии были удалены\n",
    "\n",
    "3)\n",
    "- Данные обучены на моделях линейной регрессии и случайный лес.\n",
    "- Лучший результаты для этапа финальной очистки показала модель - Линейная регрессия, после этапа флотации - Случайный Лес\n",
    "- Итоговая метрика sMAPE равна - 7,17%"
   ]
  },
  {
   "cell_type": "markdown",
   "metadata": {},
   "source": [
    "## Чек-лист готовности проекта"
   ]
  },
  {
   "cell_type": "markdown",
   "metadata": {},
   "source": [
    "- [x]  Jupyter Notebook открыт\n",
    "- [x]  Весь код выполняется без ошибок\n",
    "- [x]  Ячейки с кодом расположены в порядке выполнения\n",
    "- [x]  Выполнен шаг 1: данные подготовлены\n",
    "    - [x]  Проверена формула вычисления эффективности обогащения\n",
    "    - [x]  Проанализированы признаки, недоступные в тестовой выборке\n",
    "    - [x]  Проведена предобработка данных\n",
    "- [x]  Выполнен шаг 2: данные проанализированы\n",
    "    - [x]  Исследовано изменение концентрации элементов на каждом этапе\n",
    "    - [x]  Проанализированы распределения размеров гранул на обучающей и тестовой выборках\n",
    "    - [x]  Исследованы суммарные концентрации\n",
    "- [x]  Выполнен шаг 3: построена модель прогнозирования\n",
    "    - [x]  Написана функция для вычисления итогового *sMAPE*\n",
    "    - [x]  Обучено и проверено несколько моделей\n",
    "    - [x]  Выбрана лучшая модель, её качество проверено на тестовой выборке"
   ]
  }
 ],
 "metadata": {
  "ExecuteTimeLog": [
   {
    "duration": 1490,
    "start_time": "2022-02-19T11:17:17.744Z"
   },
   {
    "duration": 247,
    "start_time": "2022-02-19T11:19:50.559Z"
   },
   {
    "duration": 271,
    "start_time": "2022-02-19T11:20:06.301Z"
   },
   {
    "duration": 6,
    "start_time": "2022-02-19T11:20:17.087Z"
   },
   {
    "duration": 17107,
    "start_time": "2022-02-19T11:20:40.875Z"
   },
   {
    "duration": 1633,
    "start_time": "2022-02-19T11:21:13.316Z"
   },
   {
    "duration": 6,
    "start_time": "2022-02-19T11:22:15.142Z"
   },
   {
    "duration": 5,
    "start_time": "2022-02-19T11:22:20.082Z"
   },
   {
    "duration": 5,
    "start_time": "2022-02-19T11:23:39.616Z"
   },
   {
    "duration": 1685,
    "start_time": "2022-02-19T11:25:00.886Z"
   },
   {
    "duration": 1432,
    "start_time": "2022-02-19T11:25:50.585Z"
   },
   {
    "duration": 5,
    "start_time": "2022-02-19T11:26:27.089Z"
   },
   {
    "duration": 1509,
    "start_time": "2022-02-19T11:26:36.912Z"
   },
   {
    "duration": 1491,
    "start_time": "2022-02-19T11:28:52.995Z"
   },
   {
    "duration": 5,
    "start_time": "2022-02-19T11:29:08.244Z"
   },
   {
    "duration": 1650,
    "start_time": "2022-02-19T11:29:08.250Z"
   },
   {
    "duration": 725,
    "start_time": "2022-02-19T11:31:52.132Z"
   },
   {
    "duration": 727,
    "start_time": "2022-02-19T11:31:56.263Z"
   },
   {
    "duration": 691,
    "start_time": "2022-02-19T11:33:47.266Z"
   },
   {
    "duration": 26,
    "start_time": "2022-02-19T11:34:04.872Z"
   },
   {
    "duration": 21,
    "start_time": "2022-02-19T11:49:16.212Z"
   },
   {
    "duration": 20,
    "start_time": "2022-02-19T11:49:32.719Z"
   },
   {
    "duration": 197,
    "start_time": "2022-02-19T11:49:54.201Z"
   },
   {
    "duration": 22,
    "start_time": "2022-02-19T11:50:21.876Z"
   },
   {
    "duration": 19,
    "start_time": "2022-02-19T11:58:07.059Z"
   },
   {
    "duration": 13,
    "start_time": "2022-02-19T12:01:34.495Z"
   },
   {
    "duration": 16,
    "start_time": "2022-02-19T12:01:56.396Z"
   },
   {
    "duration": 9,
    "start_time": "2022-02-19T12:13:01.731Z"
   },
   {
    "duration": 4,
    "start_time": "2022-02-19T12:14:52.155Z"
   },
   {
    "duration": 8,
    "start_time": "2022-02-19T12:15:49.781Z"
   },
   {
    "duration": 28,
    "start_time": "2022-02-19T12:16:04.011Z"
   },
   {
    "duration": 6,
    "start_time": "2022-02-19T12:17:01.596Z"
   },
   {
    "duration": 4,
    "start_time": "2022-02-19T12:18:23.192Z"
   },
   {
    "duration": 22469,
    "start_time": "2022-02-19T12:18:35.988Z"
   },
   {
    "duration": 11,
    "start_time": "2022-02-19T12:24:36.745Z"
   },
   {
    "duration": 10,
    "start_time": "2022-02-19T12:25:46.275Z"
   },
   {
    "duration": 4,
    "start_time": "2022-02-19T12:25:56.385Z"
   },
   {
    "duration": 693,
    "start_time": "2022-02-19T12:25:56.391Z"
   },
   {
    "duration": 31,
    "start_time": "2022-02-19T12:25:57.087Z"
   },
   {
    "duration": 21,
    "start_time": "2022-02-19T12:25:57.120Z"
   },
   {
    "duration": 25,
    "start_time": "2022-02-19T12:25:57.143Z"
   },
   {
    "duration": 20,
    "start_time": "2022-02-19T12:25:57.170Z"
   },
   {
    "duration": 31,
    "start_time": "2022-02-19T12:25:57.191Z"
   },
   {
    "duration": 15,
    "start_time": "2022-02-19T12:25:57.224Z"
   },
   {
    "duration": 6,
    "start_time": "2022-02-19T12:25:57.241Z"
   },
   {
    "duration": 10,
    "start_time": "2022-02-19T12:25:57.249Z"
   },
   {
    "duration": 10,
    "start_time": "2022-02-19T12:25:57.261Z"
   },
   {
    "duration": 10,
    "start_time": "2022-02-19T12:25:57.272Z"
   },
   {
    "duration": 5,
    "start_time": "2022-02-19T12:25:57.284Z"
   },
   {
    "duration": 5,
    "start_time": "2022-02-19T12:25:57.319Z"
   },
   {
    "duration": 22078,
    "start_time": "2022-02-19T12:25:57.326Z"
   },
   {
    "duration": 20,
    "start_time": "2022-02-19T12:26:19.406Z"
   },
   {
    "duration": 3,
    "start_time": "2022-02-19T12:43:10.773Z"
   },
   {
    "duration": 2297,
    "start_time": "2022-02-19T12:43:35.371Z"
   },
   {
    "duration": 21,
    "start_time": "2022-02-19T13:16:45.411Z"
   },
   {
    "duration": 20,
    "start_time": "2022-02-19T13:17:05.780Z"
   },
   {
    "duration": 20,
    "start_time": "2022-02-19T13:17:27.842Z"
   },
   {
    "duration": 16,
    "start_time": "2022-02-19T13:18:54.368Z"
   },
   {
    "duration": 21,
    "start_time": "2022-02-19T13:19:04.596Z"
   },
   {
    "duration": 3,
    "start_time": "2022-02-19T13:21:40.856Z"
   },
   {
    "duration": 21,
    "start_time": "2022-02-19T13:22:06.636Z"
   },
   {
    "duration": 17,
    "start_time": "2022-02-19T13:23:13.740Z"
   },
   {
    "duration": 439,
    "start_time": "2022-02-19T13:25:08.579Z"
   },
   {
    "duration": 1284,
    "start_time": "2022-02-19T13:25:41.106Z"
   },
   {
    "duration": 12,
    "start_time": "2022-02-19T13:30:29.145Z"
   },
   {
    "duration": 5,
    "start_time": "2022-02-19T13:34:39.600Z"
   },
   {
    "duration": 362,
    "start_time": "2022-02-19T13:34:51.907Z"
   },
   {
    "duration": 374,
    "start_time": "2022-02-19T13:35:06.657Z"
   },
   {
    "duration": 353,
    "start_time": "2022-02-19T13:38:31.016Z"
   },
   {
    "duration": 233,
    "start_time": "2022-02-19T13:57:07.104Z"
   },
   {
    "duration": 61,
    "start_time": "2022-02-19T13:57:35.045Z"
   },
   {
    "duration": 369,
    "start_time": "2022-02-19T13:58:03.532Z"
   },
   {
    "duration": 6,
    "start_time": "2022-02-19T13:58:18.383Z"
   },
   {
    "duration": 739,
    "start_time": "2022-02-19T13:58:18.391Z"
   },
   {
    "duration": 21,
    "start_time": "2022-02-19T13:58:19.132Z"
   },
   {
    "duration": 27,
    "start_time": "2022-02-19T13:58:19.154Z"
   },
   {
    "duration": 27,
    "start_time": "2022-02-19T13:58:19.183Z"
   },
   {
    "duration": 21,
    "start_time": "2022-02-19T13:58:19.212Z"
   },
   {
    "duration": 11,
    "start_time": "2022-02-19T13:58:19.235Z"
   },
   {
    "duration": 15,
    "start_time": "2022-02-19T13:58:19.247Z"
   },
   {
    "duration": 6,
    "start_time": "2022-02-19T13:58:19.265Z"
   },
   {
    "duration": 5,
    "start_time": "2022-02-19T13:58:19.273Z"
   },
   {
    "duration": 38,
    "start_time": "2022-02-19T13:58:19.280Z"
   },
   {
    "duration": 10,
    "start_time": "2022-02-19T13:58:19.320Z"
   },
   {
    "duration": 4,
    "start_time": "2022-02-19T13:58:19.331Z"
   },
   {
    "duration": 6,
    "start_time": "2022-02-19T13:58:19.336Z"
   },
   {
    "duration": 20604,
    "start_time": "2022-02-19T13:58:19.343Z"
   },
   {
    "duration": 12,
    "start_time": "2022-02-19T13:58:39.949Z"
   },
   {
    "duration": 92,
    "start_time": "2022-02-19T13:58:39.963Z"
   },
   {
    "duration": 12,
    "start_time": "2022-02-19T13:58:40.057Z"
   },
   {
    "duration": 3,
    "start_time": "2022-02-19T13:58:40.071Z"
   },
   {
    "duration": 2306,
    "start_time": "2022-02-19T13:58:40.076Z"
   },
   {
    "duration": 35,
    "start_time": "2022-02-19T13:58:42.384Z"
   },
   {
    "duration": 21,
    "start_time": "2022-02-19T13:58:42.421Z"
   },
   {
    "duration": 20,
    "start_time": "2022-02-19T13:58:42.443Z"
   },
   {
    "duration": 3,
    "start_time": "2022-02-19T13:58:42.465Z"
   },
   {
    "duration": 23,
    "start_time": "2022-02-19T13:58:42.469Z"
   },
   {
    "duration": 18,
    "start_time": "2022-02-19T13:58:42.518Z"
   },
   {
    "duration": 508,
    "start_time": "2022-02-19T13:58:42.540Z"
   },
   {
    "duration": 1267,
    "start_time": "2022-02-19T13:58:43.051Z"
   },
   {
    "duration": 6,
    "start_time": "2022-02-19T13:58:44.320Z"
   },
   {
    "duration": 386,
    "start_time": "2022-02-19T13:58:44.327Z"
   },
   {
    "duration": 380,
    "start_time": "2022-02-19T13:58:44.718Z"
   },
   {
    "duration": 371,
    "start_time": "2022-02-19T13:58:45.100Z"
   },
   {
    "duration": 4,
    "start_time": "2022-02-19T14:02:55.816Z"
   },
   {
    "duration": 4,
    "start_time": "2022-02-19T14:03:37.160Z"
   },
   {
    "duration": 3,
    "start_time": "2022-02-19T14:04:29.979Z"
   },
   {
    "duration": 8,
    "start_time": "2022-02-19T14:05:23.726Z"
   },
   {
    "duration": 3,
    "start_time": "2022-02-19T14:05:51.998Z"
   },
   {
    "duration": 4,
    "start_time": "2022-02-19T14:06:06.051Z"
   },
   {
    "duration": 4,
    "start_time": "2022-02-19T14:06:45.493Z"
   },
   {
    "duration": 4,
    "start_time": "2022-02-19T14:07:01.672Z"
   },
   {
    "duration": 3,
    "start_time": "2022-02-19T14:07:47.005Z"
   },
   {
    "duration": 10,
    "start_time": "2022-02-19T14:09:04.341Z"
   },
   {
    "duration": 7,
    "start_time": "2022-02-19T14:09:32.832Z"
   },
   {
    "duration": 1298,
    "start_time": "2022-02-19T14:26:28.393Z"
   },
   {
    "duration": 766,
    "start_time": "2022-02-19T14:26:32.615Z"
   },
   {
    "duration": 27,
    "start_time": "2022-02-19T14:26:35.177Z"
   },
   {
    "duration": 24,
    "start_time": "2022-02-19T14:26:36.504Z"
   },
   {
    "duration": 20,
    "start_time": "2022-02-19T14:26:36.957Z"
   },
   {
    "duration": 17,
    "start_time": "2022-02-19T14:26:37.512Z"
   },
   {
    "duration": 12,
    "start_time": "2022-02-19T14:26:38.063Z"
   },
   {
    "duration": 19,
    "start_time": "2022-02-19T14:26:38.668Z"
   },
   {
    "duration": 7,
    "start_time": "2022-02-19T14:26:40.919Z"
   },
   {
    "duration": 4,
    "start_time": "2022-02-19T14:26:42.107Z"
   },
   {
    "duration": 12,
    "start_time": "2022-02-19T14:26:43.235Z"
   },
   {
    "duration": 14,
    "start_time": "2022-02-19T14:26:43.843Z"
   },
   {
    "duration": 5,
    "start_time": "2022-02-19T14:26:44.433Z"
   },
   {
    "duration": 4,
    "start_time": "2022-02-19T14:26:46.251Z"
   },
   {
    "duration": 20467,
    "start_time": "2022-02-19T14:26:47.037Z"
   },
   {
    "duration": 18,
    "start_time": "2022-02-19T14:27:07.506Z"
   },
   {
    "duration": 59,
    "start_time": "2022-02-19T14:27:07.526Z"
   },
   {
    "duration": 20,
    "start_time": "2022-02-19T14:27:47.892Z"
   },
   {
    "duration": 3,
    "start_time": "2022-02-19T14:27:53.290Z"
   },
   {
    "duration": 2296,
    "start_time": "2022-02-19T14:27:54.066Z"
   },
   {
    "duration": 21,
    "start_time": "2022-02-19T14:28:03.493Z"
   },
   {
    "duration": 19,
    "start_time": "2022-02-19T14:28:04.827Z"
   },
   {
    "duration": 22,
    "start_time": "2022-02-19T14:28:05.899Z"
   },
   {
    "duration": 3,
    "start_time": "2022-02-19T14:28:07.495Z"
   },
   {
    "duration": 19,
    "start_time": "2022-02-19T14:28:08.477Z"
   },
   {
    "duration": 17,
    "start_time": "2022-02-19T14:28:09.750Z"
   },
   {
    "duration": 462,
    "start_time": "2022-02-19T14:28:10.993Z"
   },
   {
    "duration": 1336,
    "start_time": "2022-02-19T14:28:14.341Z"
   },
   {
    "duration": 5,
    "start_time": "2022-02-19T14:28:19.047Z"
   },
   {
    "duration": 361,
    "start_time": "2022-02-19T14:28:21.938Z"
   },
   {
    "duration": 379,
    "start_time": "2022-02-19T14:28:23.324Z"
   },
   {
    "duration": 365,
    "start_time": "2022-02-19T14:28:24.453Z"
   },
   {
    "duration": 3,
    "start_time": "2022-02-19T14:28:26.726Z"
   },
   {
    "duration": 5,
    "start_time": "2022-02-19T14:28:28.034Z"
   },
   {
    "duration": 4,
    "start_time": "2022-02-19T14:28:29.317Z"
   },
   {
    "duration": 10,
    "start_time": "2022-02-19T14:28:31.078Z"
   },
   {
    "duration": 3,
    "start_time": "2022-02-19T14:28:32.893Z"
   },
   {
    "duration": 4,
    "start_time": "2022-02-19T14:28:33.558Z"
   },
   {
    "duration": 3,
    "start_time": "2022-02-19T14:28:34.994Z"
   },
   {
    "duration": 3,
    "start_time": "2022-02-19T14:28:35.912Z"
   },
   {
    "duration": 3,
    "start_time": "2022-02-19T14:28:37.050Z"
   },
   {
    "duration": 13,
    "start_time": "2022-02-19T14:28:38.130Z"
   },
   {
    "duration": 8,
    "start_time": "2022-02-19T14:28:39.564Z"
   },
   {
    "duration": 1232,
    "start_time": "2022-02-19T14:44:31.685Z"
   },
   {
    "duration": 768,
    "start_time": "2022-02-19T14:44:35.223Z"
   },
   {
    "duration": 25,
    "start_time": "2022-02-19T14:44:36.427Z"
   },
   {
    "duration": 5,
    "start_time": "2022-02-19T14:44:38.437Z"
   },
   {
    "duration": 801,
    "start_time": "2022-02-19T14:44:38.444Z"
   },
   {
    "duration": 21,
    "start_time": "2022-02-19T14:44:39.247Z"
   },
   {
    "duration": 19,
    "start_time": "2022-02-19T14:44:39.271Z"
   },
   {
    "duration": 39,
    "start_time": "2022-02-19T14:44:39.291Z"
   },
   {
    "duration": 18,
    "start_time": "2022-02-19T14:44:39.332Z"
   },
   {
    "duration": 13,
    "start_time": "2022-02-19T14:44:39.352Z"
   },
   {
    "duration": 15,
    "start_time": "2022-02-19T14:44:39.367Z"
   },
   {
    "duration": 37,
    "start_time": "2022-02-19T14:44:39.384Z"
   },
   {
    "duration": 7,
    "start_time": "2022-02-19T14:44:39.424Z"
   },
   {
    "duration": 13,
    "start_time": "2022-02-19T14:44:39.433Z"
   },
   {
    "duration": 14,
    "start_time": "2022-02-19T14:44:39.448Z"
   },
   {
    "duration": 5,
    "start_time": "2022-02-19T14:44:39.463Z"
   },
   {
    "duration": 7,
    "start_time": "2022-02-19T14:44:39.469Z"
   },
   {
    "duration": 20529,
    "start_time": "2022-02-19T14:44:39.478Z"
   },
   {
    "duration": 10,
    "start_time": "2022-02-19T14:45:00.018Z"
   },
   {
    "duration": 66,
    "start_time": "2022-02-19T14:45:00.030Z"
   },
   {
    "duration": 33,
    "start_time": "2022-02-19T14:45:00.098Z"
   },
   {
    "duration": 8,
    "start_time": "2022-02-19T14:45:00.134Z"
   },
   {
    "duration": 2263,
    "start_time": "2022-02-19T14:45:00.144Z"
   },
   {
    "duration": 28,
    "start_time": "2022-02-19T14:45:02.409Z"
   },
   {
    "duration": 22,
    "start_time": "2022-02-19T14:45:02.440Z"
   },
   {
    "duration": 22,
    "start_time": "2022-02-19T14:45:02.465Z"
   },
   {
    "duration": 30,
    "start_time": "2022-02-19T14:45:02.489Z"
   },
   {
    "duration": 29,
    "start_time": "2022-02-19T14:45:02.522Z"
   },
   {
    "duration": 16,
    "start_time": "2022-02-19T14:45:02.553Z"
   },
   {
    "duration": 494,
    "start_time": "2022-02-19T14:45:02.574Z"
   },
   {
    "duration": 1452,
    "start_time": "2022-02-19T14:45:03.070Z"
   },
   {
    "duration": 5,
    "start_time": "2022-02-19T14:45:04.524Z"
   },
   {
    "duration": 442,
    "start_time": "2022-02-19T14:45:04.531Z"
   },
   {
    "duration": 509,
    "start_time": "2022-02-19T14:45:04.975Z"
   },
   {
    "duration": 410,
    "start_time": "2022-02-19T14:45:05.486Z"
   },
   {
    "duration": 3,
    "start_time": "2022-02-19T14:45:05.898Z"
   },
   {
    "duration": 15,
    "start_time": "2022-02-19T14:45:05.903Z"
   },
   {
    "duration": 2,
    "start_time": "2022-02-19T14:45:05.920Z"
   },
   {
    "duration": 13,
    "start_time": "2022-02-19T14:45:05.924Z"
   },
   {
    "duration": 8,
    "start_time": "2022-02-19T14:45:05.938Z"
   },
   {
    "duration": 6,
    "start_time": "2022-02-19T14:45:05.947Z"
   },
   {
    "duration": 9,
    "start_time": "2022-02-19T14:45:05.955Z"
   },
   {
    "duration": 8,
    "start_time": "2022-02-19T14:45:05.966Z"
   },
   {
    "duration": 6,
    "start_time": "2022-02-19T14:45:05.976Z"
   },
   {
    "duration": 16,
    "start_time": "2022-02-19T14:45:05.984Z"
   },
   {
    "duration": 22,
    "start_time": "2022-02-19T14:45:06.002Z"
   },
   {
    "duration": 3,
    "start_time": "2022-02-19T14:45:06.026Z"
   },
   {
    "duration": 1279,
    "start_time": "2022-02-19T14:49:42.434Z"
   },
   {
    "duration": 1228,
    "start_time": "2022-02-19T14:49:43.715Z"
   },
   {
    "duration": 26,
    "start_time": "2022-02-19T14:49:44.945Z"
   },
   {
    "duration": 47,
    "start_time": "2022-02-19T14:49:44.973Z"
   },
   {
    "duration": 27,
    "start_time": "2022-02-19T14:49:45.022Z"
   },
   {
    "duration": 31,
    "start_time": "2022-02-19T14:49:45.051Z"
   },
   {
    "duration": 16,
    "start_time": "2022-02-19T14:49:45.085Z"
   },
   {
    "duration": 34,
    "start_time": "2022-02-19T14:49:45.105Z"
   },
   {
    "duration": 8,
    "start_time": "2022-02-19T14:49:45.142Z"
   },
   {
    "duration": 8,
    "start_time": "2022-02-19T14:49:45.152Z"
   },
   {
    "duration": 13,
    "start_time": "2022-02-19T14:49:45.162Z"
   },
   {
    "duration": 15,
    "start_time": "2022-02-19T14:49:45.177Z"
   },
   {
    "duration": 27,
    "start_time": "2022-02-19T14:49:45.194Z"
   },
   {
    "duration": 20,
    "start_time": "2022-02-19T14:49:45.223Z"
   },
   {
    "duration": 21952,
    "start_time": "2022-02-19T14:49:45.245Z"
   },
   {
    "duration": 11,
    "start_time": "2022-02-19T14:50:07.199Z"
   },
   {
    "duration": 58,
    "start_time": "2022-02-19T14:50:07.219Z"
   },
   {
    "duration": 13,
    "start_time": "2022-02-19T14:50:07.279Z"
   },
   {
    "duration": 24,
    "start_time": "2022-02-19T14:50:07.294Z"
   },
   {
    "duration": 2337,
    "start_time": "2022-02-19T14:50:07.320Z"
   },
   {
    "duration": 24,
    "start_time": "2022-02-19T14:50:09.659Z"
   },
   {
    "duration": 41,
    "start_time": "2022-02-19T14:50:09.684Z"
   },
   {
    "duration": 21,
    "start_time": "2022-02-19T14:50:09.729Z"
   },
   {
    "duration": 2,
    "start_time": "2022-02-19T14:50:09.752Z"
   },
   {
    "duration": 19,
    "start_time": "2022-02-19T14:50:09.756Z"
   },
   {
    "duration": 42,
    "start_time": "2022-02-19T14:50:09.776Z"
   },
   {
    "duration": 569,
    "start_time": "2022-02-19T14:50:09.820Z"
   },
   {
    "duration": 1345,
    "start_time": "2022-02-19T14:50:10.391Z"
   },
   {
    "duration": 5,
    "start_time": "2022-02-19T14:50:11.738Z"
   },
   {
    "duration": 477,
    "start_time": "2022-02-19T14:50:11.745Z"
   },
   {
    "duration": 375,
    "start_time": "2022-02-19T14:50:12.224Z"
   },
   {
    "duration": 382,
    "start_time": "2022-02-19T14:50:12.601Z"
   },
   {
    "duration": 4,
    "start_time": "2022-02-19T14:50:12.986Z"
   },
   {
    "duration": 13,
    "start_time": "2022-02-19T14:50:12.992Z"
   },
   {
    "duration": 12,
    "start_time": "2022-02-19T14:50:13.007Z"
   },
   {
    "duration": 13,
    "start_time": "2022-02-19T14:50:13.022Z"
   },
   {
    "duration": 7,
    "start_time": "2022-02-19T14:50:13.038Z"
   },
   {
    "duration": 5,
    "start_time": "2022-02-19T14:50:13.047Z"
   },
   {
    "duration": 5,
    "start_time": "2022-02-19T14:50:13.054Z"
   },
   {
    "duration": 7,
    "start_time": "2022-02-19T14:50:13.061Z"
   },
   {
    "duration": 4,
    "start_time": "2022-02-19T14:50:13.069Z"
   },
   {
    "duration": 43,
    "start_time": "2022-02-19T14:50:13.075Z"
   },
   {
    "duration": 7,
    "start_time": "2022-02-19T14:50:13.120Z"
   },
   {
    "duration": 300,
    "start_time": "2022-02-19T14:52:32.452Z"
   },
   {
    "duration": 6,
    "start_time": "2022-02-19T14:52:51.509Z"
   },
   {
    "duration": 777,
    "start_time": "2022-02-19T14:52:53.906Z"
   },
   {
    "duration": 21,
    "start_time": "2022-02-19T14:52:55.956Z"
   },
   {
    "duration": 20,
    "start_time": "2022-02-19T14:52:56.547Z"
   },
   {
    "duration": 20,
    "start_time": "2022-02-19T14:52:56.909Z"
   },
   {
    "duration": 20,
    "start_time": "2022-02-19T14:52:57.216Z"
   },
   {
    "duration": 11,
    "start_time": "2022-02-19T14:52:57.470Z"
   },
   {
    "duration": 5,
    "start_time": "2022-02-19T14:52:59.857Z"
   },
   {
    "duration": 859,
    "start_time": "2022-02-19T14:52:59.864Z"
   },
   {
    "duration": 18,
    "start_time": "2022-02-19T14:53:00.726Z"
   },
   {
    "duration": 30,
    "start_time": "2022-02-19T14:53:00.746Z"
   },
   {
    "duration": 28,
    "start_time": "2022-02-19T14:53:00.777Z"
   },
   {
    "duration": 36,
    "start_time": "2022-02-19T14:53:00.807Z"
   },
   {
    "duration": 10,
    "start_time": "2022-02-19T14:53:00.845Z"
   },
   {
    "duration": 18,
    "start_time": "2022-02-19T14:53:00.856Z"
   },
   {
    "duration": 6,
    "start_time": "2022-02-19T14:53:00.877Z"
   },
   {
    "duration": 22,
    "start_time": "2022-02-19T14:53:00.885Z"
   },
   {
    "duration": 39,
    "start_time": "2022-02-19T14:53:00.909Z"
   },
   {
    "duration": 18,
    "start_time": "2022-02-19T14:53:00.950Z"
   },
   {
    "duration": 8,
    "start_time": "2022-02-19T14:53:00.970Z"
   },
   {
    "duration": 16,
    "start_time": "2022-02-19T14:53:00.980Z"
   },
   {
    "duration": 20125,
    "start_time": "2022-02-19T14:53:00.997Z"
   },
   {
    "duration": 10,
    "start_time": "2022-02-19T14:53:21.124Z"
   },
   {
    "duration": 65,
    "start_time": "2022-02-19T14:53:21.136Z"
   },
   {
    "duration": 25,
    "start_time": "2022-02-19T14:53:21.203Z"
   },
   {
    "duration": 2,
    "start_time": "2022-02-19T14:53:21.230Z"
   },
   {
    "duration": 2267,
    "start_time": "2022-02-19T14:53:21.234Z"
   },
   {
    "duration": 33,
    "start_time": "2022-02-19T14:53:23.504Z"
   },
   {
    "duration": 20,
    "start_time": "2022-02-19T14:53:23.539Z"
   },
   {
    "duration": 20,
    "start_time": "2022-02-19T14:53:23.560Z"
   },
   {
    "duration": 2,
    "start_time": "2022-02-19T14:53:23.582Z"
   },
   {
    "duration": 45,
    "start_time": "2022-02-19T14:53:23.586Z"
   },
   {
    "duration": 16,
    "start_time": "2022-02-19T14:53:23.633Z"
   },
   {
    "duration": 494,
    "start_time": "2022-02-19T14:53:23.652Z"
   },
   {
    "duration": 1320,
    "start_time": "2022-02-19T14:53:24.149Z"
   },
   {
    "duration": 5,
    "start_time": "2022-02-19T14:53:25.471Z"
   },
   {
    "duration": 375,
    "start_time": "2022-02-19T14:53:25.478Z"
   },
   {
    "duration": 380,
    "start_time": "2022-02-19T14:53:25.855Z"
   },
   {
    "duration": 371,
    "start_time": "2022-02-19T14:53:26.237Z"
   },
   {
    "duration": 3,
    "start_time": "2022-02-19T14:53:26.618Z"
   },
   {
    "duration": 7,
    "start_time": "2022-02-19T14:53:26.623Z"
   },
   {
    "duration": 7,
    "start_time": "2022-02-19T14:53:26.632Z"
   },
   {
    "duration": 10,
    "start_time": "2022-02-19T14:53:26.640Z"
   },
   {
    "duration": 7,
    "start_time": "2022-02-19T14:53:26.652Z"
   },
   {
    "duration": 5,
    "start_time": "2022-02-19T14:53:26.660Z"
   },
   {
    "duration": 116,
    "start_time": "2022-02-19T14:53:26.667Z"
   },
   {
    "duration": 5,
    "start_time": "2022-02-19T14:53:26.785Z"
   },
   {
    "duration": 4,
    "start_time": "2022-02-19T14:53:26.792Z"
   },
   {
    "duration": 24,
    "start_time": "2022-02-19T14:53:26.798Z"
   },
   {
    "duration": 7,
    "start_time": "2022-02-19T14:53:26.824Z"
   },
   {
    "duration": 203,
    "start_time": "2022-02-19T15:04:59.510Z"
   },
   {
    "duration": 15,
    "start_time": "2022-02-19T15:20:11.913Z"
   },
   {
    "duration": 369,
    "start_time": "2022-02-19T18:01:47.035Z"
   },
   {
    "duration": 1639,
    "start_time": "2022-02-19T18:03:04.927Z"
   },
   {
    "duration": 920,
    "start_time": "2022-02-19T18:03:06.569Z"
   },
   {
    "duration": 43,
    "start_time": "2022-02-19T18:03:07.491Z"
   },
   {
    "duration": 30,
    "start_time": "2022-02-19T18:03:07.536Z"
   },
   {
    "duration": 60,
    "start_time": "2022-02-19T18:03:07.569Z"
   },
   {
    "duration": 27,
    "start_time": "2022-02-19T18:03:07.633Z"
   },
   {
    "duration": 16,
    "start_time": "2022-02-19T18:03:07.662Z"
   },
   {
    "duration": 49,
    "start_time": "2022-02-19T18:03:07.681Z"
   },
   {
    "duration": 7,
    "start_time": "2022-02-19T18:03:07.734Z"
   },
   {
    "duration": 5,
    "start_time": "2022-02-19T18:03:07.744Z"
   },
   {
    "duration": 12,
    "start_time": "2022-02-19T18:03:07.752Z"
   },
   {
    "duration": 59,
    "start_time": "2022-02-19T18:03:07.767Z"
   },
   {
    "duration": 5,
    "start_time": "2022-02-19T18:03:07.828Z"
   },
   {
    "duration": 13,
    "start_time": "2022-02-19T18:03:07.836Z"
   },
   {
    "duration": 35329,
    "start_time": "2022-02-19T18:03:07.851Z"
   },
   {
    "duration": 33,
    "start_time": "2022-02-19T18:03:43.182Z"
   },
   {
    "duration": 102,
    "start_time": "2022-02-19T18:03:43.219Z"
   },
   {
    "duration": 21,
    "start_time": "2022-02-19T18:03:43.324Z"
   },
   {
    "duration": 4,
    "start_time": "2022-02-19T18:03:43.348Z"
   },
   {
    "duration": 3934,
    "start_time": "2022-02-19T18:03:43.354Z"
   },
   {
    "duration": 39,
    "start_time": "2022-02-19T18:03:47.290Z"
   },
   {
    "duration": 29,
    "start_time": "2022-02-19T18:03:47.331Z"
   },
   {
    "duration": 57,
    "start_time": "2022-02-19T18:03:47.363Z"
   },
   {
    "duration": 3,
    "start_time": "2022-02-19T18:03:47.423Z"
   },
   {
    "duration": 24,
    "start_time": "2022-02-19T18:03:47.428Z"
   },
   {
    "duration": 24,
    "start_time": "2022-02-19T18:03:47.454Z"
   },
   {
    "duration": 687,
    "start_time": "2022-02-19T18:03:47.513Z"
   },
   {
    "duration": 2252,
    "start_time": "2022-02-19T18:03:48.211Z"
   },
   {
    "duration": 6,
    "start_time": "2022-02-19T18:03:50.466Z"
   },
   {
    "duration": 878,
    "start_time": "2022-02-19T18:03:50.474Z"
   },
   {
    "duration": 637,
    "start_time": "2022-02-19T18:03:51.354Z"
   },
   {
    "duration": 621,
    "start_time": "2022-02-19T18:03:51.994Z"
   },
   {
    "duration": 23,
    "start_time": "2022-02-19T18:03:52.618Z"
   },
   {
    "duration": 5,
    "start_time": "2022-02-19T18:03:52.644Z"
   },
   {
    "duration": 23,
    "start_time": "2022-02-19T18:03:52.651Z"
   },
   {
    "duration": 4,
    "start_time": "2022-02-19T18:03:52.676Z"
   },
   {
    "duration": 409,
    "start_time": "2022-02-19T18:06:06.961Z"
   },
   {
    "duration": 7,
    "start_time": "2022-02-19T18:06:15.775Z"
   },
   {
    "duration": 5,
    "start_time": "2022-02-19T18:06:31.634Z"
   },
   {
    "duration": 8,
    "start_time": "2022-02-19T18:09:17.330Z"
   },
   {
    "duration": 7,
    "start_time": "2022-02-19T18:09:20.297Z"
   },
   {
    "duration": 901,
    "start_time": "2022-02-19T18:09:20.306Z"
   },
   {
    "duration": 33,
    "start_time": "2022-02-19T18:09:21.211Z"
   },
   {
    "duration": 34,
    "start_time": "2022-02-19T18:09:21.247Z"
   },
   {
    "duration": 54,
    "start_time": "2022-02-19T18:09:21.283Z"
   },
   {
    "duration": 27,
    "start_time": "2022-02-19T18:09:21.339Z"
   },
   {
    "duration": 43,
    "start_time": "2022-02-19T18:09:21.369Z"
   },
   {
    "duration": 24,
    "start_time": "2022-02-19T18:09:21.414Z"
   },
   {
    "duration": 7,
    "start_time": "2022-02-19T18:09:21.442Z"
   },
   {
    "duration": 4,
    "start_time": "2022-02-19T18:09:21.452Z"
   },
   {
    "duration": 13,
    "start_time": "2022-02-19T18:09:21.458Z"
   },
   {
    "duration": 47,
    "start_time": "2022-02-19T18:09:21.474Z"
   },
   {
    "duration": 7,
    "start_time": "2022-02-19T18:09:21.524Z"
   },
   {
    "duration": 6,
    "start_time": "2022-02-19T18:09:21.534Z"
   },
   {
    "duration": 33487,
    "start_time": "2022-02-19T18:09:21.543Z"
   },
   {
    "duration": 14,
    "start_time": "2022-02-19T18:09:55.032Z"
   },
   {
    "duration": 118,
    "start_time": "2022-02-19T18:09:55.049Z"
   },
   {
    "duration": 21,
    "start_time": "2022-02-19T18:09:55.170Z"
   },
   {
    "duration": 18,
    "start_time": "2022-02-19T18:09:55.193Z"
   },
   {
    "duration": 3844,
    "start_time": "2022-02-19T18:09:55.214Z"
   },
   {
    "duration": 30,
    "start_time": "2022-02-19T18:09:59.061Z"
   },
   {
    "duration": 29,
    "start_time": "2022-02-19T18:09:59.110Z"
   },
   {
    "duration": 28,
    "start_time": "2022-02-19T18:09:59.141Z"
   },
   {
    "duration": 4,
    "start_time": "2022-02-19T18:09:59.171Z"
   },
   {
    "duration": 48,
    "start_time": "2022-02-19T18:09:59.177Z"
   },
   {
    "duration": 24,
    "start_time": "2022-02-19T18:09:59.228Z"
   },
   {
    "duration": 712,
    "start_time": "2022-02-19T18:09:59.258Z"
   },
   {
    "duration": 2120,
    "start_time": "2022-02-19T18:09:59.973Z"
   },
   {
    "duration": 15,
    "start_time": "2022-02-19T18:10:02.095Z"
   },
   {
    "duration": 627,
    "start_time": "2022-02-19T18:10:02.114Z"
   },
   {
    "duration": 618,
    "start_time": "2022-02-19T18:10:02.744Z"
   },
   {
    "duration": 604,
    "start_time": "2022-02-19T18:10:03.365Z"
   },
   {
    "duration": 43,
    "start_time": "2022-02-19T18:10:03.973Z"
   },
   {
    "duration": 6,
    "start_time": "2022-02-19T18:10:04.019Z"
   },
   {
    "duration": 13,
    "start_time": "2022-02-19T18:10:04.028Z"
   },
   {
    "duration": 334,
    "start_time": "2022-02-19T18:10:04.044Z"
   },
   {
    "duration": 314,
    "start_time": "2022-02-19T18:21:46.834Z"
   },
   {
    "duration": 891,
    "start_time": "2022-02-19T18:21:58.628Z"
   },
   {
    "duration": 976,
    "start_time": "2022-02-19T18:23:18.436Z"
   },
   {
    "duration": 1736,
    "start_time": "2022-02-19T18:23:39.975Z"
   },
   {
    "duration": 900,
    "start_time": "2022-02-19T18:23:47.417Z"
   },
   {
    "duration": 1221,
    "start_time": "2022-02-19T18:24:50.831Z"
   },
   {
    "duration": 1304,
    "start_time": "2022-02-19T18:25:06.471Z"
   },
   {
    "duration": 1478,
    "start_time": "2022-02-19T18:25:34.234Z"
   },
   {
    "duration": 1943,
    "start_time": "2022-02-19T18:25:58.278Z"
   },
   {
    "duration": 1532,
    "start_time": "2022-02-19T18:32:32.484Z"
   },
   {
    "duration": 2212,
    "start_time": "2022-02-19T18:32:39.798Z"
   },
   {
    "duration": 30,
    "start_time": "2022-02-19T18:35:44.768Z"
   },
   {
    "duration": 104,
    "start_time": "2022-02-19T18:52:46.828Z"
   },
   {
    "duration": 2568,
    "start_time": "2022-02-19T18:52:57.356Z"
   },
   {
    "duration": 2356,
    "start_time": "2022-02-19T18:55:53.256Z"
   },
   {
    "duration": 96178,
    "start_time": "2022-02-19T18:57:12.168Z"
   },
   {
    "duration": 118,
    "start_time": "2022-02-19T18:59:19.413Z"
   },
   {
    "duration": 221662,
    "start_time": "2022-02-19T19:11:29.768Z"
   },
   {
    "duration": 243,
    "start_time": "2022-02-20T12:31:15.054Z"
   },
   {
    "duration": 1163,
    "start_time": "2022-02-20T12:31:25.234Z"
   },
   {
    "duration": 650,
    "start_time": "2022-02-20T12:31:26.399Z"
   },
   {
    "duration": 24,
    "start_time": "2022-02-20T12:31:27.051Z"
   },
   {
    "duration": 18,
    "start_time": "2022-02-20T12:31:27.077Z"
   },
   {
    "duration": 36,
    "start_time": "2022-02-20T12:31:27.097Z"
   },
   {
    "duration": 17,
    "start_time": "2022-02-20T12:31:27.135Z"
   },
   {
    "duration": 11,
    "start_time": "2022-02-20T12:31:27.154Z"
   },
   {
    "duration": 15,
    "start_time": "2022-02-20T12:31:27.166Z"
   },
   {
    "duration": 5,
    "start_time": "2022-02-20T12:31:27.183Z"
   },
   {
    "duration": 41,
    "start_time": "2022-02-20T12:31:27.190Z"
   },
   {
    "duration": 10,
    "start_time": "2022-02-20T12:31:27.233Z"
   },
   {
    "duration": 11,
    "start_time": "2022-02-20T12:31:27.245Z"
   },
   {
    "duration": 4,
    "start_time": "2022-02-20T12:31:27.258Z"
   },
   {
    "duration": 7,
    "start_time": "2022-02-20T12:31:27.263Z"
   },
   {
    "duration": 23688,
    "start_time": "2022-02-20T12:31:27.271Z"
   },
   {
    "duration": 9,
    "start_time": "2022-02-20T12:31:50.961Z"
   },
   {
    "duration": 79,
    "start_time": "2022-02-20T12:31:50.971Z"
   },
   {
    "duration": 13,
    "start_time": "2022-02-20T12:31:51.052Z"
   },
   {
    "duration": 3,
    "start_time": "2022-02-20T12:31:51.067Z"
   },
   {
    "duration": 2087,
    "start_time": "2022-02-20T12:31:51.071Z"
   },
   {
    "duration": 19,
    "start_time": "2022-02-20T12:31:53.160Z"
   },
   {
    "duration": 21,
    "start_time": "2022-02-20T12:31:53.181Z"
   },
   {
    "duration": 41,
    "start_time": "2022-02-20T12:31:53.204Z"
   },
   {
    "duration": 3,
    "start_time": "2022-02-20T12:31:53.247Z"
   },
   {
    "duration": 17,
    "start_time": "2022-02-20T12:31:53.251Z"
   },
   {
    "duration": 14,
    "start_time": "2022-02-20T12:31:53.270Z"
   },
   {
    "duration": 450,
    "start_time": "2022-02-20T12:31:53.287Z"
   },
   {
    "duration": 1197,
    "start_time": "2022-02-20T12:31:53.739Z"
   },
   {
    "duration": 4,
    "start_time": "2022-02-20T12:31:54.939Z"
   },
   {
    "duration": 352,
    "start_time": "2022-02-20T12:31:54.945Z"
   },
   {
    "duration": 361,
    "start_time": "2022-02-20T12:31:55.299Z"
   },
   {
    "duration": 527,
    "start_time": "2022-02-20T12:31:55.663Z"
   },
   {
    "duration": 13,
    "start_time": "2022-02-20T12:31:56.192Z"
   },
   {
    "duration": 3,
    "start_time": "2022-02-20T12:31:56.207Z"
   },
   {
    "duration": 210,
    "start_time": "2022-02-20T12:31:56.211Z"
   },
   {
    "duration": -82,
    "start_time": "2022-02-20T12:31:56.505Z"
   },
   {
    "duration": 11,
    "start_time": "2022-02-20T12:32:11.056Z"
   },
   {
    "duration": 396,
    "start_time": "2022-02-20T12:32:15.144Z"
   },
   {
    "duration": 182,
    "start_time": "2022-02-20T12:35:16.252Z"
   },
   {
    "duration": 379,
    "start_time": "2022-02-20T12:35:31.859Z"
   },
   {
    "duration": 9,
    "start_time": "2022-02-20T12:36:08.615Z"
   },
   {
    "duration": 864,
    "start_time": "2022-02-20T12:36:10.068Z"
   },
   {
    "duration": 46991,
    "start_time": "2022-02-20T12:41:27.575Z"
   },
   {
    "duration": 46771,
    "start_time": "2022-02-20T12:42:28.210Z"
   },
   {
    "duration": 49689,
    "start_time": "2022-02-20T12:46:48.218Z"
   },
   {
    "duration": 4,
    "start_time": "2022-02-20T12:49:00.142Z"
   },
   {
    "duration": 8,
    "start_time": "2022-02-20T12:49:02.732Z"
   },
   {
    "duration": 50384,
    "start_time": "2022-02-20T12:49:04.760Z"
   },
   {
    "duration": 3,
    "start_time": "2022-02-20T12:50:40.193Z"
   },
   {
    "duration": 9,
    "start_time": "2022-02-20T12:50:52.693Z"
   },
   {
    "duration": 49445,
    "start_time": "2022-02-20T12:50:58.310Z"
   },
   {
    "duration": 131,
    "start_time": "2022-02-20T12:53:23.428Z"
   },
   {
    "duration": 12,
    "start_time": "2022-02-20T12:54:49.123Z"
   },
   {
    "duration": 134,
    "start_time": "2022-02-20T12:54:52.219Z"
   },
   {
    "duration": 149,
    "start_time": "2022-02-20T12:56:27.590Z"
   },
   {
    "duration": 130,
    "start_time": "2022-02-20T12:56:39.638Z"
   },
   {
    "duration": 5,
    "start_time": "2022-02-20T12:56:54.992Z"
   },
   {
    "duration": 152,
    "start_time": "2022-02-20T12:57:10.591Z"
   },
   {
    "duration": 5,
    "start_time": "2022-02-20T12:57:12.580Z"
   },
   {
    "duration": 4,
    "start_time": "2022-02-20T12:58:47.990Z"
   },
   {
    "duration": 711,
    "start_time": "2022-02-20T12:58:47.997Z"
   },
   {
    "duration": 20,
    "start_time": "2022-02-20T12:58:48.710Z"
   },
   {
    "duration": 22,
    "start_time": "2022-02-20T12:58:48.731Z"
   },
   {
    "duration": 18,
    "start_time": "2022-02-20T12:58:48.754Z"
   },
   {
    "duration": 16,
    "start_time": "2022-02-20T12:58:48.773Z"
   },
   {
    "duration": 9,
    "start_time": "2022-02-20T12:58:48.791Z"
   },
   {
    "duration": 38,
    "start_time": "2022-02-20T12:58:48.802Z"
   },
   {
    "duration": 6,
    "start_time": "2022-02-20T12:58:48.842Z"
   },
   {
    "duration": 6,
    "start_time": "2022-02-20T12:58:48.849Z"
   },
   {
    "duration": 14,
    "start_time": "2022-02-20T12:58:48.856Z"
   },
   {
    "duration": 9,
    "start_time": "2022-02-20T12:58:48.871Z"
   },
   {
    "duration": 5,
    "start_time": "2022-02-20T12:58:48.881Z"
   },
   {
    "duration": 11,
    "start_time": "2022-02-20T12:58:48.887Z"
   },
   {
    "duration": 19169,
    "start_time": "2022-02-20T12:58:48.899Z"
   },
   {
    "duration": 11,
    "start_time": "2022-02-20T12:59:08.070Z"
   },
   {
    "duration": 82,
    "start_time": "2022-02-20T12:59:08.084Z"
   },
   {
    "duration": 13,
    "start_time": "2022-02-20T12:59:08.168Z"
   },
   {
    "duration": 3,
    "start_time": "2022-02-20T12:59:08.183Z"
   },
   {
    "duration": 2106,
    "start_time": "2022-02-20T12:59:08.188Z"
   },
   {
    "duration": 18,
    "start_time": "2022-02-20T12:59:10.296Z"
   },
   {
    "duration": 29,
    "start_time": "2022-02-20T12:59:10.316Z"
   },
   {
    "duration": 17,
    "start_time": "2022-02-20T12:59:10.347Z"
   },
   {
    "duration": 3,
    "start_time": "2022-02-20T12:59:10.365Z"
   },
   {
    "duration": 16,
    "start_time": "2022-02-20T12:59:10.369Z"
   },
   {
    "duration": 15,
    "start_time": "2022-02-20T12:59:10.386Z"
   },
   {
    "duration": 477,
    "start_time": "2022-02-20T12:59:10.432Z"
   },
   {
    "duration": 1186,
    "start_time": "2022-02-20T12:59:10.911Z"
   },
   {
    "duration": 5,
    "start_time": "2022-02-20T12:59:12.099Z"
   },
   {
    "duration": 347,
    "start_time": "2022-02-20T12:59:12.105Z"
   },
   {
    "duration": 342,
    "start_time": "2022-02-20T12:59:12.454Z"
   },
   {
    "duration": 341,
    "start_time": "2022-02-20T12:59:12.797Z"
   },
   {
    "duration": 13,
    "start_time": "2022-02-20T12:59:13.140Z"
   },
   {
    "duration": 18,
    "start_time": "2022-02-20T12:59:13.155Z"
   },
   {
    "duration": 13,
    "start_time": "2022-02-20T12:59:13.175Z"
   },
   {
    "duration": 3,
    "start_time": "2022-02-20T12:59:13.190Z"
   },
   {
    "duration": 256,
    "start_time": "2022-02-20T12:59:13.195Z"
   },
   {
    "duration": 22,
    "start_time": "2022-02-20T12:59:13.431Z"
   },
   {
    "duration": 16,
    "start_time": "2022-02-20T12:59:13.438Z"
   },
   {
    "duration": 6,
    "start_time": "2022-02-20T12:59:23.961Z"
   },
   {
    "duration": 19,
    "start_time": "2022-02-20T12:59:57.566Z"
   },
   {
    "duration": 5,
    "start_time": "2022-02-20T13:00:00.727Z"
   },
   {
    "duration": 4,
    "start_time": "2022-02-20T13:00:11.755Z"
   },
   {
    "duration": 5,
    "start_time": "2022-02-20T13:00:13.054Z"
   },
   {
    "duration": 19,
    "start_time": "2022-02-20T13:00:14.137Z"
   },
   {
    "duration": 5,
    "start_time": "2022-02-20T13:00:29.322Z"
   },
   {
    "duration": 717,
    "start_time": "2022-02-20T13:00:29.328Z"
   },
   {
    "duration": 19,
    "start_time": "2022-02-20T13:00:30.047Z"
   },
   {
    "duration": 25,
    "start_time": "2022-02-20T13:00:30.068Z"
   },
   {
    "duration": 22,
    "start_time": "2022-02-20T13:00:30.094Z"
   },
   {
    "duration": 18,
    "start_time": "2022-02-20T13:00:30.130Z"
   },
   {
    "duration": 9,
    "start_time": "2022-02-20T13:00:30.149Z"
   },
   {
    "duration": 14,
    "start_time": "2022-02-20T13:00:30.160Z"
   },
   {
    "duration": 6,
    "start_time": "2022-02-20T13:00:30.177Z"
   },
   {
    "duration": 6,
    "start_time": "2022-02-20T13:00:30.185Z"
   },
   {
    "duration": 43,
    "start_time": "2022-02-20T13:00:30.192Z"
   },
   {
    "duration": 12,
    "start_time": "2022-02-20T13:00:30.237Z"
   },
   {
    "duration": 3,
    "start_time": "2022-02-20T13:00:30.251Z"
   },
   {
    "duration": 5,
    "start_time": "2022-02-20T13:00:30.256Z"
   },
   {
    "duration": 19115,
    "start_time": "2022-02-20T13:00:30.262Z"
   },
   {
    "duration": 8,
    "start_time": "2022-02-20T13:00:49.379Z"
   },
   {
    "duration": 78,
    "start_time": "2022-02-20T13:00:49.388Z"
   },
   {
    "duration": 11,
    "start_time": "2022-02-20T13:00:49.467Z"
   },
   {
    "duration": 3,
    "start_time": "2022-02-20T13:00:49.480Z"
   },
   {
    "duration": 2019,
    "start_time": "2022-02-20T13:00:49.484Z"
   },
   {
    "duration": 27,
    "start_time": "2022-02-20T13:00:51.505Z"
   },
   {
    "duration": 18,
    "start_time": "2022-02-20T13:00:51.533Z"
   },
   {
    "duration": 18,
    "start_time": "2022-02-20T13:00:51.553Z"
   },
   {
    "duration": 2,
    "start_time": "2022-02-20T13:00:51.572Z"
   },
   {
    "duration": 16,
    "start_time": "2022-02-20T13:00:51.576Z"
   },
   {
    "duration": 148,
    "start_time": "2022-02-20T13:00:51.593Z"
   },
   {
    "duration": 464,
    "start_time": "2022-02-20T13:00:51.745Z"
   },
   {
    "duration": 1203,
    "start_time": "2022-02-20T13:00:52.211Z"
   },
   {
    "duration": 4,
    "start_time": "2022-02-20T13:00:53.415Z"
   },
   {
    "duration": 358,
    "start_time": "2022-02-20T13:00:53.420Z"
   },
   {
    "duration": 498,
    "start_time": "2022-02-20T13:00:53.780Z"
   },
   {
    "duration": 614,
    "start_time": "2022-02-20T13:00:54.280Z"
   },
   {
    "duration": 19,
    "start_time": "2022-02-20T13:00:54.896Z"
   },
   {
    "duration": 27,
    "start_time": "2022-02-20T13:00:54.917Z"
   },
   {
    "duration": 21,
    "start_time": "2022-02-20T13:00:54.945Z"
   },
   {
    "duration": 44,
    "start_time": "2022-02-20T13:00:54.967Z"
   },
   {
    "duration": -344,
    "start_time": "2022-02-20T13:00:55.357Z"
   },
   {
    "duration": -346,
    "start_time": "2022-02-20T13:00:55.361Z"
   },
   {
    "duration": -349,
    "start_time": "2022-02-20T13:00:55.365Z"
   },
   {
    "duration": 4,
    "start_time": "2022-02-20T13:02:48.209Z"
   },
   {
    "duration": 10,
    "start_time": "2022-02-20T13:02:50.331Z"
   },
   {
    "duration": 54,
    "start_time": "2022-02-20T13:02:51.650Z"
   },
   {
    "duration": 48980,
    "start_time": "2022-02-20T13:03:02.688Z"
   },
   {
    "duration": 56005,
    "start_time": "2022-02-20T13:05:43.212Z"
   },
   {
    "duration": 51414,
    "start_time": "2022-02-20T13:06:54.362Z"
   },
   {
    "duration": 50357,
    "start_time": "2022-02-20T13:08:00.878Z"
   },
   {
    "duration": 64316,
    "start_time": "2022-02-20T13:13:04.326Z"
   },
   {
    "duration": -85,
    "start_time": "2022-02-20T13:14:08.729Z"
   },
   {
    "duration": 9,
    "start_time": "2022-02-20T13:14:20.065Z"
   },
   {
    "duration": 49574,
    "start_time": "2022-02-20T13:14:20.962Z"
   },
   {
    "duration": 65447,
    "start_time": "2022-02-20T13:15:10.538Z"
   },
   {
    "duration": 137,
    "start_time": "2022-02-20T13:22:53.963Z"
   },
   {
    "duration": 212,
    "start_time": "2022-02-20T13:23:05.931Z"
   },
   {
    "duration": 133,
    "start_time": "2022-02-20T13:27:32.179Z"
   },
   {
    "duration": 150,
    "start_time": "2022-02-20T13:27:47.865Z"
   },
   {
    "duration": 17,
    "start_time": "2022-02-20T13:27:58.389Z"
   },
   {
    "duration": 16,
    "start_time": "2022-02-20T13:31:25.298Z"
   },
   {
    "duration": 148,
    "start_time": "2022-02-20T13:31:26.018Z"
   },
   {
    "duration": 616,
    "start_time": "2022-02-20T13:32:03.715Z"
   },
   {
    "duration": 421,
    "start_time": "2022-02-20T13:32:26.313Z"
   },
   {
    "duration": 1023,
    "start_time": "2022-02-20T13:35:26.813Z"
   },
   {
    "duration": 1715,
    "start_time": "2022-02-20T13:35:58.419Z"
   },
   {
    "duration": 1382,
    "start_time": "2022-02-20T13:37:28.658Z"
   },
   {
    "duration": 42,
    "start_time": "2022-02-20T13:40:22.845Z"
   },
   {
    "duration": 5,
    "start_time": "2022-02-20T13:45:36.566Z"
   },
   {
    "duration": 722,
    "start_time": "2022-02-20T13:45:36.573Z"
   },
   {
    "duration": 33,
    "start_time": "2022-02-20T13:45:37.298Z"
   },
   {
    "duration": 21,
    "start_time": "2022-02-20T13:45:37.333Z"
   },
   {
    "duration": 31,
    "start_time": "2022-02-20T13:45:37.356Z"
   },
   {
    "duration": 44,
    "start_time": "2022-02-20T13:45:37.389Z"
   },
   {
    "duration": 14,
    "start_time": "2022-02-20T13:45:37.436Z"
   },
   {
    "duration": 20,
    "start_time": "2022-02-20T13:45:37.452Z"
   },
   {
    "duration": 9,
    "start_time": "2022-02-20T13:45:37.476Z"
   },
   {
    "duration": 4,
    "start_time": "2022-02-20T13:45:37.488Z"
   },
   {
    "duration": 44,
    "start_time": "2022-02-20T13:45:37.494Z"
   },
   {
    "duration": 14,
    "start_time": "2022-02-20T13:45:37.540Z"
   },
   {
    "duration": 6,
    "start_time": "2022-02-20T13:45:37.557Z"
   },
   {
    "duration": 4,
    "start_time": "2022-02-20T13:45:37.565Z"
   },
   {
    "duration": 20254,
    "start_time": "2022-02-20T13:45:37.571Z"
   },
   {
    "duration": 9,
    "start_time": "2022-02-20T13:45:57.830Z"
   },
   {
    "duration": 56,
    "start_time": "2022-02-20T13:45:57.841Z"
   },
   {
    "duration": 31,
    "start_time": "2022-02-20T13:45:57.899Z"
   },
   {
    "duration": 3,
    "start_time": "2022-02-20T13:45:57.932Z"
   },
   {
    "duration": 2164,
    "start_time": "2022-02-20T13:45:57.936Z"
   },
   {
    "duration": 32,
    "start_time": "2022-02-20T13:46:00.102Z"
   },
   {
    "duration": 19,
    "start_time": "2022-02-20T13:46:00.136Z"
   },
   {
    "duration": 20,
    "start_time": "2022-02-20T13:46:00.157Z"
   },
   {
    "duration": 3,
    "start_time": "2022-02-20T13:46:00.179Z"
   },
   {
    "duration": 46,
    "start_time": "2022-02-20T13:46:00.184Z"
   },
   {
    "duration": 15,
    "start_time": "2022-02-20T13:46:00.232Z"
   },
   {
    "duration": 472,
    "start_time": "2022-02-20T13:46:00.250Z"
   },
   {
    "duration": 1035,
    "start_time": "2022-02-20T13:46:00.724Z"
   },
   {
    "duration": 4,
    "start_time": "2022-02-20T13:46:01.761Z"
   },
   {
    "duration": 352,
    "start_time": "2022-02-20T13:46:01.766Z"
   },
   {
    "duration": 489,
    "start_time": "2022-02-20T13:46:02.119Z"
   },
   {
    "duration": 349,
    "start_time": "2022-02-20T13:46:02.610Z"
   },
   {
    "duration": 13,
    "start_time": "2022-02-20T13:46:02.961Z"
   },
   {
    "duration": 20,
    "start_time": "2022-02-20T13:46:02.975Z"
   },
   {
    "duration": 6,
    "start_time": "2022-02-20T13:46:02.997Z"
   },
   {
    "duration": 38,
    "start_time": "2022-02-20T13:46:03.004Z"
   },
   {
    "duration": 9,
    "start_time": "2022-02-20T13:46:03.044Z"
   },
   {
    "duration": 13,
    "start_time": "2022-02-20T13:46:03.055Z"
   },
   {
    "duration": 48600,
    "start_time": "2022-02-20T13:46:03.069Z"
   },
   {
    "duration": 63814,
    "start_time": "2022-02-20T13:46:51.671Z"
   },
   {
    "duration": 130,
    "start_time": "2022-02-20T13:47:55.487Z"
   },
   {
    "duration": 273,
    "start_time": "2022-02-20T13:47:55.346Z"
   },
   {
    "duration": 4,
    "start_time": "2022-02-20T13:50:36.023Z"
   },
   {
    "duration": 783,
    "start_time": "2022-02-20T13:50:36.029Z"
   },
   {
    "duration": 32,
    "start_time": "2022-02-20T13:50:36.814Z"
   },
   {
    "duration": 28,
    "start_time": "2022-02-20T13:50:36.848Z"
   },
   {
    "duration": 18,
    "start_time": "2022-02-20T13:50:36.878Z"
   },
   {
    "duration": 39,
    "start_time": "2022-02-20T13:50:36.898Z"
   },
   {
    "duration": 10,
    "start_time": "2022-02-20T13:50:36.939Z"
   },
   {
    "duration": 16,
    "start_time": "2022-02-20T13:50:36.951Z"
   },
   {
    "duration": 7,
    "start_time": "2022-02-20T13:50:36.969Z"
   },
   {
    "duration": 6,
    "start_time": "2022-02-20T13:50:36.977Z"
   },
   {
    "duration": 12,
    "start_time": "2022-02-20T13:50:36.985Z"
   },
   {
    "duration": 35,
    "start_time": "2022-02-20T13:50:36.999Z"
   },
   {
    "duration": 4,
    "start_time": "2022-02-20T13:50:37.035Z"
   },
   {
    "duration": 7,
    "start_time": "2022-02-20T13:50:37.041Z"
   },
   {
    "duration": 19318,
    "start_time": "2022-02-20T13:50:37.050Z"
   },
   {
    "duration": 10,
    "start_time": "2022-02-20T13:50:56.370Z"
   },
   {
    "duration": 77,
    "start_time": "2022-02-20T13:50:56.381Z"
   },
   {
    "duration": 11,
    "start_time": "2022-02-20T13:50:56.459Z"
   },
   {
    "duration": 3,
    "start_time": "2022-02-20T13:50:56.471Z"
   },
   {
    "duration": 2135,
    "start_time": "2022-02-20T13:50:56.475Z"
   },
   {
    "duration": 28,
    "start_time": "2022-02-20T13:50:58.611Z"
   },
   {
    "duration": 19,
    "start_time": "2022-02-20T13:50:58.640Z"
   },
   {
    "duration": 19,
    "start_time": "2022-02-20T13:50:58.662Z"
   },
   {
    "duration": 2,
    "start_time": "2022-02-20T13:50:58.683Z"
   },
   {
    "duration": 20,
    "start_time": "2022-02-20T13:50:58.686Z"
   },
   {
    "duration": 35,
    "start_time": "2022-02-20T13:50:58.707Z"
   },
   {
    "duration": 472,
    "start_time": "2022-02-20T13:50:58.743Z"
   },
   {
    "duration": 1098,
    "start_time": "2022-02-20T13:50:59.217Z"
   },
   {
    "duration": 4,
    "start_time": "2022-02-20T13:51:00.317Z"
   },
   {
    "duration": 494,
    "start_time": "2022-02-20T13:51:00.323Z"
   },
   {
    "duration": 383,
    "start_time": "2022-02-20T13:51:00.819Z"
   },
   {
    "duration": 351,
    "start_time": "2022-02-20T13:51:01.204Z"
   },
   {
    "duration": 20,
    "start_time": "2022-02-20T13:51:01.557Z"
   },
   {
    "duration": 25,
    "start_time": "2022-02-20T13:51:01.578Z"
   },
   {
    "duration": 46,
    "start_time": "2022-02-20T13:51:01.604Z"
   },
   {
    "duration": 5,
    "start_time": "2022-02-20T13:51:01.652Z"
   },
   {
    "duration": 12,
    "start_time": "2022-02-20T13:51:01.659Z"
   },
   {
    "duration": 48853,
    "start_time": "2022-02-20T13:51:01.673Z"
   },
   {
    "duration": 1528,
    "start_time": "2022-02-21T11:08:45.757Z"
   },
   {
    "duration": 2040,
    "start_time": "2022-02-21T11:08:47.288Z"
   },
   {
    "duration": 27,
    "start_time": "2022-02-21T11:08:49.331Z"
   },
   {
    "duration": 22,
    "start_time": "2022-02-21T11:08:49.360Z"
   },
   {
    "duration": 45,
    "start_time": "2022-02-21T11:08:49.383Z"
   },
   {
    "duration": 41,
    "start_time": "2022-02-21T11:08:49.430Z"
   },
   {
    "duration": 12,
    "start_time": "2022-02-21T11:08:49.473Z"
   },
   {
    "duration": 45,
    "start_time": "2022-02-21T11:08:49.487Z"
   },
   {
    "duration": 6,
    "start_time": "2022-02-21T11:08:49.535Z"
   },
   {
    "duration": 21,
    "start_time": "2022-02-21T11:08:49.544Z"
   },
   {
    "duration": 26,
    "start_time": "2022-02-21T11:08:49.567Z"
   },
   {
    "duration": 25,
    "start_time": "2022-02-21T11:08:49.595Z"
   },
   {
    "duration": 13,
    "start_time": "2022-02-21T11:08:49.622Z"
   },
   {
    "duration": 16,
    "start_time": "2022-02-21T11:08:49.637Z"
   },
   {
    "duration": 22075,
    "start_time": "2022-02-21T11:08:49.655Z"
   },
   {
    "duration": 12,
    "start_time": "2022-02-21T11:09:11.732Z"
   },
   {
    "duration": 82,
    "start_time": "2022-02-21T11:09:11.746Z"
   },
   {
    "duration": 16,
    "start_time": "2022-02-21T11:09:11.831Z"
   },
   {
    "duration": 9,
    "start_time": "2022-02-21T11:09:11.849Z"
   },
   {
    "duration": 2504,
    "start_time": "2022-02-21T11:09:11.860Z"
   },
   {
    "duration": 22,
    "start_time": "2022-02-21T11:09:14.366Z"
   },
   {
    "duration": 33,
    "start_time": "2022-02-21T11:09:14.390Z"
   },
   {
    "duration": 24,
    "start_time": "2022-02-21T11:09:14.424Z"
   },
   {
    "duration": 9,
    "start_time": "2022-02-21T11:09:14.450Z"
   },
   {
    "duration": 39,
    "start_time": "2022-02-21T11:09:14.461Z"
   },
   {
    "duration": 19,
    "start_time": "2022-02-21T11:09:14.502Z"
   },
   {
    "duration": 505,
    "start_time": "2022-02-21T11:09:14.526Z"
   },
   {
    "duration": 1455,
    "start_time": "2022-02-21T11:09:15.033Z"
   },
   {
    "duration": 5,
    "start_time": "2022-02-21T11:09:16.491Z"
   },
   {
    "duration": 441,
    "start_time": "2022-02-21T11:09:16.497Z"
   },
   {
    "duration": 424,
    "start_time": "2022-02-21T11:09:16.941Z"
   },
   {
    "duration": 410,
    "start_time": "2022-02-21T11:09:17.368Z"
   },
   {
    "duration": 32,
    "start_time": "2022-02-21T11:09:17.781Z"
   },
   {
    "duration": 46,
    "start_time": "2022-02-21T11:09:17.815Z"
   },
   {
    "duration": 44,
    "start_time": "2022-02-21T11:09:17.863Z"
   },
   {
    "duration": 30,
    "start_time": "2022-02-21T11:09:17.909Z"
   },
   {
    "duration": 42,
    "start_time": "2022-02-21T11:09:17.941Z"
   },
   {
    "duration": 61957,
    "start_time": "2022-02-21T11:09:17.985Z"
   },
   {
    "duration": 76452,
    "start_time": "2022-02-21T11:10:19.944Z"
   },
   {
    "duration": 25,
    "start_time": "2022-02-21T11:11:36.398Z"
   },
   {
    "duration": 891,
    "start_time": "2022-02-21T11:11:36.425Z"
   },
   {
    "duration": 461,
    "start_time": "2022-02-21T11:19:44.742Z"
   },
   {
    "duration": 6,
    "start_time": "2022-02-21T11:19:49.224Z"
   },
   {
    "duration": 820,
    "start_time": "2022-02-21T11:19:49.235Z"
   },
   {
    "duration": 24,
    "start_time": "2022-02-21T11:19:50.057Z"
   },
   {
    "duration": 37,
    "start_time": "2022-02-21T11:19:50.083Z"
   },
   {
    "duration": 30,
    "start_time": "2022-02-21T11:19:50.122Z"
   },
   {
    "duration": 23,
    "start_time": "2022-02-21T11:19:50.155Z"
   },
   {
    "duration": 27,
    "start_time": "2022-02-21T11:19:50.180Z"
   },
   {
    "duration": 17,
    "start_time": "2022-02-21T11:19:50.209Z"
   },
   {
    "duration": 7,
    "start_time": "2022-02-21T11:19:50.227Z"
   },
   {
    "duration": 5,
    "start_time": "2022-02-21T11:19:50.237Z"
   },
   {
    "duration": 14,
    "start_time": "2022-02-21T11:19:50.245Z"
   },
   {
    "duration": 11,
    "start_time": "2022-02-21T11:19:50.261Z"
   },
   {
    "duration": 4,
    "start_time": "2022-02-21T11:19:50.309Z"
   },
   {
    "duration": 14,
    "start_time": "2022-02-21T11:19:50.315Z"
   },
   {
    "duration": 22945,
    "start_time": "2022-02-21T11:19:50.331Z"
   },
   {
    "duration": 11,
    "start_time": "2022-02-21T11:20:13.278Z"
   },
   {
    "duration": 78,
    "start_time": "2022-02-21T11:20:13.291Z"
   },
   {
    "duration": 12,
    "start_time": "2022-02-21T11:20:13.371Z"
   },
   {
    "duration": 24,
    "start_time": "2022-02-21T11:20:13.386Z"
   },
   {
    "duration": 2458,
    "start_time": "2022-02-21T11:20:13.412Z"
   },
   {
    "duration": 37,
    "start_time": "2022-02-21T11:20:15.872Z"
   },
   {
    "duration": 26,
    "start_time": "2022-02-21T11:20:15.911Z"
   },
   {
    "duration": 25,
    "start_time": "2022-02-21T11:20:15.939Z"
   },
   {
    "duration": 4,
    "start_time": "2022-02-21T11:20:15.966Z"
   },
   {
    "duration": 51,
    "start_time": "2022-02-21T11:20:15.972Z"
   },
   {
    "duration": 18,
    "start_time": "2022-02-21T11:20:16.025Z"
   },
   {
    "duration": 647,
    "start_time": "2022-02-21T11:20:16.046Z"
   },
   {
    "duration": 2109,
    "start_time": "2022-02-21T11:20:16.698Z"
   },
   {
    "duration": 7,
    "start_time": "2022-02-21T11:20:18.810Z"
   },
   {
    "duration": 624,
    "start_time": "2022-02-21T11:20:18.820Z"
   },
   {
    "duration": 631,
    "start_time": "2022-02-21T11:20:19.447Z"
   },
   {
    "duration": 615,
    "start_time": "2022-02-21T11:20:20.080Z"
   },
   {
    "duration": 216,
    "start_time": "2022-02-21T11:20:20.697Z"
   },
   {
    "duration": -3,
    "start_time": "2022-02-21T11:20:20.918Z"
   },
   {
    "duration": -9,
    "start_time": "2022-02-21T11:20:20.925Z"
   },
   {
    "duration": -14,
    "start_time": "2022-02-21T11:20:20.931Z"
   },
   {
    "duration": -18,
    "start_time": "2022-02-21T11:20:20.936Z"
   },
   {
    "duration": -22,
    "start_time": "2022-02-21T11:20:20.942Z"
   },
   {
    "duration": -26,
    "start_time": "2022-02-21T11:20:20.947Z"
   },
   {
    "duration": -29,
    "start_time": "2022-02-21T11:20:20.951Z"
   },
   {
    "duration": -33,
    "start_time": "2022-02-21T11:20:20.956Z"
   },
   {
    "duration": -36,
    "start_time": "2022-02-21T11:20:20.960Z"
   },
   {
    "duration": -41,
    "start_time": "2022-02-21T11:20:20.966Z"
   },
   {
    "duration": 218,
    "start_time": "2022-02-21T11:20:27.157Z"
   },
   {
    "duration": 286,
    "start_time": "2022-02-21T11:22:24.652Z"
   },
   {
    "duration": 17,
    "start_time": "2022-02-21T11:23:26.472Z"
   },
   {
    "duration": 6,
    "start_time": "2022-02-21T11:23:43.690Z"
   },
   {
    "duration": 6,
    "start_time": "2022-02-21T11:23:54.435Z"
   },
   {
    "duration": 15,
    "start_time": "2022-02-21T11:24:17.589Z"
   },
   {
    "duration": 6,
    "start_time": "2022-02-21T11:24:18.434Z"
   },
   {
    "duration": 6,
    "start_time": "2022-02-21T11:24:27.901Z"
   },
   {
    "duration": 1098,
    "start_time": "2022-02-21T11:24:27.909Z"
   },
   {
    "duration": 29,
    "start_time": "2022-02-21T11:24:29.010Z"
   },
   {
    "duration": 22,
    "start_time": "2022-02-21T11:24:29.041Z"
   },
   {
    "duration": 44,
    "start_time": "2022-02-21T11:24:29.065Z"
   },
   {
    "duration": 23,
    "start_time": "2022-02-21T11:24:29.111Z"
   },
   {
    "duration": 13,
    "start_time": "2022-02-21T11:24:29.135Z"
   },
   {
    "duration": 24,
    "start_time": "2022-02-21T11:24:29.150Z"
   },
   {
    "duration": 43,
    "start_time": "2022-02-21T11:24:29.177Z"
   },
   {
    "duration": 15,
    "start_time": "2022-02-21T11:24:29.224Z"
   },
   {
    "duration": 16,
    "start_time": "2022-02-21T11:24:29.241Z"
   },
   {
    "duration": 26,
    "start_time": "2022-02-21T11:24:29.260Z"
   },
   {
    "duration": 4,
    "start_time": "2022-02-21T11:24:29.288Z"
   },
   {
    "duration": 31,
    "start_time": "2022-02-21T11:24:29.294Z"
   },
   {
    "duration": 6,
    "start_time": "2022-02-21T11:27:20.261Z"
   },
   {
    "duration": 771,
    "start_time": "2022-02-21T11:27:20.310Z"
   },
   {
    "duration": 45,
    "start_time": "2022-02-21T11:27:21.110Z"
   },
   {
    "duration": 23,
    "start_time": "2022-02-21T11:27:21.189Z"
   },
   {
    "duration": 36,
    "start_time": "2022-02-21T11:27:21.227Z"
   },
   {
    "duration": 18,
    "start_time": "2022-02-21T11:27:22.026Z"
   },
   {
    "duration": 39,
    "start_time": "2022-02-21T11:27:22.081Z"
   },
   {
    "duration": 17,
    "start_time": "2022-02-21T11:27:22.151Z"
   },
   {
    "duration": 7,
    "start_time": "2022-02-21T11:27:22.231Z"
   },
   {
    "duration": 3,
    "start_time": "2022-02-21T11:27:22.264Z"
   },
   {
    "duration": 11,
    "start_time": "2022-02-21T11:27:22.310Z"
   },
   {
    "duration": 12,
    "start_time": "2022-02-21T11:27:22.345Z"
   },
   {
    "duration": -140,
    "start_time": "2022-02-21T11:27:22.745Z"
   },
   {
    "duration": -145,
    "start_time": "2022-02-21T11:27:22.753Z"
   },
   {
    "duration": -151,
    "start_time": "2022-02-21T11:27:22.762Z"
   },
   {
    "duration": -178,
    "start_time": "2022-02-21T11:27:22.792Z"
   },
   {
    "duration": -195,
    "start_time": "2022-02-21T11:27:22.812Z"
   },
   {
    "duration": -236,
    "start_time": "2022-02-21T11:27:22.856Z"
   },
   {
    "duration": -255,
    "start_time": "2022-02-21T11:27:22.878Z"
   },
   {
    "duration": -264,
    "start_time": "2022-02-21T11:27:22.890Z"
   },
   {
    "duration": -269,
    "start_time": "2022-02-21T11:27:22.898Z"
   },
   {
    "duration": -279,
    "start_time": "2022-02-21T11:27:22.910Z"
   },
   {
    "duration": -286,
    "start_time": "2022-02-21T11:27:22.919Z"
   },
   {
    "duration": -293,
    "start_time": "2022-02-21T11:27:22.928Z"
   },
   {
    "duration": -301,
    "start_time": "2022-02-21T11:27:22.938Z"
   },
   {
    "duration": -306,
    "start_time": "2022-02-21T11:27:22.945Z"
   },
   {
    "duration": -313,
    "start_time": "2022-02-21T11:27:22.954Z"
   },
   {
    "duration": -318,
    "start_time": "2022-02-21T11:27:22.962Z"
   },
   {
    "duration": -323,
    "start_time": "2022-02-21T11:27:22.970Z"
   },
   {
    "duration": -332,
    "start_time": "2022-02-21T11:27:22.981Z"
   },
   {
    "duration": -281,
    "start_time": "2022-02-21T11:27:22.990Z"
   },
   {
    "duration": -288,
    "start_time": "2022-02-21T11:27:22.999Z"
   },
   {
    "duration": -293,
    "start_time": "2022-02-21T11:27:23.007Z"
   },
   {
    "duration": -299,
    "start_time": "2022-02-21T11:27:23.015Z"
   },
   {
    "duration": -306,
    "start_time": "2022-02-21T11:27:23.024Z"
   },
   {
    "duration": -312,
    "start_time": "2022-02-21T11:27:23.032Z"
   },
   {
    "duration": -319,
    "start_time": "2022-02-21T11:27:23.042Z"
   },
   {
    "duration": -326,
    "start_time": "2022-02-21T11:27:23.051Z"
   },
   {
    "duration": -333,
    "start_time": "2022-02-21T11:27:23.060Z"
   },
   {
    "duration": -337,
    "start_time": "2022-02-21T11:27:23.067Z"
   },
   {
    "duration": -344,
    "start_time": "2022-02-21T11:27:23.076Z"
   },
   {
    "duration": -350,
    "start_time": "2022-02-21T11:27:23.084Z"
   },
   {
    "duration": -357,
    "start_time": "2022-02-21T11:27:23.093Z"
   },
   {
    "duration": 214,
    "start_time": "2022-02-21T11:28:02.727Z"
   },
   {
    "duration": 5,
    "start_time": "2022-02-21T11:28:09.526Z"
   },
   {
    "duration": 776,
    "start_time": "2022-02-21T11:28:09.534Z"
   },
   {
    "duration": 23,
    "start_time": "2022-02-21T11:28:10.313Z"
   },
   {
    "duration": 23,
    "start_time": "2022-02-21T11:28:10.338Z"
   },
   {
    "duration": 45,
    "start_time": "2022-02-21T11:28:10.363Z"
   },
   {
    "duration": 45,
    "start_time": "2022-02-21T11:28:10.410Z"
   },
   {
    "duration": 25,
    "start_time": "2022-02-21T11:28:10.457Z"
   },
   {
    "duration": 42,
    "start_time": "2022-02-21T11:28:10.485Z"
   },
   {
    "duration": 6,
    "start_time": "2022-02-21T11:28:10.531Z"
   },
   {
    "duration": 26,
    "start_time": "2022-02-21T11:28:10.539Z"
   },
   {
    "duration": 31,
    "start_time": "2022-02-21T11:28:10.567Z"
   },
   {
    "duration": 24,
    "start_time": "2022-02-21T11:28:10.600Z"
   },
   {
    "duration": 13,
    "start_time": "2022-02-21T11:28:10.626Z"
   },
   {
    "duration": 5,
    "start_time": "2022-02-21T11:28:10.641Z"
   },
   {
    "duration": 24332,
    "start_time": "2022-02-21T11:28:10.648Z"
   },
   {
    "duration": 12,
    "start_time": "2022-02-21T11:28:34.982Z"
   },
   {
    "duration": 67,
    "start_time": "2022-02-21T11:28:35.008Z"
   },
   {
    "duration": 30,
    "start_time": "2022-02-21T11:28:35.078Z"
   },
   {
    "duration": 3,
    "start_time": "2022-02-21T11:28:35.111Z"
   },
   {
    "duration": 2732,
    "start_time": "2022-02-21T11:28:35.116Z"
   },
   {
    "duration": 25,
    "start_time": "2022-02-21T11:28:37.850Z"
   },
   {
    "duration": 51,
    "start_time": "2022-02-21T11:28:37.877Z"
   },
   {
    "duration": 30,
    "start_time": "2022-02-21T11:28:37.930Z"
   },
   {
    "duration": 3,
    "start_time": "2022-02-21T11:28:37.962Z"
   },
   {
    "duration": 47,
    "start_time": "2022-02-21T11:28:37.968Z"
   },
   {
    "duration": 22,
    "start_time": "2022-02-21T11:28:38.018Z"
   },
   {
    "duration": 512,
    "start_time": "2022-02-21T11:28:38.045Z"
   },
   {
    "duration": 1287,
    "start_time": "2022-02-21T11:28:38.559Z"
   },
   {
    "duration": 5,
    "start_time": "2022-02-21T11:28:39.849Z"
   },
   {
    "duration": 423,
    "start_time": "2022-02-21T11:28:39.856Z"
   },
   {
    "duration": 741,
    "start_time": "2022-02-21T11:28:40.281Z"
   },
   {
    "duration": 657,
    "start_time": "2022-02-21T11:28:41.025Z"
   },
   {
    "duration": 24,
    "start_time": "2022-02-21T11:28:41.684Z"
   },
   {
    "duration": 5,
    "start_time": "2022-02-21T11:28:41.711Z"
   },
   {
    "duration": 28,
    "start_time": "2022-02-21T11:28:41.718Z"
   },
   {
    "duration": 24,
    "start_time": "2022-02-21T11:28:41.749Z"
   },
   {
    "duration": 48,
    "start_time": "2022-02-21T11:28:41.775Z"
   },
   {
    "duration": 7,
    "start_time": "2022-02-21T11:28:41.825Z"
   },
   {
    "duration": 16,
    "start_time": "2022-02-21T11:28:41.834Z"
   },
   {
    "duration": 58664,
    "start_time": "2022-02-21T11:28:41.852Z"
   },
   {
    "duration": 76632,
    "start_time": "2022-02-21T11:29:40.518Z"
   },
   {
    "duration": 24,
    "start_time": "2022-02-21T11:30:57.153Z"
   },
   {
    "duration": 1530,
    "start_time": "2022-02-21T11:30:57.179Z"
   },
   {
    "duration": 23,
    "start_time": "2022-02-21T11:31:57.599Z"
   },
   {
    "duration": 247,
    "start_time": "2022-02-21T11:32:09.644Z"
   },
   {
    "duration": 210,
    "start_time": "2022-02-21T11:32:37.160Z"
   },
   {
    "duration": 210,
    "start_time": "2022-02-21T11:33:07.197Z"
   },
   {
    "duration": 224,
    "start_time": "2022-02-21T11:33:18.865Z"
   },
   {
    "duration": 7,
    "start_time": "2022-02-21T11:37:48.180Z"
   },
   {
    "duration": 285,
    "start_time": "2022-02-21T11:37:54.104Z"
   },
   {
    "duration": 6,
    "start_time": "2022-02-21T11:37:57.746Z"
   },
   {
    "duration": 6,
    "start_time": "2022-02-21T11:38:03.035Z"
   },
   {
    "duration": 958,
    "start_time": "2022-02-21T11:38:03.044Z"
   },
   {
    "duration": 22,
    "start_time": "2022-02-21T11:38:04.005Z"
   },
   {
    "duration": 23,
    "start_time": "2022-02-21T11:38:04.030Z"
   },
   {
    "duration": 31,
    "start_time": "2022-02-21T11:38:04.056Z"
   },
   {
    "duration": 22,
    "start_time": "2022-02-21T11:38:04.107Z"
   },
   {
    "duration": 12,
    "start_time": "2022-02-21T11:38:04.132Z"
   },
   {
    "duration": 24,
    "start_time": "2022-02-21T11:38:04.147Z"
   },
   {
    "duration": 40,
    "start_time": "2022-02-21T11:38:04.173Z"
   },
   {
    "duration": 7,
    "start_time": "2022-02-21T11:38:04.215Z"
   },
   {
    "duration": 13,
    "start_time": "2022-02-21T11:38:04.224Z"
   },
   {
    "duration": 17,
    "start_time": "2022-02-21T11:38:04.240Z"
   },
   {
    "duration": 6,
    "start_time": "2022-02-21T11:38:04.259Z"
   },
   {
    "duration": 10,
    "start_time": "2022-02-21T11:38:04.268Z"
   },
   {
    "duration": 24058,
    "start_time": "2022-02-21T11:38:04.280Z"
   },
   {
    "duration": 11,
    "start_time": "2022-02-21T11:38:28.340Z"
   },
   {
    "duration": 95,
    "start_time": "2022-02-21T11:38:28.353Z"
   },
   {
    "duration": 14,
    "start_time": "2022-02-21T11:38:28.450Z"
   },
   {
    "duration": 3,
    "start_time": "2022-02-21T11:38:28.469Z"
   },
   {
    "duration": 2663,
    "start_time": "2022-02-21T11:38:28.475Z"
   },
   {
    "duration": 24,
    "start_time": "2022-02-21T11:38:31.140Z"
   },
   {
    "duration": 50,
    "start_time": "2022-02-21T11:38:31.166Z"
   },
   {
    "duration": 66,
    "start_time": "2022-02-21T11:38:31.219Z"
   },
   {
    "duration": 6,
    "start_time": "2022-02-21T11:38:31.287Z"
   },
   {
    "duration": 44,
    "start_time": "2022-02-21T11:38:31.295Z"
   },
   {
    "duration": 22,
    "start_time": "2022-02-21T11:38:31.341Z"
   },
   {
    "duration": 519,
    "start_time": "2022-02-21T11:38:31.365Z"
   },
   {
    "duration": 1333,
    "start_time": "2022-02-21T11:38:31.886Z"
   },
   {
    "duration": 7,
    "start_time": "2022-02-21T11:38:33.222Z"
   },
   {
    "duration": 622,
    "start_time": "2022-02-21T11:38:33.231Z"
   },
   {
    "duration": 437,
    "start_time": "2022-02-21T11:38:33.855Z"
   },
   {
    "duration": 541,
    "start_time": "2022-02-21T11:38:34.295Z"
   },
   {
    "duration": 23,
    "start_time": "2022-02-21T11:38:34.839Z"
   },
   {
    "duration": 197,
    "start_time": "2022-02-21T11:38:34.864Z"
   },
   {
    "duration": 7,
    "start_time": "2022-02-21T11:38:35.057Z"
   },
   {
    "duration": -4,
    "start_time": "2022-02-21T11:38:35.070Z"
   },
   {
    "duration": -8,
    "start_time": "2022-02-21T11:38:35.075Z"
   },
   {
    "duration": -19,
    "start_time": "2022-02-21T11:38:35.088Z"
   },
   {
    "duration": -24,
    "start_time": "2022-02-21T11:38:35.094Z"
   },
   {
    "duration": -33,
    "start_time": "2022-02-21T11:38:35.105Z"
   },
   {
    "duration": -37,
    "start_time": "2022-02-21T11:38:35.111Z"
   },
   {
    "duration": -49,
    "start_time": "2022-02-21T11:38:35.125Z"
   },
   {
    "duration": -58,
    "start_time": "2022-02-21T11:38:35.135Z"
   },
   {
    "duration": 22,
    "start_time": "2022-02-21T11:39:18.215Z"
   },
   {
    "duration": 218,
    "start_time": "2022-02-21T11:46:08.207Z"
   },
   {
    "duration": 5401,
    "start_time": "2022-02-21T11:46:21.367Z"
   },
   {
    "duration": 5657,
    "start_time": "2022-02-21T11:47:09.132Z"
   },
   {
    "duration": 5483,
    "start_time": "2022-02-21T11:48:44.171Z"
   },
   {
    "duration": 5544,
    "start_time": "2022-02-21T11:49:21.779Z"
   },
   {
    "duration": 220,
    "start_time": "2022-02-21T11:51:28.866Z"
   },
   {
    "duration": 7,
    "start_time": "2022-02-21T11:51:50.573Z"
   },
   {
    "duration": 6,
    "start_time": "2022-02-21T11:52:02.863Z"
   },
   {
    "duration": 245,
    "start_time": "2022-02-21T11:52:59.973Z"
   },
   {
    "duration": 431,
    "start_time": "2022-02-21T11:53:41.637Z"
   },
   {
    "duration": 213,
    "start_time": "2022-02-21T11:54:47.726Z"
   },
   {
    "duration": 6,
    "start_time": "2022-02-21T11:56:12.303Z"
   },
   {
    "duration": 793,
    "start_time": "2022-02-21T11:56:12.322Z"
   },
   {
    "duration": 25,
    "start_time": "2022-02-21T11:56:13.118Z"
   },
   {
    "duration": 28,
    "start_time": "2022-02-21T11:56:13.145Z"
   },
   {
    "duration": 41,
    "start_time": "2022-02-21T11:56:13.176Z"
   },
   {
    "duration": 19,
    "start_time": "2022-02-21T11:56:13.220Z"
   },
   {
    "duration": 12,
    "start_time": "2022-02-21T11:56:13.240Z"
   },
   {
    "duration": 17,
    "start_time": "2022-02-21T11:56:13.254Z"
   },
   {
    "duration": 3,
    "start_time": "2022-02-21T11:56:13.273Z"
   },
   {
    "duration": 6,
    "start_time": "2022-02-21T11:56:13.315Z"
   },
   {
    "duration": 14,
    "start_time": "2022-02-21T11:56:13.324Z"
   },
   {
    "duration": 9,
    "start_time": "2022-02-21T11:56:13.340Z"
   },
   {
    "duration": 9,
    "start_time": "2022-02-21T11:56:13.351Z"
   },
   {
    "duration": 8,
    "start_time": "2022-02-21T11:56:13.361Z"
   },
   {
    "duration": 23854,
    "start_time": "2022-02-21T11:56:13.371Z"
   },
   {
    "duration": 11,
    "start_time": "2022-02-21T11:56:37.227Z"
   },
   {
    "duration": 109,
    "start_time": "2022-02-21T11:56:37.240Z"
   },
   {
    "duration": 14,
    "start_time": "2022-02-21T11:56:37.351Z"
   },
   {
    "duration": 40,
    "start_time": "2022-02-21T11:56:37.368Z"
   },
   {
    "duration": 2597,
    "start_time": "2022-02-21T11:56:37.416Z"
   },
   {
    "duration": 24,
    "start_time": "2022-02-21T11:56:40.016Z"
   },
   {
    "duration": 28,
    "start_time": "2022-02-21T11:56:40.043Z"
   },
   {
    "duration": 52,
    "start_time": "2022-02-21T11:56:40.073Z"
   },
   {
    "duration": 10,
    "start_time": "2022-02-21T11:56:40.127Z"
   },
   {
    "duration": 44,
    "start_time": "2022-02-21T11:56:40.138Z"
   },
   {
    "duration": 39,
    "start_time": "2022-02-21T11:56:40.185Z"
   },
   {
    "duration": 511,
    "start_time": "2022-02-21T11:56:40.227Z"
   },
   {
    "duration": 1465,
    "start_time": "2022-02-21T11:56:40.742Z"
   },
   {
    "duration": 8,
    "start_time": "2022-02-21T11:56:42.210Z"
   },
   {
    "duration": 422,
    "start_time": "2022-02-21T11:56:42.221Z"
   },
   {
    "duration": 428,
    "start_time": "2022-02-21T11:56:42.646Z"
   },
   {
    "duration": 408,
    "start_time": "2022-02-21T11:56:43.077Z"
   },
   {
    "duration": 37,
    "start_time": "2022-02-21T11:56:43.487Z"
   },
   {
    "duration": 12,
    "start_time": "2022-02-21T11:56:43.526Z"
   },
   {
    "duration": 280,
    "start_time": "2022-02-21T11:56:43.540Z"
   },
   {
    "duration": -152,
    "start_time": "2022-02-21T11:56:43.975Z"
   },
   {
    "duration": -157,
    "start_time": "2022-02-21T11:56:43.981Z"
   },
   {
    "duration": -161,
    "start_time": "2022-02-21T11:56:43.986Z"
   },
   {
    "duration": -164,
    "start_time": "2022-02-21T11:56:43.991Z"
   },
   {
    "duration": -167,
    "start_time": "2022-02-21T11:56:43.996Z"
   },
   {
    "duration": -172,
    "start_time": "2022-02-21T11:56:44.002Z"
   },
   {
    "duration": -175,
    "start_time": "2022-02-21T11:56:44.007Z"
   },
   {
    "duration": -179,
    "start_time": "2022-02-21T11:56:44.013Z"
   },
   {
    "duration": -183,
    "start_time": "2022-02-21T11:56:44.018Z"
   },
   {
    "duration": 231,
    "start_time": "2022-02-21T11:57:18.109Z"
   },
   {
    "duration": 310,
    "start_time": "2022-02-21T11:57:38.531Z"
   },
   {
    "duration": 262,
    "start_time": "2022-02-21T12:00:06.572Z"
   },
   {
    "duration": 7,
    "start_time": "2022-02-21T12:00:17.156Z"
   },
   {
    "duration": 272,
    "start_time": "2022-02-21T12:00:20.584Z"
   },
   {
    "duration": 221,
    "start_time": "2022-02-21T12:00:23.109Z"
   },
   {
    "duration": 6,
    "start_time": "2022-02-21T12:00:29.991Z"
   },
   {
    "duration": 800,
    "start_time": "2022-02-21T12:00:30.000Z"
   },
   {
    "duration": 29,
    "start_time": "2022-02-21T12:00:30.802Z"
   },
   {
    "duration": 38,
    "start_time": "2022-02-21T12:00:30.834Z"
   },
   {
    "duration": 44,
    "start_time": "2022-02-21T12:00:30.874Z"
   },
   {
    "duration": 52,
    "start_time": "2022-02-21T12:00:30.921Z"
   },
   {
    "duration": 22,
    "start_time": "2022-02-21T12:00:30.977Z"
   },
   {
    "duration": 32,
    "start_time": "2022-02-21T12:00:31.002Z"
   },
   {
    "duration": 31,
    "start_time": "2022-02-21T12:00:31.036Z"
   },
   {
    "duration": 42,
    "start_time": "2022-02-21T12:00:31.069Z"
   },
   {
    "duration": 50,
    "start_time": "2022-02-21T12:00:31.114Z"
   },
   {
    "duration": 49,
    "start_time": "2022-02-21T12:00:31.167Z"
   },
   {
    "duration": 32,
    "start_time": "2022-02-21T12:00:31.218Z"
   },
   {
    "duration": 30,
    "start_time": "2022-02-21T12:00:31.252Z"
   },
   {
    "duration": 22742,
    "start_time": "2022-02-21T12:00:31.284Z"
   },
   {
    "duration": 11,
    "start_time": "2022-02-21T12:00:54.028Z"
   },
   {
    "duration": 98,
    "start_time": "2022-02-21T12:00:54.041Z"
   },
   {
    "duration": 13,
    "start_time": "2022-02-21T12:00:54.142Z"
   },
   {
    "duration": 3,
    "start_time": "2022-02-21T12:00:54.161Z"
   },
   {
    "duration": 2556,
    "start_time": "2022-02-21T12:00:54.167Z"
   },
   {
    "duration": 24,
    "start_time": "2022-02-21T12:00:56.725Z"
   },
   {
    "duration": 23,
    "start_time": "2022-02-21T12:00:56.751Z"
   },
   {
    "duration": 54,
    "start_time": "2022-02-21T12:00:56.776Z"
   },
   {
    "duration": 2,
    "start_time": "2022-02-21T12:00:56.832Z"
   },
   {
    "duration": 20,
    "start_time": "2022-02-21T12:00:56.836Z"
   },
   {
    "duration": 17,
    "start_time": "2022-02-21T12:00:56.860Z"
   },
   {
    "duration": 568,
    "start_time": "2022-02-21T12:00:56.879Z"
   },
   {
    "duration": 1444,
    "start_time": "2022-02-21T12:00:57.449Z"
   },
   {
    "duration": 5,
    "start_time": "2022-02-21T12:00:58.895Z"
   },
   {
    "duration": 438,
    "start_time": "2022-02-21T12:00:58.901Z"
   },
   {
    "duration": -5,
    "start_time": "2022-02-21T12:01:00.700Z"
   },
   {
    "duration": -11,
    "start_time": "2022-02-21T12:01:00.707Z"
   },
   {
    "duration": -19,
    "start_time": "2022-02-21T12:01:00.716Z"
   },
   {
    "duration": -26,
    "start_time": "2022-02-21T12:01:00.724Z"
   },
   {
    "duration": -32,
    "start_time": "2022-02-21T12:01:00.732Z"
   },
   {
    "duration": -39,
    "start_time": "2022-02-21T12:01:00.740Z"
   },
   {
    "duration": -47,
    "start_time": "2022-02-21T12:01:00.749Z"
   },
   {
    "duration": -52,
    "start_time": "2022-02-21T12:01:00.755Z"
   },
   {
    "duration": -60,
    "start_time": "2022-02-21T12:01:00.764Z"
   },
   {
    "duration": -66,
    "start_time": "2022-02-21T12:01:00.771Z"
   },
   {
    "duration": -71,
    "start_time": "2022-02-21T12:01:00.785Z"
   },
   {
    "duration": -76,
    "start_time": "2022-02-21T12:01:00.791Z"
   },
   {
    "duration": -81,
    "start_time": "2022-02-21T12:01:00.797Z"
   },
   {
    "duration": -98,
    "start_time": "2022-02-21T12:01:00.816Z"
   },
   {
    "duration": -106,
    "start_time": "2022-02-21T12:01:00.825Z"
   },
   {
    "duration": -125,
    "start_time": "2022-02-21T12:01:00.845Z"
   },
   {
    "duration": -142,
    "start_time": "2022-02-21T12:01:00.863Z"
   },
   {
    "duration": -148,
    "start_time": "2022-02-21T12:01:00.869Z"
   },
   {
    "duration": -155,
    "start_time": "2022-02-21T12:01:00.877Z"
   },
   {
    "duration": -172,
    "start_time": "2022-02-21T12:01:00.895Z"
   },
   {
    "duration": -185,
    "start_time": "2022-02-21T12:01:00.909Z"
   },
   {
    "duration": -199,
    "start_time": "2022-02-21T12:01:00.924Z"
   },
   {
    "duration": -212,
    "start_time": "2022-02-21T12:01:00.938Z"
   },
   {
    "duration": -218,
    "start_time": "2022-02-21T12:01:00.945Z"
   },
   {
    "duration": -231,
    "start_time": "2022-02-21T12:01:00.959Z"
   },
   {
    "duration": -243,
    "start_time": "2022-02-21T12:01:00.972Z"
   },
   {
    "duration": -250,
    "start_time": "2022-02-21T12:01:00.980Z"
   },
   {
    "duration": -254,
    "start_time": "2022-02-21T12:01:00.985Z"
   },
   {
    "duration": -261,
    "start_time": "2022-02-21T12:01:00.993Z"
   },
   {
    "duration": -264,
    "start_time": "2022-02-21T12:01:00.998Z"
   },
   {
    "duration": -270,
    "start_time": "2022-02-21T12:01:01.005Z"
   },
   {
    "duration": -276,
    "start_time": "2022-02-21T12:01:01.012Z"
   },
   {
    "duration": -281,
    "start_time": "2022-02-21T12:01:01.018Z"
   },
   {
    "duration": -287,
    "start_time": "2022-02-21T12:01:01.025Z"
   },
   {
    "duration": -293,
    "start_time": "2022-02-21T12:01:01.032Z"
   },
   {
    "duration": -299,
    "start_time": "2022-02-21T12:01:01.039Z"
   },
   {
    "duration": -306,
    "start_time": "2022-02-21T12:01:01.047Z"
   },
   {
    "duration": -311,
    "start_time": "2022-02-21T12:01:01.053Z"
   },
   {
    "duration": -317,
    "start_time": "2022-02-21T12:01:01.061Z"
   },
   {
    "duration": -322,
    "start_time": "2022-02-21T12:01:01.067Z"
   },
   {
    "duration": -329,
    "start_time": "2022-02-21T12:01:01.075Z"
   },
   {
    "duration": -335,
    "start_time": "2022-02-21T12:01:01.082Z"
   },
   {
    "duration": -341,
    "start_time": "2022-02-21T12:01:01.089Z"
   },
   {
    "duration": 5,
    "start_time": "2022-02-21T12:01:44.894Z"
   },
   {
    "duration": 793,
    "start_time": "2022-02-21T12:01:44.902Z"
   },
   {
    "duration": 27,
    "start_time": "2022-02-21T12:01:45.698Z"
   },
   {
    "duration": 28,
    "start_time": "2022-02-21T12:01:45.727Z"
   },
   {
    "duration": 25,
    "start_time": "2022-02-21T12:01:45.757Z"
   },
   {
    "duration": 39,
    "start_time": "2022-02-21T12:01:45.785Z"
   },
   {
    "duration": 13,
    "start_time": "2022-02-21T12:01:45.826Z"
   },
   {
    "duration": 19,
    "start_time": "2022-02-21T12:01:45.841Z"
   },
   {
    "duration": 8,
    "start_time": "2022-02-21T12:01:45.863Z"
   },
   {
    "duration": 28,
    "start_time": "2022-02-21T12:01:45.873Z"
   },
   {
    "duration": 29,
    "start_time": "2022-02-21T12:01:45.908Z"
   },
   {
    "duration": 44,
    "start_time": "2022-02-21T12:01:45.939Z"
   },
   {
    "duration": 29,
    "start_time": "2022-02-21T12:01:45.985Z"
   },
   {
    "duration": 18,
    "start_time": "2022-02-21T12:01:46.016Z"
   },
   {
    "duration": 22989,
    "start_time": "2022-02-21T12:01:46.037Z"
   },
   {
    "duration": 11,
    "start_time": "2022-02-21T12:02:09.028Z"
   },
   {
    "duration": 97,
    "start_time": "2022-02-21T12:02:09.040Z"
   },
   {
    "duration": 13,
    "start_time": "2022-02-21T12:02:09.138Z"
   },
   {
    "duration": 37,
    "start_time": "2022-02-21T12:02:09.153Z"
   },
   {
    "duration": 2598,
    "start_time": "2022-02-21T12:02:09.192Z"
   },
   {
    "duration": 36,
    "start_time": "2022-02-21T12:02:11.792Z"
   },
   {
    "duration": 25,
    "start_time": "2022-02-21T12:02:11.830Z"
   },
   {
    "duration": 22,
    "start_time": "2022-02-21T12:02:11.857Z"
   },
   {
    "duration": 3,
    "start_time": "2022-02-21T12:02:11.881Z"
   },
   {
    "duration": 44,
    "start_time": "2022-02-21T12:02:11.886Z"
   },
   {
    "duration": 20,
    "start_time": "2022-02-21T12:02:11.933Z"
   },
   {
    "duration": 553,
    "start_time": "2022-02-21T12:02:11.957Z"
   },
   {
    "duration": 1472,
    "start_time": "2022-02-21T12:02:12.513Z"
   },
   {
    "duration": 5,
    "start_time": "2022-02-21T12:02:13.987Z"
   },
   {
    "duration": 447,
    "start_time": "2022-02-21T12:02:13.994Z"
   },
   {
    "duration": 414,
    "start_time": "2022-02-21T12:02:14.443Z"
   },
   {
    "duration": 430,
    "start_time": "2022-02-21T12:02:14.858Z"
   },
   {
    "duration": 33,
    "start_time": "2022-02-21T12:02:15.290Z"
   },
   {
    "duration": 6,
    "start_time": "2022-02-21T12:02:15.325Z"
   },
   {
    "duration": 21,
    "start_time": "2022-02-21T12:02:15.332Z"
   },
   {
    "duration": 27,
    "start_time": "2022-02-21T12:02:15.355Z"
   },
   {
    "duration": 41,
    "start_time": "2022-02-21T12:02:15.384Z"
   },
   {
    "duration": 13,
    "start_time": "2022-02-21T12:02:15.427Z"
   },
   {
    "duration": 417,
    "start_time": "2022-02-21T12:02:15.442Z"
   },
   {
    "duration": -56,
    "start_time": "2022-02-21T12:02:15.918Z"
   },
   {
    "duration": -64,
    "start_time": "2022-02-21T12:02:15.927Z"
   },
   {
    "duration": -67,
    "start_time": "2022-02-21T12:02:15.932Z"
   },
   {
    "duration": -83,
    "start_time": "2022-02-21T12:02:15.949Z"
   },
   {
    "duration": 281,
    "start_time": "2022-02-21T12:04:22.000Z"
   },
   {
    "duration": 28,
    "start_time": "2022-02-21T12:04:33.294Z"
   },
   {
    "duration": 233,
    "start_time": "2022-02-21T12:04:33.924Z"
   },
   {
    "duration": 6,
    "start_time": "2022-02-21T12:04:38.868Z"
   },
   {
    "duration": 6,
    "start_time": "2022-02-21T12:04:42.460Z"
   },
   {
    "duration": 24,
    "start_time": "2022-02-21T12:04:42.828Z"
   },
   {
    "duration": 24,
    "start_time": "2022-02-21T12:04:44.284Z"
   },
   {
    "duration": 6,
    "start_time": "2022-02-21T12:05:24.141Z"
   },
   {
    "duration": 6,
    "start_time": "2022-02-21T12:05:31.270Z"
   },
   {
    "duration": 850,
    "start_time": "2022-02-21T12:05:31.279Z"
   },
   {
    "duration": 24,
    "start_time": "2022-02-21T12:05:32.132Z"
   },
   {
    "duration": 29,
    "start_time": "2022-02-21T12:05:32.159Z"
   },
   {
    "duration": 43,
    "start_time": "2022-02-21T12:05:32.191Z"
   },
   {
    "duration": 103,
    "start_time": "2022-02-21T12:05:32.236Z"
   },
   {
    "duration": 20,
    "start_time": "2022-02-21T12:05:32.343Z"
   },
   {
    "duration": 37,
    "start_time": "2022-02-21T12:05:32.366Z"
   },
   {
    "duration": 27,
    "start_time": "2022-02-21T12:05:32.405Z"
   },
   {
    "duration": 46,
    "start_time": "2022-02-21T12:05:32.434Z"
   },
   {
    "duration": 56,
    "start_time": "2022-02-21T12:05:32.482Z"
   },
   {
    "duration": 65,
    "start_time": "2022-02-21T12:05:32.540Z"
   },
   {
    "duration": 26,
    "start_time": "2022-02-21T12:05:32.608Z"
   },
   {
    "duration": 19,
    "start_time": "2022-02-21T12:05:32.637Z"
   },
   {
    "duration": 26075,
    "start_time": "2022-02-21T12:05:32.659Z"
   },
   {
    "duration": 18,
    "start_time": "2022-02-21T12:05:58.736Z"
   },
   {
    "duration": 93,
    "start_time": "2022-02-21T12:05:58.757Z"
   },
   {
    "duration": 13,
    "start_time": "2022-02-21T12:05:58.852Z"
   },
   {
    "duration": 3,
    "start_time": "2022-02-21T12:05:58.869Z"
   },
   {
    "duration": 2860,
    "start_time": "2022-02-21T12:05:58.875Z"
   },
   {
    "duration": 24,
    "start_time": "2022-02-21T12:06:01.737Z"
   },
   {
    "duration": 48,
    "start_time": "2022-02-21T12:06:01.763Z"
   },
   {
    "duration": 28,
    "start_time": "2022-02-21T12:06:01.813Z"
   },
   {
    "duration": 4,
    "start_time": "2022-02-21T12:06:01.843Z"
   },
   {
    "duration": 43,
    "start_time": "2022-02-21T12:06:01.849Z"
   },
   {
    "duration": 31,
    "start_time": "2022-02-21T12:06:01.893Z"
   },
   {
    "duration": 560,
    "start_time": "2022-02-21T12:06:01.926Z"
   },
   {
    "duration": 1582,
    "start_time": "2022-02-21T12:06:02.489Z"
   },
   {
    "duration": 5,
    "start_time": "2022-02-21T12:06:04.073Z"
   },
   {
    "duration": 482,
    "start_time": "2022-02-21T12:06:04.080Z"
   },
   {
    "duration": 468,
    "start_time": "2022-02-21T12:06:04.564Z"
   },
   {
    "duration": 453,
    "start_time": "2022-02-21T12:06:05.034Z"
   },
   {
    "duration": 36,
    "start_time": "2022-02-21T12:06:05.489Z"
   },
   {
    "duration": 328,
    "start_time": "2022-02-21T12:06:05.527Z"
   },
   {
    "duration": 51,
    "start_time": "2022-02-21T12:06:05.858Z"
   },
   {
    "duration": 54,
    "start_time": "2022-02-21T12:06:05.912Z"
   },
   {
    "duration": 169,
    "start_time": "2022-02-21T12:06:05.968Z"
   },
   {
    "duration": 22,
    "start_time": "2022-02-21T12:06:06.139Z"
   },
   {
    "duration": 26,
    "start_time": "2022-02-21T12:06:06.163Z"
   },
   {
    "duration": 41,
    "start_time": "2022-02-21T12:06:06.191Z"
   },
   {
    "duration": 66494,
    "start_time": "2022-02-21T12:06:06.235Z"
   },
   {
    "duration": 80654,
    "start_time": "2022-02-21T12:07:12.731Z"
   },
   {
    "duration": 44,
    "start_time": "2022-02-21T12:08:33.387Z"
   },
   {
    "duration": 1574,
    "start_time": "2022-02-21T12:08:33.436Z"
   },
   {
    "duration": 12,
    "start_time": "2022-02-21T12:09:15.575Z"
   },
   {
    "duration": 6,
    "start_time": "2022-02-21T12:09:55.947Z"
   },
   {
    "duration": 848,
    "start_time": "2022-02-21T12:09:55.956Z"
   },
   {
    "duration": 25,
    "start_time": "2022-02-21T12:09:56.807Z"
   },
   {
    "duration": 23,
    "start_time": "2022-02-21T12:09:56.834Z"
   },
   {
    "duration": 22,
    "start_time": "2022-02-21T12:09:56.859Z"
   },
   {
    "duration": 22,
    "start_time": "2022-02-21T12:09:56.907Z"
   },
   {
    "duration": 13,
    "start_time": "2022-02-21T12:09:56.932Z"
   },
   {
    "duration": 17,
    "start_time": "2022-02-21T12:09:56.947Z"
   },
   {
    "duration": 6,
    "start_time": "2022-02-21T12:09:56.966Z"
   },
   {
    "duration": 32,
    "start_time": "2022-02-21T12:09:56.975Z"
   },
   {
    "duration": 18,
    "start_time": "2022-02-21T12:09:57.009Z"
   },
   {
    "duration": 12,
    "start_time": "2022-02-21T12:09:57.029Z"
   },
   {
    "duration": 9,
    "start_time": "2022-02-21T12:09:57.042Z"
   },
   {
    "duration": 7,
    "start_time": "2022-02-21T12:09:57.053Z"
   },
   {
    "duration": 22728,
    "start_time": "2022-02-21T12:09:57.062Z"
   },
   {
    "duration": 21,
    "start_time": "2022-02-21T12:10:19.792Z"
   },
   {
    "duration": 77,
    "start_time": "2022-02-21T12:10:19.815Z"
   },
   {
    "duration": 25,
    "start_time": "2022-02-21T12:10:19.894Z"
   },
   {
    "duration": 3,
    "start_time": "2022-02-21T12:10:19.924Z"
   },
   {
    "duration": 2448,
    "start_time": "2022-02-21T12:10:19.930Z"
   },
   {
    "duration": 36,
    "start_time": "2022-02-21T12:10:22.380Z"
   },
   {
    "duration": 22,
    "start_time": "2022-02-21T12:10:22.418Z"
   },
   {
    "duration": 23,
    "start_time": "2022-02-21T12:10:22.442Z"
   },
   {
    "duration": 3,
    "start_time": "2022-02-21T12:10:22.467Z"
   },
   {
    "duration": 53,
    "start_time": "2022-02-21T12:10:22.472Z"
   },
   {
    "duration": 17,
    "start_time": "2022-02-21T12:10:22.527Z"
   },
   {
    "duration": 652,
    "start_time": "2022-02-21T12:10:22.545Z"
   },
   {
    "duration": 1414,
    "start_time": "2022-02-21T12:10:23.211Z"
   },
   {
    "duration": 5,
    "start_time": "2022-02-21T12:10:24.627Z"
   },
   {
    "duration": 414,
    "start_time": "2022-02-21T12:10:24.633Z"
   },
   {
    "duration": 422,
    "start_time": "2022-02-21T12:10:25.049Z"
   },
   {
    "duration": 599,
    "start_time": "2022-02-21T12:10:25.473Z"
   },
   {
    "duration": 40,
    "start_time": "2022-02-21T12:10:26.074Z"
   },
   {
    "duration": 24,
    "start_time": "2022-02-21T12:10:26.117Z"
   },
   {
    "duration": 21,
    "start_time": "2022-02-21T12:10:26.143Z"
   },
   {
    "duration": 41,
    "start_time": "2022-02-21T12:10:26.166Z"
   },
   {
    "duration": 242,
    "start_time": "2022-02-21T12:10:26.212Z"
   },
   {
    "duration": 38,
    "start_time": "2022-02-21T12:10:26.418Z"
   },
   {
    "duration": 33,
    "start_time": "2022-02-21T12:10:26.425Z"
   },
   {
    "duration": 25,
    "start_time": "2022-02-21T12:10:26.434Z"
   },
   {
    "duration": 16,
    "start_time": "2022-02-21T12:10:26.444Z"
   },
   {
    "duration": 11,
    "start_time": "2022-02-21T12:10:26.450Z"
   },
   {
    "duration": 6,
    "start_time": "2022-02-21T12:10:26.457Z"
   },
   {
    "duration": -2,
    "start_time": "2022-02-21T12:10:26.466Z"
   },
   {
    "duration": -10,
    "start_time": "2022-02-21T12:10:26.475Z"
   },
   {
    "duration": -15,
    "start_time": "2022-02-21T12:10:26.481Z"
   },
   {
    "duration": 227,
    "start_time": "2022-02-21T12:12:06.837Z"
   },
   {
    "duration": 10,
    "start_time": "2022-02-21T12:12:13.387Z"
   },
   {
    "duration": 10,
    "start_time": "2022-02-21T12:15:07.829Z"
   },
   {
    "duration": 25,
    "start_time": "2022-02-21T12:15:12.443Z"
   },
   {
    "duration": 27,
    "start_time": "2022-02-21T12:15:13.365Z"
   },
   {
    "duration": 33,
    "start_time": "2022-02-21T12:15:14.925Z"
   },
   {
    "duration": 4,
    "start_time": "2022-02-21T12:15:30.046Z"
   },
   {
    "duration": 10,
    "start_time": "2022-02-21T12:15:34.892Z"
   },
   {
    "duration": 54360,
    "start_time": "2022-02-21T12:15:36.910Z"
   },
   {
    "duration": 74367,
    "start_time": "2022-02-21T12:16:31.272Z"
   },
   {
    "duration": 610,
    "start_time": "2022-02-21T12:19:53.349Z"
   },
   {
    "duration": 443,
    "start_time": "2022-02-21T12:20:42.740Z"
   },
   {
    "duration": 403,
    "start_time": "2022-02-21T12:21:00.096Z"
   },
   {
    "duration": -6,
    "start_time": "2022-02-21T12:24:14.914Z"
   },
   {
    "duration": -15,
    "start_time": "2022-02-21T12:24:14.924Z"
   },
   {
    "duration": -20,
    "start_time": "2022-02-21T12:24:14.930Z"
   },
   {
    "duration": -26,
    "start_time": "2022-02-21T12:24:14.938Z"
   },
   {
    "duration": -31,
    "start_time": "2022-02-21T12:24:14.944Z"
   },
   {
    "duration": -53,
    "start_time": "2022-02-21T12:24:14.967Z"
   },
   {
    "duration": -62,
    "start_time": "2022-02-21T12:24:14.977Z"
   },
   {
    "duration": -73,
    "start_time": "2022-02-21T12:24:14.989Z"
   },
   {
    "duration": -79,
    "start_time": "2022-02-21T12:24:14.996Z"
   },
   {
    "duration": -87,
    "start_time": "2022-02-21T12:24:15.006Z"
   },
   {
    "duration": -92,
    "start_time": "2022-02-21T12:24:15.012Z"
   },
   {
    "duration": -99,
    "start_time": "2022-02-21T12:24:15.020Z"
   },
   {
    "duration": -104,
    "start_time": "2022-02-21T12:24:15.027Z"
   },
   {
    "duration": -110,
    "start_time": "2022-02-21T12:24:15.034Z"
   },
   {
    "duration": -115,
    "start_time": "2022-02-21T12:24:15.040Z"
   },
   {
    "duration": -122,
    "start_time": "2022-02-21T12:24:15.048Z"
   },
   {
    "duration": -127,
    "start_time": "2022-02-21T12:24:15.054Z"
   },
   {
    "duration": -133,
    "start_time": "2022-02-21T12:24:15.062Z"
   },
   {
    "duration": -151,
    "start_time": "2022-02-21T12:24:15.081Z"
   },
   {
    "duration": -158,
    "start_time": "2022-02-21T12:24:15.089Z"
   },
   {
    "duration": -163,
    "start_time": "2022-02-21T12:24:15.095Z"
   },
   {
    "duration": -168,
    "start_time": "2022-02-21T12:24:15.102Z"
   },
   {
    "duration": -173,
    "start_time": "2022-02-21T12:24:15.108Z"
   },
   {
    "duration": -180,
    "start_time": "2022-02-21T12:24:15.116Z"
   },
   {
    "duration": -185,
    "start_time": "2022-02-21T12:24:15.122Z"
   },
   {
    "duration": -190,
    "start_time": "2022-02-21T12:24:15.128Z"
   },
   {
    "duration": -195,
    "start_time": "2022-02-21T12:24:15.134Z"
   },
   {
    "duration": -201,
    "start_time": "2022-02-21T12:24:15.141Z"
   },
   {
    "duration": -206,
    "start_time": "2022-02-21T12:24:15.147Z"
   },
   {
    "duration": -211,
    "start_time": "2022-02-21T12:24:15.153Z"
   },
   {
    "duration": -215,
    "start_time": "2022-02-21T12:24:15.158Z"
   },
   {
    "duration": -221,
    "start_time": "2022-02-21T12:24:15.165Z"
   },
   {
    "duration": -225,
    "start_time": "2022-02-21T12:24:15.170Z"
   },
   {
    "duration": -229,
    "start_time": "2022-02-21T12:24:15.175Z"
   },
   {
    "duration": -245,
    "start_time": "2022-02-21T12:24:15.192Z"
   },
   {
    "duration": -249,
    "start_time": "2022-02-21T12:24:15.197Z"
   },
   {
    "duration": -254,
    "start_time": "2022-02-21T12:24:15.203Z"
   },
   {
    "duration": -259,
    "start_time": "2022-02-21T12:24:15.209Z"
   },
   {
    "duration": -207,
    "start_time": "2022-02-21T12:24:15.214Z"
   },
   {
    "duration": -212,
    "start_time": "2022-02-21T12:24:15.220Z"
   },
   {
    "duration": -215,
    "start_time": "2022-02-21T12:24:15.224Z"
   },
   {
    "duration": -221,
    "start_time": "2022-02-21T12:24:15.231Z"
   },
   {
    "duration": -225,
    "start_time": "2022-02-21T12:24:15.237Z"
   },
   {
    "duration": -230,
    "start_time": "2022-02-21T12:24:15.243Z"
   },
   {
    "duration": 1366,
    "start_time": "2022-02-21T12:30:20.678Z"
   },
   {
    "duration": 749,
    "start_time": "2022-02-21T12:30:22.047Z"
   },
   {
    "duration": 28,
    "start_time": "2022-02-21T12:30:22.799Z"
   },
   {
    "duration": 23,
    "start_time": "2022-02-21T12:30:22.829Z"
   },
   {
    "duration": 24,
    "start_time": "2022-02-21T12:30:22.854Z"
   },
   {
    "duration": 45,
    "start_time": "2022-02-21T12:30:22.880Z"
   },
   {
    "duration": 11,
    "start_time": "2022-02-21T12:30:22.927Z"
   },
   {
    "duration": 17,
    "start_time": "2022-02-21T12:30:22.941Z"
   },
   {
    "duration": 7,
    "start_time": "2022-02-21T12:30:22.961Z"
   },
   {
    "duration": 38,
    "start_time": "2022-02-21T12:30:22.970Z"
   },
   {
    "duration": 14,
    "start_time": "2022-02-21T12:30:23.011Z"
   },
   {
    "duration": 17,
    "start_time": "2022-02-21T12:30:23.027Z"
   },
   {
    "duration": 5,
    "start_time": "2022-02-21T12:30:23.046Z"
   },
   {
    "duration": 8,
    "start_time": "2022-02-21T12:30:23.053Z"
   },
   {
    "duration": 22462,
    "start_time": "2022-02-21T12:30:23.063Z"
   },
   {
    "duration": 11,
    "start_time": "2022-02-21T12:30:45.527Z"
   },
   {
    "duration": 107,
    "start_time": "2022-02-21T12:30:45.540Z"
   },
   {
    "duration": 11,
    "start_time": "2022-02-21T12:30:45.649Z"
   },
   {
    "duration": 4,
    "start_time": "2022-02-21T12:30:45.662Z"
   },
   {
    "duration": 2700,
    "start_time": "2022-02-21T12:30:45.668Z"
   },
   {
    "duration": 23,
    "start_time": "2022-02-21T12:30:48.370Z"
   },
   {
    "duration": 22,
    "start_time": "2022-02-21T12:30:48.407Z"
   },
   {
    "duration": 25,
    "start_time": "2022-02-21T12:30:48.431Z"
   },
   {
    "duration": 3,
    "start_time": "2022-02-21T12:30:48.458Z"
   },
   {
    "duration": 45,
    "start_time": "2022-02-21T12:30:48.463Z"
   },
   {
    "duration": 19,
    "start_time": "2022-02-21T12:30:48.510Z"
   },
   {
    "duration": 489,
    "start_time": "2022-02-21T12:30:48.535Z"
   },
   {
    "duration": 1341,
    "start_time": "2022-02-21T12:30:49.026Z"
   },
   {
    "duration": 4,
    "start_time": "2022-02-21T12:30:50.369Z"
   },
   {
    "duration": 436,
    "start_time": "2022-02-21T12:30:50.375Z"
   },
   {
    "duration": 405,
    "start_time": "2022-02-21T12:30:50.813Z"
   },
   {
    "duration": 407,
    "start_time": "2022-02-21T12:30:51.220Z"
   },
   {
    "duration": 19,
    "start_time": "2022-02-21T12:30:51.628Z"
   },
   {
    "duration": 36,
    "start_time": "2022-02-21T12:30:51.649Z"
   },
   {
    "duration": 32,
    "start_time": "2022-02-21T12:30:51.688Z"
   },
   {
    "duration": 408,
    "start_time": "2022-02-21T12:30:51.723Z"
   },
   {
    "duration": 616,
    "start_time": "2022-02-21T12:30:52.133Z"
   },
   {
    "duration": 402,
    "start_time": "2022-02-21T12:30:52.752Z"
   },
   {
    "duration": 4,
    "start_time": "2022-02-21T12:30:53.156Z"
   },
   {
    "duration": 58,
    "start_time": "2022-02-21T12:30:53.163Z"
   },
   {
    "duration": 52613,
    "start_time": "2022-02-21T12:30:53.223Z"
   },
   {
    "duration": 71618,
    "start_time": "2022-02-21T12:31:45.838Z"
   },
   {
    "duration": 23,
    "start_time": "2022-02-21T12:32:57.457Z"
   },
   {
    "duration": 338,
    "start_time": "2022-02-21T12:32:57.483Z"
   },
   {
    "duration": 1163,
    "start_time": "2022-02-21T13:10:45.046Z"
   },
   {
    "duration": 55270,
    "start_time": "2022-02-21T13:14:05.797Z"
   },
   {
    "duration": 10,
    "start_time": "2022-02-21T13:17:11.426Z"
   },
   {
    "duration": 908,
    "start_time": "2022-02-21T13:25:21.405Z"
   },
   {
    "duration": 218,
    "start_time": "2022-02-21T13:27:40.874Z"
   },
   {
    "duration": 1393,
    "start_time": "2022-02-21T13:38:11.639Z"
   },
   {
    "duration": 745,
    "start_time": "2022-02-21T13:38:13.034Z"
   },
   {
    "duration": 37,
    "start_time": "2022-02-21T13:38:13.782Z"
   },
   {
    "duration": 23,
    "start_time": "2022-02-21T13:38:13.822Z"
   },
   {
    "duration": 28,
    "start_time": "2022-02-21T13:38:13.848Z"
   },
   {
    "duration": 61,
    "start_time": "2022-02-21T13:38:13.879Z"
   },
   {
    "duration": 19,
    "start_time": "2022-02-21T13:38:13.943Z"
   },
   {
    "duration": 42,
    "start_time": "2022-02-21T13:38:13.968Z"
   },
   {
    "duration": 5,
    "start_time": "2022-02-21T13:38:14.013Z"
   },
   {
    "duration": 8,
    "start_time": "2022-02-21T13:38:14.020Z"
   },
   {
    "duration": 17,
    "start_time": "2022-02-21T13:38:14.030Z"
   },
   {
    "duration": 20,
    "start_time": "2022-02-21T13:38:14.050Z"
   },
   {
    "duration": 4,
    "start_time": "2022-02-21T13:38:14.073Z"
   },
   {
    "duration": 6,
    "start_time": "2022-02-21T13:38:14.107Z"
   },
   {
    "duration": 24173,
    "start_time": "2022-02-21T13:38:14.116Z"
   },
   {
    "duration": 24,
    "start_time": "2022-02-21T13:38:38.292Z"
   },
   {
    "duration": 118,
    "start_time": "2022-02-21T13:38:38.319Z"
   },
   {
    "duration": 20,
    "start_time": "2022-02-21T13:38:38.439Z"
   },
   {
    "duration": 4,
    "start_time": "2022-02-21T13:38:38.462Z"
   },
   {
    "duration": 2502,
    "start_time": "2022-02-21T13:38:38.468Z"
   },
   {
    "duration": 47,
    "start_time": "2022-02-21T13:38:40.973Z"
   },
   {
    "duration": 26,
    "start_time": "2022-02-21T13:38:41.022Z"
   },
   {
    "duration": 23,
    "start_time": "2022-02-21T13:38:41.052Z"
   },
   {
    "duration": 31,
    "start_time": "2022-02-21T13:38:41.077Z"
   },
   {
    "duration": 25,
    "start_time": "2022-02-21T13:38:41.110Z"
   },
   {
    "duration": 17,
    "start_time": "2022-02-21T13:38:41.137Z"
   },
   {
    "duration": 527,
    "start_time": "2022-02-21T13:38:41.156Z"
   },
   {
    "duration": 1375,
    "start_time": "2022-02-21T13:38:41.685Z"
   },
   {
    "duration": 5,
    "start_time": "2022-02-21T13:38:43.062Z"
   },
   {
    "duration": 409,
    "start_time": "2022-02-21T13:38:43.069Z"
   },
   {
    "duration": 403,
    "start_time": "2022-02-21T13:38:43.480Z"
   },
   {
    "duration": 413,
    "start_time": "2022-02-21T13:38:43.886Z"
   },
   {
    "duration": 24,
    "start_time": "2022-02-21T13:38:44.301Z"
   },
   {
    "duration": 43,
    "start_time": "2022-02-21T13:38:44.328Z"
   },
   {
    "duration": 8,
    "start_time": "2022-02-21T13:38:44.373Z"
   },
   {
    "duration": 406,
    "start_time": "2022-02-21T13:38:44.383Z"
   },
   {
    "duration": 532,
    "start_time": "2022-02-21T13:38:44.792Z"
   },
   {
    "duration": 642,
    "start_time": "2022-02-21T13:38:45.327Z"
   },
   {
    "duration": 6,
    "start_time": "2022-02-21T13:38:45.972Z"
   },
   {
    "duration": 42,
    "start_time": "2022-02-21T13:38:45.980Z"
   },
   {
    "duration": 1084,
    "start_time": "2022-02-21T13:38:46.024Z"
   },
   {
    "duration": 459673,
    "start_time": "2022-02-21T13:38:47.110Z"
   },
   {
    "duration": 5,
    "start_time": "2022-02-21T13:46:26.785Z"
   },
   {
    "duration": 360,
    "start_time": "2022-02-21T13:47:16.781Z"
   },
   {
    "duration": 18,
    "start_time": "2022-02-21T13:47:17.126Z"
   },
   {
    "duration": 16424,
    "start_time": "2022-02-21T13:48:09.454Z"
   },
   {
    "duration": 6,
    "start_time": "2022-02-21T13:51:33.843Z"
   },
   {
    "duration": 6,
    "start_time": "2022-02-21T13:52:17.834Z"
   },
   {
    "duration": 1472,
    "start_time": "2022-02-21T13:54:17.345Z"
   },
   {
    "duration": 581860,
    "start_time": "2022-02-21T13:55:40.309Z"
   },
   {
    "duration": 6,
    "start_time": "2022-02-21T14:05:46.351Z"
   },
   {
    "duration": 5124,
    "start_time": "2022-02-21T14:08:57.509Z"
   },
   {
    "duration": 5,
    "start_time": "2022-02-21T14:09:34.154Z"
   },
   {
    "duration": 4,
    "start_time": "2022-02-21T14:12:59.993Z"
   },
   {
    "duration": 13,
    "start_time": "2022-02-21T14:16:17.520Z"
   },
   {
    "duration": 5462,
    "start_time": "2022-02-21T14:23:05.840Z"
   },
   {
    "duration": 80,
    "start_time": "2022-02-21T14:24:12.214Z"
   },
   {
    "duration": 8,
    "start_time": "2022-02-21T14:24:18.240Z"
   },
   {
    "duration": 16,
    "start_time": "2022-02-21T14:27:06.259Z"
   },
   {
    "duration": 5,
    "start_time": "2022-02-21T14:27:39.418Z"
   },
   {
    "duration": 268,
    "start_time": "2022-02-21T14:34:35.871Z"
   },
   {
    "duration": 313,
    "start_time": "2022-02-21T14:34:51.038Z"
   },
   {
    "duration": 309,
    "start_time": "2022-02-21T14:39:21.476Z"
   },
   {
    "duration": 5,
    "start_time": "2022-02-21T14:39:51.553Z"
   },
   {
    "duration": 402,
    "start_time": "2022-02-21T14:39:52.231Z"
   },
   {
    "duration": 12,
    "start_time": "2022-02-21T14:41:39.906Z"
   },
   {
    "duration": 14,
    "start_time": "2022-02-21T14:41:44.676Z"
   },
   {
    "duration": 276,
    "start_time": "2022-02-21T14:41:45.316Z"
   },
   {
    "duration": 205,
    "start_time": "2022-02-21T14:42:00.777Z"
   },
   {
    "duration": 45,
    "start_time": "2022-02-21T14:47:47.400Z"
   },
   {
    "duration": 12,
    "start_time": "2022-02-21T14:48:39.739Z"
   },
   {
    "duration": 9,
    "start_time": "2022-02-21T15:05:00.077Z"
   },
   {
    "duration": 311,
    "start_time": "2022-02-21T15:05:07.104Z"
   },
   {
    "duration": 242,
    "start_time": "2022-02-21T15:05:25.702Z"
   },
   {
    "duration": 899,
    "start_time": "2022-02-21T15:05:31.235Z"
   },
   {
    "duration": 4,
    "start_time": "2022-02-21T15:05:37.758Z"
   },
   {
    "duration": 5,
    "start_time": "2022-02-21T15:06:09.983Z"
   },
   {
    "duration": 5,
    "start_time": "2022-02-21T15:06:56.090Z"
   },
   {
    "duration": 11,
    "start_time": "2022-02-21T15:07:03.291Z"
   },
   {
    "duration": 7,
    "start_time": "2022-02-21T15:07:04.085Z"
   },
   {
    "duration": 11,
    "start_time": "2022-02-21T15:07:20.639Z"
   },
   {
    "duration": 11,
    "start_time": "2022-02-21T15:07:24.921Z"
   },
   {
    "duration": 5,
    "start_time": "2022-02-21T15:07:25.903Z"
   },
   {
    "duration": 6,
    "start_time": "2022-02-21T15:07:26.805Z"
   },
   {
    "duration": 55729,
    "start_time": "2022-02-21T15:07:34.667Z"
   },
   {
    "duration": 7,
    "start_time": "2022-02-21T15:10:27.855Z"
   },
   {
    "duration": 5,
    "start_time": "2022-02-21T15:10:28.432Z"
   },
   {
    "duration": 5,
    "start_time": "2022-02-21T15:10:31.274Z"
   },
   {
    "duration": 5,
    "start_time": "2022-02-21T15:15:57.890Z"
   },
   {
    "duration": 281,
    "start_time": "2022-02-21T15:15:58.306Z"
   },
   {
    "duration": 206,
    "start_time": "2022-02-21T15:18:10.798Z"
   },
   {
    "duration": 258,
    "start_time": "2022-02-21T15:18:30.886Z"
   },
   {
    "duration": 206,
    "start_time": "2022-02-21T15:19:06.707Z"
   },
   {
    "duration": 276,
    "start_time": "2022-02-21T15:25:47.855Z"
   },
   {
    "duration": 1486,
    "start_time": "2022-02-21T15:25:53.140Z"
   },
   {
    "duration": 2083,
    "start_time": "2022-02-21T15:25:54.628Z"
   },
   {
    "duration": 28,
    "start_time": "2022-02-21T15:25:56.714Z"
   },
   {
    "duration": 22,
    "start_time": "2022-02-21T15:25:56.744Z"
   },
   {
    "duration": 48,
    "start_time": "2022-02-21T15:25:56.768Z"
   },
   {
    "duration": 42,
    "start_time": "2022-02-21T15:25:56.818Z"
   },
   {
    "duration": 12,
    "start_time": "2022-02-21T15:25:56.861Z"
   },
   {
    "duration": 31,
    "start_time": "2022-02-21T15:25:56.875Z"
   },
   {
    "duration": 8,
    "start_time": "2022-02-21T15:25:56.911Z"
   },
   {
    "duration": 27,
    "start_time": "2022-02-21T15:25:56.922Z"
   },
   {
    "duration": 28,
    "start_time": "2022-02-21T15:25:56.951Z"
   },
   {
    "duration": 25,
    "start_time": "2022-02-21T15:25:56.981Z"
   },
   {
    "duration": 17,
    "start_time": "2022-02-21T15:25:57.009Z"
   },
   {
    "duration": 20,
    "start_time": "2022-02-21T15:25:57.029Z"
   },
   {
    "duration": 24614,
    "start_time": "2022-02-21T15:25:57.051Z"
   },
   {
    "duration": 11,
    "start_time": "2022-02-21T15:26:21.667Z"
   },
   {
    "duration": 95,
    "start_time": "2022-02-21T15:26:21.681Z"
   },
   {
    "duration": 14,
    "start_time": "2022-02-21T15:26:21.779Z"
   },
   {
    "duration": 28,
    "start_time": "2022-02-21T15:26:21.808Z"
   },
   {
    "duration": 2559,
    "start_time": "2022-02-21T15:26:21.838Z"
   },
   {
    "duration": 29,
    "start_time": "2022-02-21T15:26:24.407Z"
   },
   {
    "duration": 31,
    "start_time": "2022-02-21T15:26:24.438Z"
   },
   {
    "duration": 45,
    "start_time": "2022-02-21T15:26:24.471Z"
   },
   {
    "duration": 4,
    "start_time": "2022-02-21T15:26:24.519Z"
   },
   {
    "duration": 44,
    "start_time": "2022-02-21T15:26:24.526Z"
   },
   {
    "duration": 19,
    "start_time": "2022-02-21T15:26:24.572Z"
   },
   {
    "duration": 543,
    "start_time": "2022-02-21T15:26:24.595Z"
   },
   {
    "duration": 1521,
    "start_time": "2022-02-21T15:26:25.140Z"
   },
   {
    "duration": 5,
    "start_time": "2022-02-21T15:26:26.663Z"
   },
   {
    "duration": 545,
    "start_time": "2022-02-21T15:26:26.670Z"
   },
   {
    "duration": 435,
    "start_time": "2022-02-21T15:26:27.217Z"
   },
   {
    "duration": 446,
    "start_time": "2022-02-21T15:26:27.654Z"
   },
   {
    "duration": 28,
    "start_time": "2022-02-21T15:26:28.102Z"
   },
   {
    "duration": 23,
    "start_time": "2022-02-21T15:26:28.132Z"
   },
   {
    "duration": 8,
    "start_time": "2022-02-21T15:26:28.158Z"
   },
   {
    "duration": 477,
    "start_time": "2022-02-21T15:26:28.168Z"
   },
   {
    "duration": 553,
    "start_time": "2022-02-21T15:26:28.648Z"
   },
   {
    "duration": 444,
    "start_time": "2022-02-21T15:26:29.203Z"
   },
   {
    "duration": 4,
    "start_time": "2022-02-21T15:26:29.650Z"
   },
   {
    "duration": 17,
    "start_time": "2022-02-21T15:26:29.657Z"
   },
   {
    "duration": 1050,
    "start_time": "2022-02-21T15:26:29.677Z"
   },
   {
    "duration": 431561,
    "start_time": "2022-02-21T15:26:30.733Z"
   },
   {
    "duration": 16,
    "start_time": "2022-02-21T15:33:42.296Z"
   },
   {
    "duration": 16798,
    "start_time": "2022-02-21T15:33:42.314Z"
   },
   {
    "duration": 6,
    "start_time": "2022-02-21T15:33:59.115Z"
   },
   {
    "duration": 984,
    "start_time": "2022-02-21T15:33:59.124Z"
   },
   {
    "duration": 243,
    "start_time": "2022-02-21T16:03:10.655Z"
   },
   {
    "duration": 4,
    "start_time": "2022-02-21T16:03:27.385Z"
   },
   {
    "duration": 203,
    "start_time": "2022-02-21T16:03:29.930Z"
   },
   {
    "duration": 2280,
    "start_time": "2022-02-21T16:03:35.338Z"
   },
   {
    "duration": 762,
    "start_time": "2022-02-21T16:03:37.620Z"
   },
   {
    "duration": 23,
    "start_time": "2022-02-21T16:03:38.384Z"
   },
   {
    "duration": 26,
    "start_time": "2022-02-21T16:03:38.409Z"
   },
   {
    "duration": 19,
    "start_time": "2022-02-21T16:03:38.437Z"
   },
   {
    "duration": 23,
    "start_time": "2022-02-21T16:03:38.458Z"
   },
   {
    "duration": 36,
    "start_time": "2022-02-21T16:03:38.483Z"
   },
   {
    "duration": 17,
    "start_time": "2022-02-21T16:03:38.522Z"
   },
   {
    "duration": 6,
    "start_time": "2022-02-21T16:03:38.541Z"
   },
   {
    "duration": 8,
    "start_time": "2022-02-21T16:03:38.549Z"
   },
   {
    "duration": 12,
    "start_time": "2022-02-21T16:03:38.559Z"
   },
   {
    "duration": 15,
    "start_time": "2022-02-21T16:03:38.573Z"
   },
   {
    "duration": 31,
    "start_time": "2022-02-21T16:03:38.590Z"
   },
   {
    "duration": 5,
    "start_time": "2022-02-21T16:03:38.623Z"
   },
   {
    "duration": 23833,
    "start_time": "2022-02-21T16:03:38.630Z"
   },
   {
    "duration": 12,
    "start_time": "2022-02-21T16:04:02.466Z"
   },
   {
    "duration": 114,
    "start_time": "2022-02-21T16:04:02.480Z"
   },
   {
    "duration": 27,
    "start_time": "2022-02-21T16:04:02.596Z"
   },
   {
    "duration": 4,
    "start_time": "2022-02-21T16:04:02.625Z"
   },
   {
    "duration": 3092,
    "start_time": "2022-02-21T16:04:02.631Z"
   },
   {
    "duration": 29,
    "start_time": "2022-02-21T16:04:05.724Z"
   },
   {
    "duration": 20,
    "start_time": "2022-02-21T16:04:05.754Z"
   },
   {
    "duration": 49,
    "start_time": "2022-02-21T16:04:05.778Z"
   },
   {
    "duration": 2,
    "start_time": "2022-02-21T16:04:05.830Z"
   },
   {
    "duration": 30,
    "start_time": "2022-02-21T16:04:05.834Z"
   },
   {
    "duration": 15,
    "start_time": "2022-02-21T16:04:05.866Z"
   },
   {
    "duration": 474,
    "start_time": "2022-02-21T16:04:05.883Z"
   },
   {
    "duration": 1604,
    "start_time": "2022-02-21T16:04:06.359Z"
   },
   {
    "duration": 5,
    "start_time": "2022-02-21T16:04:07.965Z"
   },
   {
    "duration": 400,
    "start_time": "2022-02-21T16:04:07.971Z"
   },
   {
    "duration": 396,
    "start_time": "2022-02-21T16:04:08.373Z"
   },
   {
    "duration": 385,
    "start_time": "2022-02-21T16:04:08.771Z"
   },
   {
    "duration": 20,
    "start_time": "2022-02-21T16:04:09.158Z"
   },
   {
    "duration": 45,
    "start_time": "2022-02-21T16:04:09.180Z"
   },
   {
    "duration": 38,
    "start_time": "2022-02-21T16:04:09.227Z"
   },
   {
    "duration": 590,
    "start_time": "2022-02-21T16:04:09.267Z"
   },
   {
    "duration": 738,
    "start_time": "2022-02-21T16:04:09.860Z"
   },
   {
    "duration": 406,
    "start_time": "2022-02-21T16:04:10.600Z"
   },
   {
    "duration": 12,
    "start_time": "2022-02-21T16:04:11.008Z"
   },
   {
    "duration": 39,
    "start_time": "2022-02-21T16:04:11.021Z"
   },
   {
    "duration": 38,
    "start_time": "2022-02-21T16:04:11.062Z"
   },
   {
    "duration": 27,
    "start_time": "2022-02-21T16:04:11.102Z"
   },
   {
    "duration": 45,
    "start_time": "2022-02-21T16:04:11.131Z"
   },
   {
    "duration": 46,
    "start_time": "2022-02-21T16:04:11.178Z"
   },
   {
    "duration": 999,
    "start_time": "2022-02-21T16:04:11.227Z"
   },
   {
    "duration": 403404,
    "start_time": "2022-02-21T16:04:12.230Z"
   },
   {
    "duration": 4,
    "start_time": "2022-02-21T16:10:55.636Z"
   },
   {
    "duration": 16461,
    "start_time": "2022-02-21T16:10:55.642Z"
   },
   {
    "duration": 4,
    "start_time": "2022-02-21T16:11:12.105Z"
   },
   {
    "duration": 1007,
    "start_time": "2022-02-21T16:11:12.118Z"
   },
   {
    "duration": 537751,
    "start_time": "2022-02-21T16:11:13.129Z"
   },
   {
    "duration": 3,
    "start_time": "2022-02-21T16:20:10.882Z"
   },
   {
    "duration": 4964,
    "start_time": "2022-02-21T16:20:10.887Z"
   },
   {
    "duration": 5,
    "start_time": "2022-02-21T16:20:15.853Z"
   },
   {
    "duration": 20,
    "start_time": "2022-02-21T16:22:21.687Z"
   },
   {
    "duration": 4,
    "start_time": "2022-02-21T16:22:46.430Z"
   },
   {
    "duration": 4,
    "start_time": "2022-02-21T16:22:47.186Z"
   },
   {
    "duration": 5,
    "start_time": "2022-02-21T16:23:01.870Z"
   },
   {
    "duration": 4,
    "start_time": "2022-02-21T16:23:15.416Z"
   },
   {
    "duration": 13251,
    "start_time": "2022-02-21T16:28:52.152Z"
   },
   {
    "duration": 10636,
    "start_time": "2022-02-21T16:30:06.024Z"
   },
   {
    "duration": 1155,
    "start_time": "2022-02-21T16:30:40.465Z"
   },
   {
    "duration": 1480,
    "start_time": "2022-02-21T16:36:11.141Z"
   },
   {
    "duration": 4,
    "start_time": "2022-02-21T16:36:15.201Z"
   },
   {
    "duration": 4,
    "start_time": "2022-02-21T16:36:16.471Z"
   },
   {
    "duration": 1614,
    "start_time": "2022-02-21T16:37:03.816Z"
   },
   {
    "duration": 9717,
    "start_time": "2022-02-21T16:37:18.147Z"
   },
   {
    "duration": 6,
    "start_time": "2022-02-21T16:47:47.685Z"
   },
   {
    "duration": 758,
    "start_time": "2022-02-21T16:47:47.693Z"
   },
   {
    "duration": 22,
    "start_time": "2022-02-21T16:47:48.453Z"
   },
   {
    "duration": 26,
    "start_time": "2022-02-21T16:47:48.478Z"
   },
   {
    "duration": 33,
    "start_time": "2022-02-21T16:47:48.506Z"
   },
   {
    "duration": 19,
    "start_time": "2022-02-21T16:47:48.541Z"
   },
   {
    "duration": 11,
    "start_time": "2022-02-21T16:47:48.562Z"
   },
   {
    "duration": 48,
    "start_time": "2022-02-21T16:47:48.575Z"
   },
   {
    "duration": 7,
    "start_time": "2022-02-21T16:47:48.626Z"
   },
   {
    "duration": 30,
    "start_time": "2022-02-21T16:47:48.635Z"
   },
   {
    "duration": 29,
    "start_time": "2022-02-21T16:47:48.667Z"
   },
   {
    "duration": 35,
    "start_time": "2022-02-21T16:47:48.698Z"
   },
   {
    "duration": 16,
    "start_time": "2022-02-21T16:47:48.735Z"
   },
   {
    "duration": 23,
    "start_time": "2022-02-21T16:47:48.752Z"
   },
   {
    "duration": 20598,
    "start_time": "2022-02-21T16:47:48.778Z"
   },
   {
    "duration": 10,
    "start_time": "2022-02-21T16:48:09.377Z"
   },
   {
    "duration": 81,
    "start_time": "2022-02-21T16:48:09.389Z"
   },
   {
    "duration": 13,
    "start_time": "2022-02-21T16:48:09.472Z"
   },
   {
    "duration": 3,
    "start_time": "2022-02-21T16:48:09.487Z"
   },
   {
    "duration": 2395,
    "start_time": "2022-02-21T16:48:09.491Z"
   },
   {
    "duration": 31,
    "start_time": "2022-02-21T16:48:11.888Z"
   },
   {
    "duration": 20,
    "start_time": "2022-02-21T16:48:11.921Z"
   },
   {
    "duration": 22,
    "start_time": "2022-02-21T16:48:11.943Z"
   },
   {
    "duration": 3,
    "start_time": "2022-02-21T16:48:11.967Z"
   },
   {
    "duration": 48,
    "start_time": "2022-02-21T16:48:11.972Z"
   },
   {
    "duration": 18,
    "start_time": "2022-02-21T16:48:12.022Z"
   },
   {
    "duration": 501,
    "start_time": "2022-02-21T16:48:12.049Z"
   },
   {
    "duration": 1282,
    "start_time": "2022-02-21T16:48:12.552Z"
   },
   {
    "duration": 4,
    "start_time": "2022-02-21T16:48:13.836Z"
   },
   {
    "duration": 372,
    "start_time": "2022-02-21T16:48:13.842Z"
   },
   {
    "duration": 391,
    "start_time": "2022-02-21T16:48:14.218Z"
   },
   {
    "duration": 387,
    "start_time": "2022-02-21T16:48:14.611Z"
   },
   {
    "duration": 27,
    "start_time": "2022-02-21T16:48:15.000Z"
   },
   {
    "duration": 25,
    "start_time": "2022-02-21T16:48:15.029Z"
   },
   {
    "duration": 9,
    "start_time": "2022-02-21T16:48:15.056Z"
   },
   {
    "duration": 387,
    "start_time": "2022-02-21T16:48:15.067Z"
   },
   {
    "duration": 517,
    "start_time": "2022-02-21T16:48:15.455Z"
   },
   {
    "duration": 385,
    "start_time": "2022-02-21T16:48:15.974Z"
   },
   {
    "duration": 4,
    "start_time": "2022-02-21T16:48:16.361Z"
   },
   {
    "duration": 28,
    "start_time": "2022-02-21T16:48:16.366Z"
   },
   {
    "duration": 7,
    "start_time": "2022-02-21T16:48:16.396Z"
   },
   {
    "duration": 15,
    "start_time": "2022-02-21T16:48:16.405Z"
   },
   {
    "duration": 41,
    "start_time": "2022-02-21T16:48:16.421Z"
   },
   {
    "duration": 94,
    "start_time": "2022-02-21T16:48:16.464Z"
   },
   {
    "duration": 959,
    "start_time": "2022-02-21T16:48:16.560Z"
   },
   {
    "duration": 384450,
    "start_time": "2022-02-21T16:48:17.521Z"
   },
   {
    "duration": 4,
    "start_time": "2022-02-21T16:54:41.972Z"
   },
   {
    "duration": 12862,
    "start_time": "2022-02-21T16:54:41.978Z"
   },
   {
    "duration": 4,
    "start_time": "2022-02-21T16:54:54.842Z"
   },
   {
    "duration": 1571,
    "start_time": "2022-02-21T16:54:54.848Z"
   },
   {
    "duration": 540275,
    "start_time": "2022-02-21T16:54:56.422Z"
   },
   {
    "duration": 4,
    "start_time": "2022-02-21T17:03:56.698Z"
   },
   {
    "duration": 2464,
    "start_time": "2022-02-21T17:03:56.704Z"
   },
   {
    "duration": 4,
    "start_time": "2022-02-21T17:03:59.169Z"
   },
   {
    "duration": 25,
    "start_time": "2022-02-21T17:03:59.174Z"
   },
   {
    "duration": 4,
    "start_time": "2022-02-21T17:03:59.200Z"
   },
   {
    "duration": 14,
    "start_time": "2022-02-21T17:03:59.206Z"
   },
   {
    "duration": 7,
    "start_time": "2022-02-21T17:03:59.222Z"
   },
   {
    "duration": 7,
    "start_time": "2022-02-21T17:03:59.231Z"
   },
   {
    "duration": 10402,
    "start_time": "2022-02-21T17:03:59.240Z"
   },
   {
    "duration": 1077,
    "start_time": "2022-02-21T17:04:09.643Z"
   },
   {
    "duration": 3,
    "start_time": "2022-02-21T17:04:10.722Z"
   },
   {
    "duration": 93,
    "start_time": "2022-02-21T17:04:10.728Z"
   },
   {
    "duration": 1635,
    "start_time": "2022-02-22T07:25:39.040Z"
   },
   {
    "duration": 907,
    "start_time": "2022-02-22T07:25:40.677Z"
   },
   {
    "duration": 37,
    "start_time": "2022-02-22T07:25:41.587Z"
   },
   {
    "duration": 52,
    "start_time": "2022-02-22T07:25:41.627Z"
   },
   {
    "duration": 31,
    "start_time": "2022-02-22T07:25:41.682Z"
   },
   {
    "duration": 51,
    "start_time": "2022-02-22T07:25:41.715Z"
   },
   {
    "duration": 15,
    "start_time": "2022-02-22T07:25:41.769Z"
   },
   {
    "duration": 26,
    "start_time": "2022-02-22T07:25:41.787Z"
   },
   {
    "duration": 8,
    "start_time": "2022-02-22T07:25:41.817Z"
   },
   {
    "duration": 35,
    "start_time": "2022-02-22T07:25:41.828Z"
   },
   {
    "duration": 17,
    "start_time": "2022-02-22T07:25:41.865Z"
   },
   {
    "duration": 17,
    "start_time": "2022-02-22T07:25:41.885Z"
   },
   {
    "duration": 5,
    "start_time": "2022-02-22T07:25:41.905Z"
   },
   {
    "duration": 10,
    "start_time": "2022-02-22T07:25:41.912Z"
   },
   {
    "duration": 33815,
    "start_time": "2022-02-22T07:25:41.925Z"
   },
   {
    "duration": 24,
    "start_time": "2022-02-22T07:26:15.742Z"
   },
   {
    "duration": 101,
    "start_time": "2022-02-22T07:26:15.769Z"
   },
   {
    "duration": 19,
    "start_time": "2022-02-22T07:26:15.873Z"
   },
   {
    "duration": 3,
    "start_time": "2022-02-22T07:26:15.895Z"
   },
   {
    "duration": 3672,
    "start_time": "2022-02-22T07:26:15.901Z"
   },
   {
    "duration": 30,
    "start_time": "2022-02-22T07:26:19.576Z"
   },
   {
    "duration": 53,
    "start_time": "2022-02-22T07:26:19.609Z"
   },
   {
    "duration": 28,
    "start_time": "2022-02-22T07:26:19.665Z"
   },
   {
    "duration": 4,
    "start_time": "2022-02-22T07:26:19.695Z"
   },
   {
    "duration": 25,
    "start_time": "2022-02-22T07:26:19.701Z"
   },
   {
    "duration": 53,
    "start_time": "2022-02-22T07:26:19.729Z"
   },
   {
    "duration": 695,
    "start_time": "2022-02-22T07:26:19.790Z"
   },
   {
    "duration": 1948,
    "start_time": "2022-02-22T07:26:20.490Z"
   },
   {
    "duration": 8,
    "start_time": "2022-02-22T07:26:22.441Z"
   },
   {
    "duration": 608,
    "start_time": "2022-02-22T07:26:22.462Z"
   },
   {
    "duration": 609,
    "start_time": "2022-02-22T07:26:23.073Z"
   },
   {
    "duration": 697,
    "start_time": "2022-02-22T07:26:23.684Z"
   },
   {
    "duration": 24,
    "start_time": "2022-02-22T07:26:24.383Z"
   },
   {
    "duration": 52,
    "start_time": "2022-02-22T07:26:24.409Z"
   },
   {
    "duration": 9,
    "start_time": "2022-02-22T07:26:24.464Z"
   },
   {
    "duration": 606,
    "start_time": "2022-02-22T07:26:24.476Z"
   },
   {
    "duration": 676,
    "start_time": "2022-02-22T07:26:25.085Z"
   },
   {
    "duration": 620,
    "start_time": "2022-02-22T07:26:25.763Z"
   },
   {
    "duration": 5,
    "start_time": "2022-02-22T07:26:26.385Z"
   },
   {
    "duration": 18,
    "start_time": "2022-02-22T07:26:26.392Z"
   },
   {
    "duration": 5,
    "start_time": "2022-02-22T07:26:26.412Z"
   },
   {
    "duration": 41,
    "start_time": "2022-02-22T07:26:26.420Z"
   },
   {
    "duration": 5,
    "start_time": "2022-02-22T07:26:26.465Z"
   },
   {
    "duration": 6,
    "start_time": "2022-02-22T07:26:26.472Z"
   },
   {
    "duration": 890,
    "start_time": "2022-02-22T07:26:26.481Z"
   },
   {
    "duration": 448044,
    "start_time": "2022-02-22T07:26:27.461Z"
   },
   {
    "duration": 6,
    "start_time": "2022-02-22T07:33:55.507Z"
   },
   {
    "duration": 14461,
    "start_time": "2022-02-22T07:33:55.516Z"
   },
   {
    "duration": 5,
    "start_time": "2022-02-22T07:34:09.980Z"
   },
   {
    "duration": 1382,
    "start_time": "2022-02-22T07:34:09.987Z"
   },
   {
    "duration": 616085,
    "start_time": "2022-02-22T07:34:11.463Z"
   },
   {
    "duration": 12,
    "start_time": "2022-02-22T07:44:27.551Z"
   },
   {
    "duration": 3033,
    "start_time": "2022-02-22T07:44:27.565Z"
   },
   {
    "duration": 5,
    "start_time": "2022-02-22T07:44:30.601Z"
   },
   {
    "duration": 60,
    "start_time": "2022-02-22T07:44:30.609Z"
   },
   {
    "duration": 6,
    "start_time": "2022-02-22T07:44:30.673Z"
   },
   {
    "duration": 27,
    "start_time": "2022-02-22T07:44:30.681Z"
   },
   {
    "duration": 13,
    "start_time": "2022-02-22T07:44:30.711Z"
   },
   {
    "duration": 25,
    "start_time": "2022-02-22T07:44:30.726Z"
   },
   {
    "duration": 488,
    "start_time": "2022-02-22T07:44:30.753Z"
   },
   {
    "duration": 2,
    "start_time": "2022-02-22T07:44:31.242Z"
   },
   {
    "duration": -4,
    "start_time": "2022-02-22T07:44:31.250Z"
   },
   {
    "duration": -9,
    "start_time": "2022-02-22T07:44:31.257Z"
   },
   {
    "duration": 2506,
    "start_time": "2022-02-22T07:48:26.012Z"
   },
   {
    "duration": 2218,
    "start_time": "2022-02-22T07:49:49.021Z"
   },
   {
    "duration": 307,
    "start_time": "2022-02-22T07:50:25.062Z"
   },
   {
    "duration": 4,
    "start_time": "2022-02-22T07:50:29.236Z"
   },
   {
    "duration": 6,
    "start_time": "2022-02-22T07:50:30.861Z"
   },
   {
    "duration": 4586,
    "start_time": "2022-02-22T07:51:29.433Z"
   },
   {
    "duration": 4480,
    "start_time": "2022-02-22T07:51:48.392Z"
   },
   {
    "duration": 5,
    "start_time": "2022-02-22T07:51:52.875Z"
   },
   {
    "duration": 15247,
    "start_time": "2022-02-22T07:52:17.616Z"
   },
   {
    "duration": 1616,
    "start_time": "2022-02-23T07:42:57.577Z"
   },
   {
    "duration": 5363,
    "start_time": "2022-02-23T07:42:59.196Z"
   },
   {
    "duration": 37,
    "start_time": "2022-02-23T07:43:04.562Z"
   },
   {
    "duration": 34,
    "start_time": "2022-02-23T07:43:04.602Z"
   },
   {
    "duration": 52,
    "start_time": "2022-02-23T07:43:04.638Z"
   },
   {
    "duration": 30,
    "start_time": "2022-02-23T07:43:04.692Z"
   },
   {
    "duration": 45,
    "start_time": "2022-02-23T07:43:04.724Z"
   },
   {
    "duration": 25,
    "start_time": "2022-02-23T07:43:04.773Z"
   },
   {
    "duration": 7,
    "start_time": "2022-02-23T07:43:04.800Z"
   },
   {
    "duration": 9,
    "start_time": "2022-02-23T07:43:04.810Z"
   },
   {
    "duration": 40,
    "start_time": "2022-02-23T07:43:04.821Z"
   },
   {
    "duration": 19,
    "start_time": "2022-02-23T07:43:04.864Z"
   },
   {
    "duration": 5,
    "start_time": "2022-02-23T07:43:04.885Z"
   },
   {
    "duration": 6,
    "start_time": "2022-02-23T07:43:04.893Z"
   },
   {
    "duration": 32977,
    "start_time": "2022-02-23T07:43:04.901Z"
   },
   {
    "duration": 13,
    "start_time": "2022-02-23T07:43:37.880Z"
   },
   {
    "duration": 112,
    "start_time": "2022-02-23T07:43:37.896Z"
   },
   {
    "duration": 19,
    "start_time": "2022-02-23T07:43:38.011Z"
   },
   {
    "duration": 4,
    "start_time": "2022-02-23T07:43:38.033Z"
   },
   {
    "duration": 4122,
    "start_time": "2022-02-23T07:43:38.039Z"
   },
   {
    "duration": 33,
    "start_time": "2022-02-23T07:43:42.164Z"
   },
   {
    "duration": 64,
    "start_time": "2022-02-23T07:43:42.200Z"
   },
   {
    "duration": 32,
    "start_time": "2022-02-23T07:43:42.271Z"
   },
   {
    "duration": 4,
    "start_time": "2022-02-23T07:43:42.306Z"
   },
   {
    "duration": 51,
    "start_time": "2022-02-23T07:43:42.313Z"
   },
   {
    "duration": 25,
    "start_time": "2022-02-23T07:43:42.366Z"
   },
   {
    "duration": 744,
    "start_time": "2022-02-23T07:43:42.393Z"
   },
   {
    "duration": 2142,
    "start_time": "2022-02-23T07:43:43.140Z"
   },
   {
    "duration": 8,
    "start_time": "2022-02-23T07:43:45.285Z"
   },
   {
    "duration": 629,
    "start_time": "2022-02-23T07:43:45.296Z"
   },
   {
    "duration": 671,
    "start_time": "2022-02-23T07:43:45.928Z"
   },
   {
    "duration": 623,
    "start_time": "2022-02-23T07:43:46.602Z"
   },
   {
    "duration": 44,
    "start_time": "2022-02-23T07:43:47.229Z"
   },
   {
    "duration": 32,
    "start_time": "2022-02-23T07:43:47.276Z"
   },
   {
    "duration": 10,
    "start_time": "2022-02-23T07:43:47.311Z"
   },
   {
    "duration": 657,
    "start_time": "2022-02-23T07:43:47.324Z"
   },
   {
    "duration": 758,
    "start_time": "2022-02-23T07:43:47.983Z"
   },
   {
    "duration": 643,
    "start_time": "2022-02-23T07:43:48.743Z"
   },
   {
    "duration": 5,
    "start_time": "2022-02-23T07:43:49.389Z"
   },
   {
    "duration": 23,
    "start_time": "2022-02-23T07:43:49.397Z"
   },
   {
    "duration": 4,
    "start_time": "2022-02-23T07:43:49.422Z"
   },
   {
    "duration": 35,
    "start_time": "2022-02-23T07:43:49.428Z"
   },
   {
    "duration": 16,
    "start_time": "2022-02-23T07:43:49.466Z"
   },
   {
    "duration": 9,
    "start_time": "2022-02-23T07:43:49.484Z"
   },
   {
    "duration": 574,
    "start_time": "2022-02-23T07:43:49.496Z"
   },
   {
    "duration": 107,
    "start_time": "2022-02-23T07:43:50.163Z"
   },
   {
    "duration": 54,
    "start_time": "2022-02-23T07:43:50.219Z"
   },
   {
    "duration": 48,
    "start_time": "2022-02-23T07:43:50.226Z"
   },
   {
    "duration": 42,
    "start_time": "2022-02-23T07:43:50.234Z"
   },
   {
    "duration": 37,
    "start_time": "2022-02-23T07:43:50.241Z"
   },
   {
    "duration": 32,
    "start_time": "2022-02-23T07:43:50.248Z"
   },
   {
    "duration": 27,
    "start_time": "2022-02-23T07:43:50.255Z"
   },
   {
    "duration": 11,
    "start_time": "2022-02-23T07:43:50.272Z"
   },
   {
    "duration": 6,
    "start_time": "2022-02-23T07:43:50.279Z"
   },
   {
    "duration": 1,
    "start_time": "2022-02-23T07:43:50.286Z"
   },
   {
    "duration": -4,
    "start_time": "2022-02-23T07:43:50.294Z"
   },
   {
    "duration": -8,
    "start_time": "2022-02-23T07:43:50.299Z"
   },
   {
    "duration": -14,
    "start_time": "2022-02-23T07:43:50.307Z"
   },
   {
    "duration": -18,
    "start_time": "2022-02-23T07:43:50.312Z"
   },
   {
    "duration": -23,
    "start_time": "2022-02-23T07:43:50.319Z"
   },
   {
    "duration": -26,
    "start_time": "2022-02-23T07:43:50.324Z"
   },
   {
    "duration": -31,
    "start_time": "2022-02-23T07:43:50.331Z"
   },
   {
    "duration": -35,
    "start_time": "2022-02-23T07:43:50.336Z"
   },
   {
    "duration": -40,
    "start_time": "2022-02-23T07:43:50.343Z"
   },
   {
    "duration": -43,
    "start_time": "2022-02-23T07:43:50.348Z"
   },
   {
    "duration": 6,
    "start_time": "2022-02-23T07:44:46.183Z"
   },
   {
    "duration": 14,
    "start_time": "2022-02-23T07:44:49.284Z"
   },
   {
    "duration": 5,
    "start_time": "2022-02-23T07:44:50.287Z"
   },
   {
    "duration": 6,
    "start_time": "2022-02-23T07:44:51.065Z"
   },
   {
    "duration": 6,
    "start_time": "2022-02-23T07:44:51.611Z"
   },
   {
    "duration": 6,
    "start_time": "2022-02-23T07:44:52.105Z"
   },
   {
    "duration": 916,
    "start_time": "2022-02-23T07:44:53.753Z"
   },
   {
    "duration": 175,
    "start_time": "2022-02-23T07:44:58.284Z"
   },
   {
    "duration": 4,
    "start_time": "2022-02-23T07:44:59.262Z"
   },
   {
    "duration": 3,
    "start_time": "2022-02-23T07:45:09.364Z"
   },
   {
    "duration": 3,
    "start_time": "2022-02-23T07:45:09.990Z"
   },
   {
    "duration": 14330,
    "start_time": "2022-02-23T07:45:10.538Z"
   },
   {
    "duration": 5,
    "start_time": "2022-02-23T07:45:28.704Z"
   },
   {
    "duration": 1056,
    "start_time": "2022-02-23T07:45:32.119Z"
   },
   {
    "duration": 1471,
    "start_time": "2022-02-23T07:45:41.090Z"
   },
   {
    "duration": 4,
    "start_time": "2022-02-23T07:45:43.803Z"
   },
   {
    "duration": 4,
    "start_time": "2022-02-23T07:45:48.907Z"
   },
   {
    "duration": 3069,
    "start_time": "2022-02-23T07:45:49.353Z"
   },
   {
    "duration": 5,
    "start_time": "2022-02-23T07:45:54.339Z"
   },
   {
    "duration": 497,
    "start_time": "2022-02-23T07:45:58.777Z"
   },
   {
    "duration": 31,
    "start_time": "2022-02-23T07:46:27.260Z"
   },
   {
    "duration": 6,
    "start_time": "2022-02-23T07:46:28.844Z"
   },
   {
    "duration": 6,
    "start_time": "2022-02-23T07:46:38.112Z"
   },
   {
    "duration": 334,
    "start_time": "2022-02-23T07:46:39.254Z"
   },
   {
    "duration": 7,
    "start_time": "2022-02-23T07:46:45.705Z"
   },
   {
    "duration": 5,
    "start_time": "2022-02-23T07:46:46.497Z"
   },
   {
    "duration": 4020,
    "start_time": "2022-02-23T07:46:49.535Z"
   },
   {
    "duration": 20,
    "start_time": "2022-02-23T07:47:59.389Z"
   },
   {
    "duration": 6,
    "start_time": "2022-02-23T07:48:03.358Z"
   },
   {
    "duration": 5,
    "start_time": "2022-02-23T07:48:03.840Z"
   },
   {
    "duration": 5,
    "start_time": "2022-02-23T07:48:04.344Z"
   },
   {
    "duration": 5,
    "start_time": "2022-02-23T07:48:04.562Z"
   },
   {
    "duration": 4042,
    "start_time": "2022-02-23T07:48:05.822Z"
   },
   {
    "duration": 23,
    "start_time": "2022-02-23T08:28:00.314Z"
   },
   {
    "duration": 310,
    "start_time": "2022-02-23T08:28:01.278Z"
   },
   {
    "duration": 24,
    "start_time": "2022-02-23T08:29:58.533Z"
   },
   {
    "duration": 22,
    "start_time": "2022-02-23T08:30:01.827Z"
   },
   {
    "duration": 1304,
    "start_time": "2022-02-23T08:30:02.410Z"
   },
   {
    "duration": 4,
    "start_time": "2022-02-23T08:30:10.003Z"
   },
   {
    "duration": 332,
    "start_time": "2022-02-23T08:30:10.949Z"
   },
   {
    "duration": 15,
    "start_time": "2022-02-23T08:30:25.788Z"
   },
   {
    "duration": 5,
    "start_time": "2022-02-23T08:30:38.919Z"
   },
   {
    "duration": 6,
    "start_time": "2022-02-23T08:30:52.910Z"
   },
   {
    "duration": 5,
    "start_time": "2022-02-23T08:31:04.433Z"
   },
   {
    "duration": 8,
    "start_time": "2022-02-23T08:32:01.863Z"
   },
   {
    "duration": 963,
    "start_time": "2022-02-23T08:32:01.874Z"
   },
   {
    "duration": 33,
    "start_time": "2022-02-23T08:32:02.840Z"
   },
   {
    "duration": 30,
    "start_time": "2022-02-23T08:32:02.876Z"
   },
   {
    "duration": 56,
    "start_time": "2022-02-23T08:32:02.908Z"
   },
   {
    "duration": 27,
    "start_time": "2022-02-23T08:32:02.968Z"
   },
   {
    "duration": 18,
    "start_time": "2022-02-23T08:32:02.998Z"
   },
   {
    "duration": 64,
    "start_time": "2022-02-23T08:32:03.021Z"
   },
   {
    "duration": 7,
    "start_time": "2022-02-23T08:32:03.089Z"
   },
   {
    "duration": 8,
    "start_time": "2022-02-23T08:32:03.099Z"
   },
   {
    "duration": 13,
    "start_time": "2022-02-23T08:32:03.110Z"
   },
   {
    "duration": 48,
    "start_time": "2022-02-23T08:32:03.126Z"
   },
   {
    "duration": 6,
    "start_time": "2022-02-23T08:32:03.176Z"
   },
   {
    "duration": 8,
    "start_time": "2022-02-23T08:32:03.184Z"
   },
   {
    "duration": 32578,
    "start_time": "2022-02-23T08:32:03.194Z"
   },
   {
    "duration": 15,
    "start_time": "2022-02-23T08:32:35.775Z"
   },
   {
    "duration": 112,
    "start_time": "2022-02-23T08:32:35.792Z"
   },
   {
    "duration": 16,
    "start_time": "2022-02-23T08:32:35.906Z"
   },
   {
    "duration": 5,
    "start_time": "2022-02-23T08:32:35.925Z"
   },
   {
    "duration": 3877,
    "start_time": "2022-02-23T08:32:35.932Z"
   },
   {
    "duration": 30,
    "start_time": "2022-02-23T08:32:39.811Z"
   },
   {
    "duration": 43,
    "start_time": "2022-02-23T08:32:39.844Z"
   },
   {
    "duration": 29,
    "start_time": "2022-02-23T08:32:39.893Z"
   },
   {
    "duration": 3,
    "start_time": "2022-02-23T08:32:39.926Z"
   },
   {
    "duration": 54,
    "start_time": "2022-02-23T08:32:39.932Z"
   },
   {
    "duration": 23,
    "start_time": "2022-02-23T08:32:39.988Z"
   },
   {
    "duration": 737,
    "start_time": "2022-02-23T08:32:40.014Z"
   },
   {
    "duration": 2149,
    "start_time": "2022-02-23T08:32:40.753Z"
   },
   {
    "duration": 6,
    "start_time": "2022-02-23T08:32:42.904Z"
   },
   {
    "duration": 790,
    "start_time": "2022-02-23T08:32:42.913Z"
   },
   {
    "duration": 796,
    "start_time": "2022-02-23T08:32:43.705Z"
   },
   {
    "duration": 659,
    "start_time": "2022-02-23T08:32:44.505Z"
   },
   {
    "duration": 27,
    "start_time": "2022-02-23T08:32:45.166Z"
   },
   {
    "duration": 31,
    "start_time": "2022-02-23T08:32:45.195Z"
   },
   {
    "duration": 35,
    "start_time": "2022-02-23T08:32:45.228Z"
   },
   {
    "duration": 830,
    "start_time": "2022-02-23T08:32:45.266Z"
   },
   {
    "duration": 665,
    "start_time": "2022-02-23T08:32:46.099Z"
   },
   {
    "duration": 851,
    "start_time": "2022-02-23T08:32:46.766Z"
   },
   {
    "duration": 6,
    "start_time": "2022-02-23T08:32:47.621Z"
   },
   {
    "duration": 38,
    "start_time": "2022-02-23T08:32:47.630Z"
   },
   {
    "duration": 6,
    "start_time": "2022-02-23T08:32:47.670Z"
   },
   {
    "duration": 8,
    "start_time": "2022-02-23T08:32:47.678Z"
   },
   {
    "duration": 10,
    "start_time": "2022-02-23T08:32:47.688Z"
   },
   {
    "duration": 13,
    "start_time": "2022-02-23T08:32:47.700Z"
   },
   {
    "duration": 859,
    "start_time": "2022-02-23T08:32:47.716Z"
   },
   {
    "duration": 4,
    "start_time": "2022-02-23T08:32:48.663Z"
   },
   {
    "duration": 16,
    "start_time": "2022-02-23T08:32:48.670Z"
   },
   {
    "duration": 14754,
    "start_time": "2022-02-23T08:32:48.761Z"
   },
   {
    "duration": 5,
    "start_time": "2022-02-23T08:33:03.517Z"
   },
   {
    "duration": 1141,
    "start_time": "2022-02-23T08:33:03.525Z"
   },
   {
    "duration": 4,
    "start_time": "2022-02-23T08:33:04.669Z"
   },
   {
    "duration": 84,
    "start_time": "2022-02-23T08:33:04.677Z"
   },
   {
    "duration": 2829,
    "start_time": "2022-02-23T08:33:04.764Z"
   },
   {
    "duration": 6,
    "start_time": "2022-02-23T08:33:07.596Z"
   },
   {
    "duration": 26,
    "start_time": "2022-02-23T08:33:07.605Z"
   },
   {
    "duration": 23,
    "start_time": "2022-02-23T08:33:07.662Z"
   },
   {
    "duration": 3,
    "start_time": "2022-02-23T08:33:07.688Z"
   },
   {
    "duration": 17,
    "start_time": "2022-02-23T08:33:07.693Z"
   },
   {
    "duration": 7,
    "start_time": "2022-02-23T08:33:07.712Z"
   },
   {
    "duration": 41,
    "start_time": "2022-02-23T08:33:07.721Z"
   },
   {
    "duration": 6,
    "start_time": "2022-02-23T08:33:07.765Z"
   },
   {
    "duration": 6,
    "start_time": "2022-02-23T08:33:07.773Z"
   },
   {
    "duration": 6,
    "start_time": "2022-02-23T08:33:07.782Z"
   },
   {
    "duration": 5,
    "start_time": "2022-02-23T08:33:07.790Z"
   },
   {
    "duration": 3890,
    "start_time": "2022-02-23T08:33:07.799Z"
   },
   {
    "duration": 39,
    "start_time": "2022-02-23T08:33:11.653Z"
   },
   {
    "duration": 35,
    "start_time": "2022-02-23T08:33:11.658Z"
   },
   {
    "duration": 31,
    "start_time": "2022-02-23T08:33:11.664Z"
   },
   {
    "duration": 309,
    "start_time": "2022-02-23T08:36:09.078Z"
   },
   {
    "duration": 16,
    "start_time": "2022-02-23T08:39:23.028Z"
   },
   {
    "duration": 19,
    "start_time": "2022-02-23T08:39:41.400Z"
   },
   {
    "duration": 18,
    "start_time": "2022-02-23T08:40:14.049Z"
   },
   {
    "duration": 16,
    "start_time": "2022-02-23T08:40:31.008Z"
   },
   {
    "duration": 23,
    "start_time": "2022-02-23T08:41:02.984Z"
   },
   {
    "duration": 14,
    "start_time": "2022-02-23T08:41:05.424Z"
   },
   {
    "duration": 23,
    "start_time": "2022-02-23T08:41:06.020Z"
   },
   {
    "duration": 5,
    "start_time": "2022-02-23T08:41:09.386Z"
   },
   {
    "duration": 6,
    "start_time": "2022-02-23T08:41:10.280Z"
   },
   {
    "duration": 5,
    "start_time": "2022-02-23T08:41:11.193Z"
   },
   {
    "duration": 6,
    "start_time": "2022-02-23T08:41:12.139Z"
   },
   {
    "duration": 5,
    "start_time": "2022-02-23T08:41:13.273Z"
   },
   {
    "duration": 7,
    "start_time": "2022-02-23T08:41:25.976Z"
   },
   {
    "duration": 900,
    "start_time": "2022-02-23T08:41:25.987Z"
   },
   {
    "duration": 34,
    "start_time": "2022-02-23T08:41:26.890Z"
   },
   {
    "duration": 57,
    "start_time": "2022-02-23T08:41:26.927Z"
   },
   {
    "duration": 33,
    "start_time": "2022-02-23T08:41:26.986Z"
   },
   {
    "duration": 52,
    "start_time": "2022-02-23T08:41:27.022Z"
   },
   {
    "duration": 17,
    "start_time": "2022-02-23T08:41:27.077Z"
   },
   {
    "duration": 24,
    "start_time": "2022-02-23T08:41:27.096Z"
   },
   {
    "duration": 39,
    "start_time": "2022-02-23T08:41:27.124Z"
   },
   {
    "duration": 5,
    "start_time": "2022-02-23T08:41:27.166Z"
   },
   {
    "duration": 13,
    "start_time": "2022-02-23T08:41:27.173Z"
   },
   {
    "duration": 14,
    "start_time": "2022-02-23T08:41:27.188Z"
   },
   {
    "duration": 5,
    "start_time": "2022-02-23T08:41:27.204Z"
   },
   {
    "duration": 9,
    "start_time": "2022-02-23T08:41:27.211Z"
   },
   {
    "duration": 32196,
    "start_time": "2022-02-23T08:41:27.222Z"
   },
   {
    "duration": 14,
    "start_time": "2022-02-23T08:41:59.421Z"
   },
   {
    "duration": 105,
    "start_time": "2022-02-23T08:41:59.437Z"
   },
   {
    "duration": 28,
    "start_time": "2022-02-23T08:41:59.545Z"
   },
   {
    "duration": 4,
    "start_time": "2022-02-23T08:41:59.576Z"
   },
   {
    "duration": 3998,
    "start_time": "2022-02-23T08:41:59.583Z"
   },
   {
    "duration": 31,
    "start_time": "2022-02-23T08:42:03.583Z"
   },
   {
    "duration": 60,
    "start_time": "2022-02-23T08:42:03.617Z"
   },
   {
    "duration": 34,
    "start_time": "2022-02-23T08:42:03.679Z"
   },
   {
    "duration": 4,
    "start_time": "2022-02-23T08:42:03.715Z"
   },
   {
    "duration": 58,
    "start_time": "2022-02-23T08:42:03.723Z"
   },
   {
    "duration": 24,
    "start_time": "2022-02-23T08:42:03.784Z"
   },
   {
    "duration": 704,
    "start_time": "2022-02-23T08:42:03.814Z"
   },
   {
    "duration": 1978,
    "start_time": "2022-02-23T08:42:04.521Z"
   },
   {
    "duration": 6,
    "start_time": "2022-02-23T08:42:06.502Z"
   },
   {
    "duration": 660,
    "start_time": "2022-02-23T08:42:06.511Z"
   },
   {
    "duration": 790,
    "start_time": "2022-02-23T08:42:07.174Z"
   },
   {
    "duration": 635,
    "start_time": "2022-02-23T08:42:07.967Z"
   },
   {
    "duration": 23,
    "start_time": "2022-02-23T08:42:08.605Z"
   },
   {
    "duration": 47,
    "start_time": "2022-02-23T08:42:08.630Z"
   },
   {
    "duration": 9,
    "start_time": "2022-02-23T08:42:08.680Z"
   },
   {
    "duration": 636,
    "start_time": "2022-02-23T08:42:08.691Z"
   },
   {
    "duration": 637,
    "start_time": "2022-02-23T08:42:09.330Z"
   },
   {
    "duration": 627,
    "start_time": "2022-02-23T08:42:09.970Z"
   },
   {
    "duration": 5,
    "start_time": "2022-02-23T08:42:10.600Z"
   },
   {
    "duration": 15,
    "start_time": "2022-02-23T08:42:10.607Z"
   },
   {
    "duration": 6,
    "start_time": "2022-02-23T08:42:10.625Z"
   },
   {
    "duration": 5,
    "start_time": "2022-02-23T08:42:10.661Z"
   },
   {
    "duration": 6,
    "start_time": "2022-02-23T08:42:10.668Z"
   },
   {
    "duration": 5,
    "start_time": "2022-02-23T08:42:10.677Z"
   },
   {
    "duration": 883,
    "start_time": "2022-02-23T08:42:10.684Z"
   },
   {
    "duration": 92,
    "start_time": "2022-02-23T08:42:11.570Z"
   },
   {
    "duration": 8,
    "start_time": "2022-02-23T08:42:11.665Z"
   },
   {
    "duration": 14512,
    "start_time": "2022-02-23T08:42:11.675Z"
   },
   {
    "duration": 5,
    "start_time": "2022-02-23T08:42:26.190Z"
   },
   {
    "duration": 1164,
    "start_time": "2022-02-23T08:42:26.198Z"
   },
   {
    "duration": 5,
    "start_time": "2022-02-23T08:42:27.365Z"
   },
   {
    "duration": 9,
    "start_time": "2022-02-23T08:42:27.373Z"
   },
   {
    "duration": 3181,
    "start_time": "2022-02-23T08:42:27.385Z"
   },
   {
    "duration": 6,
    "start_time": "2022-02-23T08:42:30.568Z"
   },
   {
    "duration": 28,
    "start_time": "2022-02-23T08:42:30.576Z"
   },
   {
    "duration": 17,
    "start_time": "2022-02-23T08:42:30.606Z"
   },
   {
    "duration": 68,
    "start_time": "2022-02-23T08:42:30.626Z"
   },
   {
    "duration": 5,
    "start_time": "2022-02-23T08:42:30.696Z"
   },
   {
    "duration": 12,
    "start_time": "2022-02-23T08:42:30.704Z"
   },
   {
    "duration": 21,
    "start_time": "2022-02-23T08:42:30.719Z"
   },
   {
    "duration": 9,
    "start_time": "2022-02-23T08:42:30.743Z"
   },
   {
    "duration": 6,
    "start_time": "2022-02-23T08:42:30.754Z"
   },
   {
    "duration": 13,
    "start_time": "2022-02-23T08:42:30.763Z"
   },
   {
    "duration": 4017,
    "start_time": "2022-02-23T08:42:30.779Z"
   },
   {
    "duration": 19,
    "start_time": "2022-02-23T08:42:34.780Z"
   },
   {
    "duration": 13,
    "start_time": "2022-02-23T08:42:34.787Z"
   },
   {
    "duration": 8,
    "start_time": "2022-02-23T08:42:34.794Z"
   },
   {
    "duration": 3540,
    "start_time": "2022-02-23T08:43:41.508Z"
   },
   {
    "duration": 6,
    "start_time": "2022-02-23T08:44:31.895Z"
   },
   {
    "duration": 178,
    "start_time": "2022-02-23T08:45:06.892Z"
   },
   {
    "duration": 3593,
    "start_time": "2022-02-23T08:45:10.150Z"
   },
   {
    "duration": 223,
    "start_time": "2022-02-23T08:45:13.745Z"
   },
   {
    "duration": 4,
    "start_time": "2022-02-23T08:45:22.901Z"
   },
   {
    "duration": 5,
    "start_time": "2022-02-23T08:45:25.139Z"
   },
   {
    "duration": 12,
    "start_time": "2022-02-23T08:48:07.084Z"
   },
   {
    "duration": 913,
    "start_time": "2022-02-23T08:48:07.099Z"
   },
   {
    "duration": 32,
    "start_time": "2022-02-23T08:48:08.015Z"
   },
   {
    "duration": 40,
    "start_time": "2022-02-23T08:48:08.050Z"
   },
   {
    "duration": 29,
    "start_time": "2022-02-23T08:48:08.092Z"
   },
   {
    "duration": 56,
    "start_time": "2022-02-23T08:48:08.124Z"
   },
   {
    "duration": 16,
    "start_time": "2022-02-23T08:48:08.182Z"
   },
   {
    "duration": 22,
    "start_time": "2022-02-23T08:48:08.201Z"
   },
   {
    "duration": 35,
    "start_time": "2022-02-23T08:48:08.227Z"
   },
   {
    "duration": 5,
    "start_time": "2022-02-23T08:48:08.265Z"
   },
   {
    "duration": 12,
    "start_time": "2022-02-23T08:48:08.272Z"
   },
   {
    "duration": 14,
    "start_time": "2022-02-23T08:48:08.286Z"
   },
   {
    "duration": 6,
    "start_time": "2022-02-23T08:48:08.302Z"
   },
   {
    "duration": 51,
    "start_time": "2022-02-23T08:48:08.310Z"
   },
   {
    "duration": 32687,
    "start_time": "2022-02-23T08:48:08.364Z"
   },
   {
    "duration": 13,
    "start_time": "2022-02-23T08:48:41.062Z"
   },
   {
    "duration": 101,
    "start_time": "2022-02-23T08:48:41.078Z"
   },
   {
    "duration": 15,
    "start_time": "2022-02-23T08:48:41.181Z"
   },
   {
    "duration": 4,
    "start_time": "2022-02-23T08:48:41.199Z"
   },
   {
    "duration": 3928,
    "start_time": "2022-02-23T08:48:41.205Z"
   },
   {
    "duration": 42,
    "start_time": "2022-02-23T08:48:45.136Z"
   },
   {
    "duration": 39,
    "start_time": "2022-02-23T08:48:45.181Z"
   },
   {
    "duration": 55,
    "start_time": "2022-02-23T08:48:45.223Z"
   },
   {
    "duration": 5,
    "start_time": "2022-02-23T08:48:45.281Z"
   },
   {
    "duration": 30,
    "start_time": "2022-02-23T08:48:45.289Z"
   },
   {
    "duration": 49,
    "start_time": "2022-02-23T08:48:45.322Z"
   },
   {
    "duration": 733,
    "start_time": "2022-02-23T08:48:45.378Z"
   },
   {
    "duration": 2116,
    "start_time": "2022-02-23T08:48:46.115Z"
   },
   {
    "duration": 7,
    "start_time": "2022-02-23T08:48:48.233Z"
   },
   {
    "duration": 627,
    "start_time": "2022-02-23T08:48:48.242Z"
   },
   {
    "duration": 639,
    "start_time": "2022-02-23T08:48:48.871Z"
   },
   {
    "duration": 618,
    "start_time": "2022-02-23T08:48:49.513Z"
   },
   {
    "duration": 34,
    "start_time": "2022-02-23T08:48:50.134Z"
   },
   {
    "duration": 28,
    "start_time": "2022-02-23T08:48:50.170Z"
   },
   {
    "duration": 11,
    "start_time": "2022-02-23T08:48:50.202Z"
   },
   {
    "duration": 786,
    "start_time": "2022-02-23T08:48:50.216Z"
   },
   {
    "duration": 636,
    "start_time": "2022-02-23T08:48:51.004Z"
   },
   {
    "duration": 644,
    "start_time": "2022-02-23T08:48:51.642Z"
   },
   {
    "duration": 5,
    "start_time": "2022-02-23T08:48:52.288Z"
   },
   {
    "duration": 14,
    "start_time": "2022-02-23T08:48:52.296Z"
   },
   {
    "duration": 7,
    "start_time": "2022-02-23T08:48:52.313Z"
   },
   {
    "duration": 40,
    "start_time": "2022-02-23T08:48:52.323Z"
   },
   {
    "duration": 6,
    "start_time": "2022-02-23T08:48:52.365Z"
   },
   {
    "duration": 7,
    "start_time": "2022-02-23T08:48:52.373Z"
   },
   {
    "duration": 791,
    "start_time": "2022-02-23T08:48:52.382Z"
   },
   {
    "duration": 458659,
    "start_time": "2022-02-23T08:48:53.175Z"
   },
   {
    "duration": 5,
    "start_time": "2022-02-23T08:56:31.836Z"
   },
   {
    "duration": 14160,
    "start_time": "2022-02-23T08:56:31.843Z"
   },
   {
    "duration": 6,
    "start_time": "2022-02-23T08:56:46.006Z"
   },
   {
    "duration": 1147,
    "start_time": "2022-02-23T08:56:46.015Z"
   },
   {
    "duration": 629652,
    "start_time": "2022-02-23T08:56:47.165Z"
   },
   {
    "duration": 5,
    "start_time": "2022-02-23T09:07:16.820Z"
   },
   {
    "duration": 2806,
    "start_time": "2022-02-23T09:07:16.828Z"
   },
   {
    "duration": 6,
    "start_time": "2022-02-23T09:07:19.637Z"
   },
   {
    "duration": 30,
    "start_time": "2022-02-23T09:07:19.645Z"
   },
   {
    "duration": 13,
    "start_time": "2022-02-23T09:07:19.678Z"
   },
   {
    "duration": 29,
    "start_time": "2022-02-23T09:07:19.695Z"
   },
   {
    "duration": 39,
    "start_time": "2022-02-23T09:07:19.727Z"
   },
   {
    "duration": 14,
    "start_time": "2022-02-23T09:07:19.769Z"
   },
   {
    "duration": 7,
    "start_time": "2022-02-23T09:07:19.786Z"
   },
   {
    "duration": 8,
    "start_time": "2022-02-23T09:07:19.796Z"
   },
   {
    "duration": 6,
    "start_time": "2022-02-23T09:07:19.806Z"
   },
   {
    "duration": 6,
    "start_time": "2022-02-23T09:07:19.862Z"
   },
   {
    "duration": 10,
    "start_time": "2022-02-23T09:07:19.870Z"
   },
   {
    "duration": 3534,
    "start_time": "2022-02-23T09:07:19.883Z"
   },
   {
    "duration": 342,
    "start_time": "2022-02-23T09:07:23.419Z"
   },
   {
    "duration": 4,
    "start_time": "2022-02-23T09:07:23.765Z"
   },
   {
    "duration": 15,
    "start_time": "2022-02-23T09:07:23.772Z"
   },
   {
    "duration": 7284,
    "start_time": "2022-02-23T09:07:33.524Z"
   },
   {
    "duration": 159,
    "start_time": "2022-02-23T13:16:47.678Z"
   },
   {
    "duration": 119,
    "start_time": "2022-02-23T13:18:54.074Z"
   },
   {
    "duration": 364,
    "start_time": "2022-02-23T13:19:37.825Z"
   }
  ],
  "kernelspec": {
   "display_name": "Python 3 (ipykernel)",
   "language": "python",
   "name": "python3"
  },
  "language_info": {
   "codemirror_mode": {
    "name": "ipython",
    "version": 3
   },
   "file_extension": ".py",
   "mimetype": "text/x-python",
   "name": "python",
   "nbconvert_exporter": "python",
   "pygments_lexer": "ipython3",
   "version": "3.9.5"
  },
  "toc": {
   "base_numbering": 1,
   "nav_menu": {},
   "number_sections": true,
   "sideBar": true,
   "skip_h1_title": true,
   "title_cell": "Содержание",
   "title_sidebar": "Contents",
   "toc_cell": true,
   "toc_position": {
    "height": "calc(100% - 180px)",
    "left": "10px",
    "top": "150px",
    "width": "165px"
   },
   "toc_section_display": true,
   "toc_window_display": false
  }
 },
 "nbformat": 4,
 "nbformat_minor": 2
}
